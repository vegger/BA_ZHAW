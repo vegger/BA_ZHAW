{
 "cells": [
  {
   "cell_type": "code",
   "execution_count": 13,
   "metadata": {},
   "outputs": [],
   "source": [
    "import wandb\n",
    "import pandas as pd\n",
    "import os\n",
    "\n",
    "wandb.Table.MAX_ARTIFACTS_ROWS = 210000 # default is 200'000\n",
    "datapath = \"../data/customDatasets/beta_concatenated.tsv\"\n",
    "name = \"beta_concatenated\"\n",
    "seperator = \"\\t\" # \",\" for csv"
   ]
  },
  {
   "cell_type": "code",
   "execution_count": 14,
   "metadata": {},
   "outputs": [
    {
     "data": {
      "text/html": [
       "Changes to your `wandb` environment variables will be ignored because your `wandb` session has already started. For more information on how to modify your settings with `wandb.init()` arguments, please refer to <a href='https://wandb.me/wandb-init' target=\"_blank\">the W&B docs</a>."
      ],
      "text/plain": [
       "<IPython.core.display.HTML object>"
      ]
     },
     "metadata": {},
     "output_type": "display_data"
    },
    {
     "data": {
      "text/html": [
       "wandb version 0.16.6 is available!  To upgrade, please run:\n",
       " $ pip install wandb --upgrade"
      ],
      "text/plain": [
       "<IPython.core.display.HTML object>"
      ]
     },
     "metadata": {},
     "output_type": "display_data"
    },
    {
     "data": {
      "text/html": [
       "Tracking run with wandb version 0.16.3"
      ],
      "text/plain": [
       "<IPython.core.display.HTML object>"
      ]
     },
     "metadata": {},
     "output_type": "display_data"
    },
    {
     "data": {
      "text/html": [
       "Run data is saved locally in <code>/home/ubuntu/BA_ZHAW/src/wandb/run-20240405_105650-g1jm8ep6</code>"
      ],
      "text/plain": [
       "<IPython.core.display.HTML object>"
      ]
     },
     "metadata": {},
     "output_type": "display_data"
    },
    {
     "data": {
      "text/html": [
       "Syncing run <strong><a href='https://wandb.ai/ba-zhaw/BA_Project_ZHAW/runs/g1jm8ep6' target=\"_blank\">bajoran-directive-112</a></strong> to <a href='https://wandb.ai/ba-zhaw/BA_Project_ZHAW' target=\"_blank\">Weights & Biases</a> (<a href='https://wandb.me/run' target=\"_blank\">docs</a>)<br/>"
      ],
      "text/plain": [
       "<IPython.core.display.HTML object>"
      ]
     },
     "metadata": {},
     "output_type": "display_data"
    },
    {
     "data": {
      "text/html": [
       " View project at <a href='https://wandb.ai/ba-zhaw/BA_Project_ZHAW' target=\"_blank\">https://wandb.ai/ba-zhaw/BA_Project_ZHAW</a>"
      ],
      "text/plain": [
       "<IPython.core.display.HTML object>"
      ]
     },
     "metadata": {},
     "output_type": "display_data"
    },
    {
     "data": {
      "text/html": [
       " View run at <a href='https://wandb.ai/ba-zhaw/BA_Project_ZHAW/runs/g1jm8ep6' target=\"_blank\">https://wandb.ai/ba-zhaw/BA_Project_ZHAW/runs/g1jm8ep6</a>"
      ],
      "text/plain": [
       "<IPython.core.display.HTML object>"
      ]
     },
     "metadata": {},
     "output_type": "display_data"
    },
    {
     "name": "stderr",
     "output_type": "stream",
     "text": [
      "/tmp/ipykernel_10161/2070982440.py:4: DtypeWarning: Columns (1,2,3,20) have mixed types. Specify dtype option on import or set low_memory=False.\n",
      "  df = pd.read_csv(datapath, sep=seperator)\n"
     ]
    },
    {
     "data": {
      "text/html": [
       "<div>\n",
       "<style scoped>\n",
       "    .dataframe tbody tr th:only-of-type {\n",
       "        vertical-align: middle;\n",
       "    }\n",
       "\n",
       "    .dataframe tbody tr th {\n",
       "        vertical-align: top;\n",
       "    }\n",
       "\n",
       "    .dataframe thead th {\n",
       "        text-align: right;\n",
       "    }\n",
       "</style>\n",
       "<table border=\"1\" class=\"dataframe\">\n",
       "  <thead>\n",
       "    <tr style=\"text-align: right;\">\n",
       "      <th></th>\n",
       "      <th>TCR_name</th>\n",
       "      <th>TRAV</th>\n",
       "      <th>TRAJ</th>\n",
       "      <th>TRA_CDR3</th>\n",
       "      <th>TRBV</th>\n",
       "      <th>TRBJ</th>\n",
       "      <th>TRB_CDR3</th>\n",
       "      <th>TRAC</th>\n",
       "      <th>TRBC</th>\n",
       "      <th>TRA_leader</th>\n",
       "      <th>...</th>\n",
       "      <th>TRA_5_prime_seq</th>\n",
       "      <th>TRA_3_prime_seq</th>\n",
       "      <th>TRB_5_prime_seq</th>\n",
       "      <th>TRB_3_prime_seq</th>\n",
       "      <th>Epitope</th>\n",
       "      <th>Score</th>\n",
       "      <th>MHC A</th>\n",
       "      <th>MHC B</th>\n",
       "      <th>MHC class</th>\n",
       "      <th>Binding</th>\n",
       "    </tr>\n",
       "  </thead>\n",
       "  <tbody>\n",
       "    <tr>\n",
       "      <th>0</th>\n",
       "      <td>1</td>\n",
       "      <td>NaN</td>\n",
       "      <td>NaN</td>\n",
       "      <td>NaN</td>\n",
       "      <td>TRBV13*01</td>\n",
       "      <td>TRBJ1-5*01</td>\n",
       "      <td>CASSYLPGQGDHYSNQPQHF</td>\n",
       "      <td>NaN</td>\n",
       "      <td>NaN</td>\n",
       "      <td>NaN</td>\n",
       "      <td>...</td>\n",
       "      <td>NaN</td>\n",
       "      <td>NaN</td>\n",
       "      <td>NaN</td>\n",
       "      <td>NaN</td>\n",
       "      <td>FLKEKGGL</td>\n",
       "      <td>2.0</td>\n",
       "      <td>HLA-B*08</td>\n",
       "      <td>NaN</td>\n",
       "      <td>MHCI</td>\n",
       "      <td>1</td>\n",
       "    </tr>\n",
       "    <tr>\n",
       "      <th>1</th>\n",
       "      <td>2</td>\n",
       "      <td>NaN</td>\n",
       "      <td>NaN</td>\n",
       "      <td>NaN</td>\n",
       "      <td>TRBV13*01</td>\n",
       "      <td>TRBJ1-5*01</td>\n",
       "      <td>CASSFEAGQGFFSNQPQHF</td>\n",
       "      <td>NaN</td>\n",
       "      <td>NaN</td>\n",
       "      <td>NaN</td>\n",
       "      <td>...</td>\n",
       "      <td>NaN</td>\n",
       "      <td>NaN</td>\n",
       "      <td>NaN</td>\n",
       "      <td>NaN</td>\n",
       "      <td>FLKEKGGL</td>\n",
       "      <td>2.0</td>\n",
       "      <td>HLA-B*08</td>\n",
       "      <td>NaN</td>\n",
       "      <td>MHCI</td>\n",
       "      <td>1</td>\n",
       "    </tr>\n",
       "    <tr>\n",
       "      <th>2</th>\n",
       "      <td>3</td>\n",
       "      <td>NaN</td>\n",
       "      <td>NaN</td>\n",
       "      <td>NaN</td>\n",
       "      <td>TRBV13*01</td>\n",
       "      <td>TRBJ1-5*01</td>\n",
       "      <td>CASSFEPGQGFYSNQPQHF</td>\n",
       "      <td>NaN</td>\n",
       "      <td>NaN</td>\n",
       "      <td>NaN</td>\n",
       "      <td>...</td>\n",
       "      <td>NaN</td>\n",
       "      <td>NaN</td>\n",
       "      <td>NaN</td>\n",
       "      <td>NaN</td>\n",
       "      <td>FLKEKGGL</td>\n",
       "      <td>2.0</td>\n",
       "      <td>HLA-B*08</td>\n",
       "      <td>NaN</td>\n",
       "      <td>MHCI</td>\n",
       "      <td>1</td>\n",
       "    </tr>\n",
       "    <tr>\n",
       "      <th>3</th>\n",
       "      <td>4</td>\n",
       "      <td>NaN</td>\n",
       "      <td>NaN</td>\n",
       "      <td>NaN</td>\n",
       "      <td>TRBV13*01</td>\n",
       "      <td>TRBJ1-5*01</td>\n",
       "      <td>CASSYEPGQVSHYSNQPQHF</td>\n",
       "      <td>NaN</td>\n",
       "      <td>NaN</td>\n",
       "      <td>NaN</td>\n",
       "      <td>...</td>\n",
       "      <td>NaN</td>\n",
       "      <td>NaN</td>\n",
       "      <td>NaN</td>\n",
       "      <td>NaN</td>\n",
       "      <td>FLKEKGGL</td>\n",
       "      <td>2.0</td>\n",
       "      <td>HLA-B*08</td>\n",
       "      <td>NaN</td>\n",
       "      <td>MHCI</td>\n",
       "      <td>1</td>\n",
       "    </tr>\n",
       "    <tr>\n",
       "      <th>4</th>\n",
       "      <td>5</td>\n",
       "      <td>NaN</td>\n",
       "      <td>NaN</td>\n",
       "      <td>NaN</td>\n",
       "      <td>TRBV14*01</td>\n",
       "      <td>TRBJ2-1*01</td>\n",
       "      <td>CASSALASLNEQFF</td>\n",
       "      <td>NaN</td>\n",
       "      <td>NaN</td>\n",
       "      <td>NaN</td>\n",
       "      <td>...</td>\n",
       "      <td>NaN</td>\n",
       "      <td>NaN</td>\n",
       "      <td>NaN</td>\n",
       "      <td>NaN</td>\n",
       "      <td>FLKEKGGL</td>\n",
       "      <td>2.0</td>\n",
       "      <td>HLA-B*08</td>\n",
       "      <td>NaN</td>\n",
       "      <td>MHCI</td>\n",
       "      <td>1</td>\n",
       "    </tr>\n",
       "    <tr>\n",
       "      <th>...</th>\n",
       "      <td>...</td>\n",
       "      <td>...</td>\n",
       "      <td>...</td>\n",
       "      <td>...</td>\n",
       "      <td>...</td>\n",
       "      <td>...</td>\n",
       "      <td>...</td>\n",
       "      <td>...</td>\n",
       "      <td>...</td>\n",
       "      <td>...</td>\n",
       "      <td>...</td>\n",
       "      <td>...</td>\n",
       "      <td>...</td>\n",
       "      <td>...</td>\n",
       "      <td>...</td>\n",
       "      <td>...</td>\n",
       "      <td>...</td>\n",
       "      <td>...</td>\n",
       "      <td>...</td>\n",
       "      <td>...</td>\n",
       "      <td>...</td>\n",
       "    </tr>\n",
       "    <tr>\n",
       "      <th>205923</th>\n",
       "      <td>205924</td>\n",
       "      <td>NaN</td>\n",
       "      <td>NaN</td>\n",
       "      <td>NaN</td>\n",
       "      <td>TRBV19</td>\n",
       "      <td>TRBJ2-1</td>\n",
       "      <td>CASSIGRSYRNEQFF</td>\n",
       "      <td>NaN</td>\n",
       "      <td>NaN</td>\n",
       "      <td>NaN</td>\n",
       "      <td>...</td>\n",
       "      <td>NaN</td>\n",
       "      <td>NaN</td>\n",
       "      <td>NaN</td>\n",
       "      <td>NaN</td>\n",
       "      <td>QASRTVIHSADITFQ</td>\n",
       "      <td>NaN</td>\n",
       "      <td>HLA-DQA1*01:02</td>\n",
       "      <td>NaN</td>\n",
       "      <td>MHCII</td>\n",
       "      <td>1</td>\n",
       "    </tr>\n",
       "    <tr>\n",
       "      <th>205924</th>\n",
       "      <td>205925</td>\n",
       "      <td>NaN</td>\n",
       "      <td>NaN</td>\n",
       "      <td>NaN</td>\n",
       "      <td>TRBV7-3</td>\n",
       "      <td>TRBJ1-1</td>\n",
       "      <td>CASSLGGNTEAFF</td>\n",
       "      <td>NaN</td>\n",
       "      <td>NaN</td>\n",
       "      <td>NaN</td>\n",
       "      <td>...</td>\n",
       "      <td>NaN</td>\n",
       "      <td>NaN</td>\n",
       "      <td>NaN</td>\n",
       "      <td>NaN</td>\n",
       "      <td>QASRTVIHSADITFQ</td>\n",
       "      <td>NaN</td>\n",
       "      <td>HLA-DQA1*01:02</td>\n",
       "      <td>NaN</td>\n",
       "      <td>MHCII</td>\n",
       "      <td>1</td>\n",
       "    </tr>\n",
       "    <tr>\n",
       "      <th>205925</th>\n",
       "      <td>205926</td>\n",
       "      <td>NaN</td>\n",
       "      <td>NaN</td>\n",
       "      <td>NaN</td>\n",
       "      <td>TRBV30</td>\n",
       "      <td>TRBJ1-4</td>\n",
       "      <td>CAWSAGPSVKLFF</td>\n",
       "      <td>NaN</td>\n",
       "      <td>NaN</td>\n",
       "      <td>NaN</td>\n",
       "      <td>...</td>\n",
       "      <td>NaN</td>\n",
       "      <td>NaN</td>\n",
       "      <td>NaN</td>\n",
       "      <td>NaN</td>\n",
       "      <td>QASRTVIHSADITFQ</td>\n",
       "      <td>NaN</td>\n",
       "      <td>HLA-DQA1*01:02</td>\n",
       "      <td>NaN</td>\n",
       "      <td>MHCII</td>\n",
       "      <td>1</td>\n",
       "    </tr>\n",
       "    <tr>\n",
       "      <th>205926</th>\n",
       "      <td>205927</td>\n",
       "      <td>NaN</td>\n",
       "      <td>NaN</td>\n",
       "      <td>NaN</td>\n",
       "      <td>TRBV13</td>\n",
       "      <td>TRBJ2-7</td>\n",
       "      <td>CASSLDRGRYEQYF</td>\n",
       "      <td>NaN</td>\n",
       "      <td>NaN</td>\n",
       "      <td>NaN</td>\n",
       "      <td>...</td>\n",
       "      <td>NaN</td>\n",
       "      <td>NaN</td>\n",
       "      <td>NaN</td>\n",
       "      <td>NaN</td>\n",
       "      <td>GTRVIRDMTLHSAPS</td>\n",
       "      <td>NaN</td>\n",
       "      <td>HLA-DQA1*01:02</td>\n",
       "      <td>NaN</td>\n",
       "      <td>MHCII</td>\n",
       "      <td>1</td>\n",
       "    </tr>\n",
       "    <tr>\n",
       "      <th>205927</th>\n",
       "      <td>205928</td>\n",
       "      <td>NaN</td>\n",
       "      <td>NaN</td>\n",
       "      <td>NaN</td>\n",
       "      <td>TRBV7-6</td>\n",
       "      <td>TRBJ2-2</td>\n",
       "      <td>CASSLVSEIGGSTNTGELFF</td>\n",
       "      <td>NaN</td>\n",
       "      <td>NaN</td>\n",
       "      <td>NaN</td>\n",
       "      <td>...</td>\n",
       "      <td>NaN</td>\n",
       "      <td>NaN</td>\n",
       "      <td>NaN</td>\n",
       "      <td>NaN</td>\n",
       "      <td>GTRVIRDMTLHSAPS</td>\n",
       "      <td>NaN</td>\n",
       "      <td>HLA-DQA1*01:02</td>\n",
       "      <td>NaN</td>\n",
       "      <td>MHCII</td>\n",
       "      <td>1</td>\n",
       "    </tr>\n",
       "  </tbody>\n",
       "</table>\n",
       "<p>205928 rows × 23 columns</p>\n",
       "</div>"
      ],
      "text/plain": [
       "        TCR_name TRAV TRAJ TRA_CDR3       TRBV        TRBJ  \\\n",
       "0              1  NaN  NaN      NaN  TRBV13*01  TRBJ1-5*01   \n",
       "1              2  NaN  NaN      NaN  TRBV13*01  TRBJ1-5*01   \n",
       "2              3  NaN  NaN      NaN  TRBV13*01  TRBJ1-5*01   \n",
       "3              4  NaN  NaN      NaN  TRBV13*01  TRBJ1-5*01   \n",
       "4              5  NaN  NaN      NaN  TRBV14*01  TRBJ2-1*01   \n",
       "...          ...  ...  ...      ...        ...         ...   \n",
       "205923    205924  NaN  NaN      NaN     TRBV19     TRBJ2-1   \n",
       "205924    205925  NaN  NaN      NaN    TRBV7-3     TRBJ1-1   \n",
       "205925    205926  NaN  NaN      NaN     TRBV30     TRBJ1-4   \n",
       "205926    205927  NaN  NaN      NaN     TRBV13     TRBJ2-7   \n",
       "205927    205928  NaN  NaN      NaN    TRBV7-6     TRBJ2-2   \n",
       "\n",
       "                    TRB_CDR3  TRAC  TRBC  TRA_leader  ...  TRA_5_prime_seq  \\\n",
       "0       CASSYLPGQGDHYSNQPQHF   NaN   NaN         NaN  ...              NaN   \n",
       "1        CASSFEAGQGFFSNQPQHF   NaN   NaN         NaN  ...              NaN   \n",
       "2        CASSFEPGQGFYSNQPQHF   NaN   NaN         NaN  ...              NaN   \n",
       "3       CASSYEPGQVSHYSNQPQHF   NaN   NaN         NaN  ...              NaN   \n",
       "4             CASSALASLNEQFF   NaN   NaN         NaN  ...              NaN   \n",
       "...                      ...   ...   ...         ...  ...              ...   \n",
       "205923       CASSIGRSYRNEQFF   NaN   NaN         NaN  ...              NaN   \n",
       "205924         CASSLGGNTEAFF   NaN   NaN         NaN  ...              NaN   \n",
       "205925         CAWSAGPSVKLFF   NaN   NaN         NaN  ...              NaN   \n",
       "205926        CASSLDRGRYEQYF   NaN   NaN         NaN  ...              NaN   \n",
       "205927  CASSLVSEIGGSTNTGELFF   NaN   NaN         NaN  ...              NaN   \n",
       "\n",
       "        TRA_3_prime_seq  TRB_5_prime_seq  TRB_3_prime_seq          Epitope  \\\n",
       "0                   NaN              NaN              NaN         FLKEKGGL   \n",
       "1                   NaN              NaN              NaN         FLKEKGGL   \n",
       "2                   NaN              NaN              NaN         FLKEKGGL   \n",
       "3                   NaN              NaN              NaN         FLKEKGGL   \n",
       "4                   NaN              NaN              NaN         FLKEKGGL   \n",
       "...                 ...              ...              ...              ...   \n",
       "205923              NaN              NaN              NaN  QASRTVIHSADITFQ   \n",
       "205924              NaN              NaN              NaN  QASRTVIHSADITFQ   \n",
       "205925              NaN              NaN              NaN  QASRTVIHSADITFQ   \n",
       "205926              NaN              NaN              NaN  GTRVIRDMTLHSAPS   \n",
       "205927              NaN              NaN              NaN  GTRVIRDMTLHSAPS   \n",
       "\n",
       "        Score           MHC A MHC B  MHC class Binding  \n",
       "0         2.0        HLA-B*08   NaN       MHCI       1  \n",
       "1         2.0        HLA-B*08   NaN       MHCI       1  \n",
       "2         2.0        HLA-B*08   NaN       MHCI       1  \n",
       "3         2.0        HLA-B*08   NaN       MHCI       1  \n",
       "4         2.0        HLA-B*08   NaN       MHCI       1  \n",
       "...       ...             ...   ...        ...     ...  \n",
       "205923    NaN  HLA-DQA1*01:02   NaN      MHCII       1  \n",
       "205924    NaN  HLA-DQA1*01:02   NaN      MHCII       1  \n",
       "205925    NaN  HLA-DQA1*01:02   NaN      MHCII       1  \n",
       "205926    NaN  HLA-DQA1*01:02   NaN      MHCII       1  \n",
       "205927    NaN  HLA-DQA1*01:02   NaN      MHCII       1  \n",
       "\n",
       "[205928 rows x 23 columns]"
      ]
     },
     "execution_count": 14,
     "metadata": {},
     "output_type": "execute_result"
    }
   ],
   "source": [
    "os.environ[\"WANDB_NOTEBOOK_NAME\"] = \"artifactCreation.ipynb\"\n",
    "run = wandb.init(project=\"BA_Project_ZHAW\", job_type=\"dataset-creation\")\n",
    "\n",
    "df = pd.read_csv(datapath, sep=seperator)\n",
    "df"
   ]
  },
  {
   "cell_type": "code",
   "execution_count": 15,
   "metadata": {},
   "outputs": [
    {
     "name": "stderr",
     "output_type": "stream",
     "text": [
      "WARNING:root:Truncating wandb.Table object to 200000 rows.\n",
      "wandb: WARNING Source type is set to 'repo' but some required information is missing from the environment. A job will not be created from this run. See https://docs.wandb.ai/guides/launch/create-job\n"
     ]
    },
    {
     "data": {
      "application/vnd.jupyter.widget-view+json": {
       "model_id": "2258de92e1284ecf985c4720f625c338",
       "version_major": 2,
       "version_minor": 0
      },
      "text/plain": [
       "VBox(children=(Label(value='34.406 MB of 34.406 MB uploaded\\r'), FloatProgress(value=1.0, max=1.0)))"
      ]
     },
     "metadata": {},
     "output_type": "display_data"
    },
    {
     "data": {
      "text/html": [
       " View run <strong style=\"color:#cdcd00\">bajoran-directive-112</strong> at: <a href='https://wandb.ai/ba-zhaw/BA_Project_ZHAW/runs/g1jm8ep6' target=\"_blank\">https://wandb.ai/ba-zhaw/BA_Project_ZHAW/runs/g1jm8ep6</a><br/>Synced 6 W&B file(s), 0 media file(s), 1 artifact file(s) and 0 other file(s)"
      ],
      "text/plain": [
       "<IPython.core.display.HTML object>"
      ]
     },
     "metadata": {},
     "output_type": "display_data"
    },
    {
     "data": {
      "text/html": [
       "Find logs at: <code>./wandb/run-20240405_105650-g1jm8ep6/logs</code>"
      ],
      "text/plain": [
       "<IPython.core.display.HTML object>"
      ]
     },
     "metadata": {},
     "output_type": "display_data"
    }
   ],
   "source": [
    "df_table = wandb.Table(dataframe=df)\n",
    "dataset = wandb.Artifact(name, type='dataset')\n",
    "dataset.add(df_table, name)\n",
    "run.log_artifact(dataset)\n",
    "run.finish()"
   ]
  }
 ],
 "metadata": {
  "kernelspec": {
   "display_name": "BA24",
   "language": "python",
   "name": "python3"
  },
  "language_info": {
   "codemirror_mode": {
    "name": "ipython",
    "version": 3
   },
   "file_extension": ".py",
   "mimetype": "text/x-python",
   "name": "python",
   "nbconvert_exporter": "python",
   "pygments_lexer": "ipython3",
   "version": "3.12.2"
  }
 },
 "nbformat": 4,
 "nbformat_minor": 2
}
