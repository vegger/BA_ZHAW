{
 "cells": [
  {
   "cell_type": "code",
   "execution_count": 1,
   "metadata": {},
   "outputs": [],
   "source": [
    "import wandb\n",
    "import pandas as pd\n",
    "import os"
   ]
  },
  {
   "cell_type": "code",
   "execution_count": 3,
   "metadata": {},
   "outputs": [
    {
     "name": "stderr",
     "output_type": "stream",
     "text": [
      "\u001b[34m\u001b[1mwandb\u001b[0m: Currently logged in as: \u001b[33meggervali\u001b[0m (\u001b[33mba-zhaw\u001b[0m). Use \u001b[1m`wandb login --relogin`\u001b[0m to force relogin\n"
     ]
    },
    {
     "data": {
      "text/html": [
       "wandb version 0.16.4 is available!  To upgrade, please run:\n",
       " $ pip install wandb --upgrade"
      ],
      "text/plain": [
       "<IPython.core.display.HTML object>"
      ]
     },
     "metadata": {},
     "output_type": "display_data"
    },
    {
     "data": {
      "text/html": [
       "Tracking run with wandb version 0.16.3"
      ],
      "text/plain": [
       "<IPython.core.display.HTML object>"
      ]
     },
     "metadata": {},
     "output_type": "display_data"
    },
    {
     "data": {
      "text/html": [
       "Run data is saved locally in <code>/home/ubuntu/BA_ZHAW/src/wandb/run-20240312_095356-jswj4nsr</code>"
      ],
      "text/plain": [
       "<IPython.core.display.HTML object>"
      ]
     },
     "metadata": {},
     "output_type": "display_data"
    },
    {
     "data": {
      "text/html": [
       "Syncing run <strong><a href='https://wandb.ai/ba-zhaw/BA_Project_ZHAW/runs/jswj4nsr' target=\"_blank\">still-waterfall-12</a></strong> to <a href='https://wandb.ai/ba-zhaw/BA_Project_ZHAW' target=\"_blank\">Weights & Biases</a> (<a href='https://wandb.me/run' target=\"_blank\">docs</a>)<br/>"
      ],
      "text/plain": [
       "<IPython.core.display.HTML object>"
      ]
     },
     "metadata": {},
     "output_type": "display_data"
    },
    {
     "data": {
      "text/html": [
       " View project at <a href='https://wandb.ai/ba-zhaw/BA_Project_ZHAW' target=\"_blank\">https://wandb.ai/ba-zhaw/BA_Project_ZHAW</a>"
      ],
      "text/plain": [
       "<IPython.core.display.HTML object>"
      ]
     },
     "metadata": {},
     "output_type": "display_data"
    },
    {
     "data": {
      "text/html": [
       " View run at <a href='https://wandb.ai/ba-zhaw/BA_Project_ZHAW/runs/jswj4nsr' target=\"_blank\">https://wandb.ai/ba-zhaw/BA_Project_ZHAW/runs/jswj4nsr</a>"
      ],
      "text/plain": [
       "<IPython.core.display.HTML object>"
      ]
     },
     "metadata": {},
     "output_type": "display_data"
    },
    {
     "data": {
      "text/html": [
       "<div>\n",
       "<style scoped>\n",
       "    .dataframe tbody tr th:only-of-type {\n",
       "        vertical-align: middle;\n",
       "    }\n",
       "\n",
       "    .dataframe tbody tr th {\n",
       "        vertical-align: top;\n",
       "    }\n",
       "\n",
       "    .dataframe thead th {\n",
       "        text-align: right;\n",
       "    }\n",
       "</style>\n",
       "<table border=\"1\" class=\"dataframe\">\n",
       "  <thead>\n",
       "    <tr style=\"text-align: right;\">\n",
       "      <th></th>\n",
       "      <th>complex.id</th>\n",
       "      <th>Gene</th>\n",
       "      <th>CDR3</th>\n",
       "      <th>V</th>\n",
       "      <th>J</th>\n",
       "      <th>Species</th>\n",
       "      <th>MHC A</th>\n",
       "      <th>MHC B</th>\n",
       "      <th>MHC class</th>\n",
       "      <th>Epitope</th>\n",
       "      <th>Epitope gene</th>\n",
       "      <th>Epitope species</th>\n",
       "      <th>Reference</th>\n",
       "      <th>Method</th>\n",
       "      <th>Meta</th>\n",
       "      <th>CDR3fix</th>\n",
       "      <th>Score</th>\n",
       "    </tr>\n",
       "  </thead>\n",
       "  <tbody>\n",
       "    <tr>\n",
       "      <th>0</th>\n",
       "      <td>1</td>\n",
       "      <td>TRB</td>\n",
       "      <td>CASSYLPGQGDHYSNQPQHF</td>\n",
       "      <td>TRBV13*01</td>\n",
       "      <td>TRBJ1-5*01</td>\n",
       "      <td>HomoSapiens</td>\n",
       "      <td>HLA-B*08</td>\n",
       "      <td>B2M</td>\n",
       "      <td>MHCI</td>\n",
       "      <td>FLKEKGGL</td>\n",
       "      <td>Nef</td>\n",
       "      <td>HIV-1</td>\n",
       "      <td>PMID:15596521</td>\n",
       "      <td>{\"frequency\": \"\", \"identification\": \"tetramer-...</td>\n",
       "      <td>{\"cell.subset\": \"CD8+\", \"clone.id\": \"\", \"donor...</td>\n",
       "      <td>{\"cdr3\": \"CASSYLPGQGDHYSNQPQHF\", \"cdr3_old\": \"...</td>\n",
       "      <td>2</td>\n",
       "    </tr>\n",
       "    <tr>\n",
       "      <th>1</th>\n",
       "      <td>0</td>\n",
       "      <td>TRB</td>\n",
       "      <td>CASSFEAGQGFFSNQPQHF</td>\n",
       "      <td>TRBV13*01</td>\n",
       "      <td>TRBJ1-5*01</td>\n",
       "      <td>HomoSapiens</td>\n",
       "      <td>HLA-B*08</td>\n",
       "      <td>B2M</td>\n",
       "      <td>MHCI</td>\n",
       "      <td>FLKEKGGL</td>\n",
       "      <td>Nef</td>\n",
       "      <td>HIV-1</td>\n",
       "      <td>PMID:15596521</td>\n",
       "      <td>{\"frequency\": \"\", \"identification\": \"tetramer-...</td>\n",
       "      <td>{\"cell.subset\": \"CD8+\", \"clone.id\": \"\", \"donor...</td>\n",
       "      <td>{\"cdr3\": \"CASSFEAGQGFFSNQPQHF\", \"cdr3_old\": \"C...</td>\n",
       "      <td>2</td>\n",
       "    </tr>\n",
       "    <tr>\n",
       "      <th>2</th>\n",
       "      <td>2</td>\n",
       "      <td>TRB</td>\n",
       "      <td>CASSFEPGQGFYSNQPQHF</td>\n",
       "      <td>TRBV13*01</td>\n",
       "      <td>TRBJ1-5*01</td>\n",
       "      <td>HomoSapiens</td>\n",
       "      <td>HLA-B*08</td>\n",
       "      <td>B2M</td>\n",
       "      <td>MHCI</td>\n",
       "      <td>FLKEKGGL</td>\n",
       "      <td>Nef</td>\n",
       "      <td>HIV-1</td>\n",
       "      <td>PMID:15596521</td>\n",
       "      <td>{\"frequency\": \"\", \"identification\": \"tetramer-...</td>\n",
       "      <td>{\"cell.subset\": \"CD8+\", \"clone.id\": \"\", \"donor...</td>\n",
       "      <td>{\"cdr3\": \"CASSFEPGQGFYSNQPQHF\", \"cdr3_old\": \"C...</td>\n",
       "      <td>2</td>\n",
       "    </tr>\n",
       "    <tr>\n",
       "      <th>3</th>\n",
       "      <td>3</td>\n",
       "      <td>TRB</td>\n",
       "      <td>CASSYEPGQVSHYSNQPQHF</td>\n",
       "      <td>TRBV13*01</td>\n",
       "      <td>TRBJ1-5*01</td>\n",
       "      <td>HomoSapiens</td>\n",
       "      <td>HLA-B*08</td>\n",
       "      <td>B2M</td>\n",
       "      <td>MHCI</td>\n",
       "      <td>FLKEKGGL</td>\n",
       "      <td>Nef</td>\n",
       "      <td>HIV-1</td>\n",
       "      <td>PMID:15596521</td>\n",
       "      <td>{\"frequency\": \"\", \"identification\": \"tetramer-...</td>\n",
       "      <td>{\"cell.subset\": \"CD8+\", \"clone.id\": \"\", \"donor...</td>\n",
       "      <td>{\"cdr3\": \"CASSYEPGQVSHYSNQPQHF\", \"cdr3_old\": \"...</td>\n",
       "      <td>2</td>\n",
       "    </tr>\n",
       "    <tr>\n",
       "      <th>4</th>\n",
       "      <td>4</td>\n",
       "      <td>TRB</td>\n",
       "      <td>CASSALASLNEQFF</td>\n",
       "      <td>TRBV14*01</td>\n",
       "      <td>TRBJ2-1*01</td>\n",
       "      <td>HomoSapiens</td>\n",
       "      <td>HLA-B*08</td>\n",
       "      <td>B2M</td>\n",
       "      <td>MHCI</td>\n",
       "      <td>FLKEKGGL</td>\n",
       "      <td>Nef</td>\n",
       "      <td>HIV-1</td>\n",
       "      <td>PMID:15596521</td>\n",
       "      <td>{\"frequency\": \"\", \"identification\": \"tetramer-...</td>\n",
       "      <td>{\"cell.subset\": \"CD8+\", \"clone.id\": \"\", \"donor...</td>\n",
       "      <td>{\"cdr3\": \"CASSALASLNEQFF\", \"cdr3_old\": \"CASSAL...</td>\n",
       "      <td>2</td>\n",
       "    </tr>\n",
       "    <tr>\n",
       "      <th>...</th>\n",
       "      <td>...</td>\n",
       "      <td>...</td>\n",
       "      <td>...</td>\n",
       "      <td>...</td>\n",
       "      <td>...</td>\n",
       "      <td>...</td>\n",
       "      <td>...</td>\n",
       "      <td>...</td>\n",
       "      <td>...</td>\n",
       "      <td>...</td>\n",
       "      <td>...</td>\n",
       "      <td>...</td>\n",
       "      <td>...</td>\n",
       "      <td>...</td>\n",
       "      <td>...</td>\n",
       "      <td>...</td>\n",
       "      <td>...</td>\n",
       "    </tr>\n",
       "    <tr>\n",
       "      <th>84180</th>\n",
       "      <td>30590</td>\n",
       "      <td>TRA</td>\n",
       "      <td>CMDEGGSNYKLTF</td>\n",
       "      <td>TRAV26-1*01</td>\n",
       "      <td>TRAJ53*01</td>\n",
       "      <td>HomoSapiens</td>\n",
       "      <td>HLA-DQA1*05:01</td>\n",
       "      <td>HLA-DQB1*02:01</td>\n",
       "      <td>MHCII</td>\n",
       "      <td>PQPELPYPQPQL</td>\n",
       "      <td>Gluten</td>\n",
       "      <td>Wheat</td>\n",
       "      <td>PMID:33927715</td>\n",
       "      <td>{\"frequency\": \"\", \"identification\": \"tetramer-...</td>\n",
       "      <td>{\"cell.subset\": \"CD4+\", \"clone.id\": \"\", \"donor...</td>\n",
       "      <td>{\"cdr3\": \"CMDEGGSNYKLTF\", \"cdr3_old\": \"CMDEGGS...</td>\n",
       "      <td>0</td>\n",
       "    </tr>\n",
       "    <tr>\n",
       "      <th>84181</th>\n",
       "      <td>30591</td>\n",
       "      <td>TRA</td>\n",
       "      <td>CSLYNNNDMRF</td>\n",
       "      <td>TRAV26-1*01</td>\n",
       "      <td>TRAJ43*01</td>\n",
       "      <td>HomoSapiens</td>\n",
       "      <td>HLA-DQA1*05:01</td>\n",
       "      <td>HLA-DQB1*02:01</td>\n",
       "      <td>MHCII</td>\n",
       "      <td>PQPELPYPQPQL</td>\n",
       "      <td>Gluten</td>\n",
       "      <td>Wheat</td>\n",
       "      <td>PMID:33927715</td>\n",
       "      <td>{\"frequency\": \"\", \"identification\": \"tetramer-...</td>\n",
       "      <td>{\"cell.subset\": \"CD4+\", \"clone.id\": \"\", \"donor...</td>\n",
       "      <td>{\"cdr3\": \"CSLYNNNDMRF\", \"cdr3_old\": \"CSLYNNNDM...</td>\n",
       "      <td>0</td>\n",
       "    </tr>\n",
       "    <tr>\n",
       "      <th>84182</th>\n",
       "      <td>30592</td>\n",
       "      <td>TRA</td>\n",
       "      <td>CALSTDSWGKLQF</td>\n",
       "      <td>TRAV6*01</td>\n",
       "      <td>TRAJ24*01</td>\n",
       "      <td>HomoSapiens</td>\n",
       "      <td>HLA-DQA1*05:01</td>\n",
       "      <td>HLA-DQB1*02:01</td>\n",
       "      <td>MHCII</td>\n",
       "      <td>PQQPFPQPEQPFP</td>\n",
       "      <td>Gluten</td>\n",
       "      <td>Wheat</td>\n",
       "      <td>PMID:33927715</td>\n",
       "      <td>{\"frequency\": \"\", \"identification\": \"tetramer-...</td>\n",
       "      <td>{\"cell.subset\": \"CD4+\", \"clone.id\": \"\", \"donor...</td>\n",
       "      <td>{\"cdr3\": \"CALSTDSWGKLQF\", \"cdr3_old\": \"CALSTDS...</td>\n",
       "      <td>0</td>\n",
       "    </tr>\n",
       "    <tr>\n",
       "      <th>84183</th>\n",
       "      <td>30593</td>\n",
       "      <td>TRA</td>\n",
       "      <td>CAPQGATNKLIF</td>\n",
       "      <td>TRAV12-2*01</td>\n",
       "      <td>TRAJ32*01</td>\n",
       "      <td>HomoSapiens</td>\n",
       "      <td>HLA-DQA1*05:01</td>\n",
       "      <td>HLA-DQB1*02:01</td>\n",
       "      <td>MHCII</td>\n",
       "      <td>PQQPFPQPEQPFP</td>\n",
       "      <td>Gluten</td>\n",
       "      <td>Wheat</td>\n",
       "      <td>PMID:33927715</td>\n",
       "      <td>{\"frequency\": \"\", \"identification\": \"tetramer-...</td>\n",
       "      <td>{\"cell.subset\": \"CD4+\", \"clone.id\": \"\", \"donor...</td>\n",
       "      <td>{\"cdr3\": \"CAPQGATNKLIF\", \"cdr3_old\": \"CAPQGATN...</td>\n",
       "      <td>2</td>\n",
       "    </tr>\n",
       "    <tr>\n",
       "      <th>84184</th>\n",
       "      <td>30594</td>\n",
       "      <td>TRA</td>\n",
       "      <td>CLVGGSGGYNKLIF</td>\n",
       "      <td>TRAV4*01</td>\n",
       "      <td>TRAJ4*01</td>\n",
       "      <td>HomoSapiens</td>\n",
       "      <td>HLA-DQA1*05:01</td>\n",
       "      <td>HLA-DQB1*02:01</td>\n",
       "      <td>MHCII</td>\n",
       "      <td>PQQPFPQPEQPFP</td>\n",
       "      <td>Gluten</td>\n",
       "      <td>Wheat</td>\n",
       "      <td>PMID:33927715</td>\n",
       "      <td>{\"frequency\": \"\", \"identification\": \"tetramer-...</td>\n",
       "      <td>{\"cell.subset\": \"CD4+\", \"clone.id\": \"\", \"donor...</td>\n",
       "      <td>{\"cdr3\": \"CLVGGSGGYNKLIF\", \"cdr3_old\": \"CLVGGS...</td>\n",
       "      <td>0</td>\n",
       "    </tr>\n",
       "  </tbody>\n",
       "</table>\n",
       "<p>84185 rows × 17 columns</p>\n",
       "</div>"
      ],
      "text/plain": [
       "       complex.id Gene                  CDR3            V           J  \\\n",
       "0               1  TRB  CASSYLPGQGDHYSNQPQHF    TRBV13*01  TRBJ1-5*01   \n",
       "1               0  TRB   CASSFEAGQGFFSNQPQHF    TRBV13*01  TRBJ1-5*01   \n",
       "2               2  TRB   CASSFEPGQGFYSNQPQHF    TRBV13*01  TRBJ1-5*01   \n",
       "3               3  TRB  CASSYEPGQVSHYSNQPQHF    TRBV13*01  TRBJ1-5*01   \n",
       "4               4  TRB        CASSALASLNEQFF    TRBV14*01  TRBJ2-1*01   \n",
       "...           ...  ...                   ...          ...         ...   \n",
       "84180       30590  TRA         CMDEGGSNYKLTF  TRAV26-1*01   TRAJ53*01   \n",
       "84181       30591  TRA           CSLYNNNDMRF  TRAV26-1*01   TRAJ43*01   \n",
       "84182       30592  TRA         CALSTDSWGKLQF     TRAV6*01   TRAJ24*01   \n",
       "84183       30593  TRA          CAPQGATNKLIF  TRAV12-2*01   TRAJ32*01   \n",
       "84184       30594  TRA        CLVGGSGGYNKLIF     TRAV4*01    TRAJ4*01   \n",
       "\n",
       "           Species           MHC A           MHC B MHC class        Epitope  \\\n",
       "0      HomoSapiens        HLA-B*08             B2M      MHCI       FLKEKGGL   \n",
       "1      HomoSapiens        HLA-B*08             B2M      MHCI       FLKEKGGL   \n",
       "2      HomoSapiens        HLA-B*08             B2M      MHCI       FLKEKGGL   \n",
       "3      HomoSapiens        HLA-B*08             B2M      MHCI       FLKEKGGL   \n",
       "4      HomoSapiens        HLA-B*08             B2M      MHCI       FLKEKGGL   \n",
       "...            ...             ...             ...       ...            ...   \n",
       "84180  HomoSapiens  HLA-DQA1*05:01  HLA-DQB1*02:01     MHCII   PQPELPYPQPQL   \n",
       "84181  HomoSapiens  HLA-DQA1*05:01  HLA-DQB1*02:01     MHCII   PQPELPYPQPQL   \n",
       "84182  HomoSapiens  HLA-DQA1*05:01  HLA-DQB1*02:01     MHCII  PQQPFPQPEQPFP   \n",
       "84183  HomoSapiens  HLA-DQA1*05:01  HLA-DQB1*02:01     MHCII  PQQPFPQPEQPFP   \n",
       "84184  HomoSapiens  HLA-DQA1*05:01  HLA-DQB1*02:01     MHCII  PQQPFPQPEQPFP   \n",
       "\n",
       "      Epitope gene Epitope species      Reference  \\\n",
       "0              Nef           HIV-1  PMID:15596521   \n",
       "1              Nef           HIV-1  PMID:15596521   \n",
       "2              Nef           HIV-1  PMID:15596521   \n",
       "3              Nef           HIV-1  PMID:15596521   \n",
       "4              Nef           HIV-1  PMID:15596521   \n",
       "...            ...             ...            ...   \n",
       "84180       Gluten           Wheat  PMID:33927715   \n",
       "84181       Gluten           Wheat  PMID:33927715   \n",
       "84182       Gluten           Wheat  PMID:33927715   \n",
       "84183       Gluten           Wheat  PMID:33927715   \n",
       "84184       Gluten           Wheat  PMID:33927715   \n",
       "\n",
       "                                                  Method  \\\n",
       "0      {\"frequency\": \"\", \"identification\": \"tetramer-...   \n",
       "1      {\"frequency\": \"\", \"identification\": \"tetramer-...   \n",
       "2      {\"frequency\": \"\", \"identification\": \"tetramer-...   \n",
       "3      {\"frequency\": \"\", \"identification\": \"tetramer-...   \n",
       "4      {\"frequency\": \"\", \"identification\": \"tetramer-...   \n",
       "...                                                  ...   \n",
       "84180  {\"frequency\": \"\", \"identification\": \"tetramer-...   \n",
       "84181  {\"frequency\": \"\", \"identification\": \"tetramer-...   \n",
       "84182  {\"frequency\": \"\", \"identification\": \"tetramer-...   \n",
       "84183  {\"frequency\": \"\", \"identification\": \"tetramer-...   \n",
       "84184  {\"frequency\": \"\", \"identification\": \"tetramer-...   \n",
       "\n",
       "                                                    Meta  \\\n",
       "0      {\"cell.subset\": \"CD8+\", \"clone.id\": \"\", \"donor...   \n",
       "1      {\"cell.subset\": \"CD8+\", \"clone.id\": \"\", \"donor...   \n",
       "2      {\"cell.subset\": \"CD8+\", \"clone.id\": \"\", \"donor...   \n",
       "3      {\"cell.subset\": \"CD8+\", \"clone.id\": \"\", \"donor...   \n",
       "4      {\"cell.subset\": \"CD8+\", \"clone.id\": \"\", \"donor...   \n",
       "...                                                  ...   \n",
       "84180  {\"cell.subset\": \"CD4+\", \"clone.id\": \"\", \"donor...   \n",
       "84181  {\"cell.subset\": \"CD4+\", \"clone.id\": \"\", \"donor...   \n",
       "84182  {\"cell.subset\": \"CD4+\", \"clone.id\": \"\", \"donor...   \n",
       "84183  {\"cell.subset\": \"CD4+\", \"clone.id\": \"\", \"donor...   \n",
       "84184  {\"cell.subset\": \"CD4+\", \"clone.id\": \"\", \"donor...   \n",
       "\n",
       "                                                 CDR3fix  Score  \n",
       "0      {\"cdr3\": \"CASSYLPGQGDHYSNQPQHF\", \"cdr3_old\": \"...      2  \n",
       "1      {\"cdr3\": \"CASSFEAGQGFFSNQPQHF\", \"cdr3_old\": \"C...      2  \n",
       "2      {\"cdr3\": \"CASSFEPGQGFYSNQPQHF\", \"cdr3_old\": \"C...      2  \n",
       "3      {\"cdr3\": \"CASSYEPGQVSHYSNQPQHF\", \"cdr3_old\": \"...      2  \n",
       "4      {\"cdr3\": \"CASSALASLNEQFF\", \"cdr3_old\": \"CASSAL...      2  \n",
       "...                                                  ...    ...  \n",
       "84180  {\"cdr3\": \"CMDEGGSNYKLTF\", \"cdr3_old\": \"CMDEGGS...      0  \n",
       "84181  {\"cdr3\": \"CSLYNNNDMRF\", \"cdr3_old\": \"CSLYNNNDM...      0  \n",
       "84182  {\"cdr3\": \"CALSTDSWGKLQF\", \"cdr3_old\": \"CALSTDS...      0  \n",
       "84183  {\"cdr3\": \"CAPQGATNKLIF\", \"cdr3_old\": \"CAPQGATN...      2  \n",
       "84184  {\"cdr3\": \"CLVGGSGGYNKLIF\", \"cdr3_old\": \"CLVGGS...      0  \n",
       "\n",
       "[84185 rows x 17 columns]"
      ]
     },
     "execution_count": 3,
     "metadata": {},
     "output_type": "execute_result"
    }
   ],
   "source": [
    "os.environ[\"WANDB_NOTEBOOK_NAME\"] = \"artifact-creation.ipynb\"\n",
    "run = wandb.init(project=\"BA_Project_ZHAW\", job_type=\"dataset-creation\")\n",
    "vdjdb = pd.read_csv(\"/home/ubuntu/BA_ZHAW/data/VDJdb/VDJdb_data.tsv\", sep=\"\\t\")\n",
    "vdjdb"
   ]
  },
  {
   "cell_type": "code",
   "execution_count": null,
   "metadata": {},
   "outputs": [
    {
     "name": "stderr",
     "output_type": "stream",
     "text": [
      "wandb: WARNING Source type is set to 'repo' but some required information is missing from the environment. A job will not be created from this run. See https://docs.wandb.ai/guides/launch/create-job\n"
     ]
    },
    {
     "data": {
      "text/html": [
       " View run <strong style=\"color:#cdcd00\">spring-hill-4</strong> at: <a href='https://wandb.ai/ba-zhaw/BA_Project_ZHAW/runs/4cihi8bh' target=\"_blank\">https://wandb.ai/ba-zhaw/BA_Project_ZHAW/runs/4cihi8bh</a><br/>Synced 5 W&B file(s), 0 media file(s), 0 artifact file(s) and 0 other file(s)"
      ],
      "text/plain": [
       "<IPython.core.display.HTML object>"
      ]
     },
     "metadata": {},
     "output_type": "display_data"
    },
    {
     "data": {
      "text/html": [
       "Find logs at: <code>./wandb/run-20240311_202647-4cihi8bh/logs</code>"
      ],
      "text/plain": [
       "<IPython.core.display.HTML object>"
      ]
     },
     "metadata": {},
     "output_type": "display_data"
    }
   ],
   "source": [
    "vdjdb_table = wandb.Table(dataframe=vdjdb)\n",
    "dataset = wandb.Artifact('VDJdb', type='dataset')\n",
    "dataset.add(wandb.Table(dataframe=vdjdb), \"VDJdb\")\n",
    "run.log_artifact(dataset)\n",
    "run.finish()"
   ]
  }
 ],
 "metadata": {
  "kernelspec": {
   "display_name": "BA24",
   "language": "python",
   "name": "python3"
  },
  "language_info": {
   "codemirror_mode": {
    "name": "ipython",
    "version": 3
   },
   "file_extension": ".py",
   "mimetype": "text/x-python",
   "name": "python",
   "nbconvert_exporter": "python",
   "pygments_lexer": "ipython3",
   "version": "3.12.2"
  }
 },
 "nbformat": 4,
 "nbformat_minor": 2
}
