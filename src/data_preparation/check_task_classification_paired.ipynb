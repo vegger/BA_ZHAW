{
 "cells": [
  {
   "cell_type": "code",
   "execution_count": null,
   "metadata": {},
   "outputs": [],
   "source": [
    "import pandas as pd\n",
    "\n",
    "splitted_data_path = \"../../data/splitted_data/paired\"\n",
    "\n",
    "df_train = pd.read_csv(f\"{splitted_data_path}/train.tsv\", sep=\"\\t\")\n",
    "df_test = pd.read_csv(f\"{splitted_data_path}/test.tsv\", sep=\"\\t\")"
   ]
  },
  {
   "cell_type": "code",
   "execution_count": null,
   "metadata": {},
   "outputs": [],
   "source": [
    "# Create sets for quick lookup\n",
    "tcr_key = \"tcr_key\"\n",
    "df_train[tcr_key] = df_train['TRA_CDR3'].astype(str) + '_' + df_train['TRB_CDR3'].astype(str)\n",
    "df_test[tcr_key] = df_test['TRA_CDR3'].astype(str) + '_' + df_test['TRB_CDR3'].astype(str)\n",
    "epitopes_in_train = set(df_train['Epitope'])\n",
    "cdr3_in_train = set(df_train[tcr_key])"
   ]
  },
  {
   "cell_type": "code",
   "execution_count": null,
   "metadata": {},
   "outputs": [],
   "source": [
    "# Function to verify each row\n",
    "def verify_task(row):\n",
    "    epitope_exists = row['Epitope'] in epitopes_in_train\n",
    "    cdr3_exists = row[tcr_key] in cdr3_in_train\n",
    "    \n",
    "    if epitope_exists and cdr3_exists:\n",
    "        return 'TPP1' == row['task']\n",
    "    elif epitope_exists and not cdr3_exists:\n",
    "        return 'TPP2' == row['task']\n",
    "    elif not epitope_exists and not cdr3_exists:\n",
    "        return 'TPP3' == row['task']\n",
    "    return False  # This handles unexpected cases\n",
    "\n",
    "# Apply the verification function\n",
    "df_test['is_correct'] = df_test.apply(verify_task, axis=1)"
   ]
  },
  {
   "cell_type": "code",
   "execution_count": null,
   "metadata": {},
   "outputs": [],
   "source": [
    "# Check overall correctness\n",
    "correctness_summary = df_test['is_correct'].value_counts()\n",
    "\n",
    "# Optionally, identify rows with incorrect task settings\n",
    "incorrect_rows = df_test[df_test['is_correct'] == False]\n",
    "if len(incorrect_rows) > 0:\n",
    "  print(\"Incorrectly set tasks:\")\n",
    "  print(incorrect_rows[['Epitope', 'TRA_CDR3', 'TRB_CDR3', 'task']])\n",
    "else:\n",
    "  print(\"Task property seems to be right\")\n",
    "\n",
    "print(\"Correctness summary:\")\n",
    "print(correctness_summary)"
   ]
  }
 ],
 "metadata": {
  "kernelspec": {
   "display_name": "BA24",
   "language": "python",
   "name": "python3"
  },
  "language_info": {
   "codemirror_mode": {
    "name": "ipython",
    "version": 3
   },
   "file_extension": ".py",
   "mimetype": "text/x-python",
   "name": "python",
   "nbconvert_exporter": "python",
   "pygments_lexer": "ipython3",
   "version": "3.12.2"
  }
 },
 "nbformat": 4,
 "nbformat_minor": 2
}
