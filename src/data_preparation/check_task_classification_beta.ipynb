{
 "cells": [
  {
   "cell_type": "code",
   "execution_count": null,
   "metadata": {},
   "outputs": [],
   "source": [
    "import pandas as pd\n",
    "\n",
    "splitted_data_path = \"../../data/splitted_data/beta\"\n",
    "\n",
    "df_train = pd.read_csv(f\"{splitted_data_path}/train.tsv\", sep=\"\\t\")\n",
    "df_test = pd.read_csv(f\"{splitted_data_path}/test.tsv\", sep=\"\\t\")"
   ]
  },
  {
   "cell_type": "code",
   "execution_count": null,
   "metadata": {},
   "outputs": [],
   "source": [
    "# Create sets for quick lookup\n",
    "epitopes_in_train = set(df_train['Epitope'])\n",
    "trb_cdr3_in_train = set(df_train['TRB_CDR3'])"
   ]
  },
  {
   "cell_type": "code",
   "execution_count": null,
   "metadata": {},
   "outputs": [],
   "source": [
    "# Function to verify each row\n",
    "def verify_task(row):\n",
    "    epitope_exists = row['Epitope'] in epitopes_in_train\n",
    "    trb_cdr3_exists = row['TRB_CDR3'] in trb_cdr3_in_train\n",
    "    \n",
    "    if epitope_exists and trb_cdr3_exists:\n",
    "        return 'TPP1' == row['task']\n",
    "    elif epitope_exists and not trb_cdr3_exists:\n",
    "        return 'TPP2' == row['task']\n",
    "    elif not epitope_exists and not trb_cdr3_exists:\n",
    "        return 'TPP3' == row['task']\n",
    "    return False  # This handles unexpected cases\n",
    "\n",
    "# Apply the verification function\n",
    "df_test['is_correct'] = df_test.apply(verify_task, axis=1)"
   ]
  },
  {
   "cell_type": "code",
   "execution_count": null,
   "metadata": {},
   "outputs": [],
   "source": [
    "# Check overall correctness\n",
    "correctness_summary = df_test['is_correct'].value_counts()\n",
    "\n",
    "# Optionally, identify rows with incorrect task settings\n",
    "incorrect_rows = df_test[df_test['is_correct'] == False]\n",
    "if len(incorrect_rows) > 0:\n",
    "  print(\"Incorrectly set tasks:\")\n",
    "  print(incorrect_rows[['Epitope', 'TRB_CDR3', 'task']])\n",
    "else:\n",
    "  print(\"Task property seems to be right\")\n",
    "\n",
    "print(\"Correctness summary:\")\n",
    "print(correctness_summary)"
   ]
  }
 ],
 "metadata": {
  "kernelspec": {
   "display_name": "BA24",
   "language": "python",
   "name": "python3"
  },
  "language_info": {
   "codemirror_mode": {
    "name": "ipython",
    "version": 3
   },
   "file_extension": ".py",
   "mimetype": "text/x-python",
   "name": "python",
   "nbconvert_exporter": "python",
   "pygments_lexer": "ipython3",
   "version": "3.12.2"
  }
 },
 "nbformat": 4,
 "nbformat_minor": 2
}
