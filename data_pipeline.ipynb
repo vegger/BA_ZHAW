{
 "cells": [
  {
   "cell_type": "code",
   "execution_count": 1,
   "metadata": {},
   "outputs": [],
   "source": [
    "import os"
   ]
  },
  {
   "cell_type": "code",
   "execution_count": 2,
   "metadata": {},
   "outputs": [],
   "source": [
    "# set precision of mhc and V/J values (gene or allele)\n",
    "precision = 'allele'"
   ]
  },
  {
   "cell_type": "code",
   "execution_count": 3,
   "metadata": {},
   "outputs": [],
   "source": [
    "# this function is not thread safe\n",
    "def create_folders_if_not_exists(folders):\n",
    "  for path in folders:\n",
    "    if not os.path.exists(path):\n",
    "      os.makedirs(path)"
   ]
  },
  {
   "cell_type": "code",
   "execution_count": 4,
   "metadata": {},
   "outputs": [],
   "source": [
    "pipeline_data = './data'\n",
    "pipeline_data_plain = f'{pipeline_data}/plain_datasets'\n",
    "pipeline_data_cleaned = f'{pipeline_data}/cleaned_datasets'\n",
    "pipeline_data_concatenated = f'{pipeline_data}/concatenated_datasets'\n",
    "pipeline_data_splitted = f'{pipeline_data}/splitted_datasets'\n",
    "pipeline_data_temp_bucket = f'{pipeline_data}/temp'\n",
    "\n",
    "pipeline_folders = [pipeline_data, pipeline_data_plain, pipeline_data_cleaned, pipeline_data_concatenated, pipeline_data_splitted, pipeline_data_temp_bucket]\n",
    "\n",
    "create_folders_if_not_exists(pipeline_folders)"
   ]
  },
  {
   "cell_type": "markdown",
   "metadata": {},
   "source": [
    "## Data Preparation"
   ]
  },
  {
   "cell_type": "markdown",
   "metadata": {},
   "source": [
    "### IEDB"
   ]
  },
  {
   "cell_type": "code",
   "execution_count": 5,
   "metadata": {},
   "outputs": [],
   "source": [
    "# prepare directories\n",
    "IEDB_data_plain = f'{pipeline_data_plain}/IEDB'\n",
    "IEDB_data_cleaned = f'{pipeline_data_cleaned}/IEDB'\n",
    "IEDB_data_fitted = f'{pipeline_data_temp_bucket}/IEDB'\n",
    "\n",
    "IEDB_folders = [IEDB_data_plain, IEDB_data_cleaned, IEDB_data_fitted]\n",
    "create_folders_if_not_exists(IEDB_folders)"
   ]
  },
  {
   "cell_type": "code",
   "execution_count": 6,
   "metadata": {},
   "outputs": [
    {
     "name": "stderr",
     "output_type": "stream",
     "text": [
      "/tmp/ipykernel_4557/3393226292.py:2: DtypeWarning: Columns (2,3,4,5,6,7,8,12,14,15) have mixed types. Specify dtype option on import or set low_memory=False.\n",
      "  df = pd.read_csv(input_file)\n"
     ]
    }
   ],
   "source": [
    "# prepare parameters for notebook IEDB fit data\n",
    "path_prefix_plain = IEDB_data_plain\n",
    "path_prefix_fitted = IEDB_data_fitted\n",
    "mhc_I_input_beta = f\"{path_prefix_plain}/MHCI_IEDB_beta_export.csv\"\n",
    "mhc_I_output_beta = f\"{path_prefix_fitted}/IEDB_beta_fitted.csv\"\n",
    "mhc_I_input_paired = f\"{path_prefix_plain}/MHCI_IEDB_paired_export.csv\"\n",
    "mhc_I_output_paired = f\"{path_prefix_fitted}/IEDB_paired_fitted.csv\"\n",
    "\n",
    "# fit IEDB data\n",
    "%run ./data_scripts/IEDB/IEDB_fitted_dataset.ipynb"
   ]
  },
  {
   "cell_type": "code",
   "execution_count": 7,
   "metadata": {},
   "outputs": [
    {
     "name": "stderr",
     "output_type": "stream",
     "text": [
      "/tmp/ipykernel_4557/2481733926.py:9: DtypeWarning: Columns (2,3,4,5,6,7,8,12,14,15) have mixed types. Specify dtype option on import or set low_memory=False.\n",
      "  df_cleaned_beta = pd.read_csv(f\"{path_prefix_fitted}/{fitted_file_beta}\")\n"
     ]
    }
   ],
   "source": [
    "# prepare parameters for notebook IEDB clean data\n",
    "path_prefix_fitted = IEDB_data_fitted\n",
    "path_prefix_cleaned =  IEDB_data_cleaned\n",
    "fitted_file_beta = \"IEDB_beta_fitted.csv\"\n",
    "fitted_file_paired = \"IEDB_paired_fitted.csv\"\n",
    "cleaned_file_beta = \"IEDB_cleaned_data_beta.csv\"\n",
    "cleaned_file_paired = \"IEDB_cleaned_data_paired.csv\"\n",
    "\n",
    "# clean IEDB data\n",
    "%run ./data_scripts/IEDB/IEDB_clean_dataset.ipynb"
   ]
  },
  {
   "cell_type": "code",
   "execution_count": 8,
   "metadata": {},
   "outputs": [],
   "source": [
    "IEDB_cleaned_beta_output = f'{IEDB_data_cleaned}/{cleaned_file_beta}'\n",
    "IEDB_cleaned_paired_output = f'{IEDB_data_cleaned}/{cleaned_file_paired}'"
   ]
  },
  {
   "cell_type": "markdown",
   "metadata": {},
   "source": [
    "### McPAS"
   ]
  },
  {
   "cell_type": "code",
   "execution_count": 9,
   "metadata": {},
   "outputs": [],
   "source": [
    "# prepare directories\n",
    "McPas_data_plain = f'{pipeline_data_plain}/McPas'\n",
    "McPas_data_cleaned = f'{pipeline_data_cleaned}/McPas'\n",
    "McPas_data_fitted = f'{pipeline_data_temp_bucket}/McPas'\n",
    "\n",
    "McPas_folders = [McPas_data_plain, McPas_data_cleaned, McPas_data_fitted]\n",
    "create_folders_if_not_exists(McPas_folders)"
   ]
  },
  {
   "cell_type": "code",
   "execution_count": 10,
   "metadata": {},
   "outputs": [
    {
     "name": "stderr",
     "output_type": "stream",
     "text": [
      "/tmp/ipykernel_4557/4056307183.py:1: DtypeWarning: Columns (13,17,24,26,28) have mixed types. Specify dtype option on import or set low_memory=False.\n",
      "  mcpastcr_df = pd.read_csv(input_file, encoding='latin1')\n"
     ]
    }
   ],
   "source": [
    "# prepare parameters for notebook McPAS fit data\n",
    "input_file = f'{McPas_data_plain}/McPAS-TCR.csv'\n",
    "path_prefix_fitted = McPas_data_fitted\n",
    "fitted_file = 'McPAS_fitted.tsv'\n",
    "\n",
    "# fit McPAS data\n",
    "%run ./data_scripts/McPas-TCR/fit_data_mcpastcr_both.ipynb"
   ]
  },
  {
   "cell_type": "code",
   "execution_count": 11,
   "metadata": {},
   "outputs": [
    {
     "name": "stdout",
     "output_type": "stream",
     "text": [
      "MHC Class I has 10078 entries\n",
      "whole dataframe has 13701 entries\n",
      "filtered to only use MHC Class I. Length of dataset: 10078\n"
     ]
    },
    {
     "name": "stderr",
     "output_type": "stream",
     "text": [
      "/tmp/ipykernel_4557/2652240660.py:1: UserWarning: Boolean Series key will be reindexed to match DataFrame index.\n",
      "  mcpastcr_cleaned_both_df = mcpastcr_cleaned_both_df[~mask]\n"
     ]
    }
   ],
   "source": [
    "# prepare parameters for notebook McPAS clean data\n",
    "fitted_input_file = f'{McPas_data_fitted}/{fitted_file}'\n",
    "path_prefix_cleaned = McPas_data_cleaned\n",
    "cleaned_file_paired = 'McPAS_cleaned_data_paired.tsv'\n",
    "cleaned_file_beta = 'McPAS_cleaned_data_beta.tsv'\n",
    "\n",
    "# clean McPAS data\n",
    "%run ./data_scripts/McPas-TCR/clean_data_mcpastcr_both.ipynb"
   ]
  },
  {
   "cell_type": "code",
   "execution_count": 12,
   "metadata": {},
   "outputs": [],
   "source": [
    "McPAS_cleaned_beta_output = f'{McPas_data_cleaned}/{cleaned_file_beta}'\n",
    "McPAS_cleaned_paired_output = f'{McPas_data_cleaned}/{cleaned_file_paired}'"
   ]
  },
  {
   "cell_type": "markdown",
   "metadata": {},
   "source": [
    "### VDJdb"
   ]
  },
  {
   "cell_type": "code",
   "execution_count": 13,
   "metadata": {},
   "outputs": [],
   "source": [
    "# prepare directories\n",
    "VDJdb_data_plain = f'{pipeline_data_plain}/VDJdb'\n",
    "VDJdb_data_cleaned = f'{pipeline_data_cleaned}/VDJdb'\n",
    "VDJdb_data_fitted = f'{pipeline_data_temp_bucket}/VDJdb'\n",
    "\n",
    "VDJdb_folders = [VDJdb_data_plain, VDJdb_data_cleaned, VDJdb_data_fitted]\n",
    "create_folders_if_not_exists(VDJdb_folders)\n",
    "\n",
    "fitted_beta_file = 'VDJdb_beta_fitted.tsv'\n",
    "fitted_paired_file = 'VDJdb_paired_fitted.tsv'"
   ]
  },
  {
   "cell_type": "code",
   "execution_count": 14,
   "metadata": {},
   "outputs": [],
   "source": [
    "# prepare parameters for notebook VDJdb fit data paired\n",
    "input_file = f'{VDJdb_data_plain}/VDJdb_paired_only.tsv'\n",
    "path_prefix_fitted = VDJdb_data_fitted\n",
    "fitted_file = fitted_paired_file\n",
    "\n",
    "# fit paired VDJdb data\n",
    "%run ./data_scripts/VDJdb/fit_data_vdjdb_paired.ipynb"
   ]
  },
  {
   "cell_type": "code",
   "execution_count": 15,
   "metadata": {},
   "outputs": [],
   "source": [
    "# prepare parameters for notebook VDJdb fit data beta\n",
    "input_file = f'{VDJdb_data_plain}/VDJdb_beta_only.tsv'\n",
    "path_prefix_fitted = VDJdb_data_fitted\n",
    "fitted_file = fitted_beta_file\n",
    "\n",
    "# fit beta VDJdb data\n",
    "%run ./data_scripts/VDJdb/fit_data_vdjdb_beta.ipynb"
   ]
  },
  {
   "cell_type": "code",
   "execution_count": 16,
   "metadata": {},
   "outputs": [
    {
     "name": "stdout",
     "output_type": "stream",
     "text": [
      "MHC Class I has 27414 entries\n",
      "whole dataframe has 28119 entries\n",
      "filtered to only use MHC Class I. Length of dataset: 27414\n"
     ]
    }
   ],
   "source": [
    "# prepare parameters for notebook VDJdb clean data paired\n",
    "input_file = f'{VDJdb_data_fitted}/{fitted_paired_file}'\n",
    "cleaned_file_paired = 'VDJdb_cleaned_data_paired.tsv'\n",
    "output_file = f'{VDJdb_data_cleaned}/{cleaned_file_paired}'\n",
    "\n",
    "# clean paired VDJdb data\n",
    "%run ./data_scripts/VDJdb/clean_data_vdjdb_paired.ipynb"
   ]
  },
  {
   "cell_type": "code",
   "execution_count": 17,
   "metadata": {},
   "outputs": [
    {
     "name": "stdout",
     "output_type": "stream",
     "text": [
      "MHC Class I has 46507 entries\n",
      "whole dataframe has 49042 entries\n",
      "filtered to only use MHC Class I. Length of dataset: 46507\n"
     ]
    }
   ],
   "source": [
    "# prepare parameters for notebook VDJdb clean data beta\n",
    "input_file = f'{VDJdb_data_fitted}/{fitted_beta_file}'\n",
    "cleaned_file_beta = 'VDJdb_cleaned_data_beta.tsv'\n",
    "output_file = f'{VDJdb_data_cleaned}/{cleaned_file_beta}'\n",
    "\n",
    "# clean beta VDJdb data\n",
    "%run ./data_scripts/VDJdb/clean_data_vdjdb_beta.ipynb"
   ]
  },
  {
   "cell_type": "code",
   "execution_count": 18,
   "metadata": {},
   "outputs": [],
   "source": [
    "VDJdb_cleaned_beta_output = f'{VDJdb_data_cleaned}/{cleaned_file_beta}'\n",
    "VDJdb_cleaned_paired_output = f'{VDJdb_data_cleaned}/{cleaned_file_paired}'"
   ]
  },
  {
   "cell_type": "markdown",
   "metadata": {},
   "source": [
    "## Data Concatenation\n",
    "The concatenation includes further cleaning and advanced removal of duplicated rows."
   ]
  },
  {
   "cell_type": "code",
   "execution_count": 19,
   "metadata": {},
   "outputs": [
    {
     "name": "stderr",
     "output_type": "stream",
     "text": [
      "/tmp/ipykernel_4557/1894379851.py:21: DtypeWarning: Columns (11,12,13) have mixed types. Specify dtype option on import or set low_memory=False.\n",
      "  iedb_beta_df = pd.read_csv(iedb_beta_read_path)\n"
     ]
    },
    {
     "name": "stdout",
     "output_type": "stream",
     "text": [
      "length of beta_df: 231627\n"
     ]
    },
    {
     "name": "stderr",
     "output_type": "stream",
     "text": [
      "/home/zeus/miniconda3/envs/cloudspace/lib/python3.10/site-packages/tidytcells/_utils/warnings.py:12: UserWarning: Failed to standardize \"H-2Kb\" for species homosapiens: unrecognised gene name. (best attempted fix: \"HLA-H-2KB\").\n",
      "  warn(warning_message)\n",
      "/home/zeus/miniconda3/envs/cloudspace/lib/python3.10/site-packages/tidytcells/_utils/warnings.py:12: UserWarning: Failed to standardize \"HLA-A*24:01\" for species homosapiens: nonexistent allele for recognised gene.\n",
      "  warn(warning_message)\n",
      "/home/zeus/miniconda3/envs/cloudspace/lib/python3.10/site-packages/tidytcells/_utils/warnings.py:12: UserWarning: Failed to standardize \"HLA-B*12\" for species homosapiens: nonexistent allele for recognised gene.\n",
      "  warn(warning_message)\n",
      "/home/zeus/miniconda3/envs/cloudspace/lib/python3.10/site-packages/tidytcells/_utils/warnings.py:12: UserWarning: Failed to standardize \"HLA-A*08:01\" for species homosapiens: nonexistent allele for recognised gene.\n",
      "  warn(warning_message)\n",
      "/home/zeus/miniconda3/envs/cloudspace/lib/python3.10/site-packages/tidytcells/_utils/warnings.py:12: UserWarning: Failed to standardize \"HLA class I\" for species homosapiens: unrecognised gene name. (best attempted fix: \"HLA-HLACLASSI\").\n",
      "  warn(warning_message)\n",
      "/home/zeus/miniconda3/envs/cloudspace/lib/python3.10/site-packages/tidytcells/_utils/warnings.py:12: UserWarning: Failed to standardize \"TRBV9-02\" for species homosapiens: unrecognised gene name. (best attempted fix: \"TRBV9-2\").\n",
      "  warn(warning_message)\n",
      "/home/zeus/miniconda3/envs/cloudspace/lib/python3.10/site-packages/tidytcells/_utils/warnings.py:12: UserWarning: Failed to standardize \"TRBV2-7*01\" for species homosapiens: unrecognised gene name.\n",
      "  warn(warning_message)\n",
      "/home/zeus/miniconda3/envs/cloudspace/lib/python3.10/site-packages/tidytcells/_utils/warnings.py:12: UserWarning: Failed to standardize \"TRBV19*04\" for species homosapiens: nonexistent allele for recognised gene.\n",
      "  warn(warning_message)\n",
      "/home/zeus/miniconda3/envs/cloudspace/lib/python3.10/site-packages/tidytcells/_utils/warnings.py:12: UserWarning: Failed to standardize \"TRBV26-2*01\" for species homosapiens: unrecognised gene name.\n",
      "  warn(warning_message)\n",
      "/home/zeus/miniconda3/envs/cloudspace/lib/python3.10/site-packages/tidytcells/_utils/warnings.py:12: UserWarning: Failed to standardize \"TRBV19*05\" for species homosapiens: nonexistent allele for recognised gene.\n",
      "  warn(warning_message)\n",
      "/home/zeus/miniconda3/envs/cloudspace/lib/python3.10/site-packages/tidytcells/_utils/warnings.py:12: UserWarning: Failed to standardize \"TRBV26-1*03\" for species homosapiens: nonexistent allele for recognised gene. (best attempted fix: \"TRBV26*03\").\n",
      "  warn(warning_message)\n",
      "/home/zeus/miniconda3/envs/cloudspace/lib/python3.10/site-packages/tidytcells/_utils/warnings.py:12: UserWarning: Failed to standardize \"TRBV2-6*01\" for species homosapiens: unrecognised gene name.\n",
      "  warn(warning_message)\n",
      "/home/zeus/miniconda3/envs/cloudspace/lib/python3.10/site-packages/tidytcells/_utils/warnings.py:12: UserWarning: Failed to standardize \"TRBV8-4*05\" for species homosapiens: unrecognised gene name.\n",
      "  warn(warning_message)\n",
      "/home/zeus/miniconda3/envs/cloudspace/lib/python3.10/site-packages/tidytcells/_utils/warnings.py:12: UserWarning: Failed to standardize \"TRBV2-2*01\" for species homosapiens: unrecognised gene name.\n",
      "  warn(warning_message)\n",
      "/home/zeus/miniconda3/envs/cloudspace/lib/python3.10/site-packages/tidytcells/_utils/warnings.py:12: UserWarning: Failed to standardize \"TRBV1-4*01\" for species homosapiens: unrecognised gene name.\n",
      "  warn(warning_message)\n",
      "/home/zeus/miniconda3/envs/cloudspace/lib/python3.10/site-packages/tidytcells/_utils/warnings.py:12: UserWarning: Failed to standardize \"TRBV2-03\" for species homosapiens: unrecognised gene name. (best attempted fix: \"TRBV2-3\").\n",
      "  warn(warning_message)\n",
      "/home/zeus/miniconda3/envs/cloudspace/lib/python3.10/site-packages/tidytcells/_utils/warnings.py:12: UserWarning: Failed to standardize \"TRBV2-05\" for species homosapiens: unrecognised gene name. (best attempted fix: \"TRBV2-5\").\n",
      "  warn(warning_message)\n",
      "/home/zeus/miniconda3/envs/cloudspace/lib/python3.10/site-packages/tidytcells/_utils/warnings.py:12: UserWarning: Failed to standardize \"TRBV13-2\" for species homosapiens: unrecognised gene name.\n",
      "  warn(warning_message)\n",
      "/home/zeus/miniconda3/envs/cloudspace/lib/python3.10/site-packages/tidytcells/_utils/warnings.py:12: UserWarning: Failed to standardize \"TRBV13-06\" for species homosapiens: unrecognised gene name. (best attempted fix: \"TRBV13-6\").\n",
      "  warn(warning_message)\n",
      "/home/zeus/miniconda3/envs/cloudspace/lib/python3.10/site-packages/tidytcells/_utils/warnings.py:12: UserWarning: Failed to standardize \"TRBV1-05\" for species homosapiens: unrecognised gene name. (best attempted fix: \"TRBV1-5\").\n",
      "  warn(warning_message)\n",
      "/home/zeus/miniconda3/envs/cloudspace/lib/python3.10/site-packages/tidytcells/_utils/warnings.py:12: UserWarning: Failed to standardize \"TRBV21-03\" for species homosapiens: unrecognised gene name. (best attempted fix: \"TRBV21-3\").\n",
      "  warn(warning_message)\n",
      "/home/zeus/miniconda3/envs/cloudspace/lib/python3.10/site-packages/tidytcells/_utils/warnings.py:12: UserWarning: Failed to standardize \"TRBV6-2*02\" for species homosapiens: nonexistent allele for recognised gene.\n",
      "  warn(warning_message)\n",
      "/home/zeus/miniconda3/envs/cloudspace/lib/python3.10/site-packages/tidytcells/_utils/warnings.py:12: UserWarning: Failed to standardize \"TCRB17-1\" for species homosapiens: unrecognised gene name. (best attempted fix: \"TRB17-1\").\n",
      "  warn(warning_message)\n",
      "/home/zeus/miniconda3/envs/cloudspace/lib/python3.10/site-packages/tidytcells/_utils/warnings.py:12: UserWarning: Failed to standardize \"TCRBV21-3\" for species homosapiens: unrecognised gene name. (best attempted fix: \"TRBV21-3\").\n",
      "  warn(warning_message)\n",
      "/home/zeus/miniconda3/envs/cloudspace/lib/python3.10/site-packages/tidytcells/_utils/warnings.py:12: UserWarning: Failed to standardize \"TCRBV13-6\" for species homosapiens: unrecognised gene name. (best attempted fix: \"TRBV13-6\").\n",
      "  warn(warning_message)\n",
      "/home/zeus/miniconda3/envs/cloudspace/lib/python3.10/site-packages/tidytcells/_utils/warnings.py:12: UserWarning: Failed to standardize \"TCRBV13-3\" for species homosapiens: unrecognised gene name. (best attempted fix: \"TRBV13-3\").\n",
      "  warn(warning_message)\n",
      "/home/zeus/miniconda3/envs/cloudspace/lib/python3.10/site-packages/tidytcells/_utils/warnings.py:12: UserWarning: Failed to standardize \"TCRVB06\" for species homosapiens: unrecognised gene name. (best attempted fix: \"TRVB6\").\n",
      "  warn(warning_message)\n",
      "/home/zeus/miniconda3/envs/cloudspace/lib/python3.10/site-packages/tidytcells/_utils/warnings.py:12: UserWarning: Failed to standardize \"TCRVB6\" for species homosapiens: unrecognised gene name. (best attempted fix: \"TRVB6\").\n",
      "  warn(warning_message)\n",
      "/home/zeus/miniconda3/envs/cloudspace/lib/python3.10/site-packages/tidytcells/_utils/warnings.py:12: UserWarning: Failed to standardize \"TCRVB12\" for species homosapiens: unrecognised gene name. (best attempted fix: \"TRVB12\").\n",
      "  warn(warning_message)\n",
      "/home/zeus/miniconda3/envs/cloudspace/lib/python3.10/site-packages/tidytcells/_utils/warnings.py:12: UserWarning: Failed to standardize \"TCRBV12-3/4\" for species homosapiens: unrecognised gene name. (best attempted fix: \"TRBV12-3/4\").\n",
      "  warn(warning_message)\n",
      "/home/zeus/miniconda3/envs/cloudspace/lib/python3.10/site-packages/tidytcells/_utils/warnings.py:12: UserWarning: Failed to standardize \"TCRBB27\" for species homosapiens: unrecognised gene name. (best attempted fix: \"TRBB27\").\n",
      "  warn(warning_message)\n",
      "/home/zeus/miniconda3/envs/cloudspace/lib/python3.10/site-packages/tidytcells/_utils/warnings.py:12: UserWarning: Failed to standardize \"05-07*01\" for species homosapiens: unrecognised gene name. (best attempted fix: \"TR5-7*01\").\n",
      "  warn(warning_message)\n",
      "/home/zeus/miniconda3/envs/cloudspace/lib/python3.10/site-packages/tidytcells/_utils/warnings.py:12: UserWarning: Failed to standardize \"TRBJ5-1\" for species homosapiens: unrecognised gene name.\n",
      "  warn(warning_message)\n",
      "/home/zeus/miniconda3/envs/cloudspace/lib/python3.10/site-packages/tidytcells/_utils/warnings.py:12: UserWarning: Failed to standardize \"TRBJ10-1\" for species homosapiens: unrecognised gene name.\n",
      "  warn(warning_message)\n",
      "/home/zeus/miniconda3/envs/cloudspace/lib/python3.10/site-packages/tidytcells/_utils/warnings.py:12: UserWarning: Failed to standardize \"TRBJ20-1\" for species homosapiens: unrecognised gene name.\n",
      "  warn(warning_message)\n",
      "/home/zeus/miniconda3/envs/cloudspace/lib/python3.10/site-packages/tidytcells/_utils/warnings.py:12: UserWarning: Failed to standardize \"TRBJ19-1\" for species homosapiens: unrecognised gene name.\n",
      "  warn(warning_message)\n",
      "/home/zeus/miniconda3/envs/cloudspace/lib/python3.10/site-packages/tidytcells/_utils/warnings.py:12: UserWarning: Failed to standardize \"TRBJ17-1\" for species homosapiens: unrecognised gene name.\n",
      "  warn(warning_message)\n",
      "/home/zeus/miniconda3/envs/cloudspace/lib/python3.10/site-packages/tidytcells/_utils/warnings.py:12: UserWarning: Failed to standardize \"TRBJ38-2*01\" for species homosapiens: unrecognised gene name.\n",
      "  warn(warning_message)\n",
      "/home/zeus/miniconda3/envs/cloudspace/lib/python3.10/site-packages/tidytcells/_utils/warnings.py:12: UserWarning: Failed to standardize \"Donor 13\" for species homosapiens: unrecognised gene name. (best attempted fix: \"TRDON/OR13\").\n",
      "  warn(warning_message)\n",
      "/home/zeus/miniconda3/envs/cloudspace/lib/python3.10/site-packages/tidytcells/_utils/warnings.py:12: UserWarning: Failed to standardize \"Negative\" for species homosapiens: unrecognised gene name. (best attempted fix: \"TRNEGATIVE\").\n",
      "  warn(warning_message)\n",
      "/home/zeus/miniconda3/envs/cloudspace/lib/python3.10/site-packages/tidytcells/_utils/warnings.py:12: UserWarning: Failed to standardize \"TRBJ37*02\" for species homosapiens: unrecognised gene name.\n",
      "  warn(warning_message)\n",
      "/home/zeus/miniconda3/envs/cloudspace/lib/python3.10/site-packages/tidytcells/_utils/warnings.py:12: UserWarning: Failed to standardize \"TRBJ8*01\" for species homosapiens: unrecognised gene name.\n",
      "  warn(warning_message)\n",
      "/home/zeus/miniconda3/envs/cloudspace/lib/python3.10/site-packages/tidytcells/_utils/warnings.py:12: UserWarning: Failed to standardize \"TRBJ52*01\" for species homosapiens: unrecognised gene name.\n",
      "  warn(warning_message)\n",
      "/home/zeus/miniconda3/envs/cloudspace/lib/python3.10/site-packages/tidytcells/_utils/warnings.py:12: UserWarning: Failed to standardize \"TRBJ9*01\" for species homosapiens: unrecognised gene name.\n",
      "  warn(warning_message)\n",
      "/home/zeus/miniconda3/envs/cloudspace/lib/python3.10/site-packages/tidytcells/_utils/warnings.py:12: UserWarning: Failed to standardize \"TRBJ33*01\" for species homosapiens: unrecognised gene name.\n",
      "  warn(warning_message)\n",
      "/home/zeus/miniconda3/envs/cloudspace/lib/python3.10/site-packages/tidytcells/_utils/warnings.py:12: UserWarning: Failed to standardize \"TRBJ36*01\" for species homosapiens: unrecognised gene name.\n",
      "  warn(warning_message)\n",
      "/home/zeus/miniconda3/envs/cloudspace/lib/python3.10/site-packages/tidytcells/_utils/warnings.py:12: UserWarning: Failed to standardize \"TRBJ53*01\" for species homosapiens: unrecognised gene name.\n",
      "  warn(warning_message)\n",
      "/home/zeus/miniconda3/envs/cloudspace/lib/python3.10/site-packages/tidytcells/_utils/warnings.py:12: UserWarning: Failed to standardize \"TRBJ54*01\" for species homosapiens: unrecognised gene name.\n",
      "  warn(warning_message)\n",
      "/home/zeus/miniconda3/envs/cloudspace/lib/python3.10/site-packages/tidytcells/_utils/warnings.py:12: UserWarning: Failed to standardize \"TRBJ3-1*01\" for species homosapiens: unrecognised gene name.\n",
      "  warn(warning_message)\n",
      "/home/zeus/miniconda3/envs/cloudspace/lib/python3.10/site-packages/tidytcells/_utils/warnings.py:12: UserWarning: Failed to standardize \"TRBJ42*01\" for species homosapiens: unrecognised gene name.\n",
      "  warn(warning_message)\n",
      "/home/zeus/miniconda3/envs/cloudspace/lib/python3.10/site-packages/tidytcells/_utils/warnings.py:12: UserWarning: Failed to standardize \"TRBJ39*01\" for species homosapiens: unrecognised gene name.\n",
      "  warn(warning_message)\n",
      "/home/zeus/miniconda3/envs/cloudspace/lib/python3.10/site-packages/tidytcells/_utils/warnings.py:12: UserWarning: Failed to standardize \"TRBJ45*01\" for species homosapiens: unrecognised gene name.\n",
      "  warn(warning_message)\n",
      "/home/zeus/miniconda3/envs/cloudspace/lib/python3.10/site-packages/tidytcells/_utils/warnings.py:12: UserWarning: Failed to standardize \"TRBJ31*01\" for species homosapiens: unrecognised gene name.\n",
      "  warn(warning_message)\n",
      "/home/zeus/miniconda3/envs/cloudspace/lib/python3.10/site-packages/tidytcells/_utils/warnings.py:12: UserWarning: Failed to standardize \"TRBJ43*01\" for species homosapiens: unrecognised gene name.\n",
      "  warn(warning_message)\n",
      "/home/zeus/miniconda3/envs/cloudspace/lib/python3.10/site-packages/tidytcells/_utils/warnings.py:12: UserWarning: Failed to standardize \"TRBJ1-7\" for species homosapiens: unrecognised gene name.\n",
      "  warn(warning_message)\n",
      "/home/zeus/miniconda3/envs/cloudspace/lib/python3.10/site-packages/tidytcells/_utils/warnings.py:12: UserWarning: Failed to standardize \"TRBJ5-6\" for species homosapiens: unrecognised gene name.\n",
      "  warn(warning_message)\n",
      "/home/zeus/miniconda3/envs/cloudspace/lib/python3.10/site-packages/tidytcells/_utils/warnings.py:12: UserWarning: Failed to standardize \"TRBJ3-2\" for species homosapiens: unrecognised gene name.\n",
      "  warn(warning_message)\n",
      "/home/zeus/miniconda3/envs/cloudspace/lib/python3.10/site-packages/tidytcells/aa/_standardize.py:80: UserWarning: Failed to standardize Donor13: not a valid amino acid sequence.\n",
      "  warnings.warn(\n",
      "/home/zeus/miniconda3/envs/cloudspace/lib/python3.10/site-packages/tidytcells/aa/_standardize.py:80: UserWarning: Failed to standardize CALQDXNTGEXFF: not a valid amino acid sequence.\n",
      "  warnings.warn(\n",
      "/home/zeus/miniconda3/envs/cloudspace/lib/python3.10/site-packages/tidytcells/aa/_standardize.py:80: UserWarning: Failed to standardize CSARTGDRTEAFX: not a valid amino acid sequence.\n",
      "  warnings.warn(\n",
      "/home/zeus/miniconda3/envs/cloudspace/lib/python3.10/site-packages/tidytcells/aa/_standardize.py:80: UserWarning: Failed to standardize CASSILGWSEAFX: not a valid amino acid sequence.\n",
      "  warnings.warn(\n",
      "/home/zeus/miniconda3/envs/cloudspace/lib/python3.10/site-packages/tidytcells/aa/_standardize.py:80: UserWarning: Failed to standardize CASSLRTRTDTQYX: not a valid amino acid sequence.\n",
      "  warnings.warn(\n"
     ]
    },
    {
     "name": "stdout",
     "output_type": "stream",
     "text": [
      "The following script removes a lot of rows. They are kept and some of them get added again later\n",
      "distinct entries (all columns, keep=first). 17421 entries removed.\n",
      "removed all duplicates (CDR3, Epitope) from distinct values (most_important_columns, keep=False). 83009 entries removed.\n",
      "beta removed entries df length: 83009\n",
      "\n",
      "\n",
      "Number of groups formed: 34350\n"
     ]
    },
    {
     "name": "stderr",
     "output_type": "stream",
     "text": [
      "/tmp/ipykernel_4557/3398904298.py:24: FutureWarning: The behavior of DataFrame concatenation with empty or all-NA entries is deprecated. In a future version, this will no longer exclude empty or all-NA columns when determining the result dtypes. To retain the old behavior, exclude the relevant entries before the concat operation.\n",
      "  duplicates_to_add = pd.concat([duplicates_to_add, group[group['is_duplicated'] == False]])\n"
     ]
    },
    {
     "name": "stdout",
     "output_type": "stream",
     "text": [
      "68300 can be re-added to the no-duplicated dataframe\n",
      "from the plain dataset which has 231622 entries, 32130 entries have been removed.\n",
      "for beta dataset :\n",
      "size difference is: 32130\n",
      "  199492 information score cleaned: 5.195220860986907\n",
      "  231622 information score dropout: 5.0485964200291855\n",
      "final_beta_df length = 199492\n",
      "length of paired_df: 54338\n"
     ]
    },
    {
     "name": "stderr",
     "output_type": "stream",
     "text": [
      "/home/zeus/miniconda3/envs/cloudspace/lib/python3.10/site-packages/tidytcells/_utils/warnings.py:12: UserWarning: Failed to standardize \"H-2Kb\" for species homosapiens: unrecognised gene name. (best attempted fix: \"HLA-H-2KB\").\n",
      "  warn(warning_message)\n",
      "/home/zeus/miniconda3/envs/cloudspace/lib/python3.10/site-packages/tidytcells/_utils/warnings.py:12: UserWarning: Failed to standardize \"HLA-A*24:01\" for species homosapiens: nonexistent allele for recognised gene.\n",
      "  warn(warning_message)\n",
      "/home/zeus/miniconda3/envs/cloudspace/lib/python3.10/site-packages/tidytcells/_utils/warnings.py:12: UserWarning: Failed to standardize \"HLA-A*08:01\" for species homosapiens: nonexistent allele for recognised gene.\n",
      "  warn(warning_message)\n",
      "/home/zeus/miniconda3/envs/cloudspace/lib/python3.10/site-packages/tidytcells/_utils/warnings.py:12: UserWarning: Failed to standardize \"HLA-B*12\" for species homosapiens: nonexistent allele for recognised gene.\n",
      "  warn(warning_message)\n",
      "/home/zeus/miniconda3/envs/cloudspace/lib/python3.10/site-packages/tidytcells/_utils/warnings.py:12: UserWarning: Failed to standardize \"HLA class I\" for species homosapiens: unrecognised gene name. (best attempted fix: \"HLA-HLACLASSI\").\n",
      "  warn(warning_message)\n",
      "/home/zeus/miniconda3/envs/cloudspace/lib/python3.10/site-packages/tidytcells/_utils/warnings.py:12: UserWarning: Failed to standardize \"TRAV1-4\" for species homosapiens: unrecognised gene name.\n",
      "  warn(warning_message)\n",
      "/home/zeus/miniconda3/envs/cloudspace/lib/python3.10/site-packages/tidytcells/_utils/warnings.py:12: UserWarning: Failed to standardize \"TRAV2-2\" for species homosapiens: unrecognised gene name.\n",
      "  warn(warning_message)\n",
      "/home/zeus/miniconda3/envs/cloudspace/lib/python3.10/site-packages/tidytcells/_utils/warnings.py:12: UserWarning: Failed to standardize \"TRAV251\" for species homosapiens: unrecognised gene name.\n",
      "  warn(warning_message)\n",
      "/home/zeus/miniconda3/envs/cloudspace/lib/python3.10/site-packages/tidytcells/_utils/warnings.py:12: UserWarning: Failed to standardize \"TRAV21-2\" for species homosapiens: unrecognised gene name.\n",
      "  warn(warning_message)\n",
      "/home/zeus/miniconda3/envs/cloudspace/lib/python3.10/site-packages/tidytcells/_utils/warnings.py:12: UserWarning: Failed to standardize \"TRDAV1*01\" for species homosapiens: unrecognised gene name.\n",
      "  warn(warning_message)\n",
      "/home/zeus/miniconda3/envs/cloudspace/lib/python3.10/site-packages/tidytcells/_utils/warnings.py:12: UserWarning: Failed to standardize \"TRA21-01\" for species homosapiens: unrecognised gene name. (best attempted fix: \"TRA21-1\").\n",
      "  warn(warning_message)\n",
      "/home/zeus/miniconda3/envs/cloudspace/lib/python3.10/site-packages/tidytcells/_utils/warnings.py:12: UserWarning: Failed to standardize \"TRAV19-*01\" for species homosapiens: unrecognised gene name.\n",
      "  warn(warning_message)\n",
      "/home/zeus/miniconda3/envs/cloudspace/lib/python3.10/site-packages/tidytcells/_utils/warnings.py:12: UserWarning: Failed to standardize \"TCRAV1-4\" for species homosapiens: unrecognised gene name. (best attempted fix: \"TRAV1-4\").\n",
      "  warn(warning_message)\n",
      "/home/zeus/miniconda3/envs/cloudspace/lib/python3.10/site-packages/tidytcells/_utils/warnings.py:12: UserWarning: Failed to standardize \"TCRAV13/1*02 (F)\" for species homosapiens: unrecognised gene name. (best attempted fix: \"TRAV13/DV1*02\").\n",
      "  warn(warning_message)\n",
      "/home/zeus/miniconda3/envs/cloudspace/lib/python3.10/site-packages/tidytcells/_utils/warnings.py:12: UserWarning: Failed to standardize \"TCRAV2-2\" for species homosapiens: unrecognised gene name. (best attempted fix: \"TRAV2-2\").\n",
      "  warn(warning_message)\n",
      "/home/zeus/miniconda3/envs/cloudspace/lib/python3.10/site-packages/tidytcells/_utils/warnings.py:12: UserWarning: Failed to standardize \"TCRAV9*02\" for species homosapiens: nonexistent allele for recognised gene. (best attempted fix: \"TRAV9-1*02\").\n",
      "  warn(warning_message)\n",
      "/home/zeus/miniconda3/envs/cloudspace/lib/python3.10/site-packages/tidytcells/_utils/warnings.py:12: UserWarning: Failed to standardize \"TRAV12-4\" for species homosapiens: unrecognised gene name.\n",
      "  warn(warning_message)\n",
      "/home/zeus/miniconda3/envs/cloudspace/lib/python3.10/site-packages/tidytcells/_utils/warnings.py:12: UserWarning: Failed to standardize \"TCRAV24*0\" for species homosapiens: nonexistent allele for recognised gene. (best attempted fix: \"TRAV24*00\").\n",
      "  warn(warning_message)\n",
      "/home/zeus/miniconda3/envs/cloudspace/lib/python3.10/site-packages/tidytcells/_utils/warnings.py:12: UserWarning: Failed to standardize \"TCRAV12-4\" for species homosapiens: unrecognised gene name. (best attempted fix: \"TRAV12-4\").\n",
      "  warn(warning_message)\n",
      "/home/zeus/miniconda3/envs/cloudspace/lib/python3.10/site-packages/tidytcells/_utils/warnings.py:12: UserWarning: Failed to standardize \"TRBV9-02\" for species homosapiens: unrecognised gene name. (best attempted fix: \"TRBV9-2\").\n",
      "  warn(warning_message)\n",
      "/home/zeus/miniconda3/envs/cloudspace/lib/python3.10/site-packages/tidytcells/_utils/warnings.py:12: UserWarning: Failed to standardize \"TCRBV13-3\" for species homosapiens: unrecognised gene name. (best attempted fix: \"TRBV13-3\").\n",
      "  warn(warning_message)\n",
      "/home/zeus/miniconda3/envs/cloudspace/lib/python3.10/site-packages/tidytcells/_utils/warnings.py:12: UserWarning: Failed to standardize \"CATSESSGQTYEQYF\" for species homosapiens: unrecognised gene name. (best attempted fix: \"TRCAT-E--GQTYEQYF\").\n",
      "  warn(warning_message)\n",
      "/home/zeus/miniconda3/envs/cloudspace/lib/python3.10/site-packages/tidytcells/_utils/warnings.py:12: UserWarning: Failed to standardize \"TRAJ53*02\" for species homosapiens: nonexistent allele for recognised gene.\n",
      "  warn(warning_message)\n",
      "/home/zeus/miniconda3/envs/cloudspace/lib/python3.10/site-packages/tidytcells/_utils/warnings.py:12: UserWarning: Failed to standardize \"Negative\" for species homosapiens: unrecognised gene name. (best attempted fix: \"TRNEGATIVE\").\n",
      "  warn(warning_message)\n",
      "/home/zeus/miniconda3/envs/cloudspace/lib/python3.10/site-packages/tidytcells/_utils/warnings.py:12: UserWarning: Failed to standardize \"Donor 13\" for species homosapiens: unrecognised gene name. (best attempted fix: \"TRDON/OR13\").\n",
      "  warn(warning_message)\n",
      "/home/zeus/miniconda3/envs/cloudspace/lib/python3.10/site-packages/tidytcells/_utils/warnings.py:12: UserWarning: Failed to standardize \"TRBJ5-6\" for species homosapiens: unrecognised gene name.\n",
      "  warn(warning_message)\n",
      "/home/zeus/miniconda3/envs/cloudspace/lib/python3.10/site-packages/tidytcells/_utils/warnings.py:12: UserWarning: Failed to standardize \"TRBJ5-1\" for species homosapiens: unrecognised gene name.\n",
      "  warn(warning_message)\n",
      "/home/zeus/miniconda3/envs/cloudspace/lib/python3.10/site-packages/tidytcells/_utils/warnings.py:12: UserWarning: Failed to standardize \"TRBJ10-1\" for species homosapiens: unrecognised gene name.\n",
      "  warn(warning_message)\n",
      "/home/zeus/miniconda3/envs/cloudspace/lib/python3.10/site-packages/tidytcells/_utils/warnings.py:12: UserWarning: Failed to standardize \"TRBJ20-1\" for species homosapiens: unrecognised gene name.\n",
      "  warn(warning_message)\n",
      "/home/zeus/miniconda3/envs/cloudspace/lib/python3.10/site-packages/tidytcells/_utils/warnings.py:12: UserWarning: Failed to standardize \"TRBJ38-2*01\" for species homosapiens: unrecognised gene name.\n",
      "  warn(warning_message)\n",
      "/home/zeus/miniconda3/envs/cloudspace/lib/python3.10/site-packages/tidytcells/_utils/warnings.py:12: UserWarning: Failed to standardize \"TRBJ17-1\" for species homosapiens: unrecognised gene name.\n",
      "  warn(warning_message)\n",
      "/home/zeus/miniconda3/envs/cloudspace/lib/python3.10/site-packages/tidytcells/_utils/warnings.py:12: UserWarning: Failed to standardize \"TRBJ19-1\" for species homosapiens: unrecognised gene name.\n",
      "  warn(warning_message)\n",
      "/home/zeus/miniconda3/envs/cloudspace/lib/python3.10/site-packages/tidytcells/aa/_standardize.py:80: UserWarning: Failed to standardize TRAJ37: not a valid amino acid sequence.\n",
      "  warnings.warn(\n",
      "/home/zeus/miniconda3/envs/cloudspace/lib/python3.10/site-packages/tidytcells/aa/_standardize.py:80: UserWarning: Failed to standardize XVXNREDKLVF: not a valid amino acid sequence.\n",
      "  warnings.warn(\n",
      "/home/zeus/miniconda3/envs/cloudspace/lib/python3.10/site-packages/tidytcells/aa/_standardize.py:80: UserWarning: Failed to standardize CVVNNNXDMRF: not a valid amino acid sequence.\n",
      "  warnings.warn(\n",
      "/home/zeus/miniconda3/envs/cloudspace/lib/python3.10/site-packages/tidytcells/aa/_standardize.py:80: UserWarning: Failed to standardize CVVNGMDSSYKLXF: not a valid amino acid sequence.\n",
      "  warnings.warn(\n",
      "/home/zeus/miniconda3/envs/cloudspace/lib/python3.10/site-packages/tidytcells/aa/_standardize.py:80: UserWarning: Failed to standardize VQQDLGY##GGTSYGKLTF: not a valid amino acid sequence.\n",
      "  warnings.warn(\n",
      "/home/zeus/miniconda3/envs/cloudspace/lib/python3.10/site-packages/tidytcells/aa/_standardize.py:80: UserWarning: Failed to standardize VL*#GGGADGLTF: not a valid amino acid sequence.\n",
      "  warnings.warn(\n",
      "/home/zeus/miniconda3/envs/cloudspace/lib/python3.10/site-packages/tidytcells/aa/_standardize.py:80: UserWarning: Failed to standardize CAVED#ISSGSARQLTF: not a valid amino acid sequence.\n",
      "  warnings.warn(\n",
      "/home/zeus/miniconda3/envs/cloudspace/lib/python3.10/site-packages/tidytcells/aa/_standardize.py:80: UserWarning: Failed to standardize CIVRQLGTGAVVTIN*#F: not a valid amino acid sequence.\n",
      "  warnings.warn(\n",
      "/home/zeus/miniconda3/envs/cloudspace/lib/python3.10/site-packages/tidytcells/aa/_standardize.py:80: UserWarning: Failed to standardize CTSVQQAL#GGSQGNLIF: not a valid amino acid sequence.\n",
      "  warnings.warn(\n",
      "/home/zeus/miniconda3/envs/cloudspace/lib/python3.10/site-packages/tidytcells/aa/_standardize.py:80: UserWarning: Failed to standardize CIVSVLG#SGGSNYKLTF: not a valid amino acid sequence.\n",
      "  warnings.warn(\n",
      "/home/zeus/miniconda3/envs/cloudspace/lib/python3.10/site-packages/tidytcells/aa/_standardize.py:80: UserWarning: Failed to standardize XEXXGGXXRXXX##: not a valid amino acid sequence.\n",
      "  warnings.warn(\n",
      "/home/zeus/miniconda3/envs/cloudspace/lib/python3.10/site-packages/tidytcells/aa/_standardize.py:80: UserWarning: Failed to standardize CI##GGADGLTF: not a valid amino acid sequence.\n",
      "  warnings.warn(\n",
      "/home/zeus/miniconda3/envs/cloudspace/lib/python3.10/site-packages/tidytcells/aa/_standardize.py:80: UserWarning: Failed to standardize CTPG#SQGNLIF: not a valid amino acid sequence.\n",
      "  warnings.warn(\n",
      "/home/zeus/miniconda3/envs/cloudspace/lib/python3.10/site-packages/tidytcells/aa/_standardize.py:80: UserWarning: Failed to standardize CIVRV#NSNSGYALNF: not a valid amino acid sequence.\n",
      "  warnings.warn(\n",
      "/home/zeus/miniconda3/envs/cloudspace/lib/python3.10/site-packages/tidytcells/aa/_standardize.py:80: UserWarning: Failed to standardize CAVSA#KAAGNKLTF: not a valid amino acid sequence.\n",
      "  warnings.warn(\n",
      "/home/zeus/miniconda3/envs/cloudspace/lib/python3.10/site-packages/tidytcells/aa/_standardize.py:80: UserWarning: Failed to standardize CAVSAAX#AGNKLTF: not a valid amino acid sequence.\n",
      "  warnings.warn(\n",
      "/home/zeus/miniconda3/envs/cloudspace/lib/python3.10/site-packages/tidytcells/aa/_standardize.py:80: UserWarning: Failed to standardize CAVSGPS#TDSWGKLQF: not a valid amino acid sequence.\n",
      "  warnings.warn(\n",
      "/home/zeus/miniconda3/envs/cloudspace/lib/python3.10/site-packages/tidytcells/aa/_standardize.py:80: UserWarning: Failed to standardize CAPQTRRLATTVS*#W: not a valid amino acid sequence.\n",
      "  warnings.warn(\n",
      "/home/zeus/miniconda3/envs/cloudspace/lib/python3.10/site-packages/tidytcells/aa/_standardize.py:80: UserWarning: Failed to standardize CAGLGGT#GGSNYKLTF: not a valid amino acid sequence.\n",
      "  warnings.warn(\n",
      "/home/zeus/miniconda3/envs/cloudspace/lib/python3.10/site-packages/tidytcells/aa/_standardize.py:80: UserWarning: Failed to standardize CAVND#NTDKLIF: not a valid amino acid sequence.\n",
      "  warnings.warn(\n",
      "/home/zeus/miniconda3/envs/cloudspace/lib/python3.10/site-packages/tidytcells/aa/_standardize.py:80: UserWarning: Failed to standardize VL*VLPG#ALNF: not a valid amino acid sequence.\n",
      "  warnings.warn(\n",
      "/home/zeus/miniconda3/envs/cloudspace/lib/python3.10/site-packages/tidytcells/aa/_standardize.py:80: UserWarning: Failed to standardize CAIELQAR##: not a valid amino acid sequence.\n",
      "  warnings.warn(\n",
      "/home/zeus/miniconda3/envs/cloudspace/lib/python3.10/site-packages/tidytcells/aa/_standardize.py:80: UserWarning: Failed to standardize VQQAQ#YGGSQGNLIF: not a valid amino acid sequence.\n",
      "  warnings.warn(\n",
      "/home/zeus/miniconda3/envs/cloudspace/lib/python3.10/site-packages/tidytcells/aa/_standardize.py:80: UserWarning: Failed to standardize CAASSWS*#GLTF: not a valid amino acid sequence.\n",
      "  warnings.warn(\n",
      "/home/zeus/miniconda3/envs/cloudspace/lib/python3.10/site-packages/tidytcells/aa/_standardize.py:80: UserWarning: Failed to standardize CAVEDRGEKHXSCL: not a valid amino acid sequence.\n",
      "  warnings.warn(\n",
      "/home/zeus/miniconda3/envs/cloudspace/lib/python3.10/site-packages/tidytcells/aa/_standardize.py:80: UserWarning: Failed to standardize CAVERGL##GSQGNLIF: not a valid amino acid sequence.\n",
      "  warnings.warn(\n",
      "/home/zeus/miniconda3/envs/cloudspace/lib/python3.10/site-packages/tidytcells/aa/_standardize.py:80: UserWarning: Failed to standardize CAVS#SNFGNEKLTF: not a valid amino acid sequence.\n",
      "  warnings.warn(\n",
      "/home/zeus/miniconda3/envs/cloudspace/lib/python3.10/site-packages/tidytcells/aa/_standardize.py:80: UserWarning: Failed to standardize CALPP#YNFNKFYF: not a valid amino acid sequence.\n",
      "  warnings.warn(\n",
      "/home/zeus/miniconda3/envs/cloudspace/lib/python3.10/site-packages/tidytcells/aa/_standardize.py:80: UserWarning: Failed to standardize CAXSGGGSYQLTF: not a valid amino acid sequence.\n",
      "  warnings.warn(\n",
      "/home/zeus/miniconda3/envs/cloudspace/lib/python3.10/site-packages/tidytcells/aa/_standardize.py:80: UserWarning: Failed to standardize CAG#YGNKLVF: not a valid amino acid sequence.\n",
      "  warnings.warn(\n",
      "/home/zeus/miniconda3/envs/cloudspace/lib/python3.10/site-packages/tidytcells/aa/_standardize.py:80: UserWarning: Failed to standardize CIVRVA#SGNTPLVF: not a valid amino acid sequence.\n",
      "  warnings.warn(\n",
      "/home/zeus/miniconda3/envs/cloudspace/lib/python3.10/site-packages/tidytcells/aa/_standardize.py:80: UserWarning: Failed to standardize CIXXL*NDIGENMFLI: not a valid amino acid sequence.\n",
      "  warnings.warn(\n",
      "/home/zeus/miniconda3/envs/cloudspace/lib/python3.10/site-packages/tidytcells/aa/_standardize.py:80: UserWarning: Failed to standardize CISP*SGSSNTGKLIF: not a valid amino acid sequence.\n",
      "  warnings.warn(\n",
      "/home/zeus/miniconda3/envs/cloudspace/lib/python3.10/site-packages/tidytcells/aa/_standardize.py:80: UserWarning: Failed to standardize VQQAG#SNYKLTF: not a valid amino acid sequence.\n",
      "  warnings.warn(\n",
      "/home/zeus/miniconda3/envs/cloudspace/lib/python3.10/site-packages/tidytcells/aa/_standardize.py:80: UserWarning: Failed to standardize CATLCPQ#NKLTF: not a valid amino acid sequence.\n",
      "  warnings.warn(\n",
      "/home/zeus/miniconda3/envs/cloudspace/lib/python3.10/site-packages/tidytcells/aa/_standardize.py:80: UserWarning: Failed to standardize CAASGXGTYKYIF: not a valid amino acid sequence.\n",
      "  warnings.warn(\n",
      "/home/zeus/miniconda3/envs/cloudspace/lib/python3.10/site-packages/tidytcells/aa/_standardize.py:80: UserWarning: Failed to standardize CAXRGGSEKLVF: not a valid amino acid sequence.\n",
      "  warnings.warn(\n",
      "/home/zeus/miniconda3/envs/cloudspace/lib/python3.10/site-packages/tidytcells/aa/_standardize.py:80: UserWarning: Failed to standardize CAVN?PPFGNEKLTF: not a valid amino acid sequence.\n",
      "  warnings.warn(\n",
      "/home/zeus/miniconda3/envs/cloudspace/lib/python3.10/site-packages/tidytcells/aa/_standardize.py:80: UserWarning: Failed to standardize Donor13: not a valid amino acid sequence.\n",
      "  warnings.warn(\n",
      "/home/zeus/miniconda3/envs/cloudspace/lib/python3.10/site-packages/tidytcells/aa/_standardize.py:80: UserWarning: Failed to standardize CASSILGWSEAFX: not a valid amino acid sequence.\n",
      "  warnings.warn(\n",
      "/home/zeus/miniconda3/envs/cloudspace/lib/python3.10/site-packages/tidytcells/aa/_standardize.py:80: UserWarning: Failed to standardize CSARTGDRTEAFX: not a valid amino acid sequence.\n",
      "  warnings.warn(\n",
      "/home/zeus/miniconda3/envs/cloudspace/lib/python3.10/site-packages/tidytcells/aa/_standardize.py:80: UserWarning: Failed to standardize CASSLRTRTDTQYX: not a valid amino acid sequence.\n",
      "  warnings.warn(\n"
     ]
    },
    {
     "name": "stdout",
     "output_type": "stream",
     "text": [
      "The following script removes a lot of rows. They are kept and some of them get added again later\n",
      "distinct entries (all columns, keep=first). 2112 entries removed.\n",
      "removed all duplicates from distinct values (cultivated columns, keep=False). 39857 entries removed.\n",
      "paired removed entries df length: 39857\n",
      "\n",
      "\n"
     ]
    },
    {
     "name": "stderr",
     "output_type": "stream",
     "text": [
      "/tmp/ipykernel_4557/2624603129.py:18: FutureWarning: The behavior of DataFrame concatenation with empty or all-NA entries is deprecated. In a future version, this will no longer exclude empty or all-NA columns when determining the result dtypes. To retain the old behavior, exclude the relevant entries before the concat operation.\n",
      "  duplicates_to_add = pd.concat([duplicates_to_add, group[group['is_duplicated'] == False]])\n"
     ]
    },
    {
     "name": "stdout",
     "output_type": "stream",
     "text": [
      "39841 can be re-added to the no-duplicated dataframe\n",
      "from the plain dataset which has 54295 entries, 2128 entries have been removed.\n",
      "for paired dataset:\n",
      "size difference is: 2128\n",
      "  52167 information score cleaned: 7.210075334981885\n",
      "  54295 information score dropout: 7.243300488074408\n",
      "final_paired_df length: 52167\n"
     ]
    }
   ],
   "source": [
    "# prepare parameters for concatenation\n",
    "custom_dataset_path = f'{pipeline_data_concatenated}/{precision}/'\n",
    "\n",
    "# beta input files\n",
    "vdjdb_beta_read_path = VDJdb_cleaned_beta_output\n",
    "mcpastcr_beta_read_path = McPAS_cleaned_beta_output\n",
    "iedb_beta_read_path = IEDB_cleaned_beta_output\n",
    "# paired input files\n",
    "vdjdb_paired_read_path = VDJdb_cleaned_paired_output\n",
    "mcpastcr_paired_read_path = McPAS_cleaned_paired_output\n",
    "iedb_paired_read_path = IEDB_cleaned_paired_output\n",
    "# output files\n",
    "output_file_beta = 'beta_concatenated.tsv'\n",
    "output_file_paired = 'paired_concatenated.tsv'\n",
    "\n",
    "create_folders_if_not_exists([custom_dataset_path])\n",
    "\n",
    "%run ./data_scripts/concatDatasets.ipynb"
   ]
  },
  {
   "cell_type": "code",
   "execution_count": 20,
   "metadata": {},
   "outputs": [],
   "source": [
    "concatenated_paired = f'{custom_dataset_path}/{output_file_paired}'\n",
    "concatenated_beta = f'{custom_dataset_path}/{output_file_beta}'"
   ]
  },
  {
   "cell_type": "markdown",
   "metadata": {},
   "source": [
    "## Data split\n",
    "The split creates 3 datasets. Train, Validation and Test. "
   ]
  },
  {
   "cell_type": "code",
   "execution_count": 21,
   "metadata": {},
   "outputs": [
    {
     "name": "stdout",
     "output_type": "stream",
     "text": [
      "distinct tcr's: 29339 from 52167\n",
      "unique tcr's: 10084 from 52167\n",
      "unique epitopes: 350 from 52167\n",
      "train data has 42083 entries\n",
      "test data has 10084 entries\n",
      "test data has 0 TPP1 tasks (unseen tcr & seen epitopes).\n",
      "test data has 9536 TPP2 tasks (unseen tcr & seen epitopes).\n",
      "test data has 548 TPP3 tasks (unseen tcr & unseen epitope).\n",
      "the train/test ratio is 0.8066977207813368/0.19330227921866314\n",
      "5567 entries need to be shifted from train to test so the train/test ratio can be 0.7/0.3\n",
      "5567 entries from train will be moved to test (TPP1)\n",
      "df_train size before: 42083\n",
      "number of tpp1 before: 0\n",
      "number of tpp2 before: 9536\n"
     ]
    },
    {
     "name": "stdout",
     "output_type": "stream",
     "text": [
      "df_train size after: 36516\n",
      "number of tpp1 after: 5567\n",
      "number of tpp2 after: 9536\n",
      "1984 entries will be shifted from test to train so the tpp1/tpp2 ratio can be 0.5/0.5\n",
      "1985 entries need to be shifted from train to test so the tpp1/tpp2 ratio can be 0.5/0.5\n",
      "1985 entries from train will be moved to test (TPP1)\n",
      "df_train size before: 38500\n",
      "number of tpp1 before: 5567\n",
      "number of tpp2 before: 7552\n"
     ]
    },
    {
     "name": "stderr",
     "output_type": "stream",
     "text": [
      "/tmp/ipykernel_4557/4063483123.py:19: FutureWarning: The behavior of DataFrame concatenation with empty or all-NA entries is deprecated. In a future version, this will no longer exclude empty or all-NA columns when determining the result dtypes. To retain the old behavior, exclude the relevant entries before the concat operation.\n",
      "  df_train = pd.concat([df_train, rows_to_move], ignore_index=True)\n"
     ]
    },
    {
     "name": "stdout",
     "output_type": "stream",
     "text": [
      "df_train size after: 36515\n",
      "number of tpp1 after: 7552\n",
      "number of tpp2 after: 7552\n",
      "train data has 36515 entries\n",
      "test data has 15652 entries\n",
      "test data has 7552 TPP1 tasks (seen tcr & seen epitopes).\n",
      "test data has 7552 TPP2 tasks (unseen tcr & seen epitopes).\n",
      "test data has 548 TPP3 tasks (unseen tcr & unseen epitope).\n",
      "the train/test ratio is 0.6999635785074856/0.3000364214925144\n",
      "test data has 7826 entries\n",
      "validation data has 7826 entries\n",
      "train data has 36515 entries\n",
      "test data has 3776 TPP1 tasks (seen tcr & seen epitopes).\n",
      "test data has 3969 TPP2 tasks (unseen tcr & seen epitopes).\n",
      "test data has 81 TPP3 tasks (unseen tcr & unseen epitope).\n",
      "the test ratio is 0.8499817892537428/0.1500182107462572\n",
      "the validation ratio is 0.8499817892537428/0.1500182107462572\n"
     ]
    }
   ],
   "source": [
    "# prepare parameters for split of paired dataset\n",
    "input_file = concatenated_paired\n",
    "paired_output_folder = f'{pipeline_data_splitted}/{precision}/paired'\n",
    "validation_file_name = 'validation.tsv'\n",
    "test_file_name = 'test.tsv'\n",
    "train_file_name = 'train.tsv'\n",
    "aimed_test_ratio = 0.3 # this means 30% of the concatenated dataset will be for test and validation (fifty/fifty)\n",
    "\n",
    "create_folders_if_not_exists([paired_output_folder])\n",
    "\n",
    "# do the split\n",
    "%run ./data_scripts/data_preparation/split_paired.ipynb"
   ]
  },
  {
   "cell_type": "code",
   "execution_count": 22,
   "metadata": {},
   "outputs": [
    {
     "name": "stdout",
     "output_type": "stream",
     "text": [
      "distinct tcr's: 152160 from 199492\n",
      "unique tcr's: 126671 from 199492\n",
      "unique epitopes: 413 from 199492\n",
      "train data has 72821 entries\n",
      "test data has 126671 entries\n",
      "test data has 0 TPP1 tasks (unseen tcr & seen epitopes).\n",
      "test data has 125642 TPP2 tasks (unseen tcr & seen epitopes).\n",
      "test data has 1029 TPP3 tasks (unseen tcr & unseen epitope).\n",
      "the train/test ratio is 0.3650321817416238/0.6349678182583762\n",
      "66824 entries will be shifted from test to train so the train/test ratio can be 0.7/0.3\n",
      "29409 entries will be shifted from test to train so the tpp1/tpp2 ratio can be 0.5/0.5\n",
      "29409 entries need to be shifted from train to test so the tpp1/tpp2 ratio can be 0.5/0.5\n"
     ]
    },
    {
     "name": "stdout",
     "output_type": "stream",
     "text": [
      "train data has 139645 entries\n",
      "test data has 59847 entries\n",
      "test data has 29409 TPP1 tasks (seen tcr & seen epitopes).\n",
      "test data has 29409 TPP2 tasks (unseen tcr & seen epitopes).\n",
      "test data has 1029 TPP3 tasks (unseen tcr & unseen epitope).\n",
      "the train/test ratio is 0.7000030076394042/0.2999969923605959\n",
      "test data has 29925 entries\n",
      "validation data has 29922 entries\n",
      "train data has 139645 entries\n",
      "test data has 14705 TPP1 tasks (seen tcr & seen epitopes).\n",
      "test data has 15123 TPP2 tasks (unseen tcr & seen epitopes).\n",
      "test data has 97 TPP3 tasks (unseen tcr & unseen epitope).\n",
      "the test ratio is 0.8499939847211918/0.15000601527880816\n",
      "the validation ratio is 0.8500090229182122/0.14999097708178774\n"
     ]
    }
   ],
   "source": [
    "# prepare parameters for split of beta dataset\n",
    "input_file = concatenated_beta\n",
    "beta_output_folder = f'{pipeline_data_splitted}/{precision}/beta'\n",
    "aimed_test_ratio = 0.3 # this means 30% of the concatenated dataset will be for test and validation (fifty/fifty)\n",
    "\n",
    "create_folders_if_not_exists([beta_output_folder])\n",
    "\n",
    "# do the split\n",
    "%run ./data_scripts/data_preparation/split_beta.ipynb"
   ]
  },
  {
   "cell_type": "markdown",
   "metadata": {},
   "source": [
    "## Negative Data"
   ]
  },
  {
   "cell_type": "code",
   "execution_count": 23,
   "metadata": {},
   "outputs": [
    {
     "name": "stdout",
     "output_type": "stream",
     "text": [
      "Using device: cuda:0\n",
      "Loading: Rostlab/prot_t5_xl_half_uniref50-enc\n"
     ]
    }
   ],
   "source": [
    "# prepare parameters for paired dataset\n",
    "read_path_train = f'{paired_output_folder}/{train_file_name}'\n",
    "read_path_test = f'{paired_output_folder}/{test_file_name}'\n",
    "read_path_validation = f'{paired_output_folder}/{validation_file_name}'\n",
    "temp_path = f'{pipeline_data_temp_bucket}/negative_samples/paired/'\n",
    "output_path = paired_output_folder  # we are not interested in the positive only data so we override them with positive/negative dataset\n",
    "train_output_name = train_file_name\n",
    "validation_output_name = validation_file_name\n",
    "test_output_name = test_file_name\n",
    "\n",
    "create_folders_if_not_exists([temp_path])\n",
    "\n",
    "%run ./data_scripts/negative_samples/negative_samples_paired.ipynb"
   ]
  },
  {
   "cell_type": "code",
   "execution_count": 24,
   "metadata": {},
   "outputs": [
    {
     "name": "stderr",
     "output_type": "stream",
     "text": [
      "/tmp/ipykernel_4557/340240480.py:28: DtypeWarning: Columns (6) have mixed types. Specify dtype option on import or set low_memory=False.\n",
      "  beta_train_df = pd.read_csv(read_path_train, sep=\"\\t\")\n"
     ]
    },
    {
     "name": "stdout",
     "output_type": "stream",
     "text": [
      "Using device: cuda:0\n",
      "Loading: Rostlab/prot_t5_xl_half_uniref50-enc\n"
     ]
    }
   ],
   "source": [
    "# prepare parameters for beta dataset\n",
    "read_path_train = f'{beta_output_folder}/{train_file_name}'\n",
    "read_path_test = f'{beta_output_folder}/{test_file_name}'\n",
    "read_path_validation = f'{beta_output_folder}/{validation_file_name}'\n",
    "temp_path = f'{pipeline_data_temp_bucket}/negative_samples/beta/'\n",
    "output_path = beta_output_folder  # we are not interested in the positive only data so we override them with positive/negative dataset\n",
    "train_output_name = train_file_name\n",
    "validation_output_name = validation_file_name\n",
    "test_output_name = test_file_name\n",
    "\n",
    "create_folders_if_not_exists([temp_path])\n",
    "\n",
    "%run ./data_scripts/negative_samples/negative_samples_beta.ipynb"
   ]
  },
  {
   "cell_type": "markdown",
   "metadata": {},
   "source": [
    "## Task Classification\n",
    "The classification in the split notebook correct for positive only data. After adding negative data, some classifications might be wrong."
   ]
  },
  {
   "cell_type": "code",
   "execution_count": 25,
   "metadata": {},
   "outputs": [],
   "source": [
    "# do the classification for paired data\n",
    "paired = True\n",
    "train_data_path = f'{paired_output_folder}/{train_file_name}'\n",
    "test_data_path = f'{paired_output_folder}/{test_file_name}'\n",
    "validation_data_path = f'{paired_output_folder}/{validation_file_name}'\n",
    "\n",
    "%run ./data_scripts/data_preparation/classification.ipynb"
   ]
  },
  {
   "cell_type": "code",
   "execution_count": null,
   "metadata": {},
   "outputs": [],
   "source": [
    "# extended classification for paired data\n",
    "test_path = f'{paired_output_folder}/{test_file_name}'\n",
    "train_path = f'{paired_output_folder}/{train_file_name}'\n",
    "validation_path = f'{paired_output_folder}/{validation_file_name}'\n",
    "output_path = f'{paired_output_folder}/test_reclassified_paired_specific.tsv'\n",
    "paired_data_path = paired_output_folder\n",
    "alpha_cdr3_name = 'TRA_CDR3'\n",
    "beta_cdr3_name = 'TRB_CDR3'\n",
    "epitope_name = 'Epitope'\n",
    "task_name = 'task'\n",
    "\n",
    "%run ./data_scripts/data_preparation/paired_reclassification.ipynb"
   ]
  },
  {
   "cell_type": "code",
   "execution_count": 26,
   "metadata": {},
   "outputs": [],
   "source": [
    "# do the classification for beta data\n",
    "paired = False\n",
    "train_data_path = f'{beta_output_folder}/{train_file_name}'\n",
    "test_data_path = f'{beta_output_folder}/{test_file_name}'\n",
    "validation_data_path = f'{beta_output_folder}/{validation_file_name}'\n",
    "\n",
    "%run ./data_scripts/data_preparation/classification.ipynb"
   ]
  },
  {
   "cell_type": "markdown",
   "metadata": {},
   "source": [
    "In the next two cells the classification is checked. If the output says \"Classification is correct\", everything is fine."
   ]
  },
  {
   "cell_type": "code",
   "execution_count": 27,
   "metadata": {},
   "outputs": [
    {
     "name": "stdout",
     "output_type": "stream",
     "text": [
      "train data has 88231 entries\n",
      "test data has 15609 entries\n",
      "test data has 7434 TPP1 tasks (seen tcr & seen epitopes).\n",
      "test data has 7955 TPP2 tasks (unseen tcr & seen epitopes).\n",
      "test data has 145 TPP3 tasks (unseen tcr & unseen epitope).\n",
      "test data has 75 TPP4 tasks (seen tcr & unseen epitope).\n",
      "the train/test ratio is 0.8496822033898305/0.1503177966101695\n",
      "Classification is correct.\n",
      "Correctness summary:\n",
      "is_correct\n",
      "True    15609\n",
      "Name: count, dtype: int64\n"
     ]
    }
   ],
   "source": [
    "# check task classification paired\n",
    "splitted_data_path = paired_output_folder\n",
    "\n",
    "%run ./data_scripts/data_preparation/check_task_classification_paired.ipynb"
   ]
  },
  {
   "cell_type": "code",
   "execution_count": 28,
   "metadata": {},
   "outputs": [
    {
     "name": "stdout",
     "output_type": "stream",
     "text": [
      "train data has 279012 entries\n",
      "test data has 59798 entries\n",
      "test data has 29311 TPP1 tasks (seen tcr & seen epitopes).\n",
      "test data has 30308 TPP2 tasks (unseen tcr & seen epitopes).\n",
      "test data has 132 TPP3 tasks (unseen tcr & unseen epitope).\n",
      "test data has 47 TPP4 tasks (seen tcr & unseen epitope).\n",
      "the train/test ratio is 0.8499727784314857/0.1500272215685143\n",
      "Classification is correct.\n",
      "Correctness summary:\n",
      "is_correct\n",
      "True    59798\n",
      "Name: count, dtype: int64\n"
     ]
    }
   ],
   "source": [
    "# check task classification beta\n",
    "splitted_data_path = beta_output_folder\n",
    "\n",
    "%run ./data_scripts/data_preparation/check_task_classification_beta.ipynb"
   ]
  },
  {
   "cell_type": "markdown",
   "metadata": {},
   "source": [
    "## Upload dataset"
   ]
  },
  {
   "cell_type": "code",
   "execution_count": 29,
   "metadata": {},
   "outputs": [
    {
     "name": "stderr",
     "output_type": "stream",
     "text": [
      "Failed to detect the name of this notebook, you can set it manually with the WANDB_NOTEBOOK_NAME environment variable to enable code saving.\n"
     ]
    },
    {
     "name": "stdout",
     "output_type": "stream",
     "text": [
      "uploading dataset to BA_Project_ZHAW\n"
     ]
    },
    {
     "name": "stderr",
     "output_type": "stream",
     "text": [
      "\u001b[34m\u001b[1mwandb\u001b[0m: Currently logged in as: \u001b[33mgabricyr\u001b[0m (\u001b[33mba-zhaw\u001b[0m). Use \u001b[1m`wandb login --relogin`\u001b[0m to force relogin\n"
     ]
    },
    {
     "data": {
      "text/html": [
       "Tracking run with wandb version 0.17.0"
      ],
      "text/plain": [
       "<IPython.core.display.HTML object>"
      ]
     },
     "metadata": {},
     "output_type": "display_data"
    },
    {
     "data": {
      "text/html": [
       "Run data is saved locally in <code>/teamspace/studios/this_studio/BA_ZHAW/wandb/run-20240510_134752-00nj4dsc</code>"
      ],
      "text/plain": [
       "<IPython.core.display.HTML object>"
      ]
     },
     "metadata": {},
     "output_type": "display_data"
    },
    {
     "data": {
      "text/html": [
       "Syncing run <strong><a href='https://wandb.ai/ba-zhaw/BA_Project_ZHAW/runs/00nj4dsc' target=\"_blank\">polar-energy-191</a></strong> to <a href='https://wandb.ai/ba-zhaw/BA_Project_ZHAW' target=\"_blank\">Weights & Biases</a> (<a href='https://wandb.me/run' target=\"_blank\">docs</a>)<br/>"
      ],
      "text/plain": [
       "<IPython.core.display.HTML object>"
      ]
     },
     "metadata": {},
     "output_type": "display_data"
    },
    {
     "data": {
      "text/html": [
       " View project at <a href='https://wandb.ai/ba-zhaw/BA_Project_ZHAW' target=\"_blank\">https://wandb.ai/ba-zhaw/BA_Project_ZHAW</a>"
      ],
      "text/plain": [
       "<IPython.core.display.HTML object>"
      ]
     },
     "metadata": {},
     "output_type": "display_data"
    },
    {
     "data": {
      "text/html": [
       " View run at <a href='https://wandb.ai/ba-zhaw/BA_Project_ZHAW/runs/00nj4dsc' target=\"_blank\">https://wandb.ai/ba-zhaw/BA_Project_ZHAW/runs/00nj4dsc</a>"
      ],
      "text/plain": [
       "<IPython.core.display.HTML object>"
      ]
     },
     "metadata": {},
     "output_type": "display_data"
    },
    {
     "name": "stderr",
     "output_type": "stream",
     "text": [
      "\u001b[34m\u001b[1mwandb\u001b[0m: Adding directory to artifact (./data/splitted_datasets/allele/paired)... Done. 0.0s\n"
     ]
    },
    {
     "data": {
      "application/vnd.jupyter.widget-view+json": {
       "model_id": "a4315f99bf0e41a2acae005bfbad7a6a",
       "version_major": 2,
       "version_minor": 0
      },
      "text/plain": [
       "VBox(children=(Label(value='9.178 MB of 9.178 MB uploaded\\r'), FloatProgress(value=1.0, max=1.0)))"
      ]
     },
     "metadata": {},
     "output_type": "display_data"
    },
    {
     "data": {
      "text/html": [
       " View run <strong style=\"color:#cdcd00\">polar-energy-191</strong> at: <a href='https://wandb.ai/ba-zhaw/BA_Project_ZHAW/runs/00nj4dsc' target=\"_blank\">https://wandb.ai/ba-zhaw/BA_Project_ZHAW/runs/00nj4dsc</a><br/> View project at: <a href='https://wandb.ai/ba-zhaw/BA_Project_ZHAW' target=\"_blank\">https://wandb.ai/ba-zhaw/BA_Project_ZHAW</a><br/>Synced 6 W&B file(s), 0 media file(s), 3 artifact file(s) and 0 other file(s)"
      ],
      "text/plain": [
       "<IPython.core.display.HTML object>"
      ]
     },
     "metadata": {},
     "output_type": "display_data"
    },
    {
     "data": {
      "text/html": [
       "Find logs at: <code>./wandb/run-20240510_134752-00nj4dsc/logs</code>"
      ],
      "text/plain": [
       "<IPython.core.display.HTML object>"
      ]
     },
     "metadata": {},
     "output_type": "display_data"
    }
   ],
   "source": [
    "from dotenv import load_dotenv, find_dotenv\n",
    "load_dotenv()\n",
    "\n",
    "# upload paired data\n",
    "path_to_data = f'{pipeline_data_splitted}/{precision}/paired'\n",
    "dataset_name = f'paired_{precision}'\n",
    "main_project_name = os.getenv(\"MAIN_PROJECT_NAME\")\n",
    "\n",
    "%run ./data_scripts/upload_datasets.ipynb"
   ]
  },
  {
   "cell_type": "code",
   "execution_count": 30,
   "metadata": {},
   "outputs": [
    {
     "name": "stdout",
     "output_type": "stream",
     "text": [
      "uploading dataset to BA_Project_ZHAW\n"
     ]
    },
    {
     "data": {
      "text/html": [
       "Tracking run with wandb version 0.17.0"
      ],
      "text/plain": [
       "<IPython.core.display.HTML object>"
      ]
     },
     "metadata": {},
     "output_type": "display_data"
    },
    {
     "data": {
      "text/html": [
       "Run data is saved locally in <code>/teamspace/studios/this_studio/BA_ZHAW/wandb/run-20240510_134834-m3mimcql</code>"
      ],
      "text/plain": [
       "<IPython.core.display.HTML object>"
      ]
     },
     "metadata": {},
     "output_type": "display_data"
    },
    {
     "data": {
      "text/html": [
       "Syncing run <strong><a href='https://wandb.ai/ba-zhaw/BA_Project_ZHAW/runs/m3mimcql' target=\"_blank\">dainty-jazz-192</a></strong> to <a href='https://wandb.ai/ba-zhaw/BA_Project_ZHAW' target=\"_blank\">Weights & Biases</a> (<a href='https://wandb.me/run' target=\"_blank\">docs</a>)<br/>"
      ],
      "text/plain": [
       "<IPython.core.display.HTML object>"
      ]
     },
     "metadata": {},
     "output_type": "display_data"
    },
    {
     "data": {
      "text/html": [
       " View project at <a href='https://wandb.ai/ba-zhaw/BA_Project_ZHAW' target=\"_blank\">https://wandb.ai/ba-zhaw/BA_Project_ZHAW</a>"
      ],
      "text/plain": [
       "<IPython.core.display.HTML object>"
      ]
     },
     "metadata": {},
     "output_type": "display_data"
    },
    {
     "data": {
      "text/html": [
       " View run at <a href='https://wandb.ai/ba-zhaw/BA_Project_ZHAW/runs/m3mimcql' target=\"_blank\">https://wandb.ai/ba-zhaw/BA_Project_ZHAW/runs/m3mimcql</a>"
      ],
      "text/plain": [
       "<IPython.core.display.HTML object>"
      ]
     },
     "metadata": {},
     "output_type": "display_data"
    },
    {
     "name": "stderr",
     "output_type": "stream",
     "text": [
      "\u001b[34m\u001b[1mwandb\u001b[0m: Adding directory to artifact (./data/splitted_datasets/allele/beta)... Done. 0.1s\n"
     ]
    },
    {
     "data": {
      "application/vnd.jupyter.widget-view+json": {
       "model_id": "7b56b557a706452aa575de6283cf0601",
       "version_major": 2,
       "version_minor": 0
      },
      "text/plain": [
       "VBox(children=(Label(value='24.688 MB of 24.688 MB uploaded\\r'), FloatProgress(value=1.0, max=1.0)))"
      ]
     },
     "metadata": {},
     "output_type": "display_data"
    },
    {
     "data": {
      "text/html": [
       " View run <strong style=\"color:#cdcd00\">dainty-jazz-192</strong> at: <a href='https://wandb.ai/ba-zhaw/BA_Project_ZHAW/runs/m3mimcql' target=\"_blank\">https://wandb.ai/ba-zhaw/BA_Project_ZHAW/runs/m3mimcql</a><br/> View project at: <a href='https://wandb.ai/ba-zhaw/BA_Project_ZHAW' target=\"_blank\">https://wandb.ai/ba-zhaw/BA_Project_ZHAW</a><br/>Synced 6 W&B file(s), 0 media file(s), 3 artifact file(s) and 0 other file(s)"
      ],
      "text/plain": [
       "<IPython.core.display.HTML object>"
      ]
     },
     "metadata": {},
     "output_type": "display_data"
    },
    {
     "data": {
      "text/html": [
       "Find logs at: <code>./wandb/run-20240510_134834-m3mimcql/logs</code>"
      ],
      "text/plain": [
       "<IPython.core.display.HTML object>"
      ]
     },
     "metadata": {},
     "output_type": "display_data"
    }
   ],
   "source": [
    "# upload beta data\n",
    "path_to_data = f'{pipeline_data_splitted}/{precision}/beta'\n",
    "dataset_name = f'beta_{precision}'\n",
    "\n",
    "%run ./data_scripts/upload_datasets.ipynb"
   ]
  }
 ],
 "metadata": {
  "kernelspec": {
   "display_name": "BA24",
   "language": "python",
   "name": "python3"
  },
  "language_info": {
   "codemirror_mode": {
    "name": "ipython",
    "version": 3
   },
   "file_extension": ".py",
   "mimetype": "text/x-python",
   "name": "python",
   "nbconvert_exporter": "python",
   "pygments_lexer": "ipython3",
   "version": "3.10.14"
  }
 },
 "nbformat": 4,
 "nbformat_minor": 2
}
