{
 "cells": [
  {
   "cell_type": "code",
   "execution_count": null,
   "metadata": {},
   "outputs": [],
   "source": [
    "import wandb\n",
    "import pandas as pd\n",
    "import os\n",
    "\n",
    "wandb.Table.MAX_ARTIFACTS_ROWS = 210000 # default is 200'000\n",
    "datapath = \"../../data/customDatasets/beta_concatenated.tsv\"\n",
    "name = \"beta_concatenated\"\n",
    "seperator = \"\\t\" # \",\" for csv"
   ]
  },
  {
   "cell_type": "code",
   "execution_count": null,
   "metadata": {},
   "outputs": [],
   "source": [
    "os.environ[\"WANDB_NOTEBOOK_NAME\"] = \"artifactCreation.ipynb\"\n",
    "run = wandb.init(project=\"BA_Project_ZHAW\", job_type=\"dataset-creation\")\n",
    "\n",
    "df = pd.read_csv(datapath, sep=seperator)\n",
    "df"
   ]
  },
  {
   "cell_type": "code",
   "execution_count": null,
   "metadata": {},
   "outputs": [],
   "source": [
    "df_table = wandb.Table(dataframe=df)\n",
    "dataset = wandb.Artifact(name, type='dataset')\n",
    "dataset.add(df_table, name)\n",
    "run.log_artifact(dataset)\n",
    "run.finish()"
   ]
  }
 ],
 "metadata": {
  "kernelspec": {
   "display_name": "BA24",
   "language": "python",
   "name": "python3"
  },
  "language_info": {
   "codemirror_mode": {
    "name": "ipython",
    "version": 3
   },
   "file_extension": ".py",
   "mimetype": "text/x-python",
   "name": "python",
   "nbconvert_exporter": "python",
   "pygments_lexer": "ipython3",
   "version": "3.12.2"
  }
 },
 "nbformat": 4,
 "nbformat_minor": 2
}
