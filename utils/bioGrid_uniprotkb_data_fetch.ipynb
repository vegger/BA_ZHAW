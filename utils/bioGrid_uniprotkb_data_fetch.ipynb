{
 "cells": [
  {
   "cell_type": "code",
   "execution_count": null,
   "metadata": {},
   "outputs": [],
   "source": [
    "import pandas as pd\n",
    "import requests\n",
    "\n"
   ]
  },
  {
   "cell_type": "code",
   "execution_count": null,
   "metadata": {},
   "outputs": [],
   "source": [
    "general_protein_df = pd.read_csv(\"../data/UniProt/generalProteinBinding.tsv\", sep=\"\\t\")"
   ]
  },
  {
   "cell_type": "code",
   "execution_count": null,
   "metadata": {},
   "outputs": [],
   "source": [
    "general_protein_df"
   ]
  },
  {
   "cell_type": "code",
   "execution_count": null,
   "metadata": {},
   "outputs": [],
   "source": [
    "num_samples = 15\n",
    "general_protein_df = general_protein_df.sample(n=num_samples)\n",
    "general_protein_df"
   ]
  },
  {
   "cell_type": "code",
   "execution_count": null,
   "metadata": {},
   "outputs": [],
   "source": [
    "ORGANISM_HUMAN_ID = 9606\n",
    "\n",
    "def fetch_uniprot_sequence(gene_symbol):\n",
    "    url = \"https://rest.uniprot.org/uniprotkb/stream\"\n",
    "    params = {\n",
    "        \"query\": f'(gene_exact:\"{gene_symbol}\" AND organism_id:{ORGANISM_HUMAN_ID})',\n",
    "        \"fields\": \"sequence\",\n",
    "        \"format\": \"fasta\",\n",
    "    }\n",
    "\n",
    "    response = requests.get(url, params=params)\n",
    "    \n",
    "    if response.status_code == 200:\n",
    "        fasta_text = response.text\n",
    "        # Split the response into individual FASTA entries\n",
    "        entries = fasta_text.strip().split('>')\n",
    "        entries = [entry for entry in entries if entry]\n",
    "        if entries:\n",
    "            # keep obnly 1. entry\n",
    "            first_entry = entries[0]\n",
    "            lines = first_entry.split(\"\\n\")\n",
    "            # remove header\n",
    "            first_sequence = ''.join(lines[1:])\n",
    "            return first_sequence\n",
    "        else:\n",
    "            return \"No sequences found\"\n",
    "    else:\n",
    "        return f\"Error: {response.status_code}\"\n",
    "\n",
    "'''\n",
    "# for testing\n",
    "gene_symbol = \"MAP2K4\"\n",
    "sequence = fetch_uniprot_sequence(gene_symbol)\n",
    "print(sequence)  \n",
    "'''\n",
    "\n"
   ]
  },
  {
   "cell_type": "code",
   "execution_count": null,
   "metadata": {},
   "outputs": [],
   "source": [
    "proteins = []"
   ]
  },
  {
   "cell_type": "code",
   "execution_count": null,
   "metadata": {},
   "outputs": [],
   "source": [
    "\n",
    "\n",
    "for index, row in general_protein_df.iterrows():\n",
    "    seq1 = fetch_uniprot_sequence(row[\"OFFICIAL_SYMBOL_A\"])\n",
    "    seq2 = fetch_uniprot_sequence(row[\"OFFICIAL_SYMBOL_B\"])\n",
    "    proteins.append((seq1, seq2))\n",
    "\n"
   ]
  },
  {
   "cell_type": "code",
   "execution_count": null,
   "metadata": {},
   "outputs": [],
   "source": [
    "proteins_AA_df = pd.DataFrame(proteins, columns=[\"Protein 1 AA\", \"Protein 2 AA\"])\n"
   ]
  },
  {
   "cell_type": "code",
   "execution_count": null,
   "metadata": {},
   "outputs": [],
   "source": [
    "proteins_AA_df"
   ]
  },
  {
   "cell_type": "code",
   "execution_count": null,
   "metadata": {},
   "outputs": [],
   "source": [
    "to_path = \"../data/GeneralProteinBinding/\"\n",
    "file_name = \"general_proteins.tsv\""
   ]
  },
  {
   "cell_type": "code",
   "execution_count": null,
   "metadata": {},
   "outputs": [],
   "source": [
    "proteins_AA_df.to_csv(to_path+file_name, sep=\"\\n\", index=False)"
   ]
  },
  {
   "cell_type": "code",
   "execution_count": null,
   "metadata": {},
   "outputs": [],
   "source": []
  }
 ],
 "metadata": {
  "kernelspec": {
   "display_name": "BA24",
   "language": "python",
   "name": "python3"
  },
  "language_info": {
   "codemirror_mode": {
    "name": "ipython",
    "version": 3
   },
   "file_extension": ".py",
   "mimetype": "text/x-python",
   "name": "python",
   "nbconvert_exporter": "python",
   "pygments_lexer": "ipython3",
   "version": "3.12.2"
  }
 },
 "nbformat": 4,
 "nbformat_minor": 2
}
