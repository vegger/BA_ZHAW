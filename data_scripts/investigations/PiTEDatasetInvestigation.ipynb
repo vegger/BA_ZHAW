{
 "cells": [
  {
   "cell_type": "code",
   "execution_count": null,
   "metadata": {},
   "outputs": [],
   "source": [
    "import pickle\n",
    "\n",
    "# Replace 'yourfile.pkl' with the path to your .pkl file\n",
    "filename = '../../data/PiTE/tcr_epitope_pairs.pkl'\n",
    "# Open the file in binary read mode\n",
    "with open(filename, 'rb') as file:\n",
    "    # Load the contents of the file\n",
    "    data = pickle.load(file)\n",
    "\n",
    "# Now you can use the data object as needed\n",
    "print(data)\n"
   ]
  }
 ],
 "metadata": {
  "kernelspec": {
   "display_name": "BA24",
   "language": "python",
   "name": "python3"
  },
  "language_info": {
   "codemirror_mode": {
    "name": "ipython",
    "version": 3
   },
   "file_extension": ".py",
   "mimetype": "text/x-python",
   "name": "python",
   "nbconvert_exporter": "python",
   "pygments_lexer": "ipython3",
   "version": "3.12.2"
  }
 },
 "nbformat": 4,
 "nbformat_minor": 2
}
