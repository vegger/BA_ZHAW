{
 "cells": [
  {
   "cell_type": "code",
   "execution_count": null,
   "metadata": {},
   "outputs": [],
   "source": [
    "import numpy as np \n",
    "import pandas as pd\n",
    "# from sklearn.preprocessing import StandardScaler\n",
    "from sklearn.preprocessing import MinMaxScaler\n",
    "import peptides"
   ]
  },
  {
   "cell_type": "code",
   "execution_count": null,
   "metadata": {},
   "outputs": [],
   "source": [
    "def create_dataframe(dictionary): \n",
    "    dataframes_dict = {}\n",
    "    for sequence, values in dictionary.items():\n",
    "        df = pd.DataFrame(data={\"Sequence\": [sequence], **{f\"Value_{i+1}\": [v] for i, v in enumerate(values)}})\n",
    "        dataframes_dict[sequence] = df\n",
    "    \n",
    "    df = pd.concat(dataframes_dict.values(), ignore_index=True)\n",
    "    return df"
   ]
  },
  {
   "cell_type": "code",
   "execution_count": null,
   "metadata": {},
   "outputs": [],
   "source": [
    "def get_scaler(train_df): \n",
    "    sequence_col = train_df[[\"Sequence\"]]\n",
    "    numerical_cols = train_df.drop(columns=[\"Sequence\"])\n",
    "    scaler = MinMaxScaler(feature_range=(-1, 1))\n",
    "    scaler = scaler.fit(numerical_cols.to_numpy())\n",
    "\n",
    "    return scaler"
   ]
  },
  {
   "cell_type": "code",
   "execution_count": null,
   "metadata": {},
   "outputs": [],
   "source": [
    "def scale(df, scaler): \n",
    "    seq_colmn = df[[\"Sequence\"]]\n",
    "    num_colmns = df.drop(columns=[\"Sequence\"])\n",
    "    scaled_num_data = scaler.transform(num_colmns.to_numpy())\n",
    "    scaled_numerical_df = pd.DataFrame(scaled_num_data, columns=num_colmns.columns)\n",
    "    df_scaled = pd.concat([seq_colmn, scaled_numerical_df], axis=1)\n",
    "\n",
    "    return df_scaled"
   ]
  },
  {
   "cell_type": "code",
   "execution_count": null,
   "metadata": {},
   "outputs": [],
   "source": [
    "def dataframe_to_sequence_dict(df):\n",
    "    sequence_dict = {row[\"Sequence\"]: row[1:].values.astype(np.float32) for _, row in df.iterrows()}\n",
    "    return sequence_dict"
   ]
  },
  {
   "cell_type": "code",
   "execution_count": null,
   "metadata": {},
   "outputs": [],
   "source": [
    "if not 'base_path' in locals():\n",
    "  base_path = \"../data/physicoProperties\"\n",
    "\n",
    "if not 'precision' in locals():\n",
    "  precision = \"gene\"\n",
    "\n",
    "if not 'chain' in locals():\n",
    "  chain = \"paired\"\n",
    "\n",
    "print(f\"scale physico for {chain} {precision}\")"
   ]
  },
  {
   "cell_type": "code",
   "execution_count": null,
   "metadata": {},
   "outputs": [],
   "source": [
    "train_epitope_physico = np.load(f\"{base_path}/train_{chain}_epitope_{precision}_physico.npz\", allow_pickle=True)\n",
    "if chain == 'paired':\n",
    "  train_tra_physico = np.load(f\"{base_path}/train_paired_TRA_{precision}_physico.npz\", allow_pickle=True)\n",
    "train_trb_physico = np.load(f\"{base_path}/train_{chain}_TRB_{precision}_physico.npz\", allow_pickle=True)\n",
    "\n",
    "test_epitope_physico = np.load(f\"{base_path}/test_{chain}_epitope_{precision}_physico.npz\", allow_pickle=True)\n",
    "if chain == 'paired':\n",
    "  test_tra_physico = np.load(f\"{base_path}/test_paired_TRA_{precision}_physico.npz\", allow_pickle=True)\n",
    "test_trb_physico = np.load(f\"{base_path}/test_{chain}_TRB_{precision}_physico.npz\", allow_pickle=True)\n",
    "\n",
    "validation_epitope_physico = np.load(f\"{base_path}/validation_{chain}_epitope_{precision}_physico.npz\", allow_pickle=True)\n",
    "if chain == 'paired':\n",
    "  validation_tra_physico = np.load(f\"{base_path}/validation_paired_TRA_{precision}_physico.npz\", allow_pickle=True)\n",
    "validation_trb_physico = np.load(f\"{base_path}/validation_{chain}_TRB_{precision}_physico.npz\", allow_pickle=True)"
   ]
  },
  {
   "cell_type": "code",
   "execution_count": null,
   "metadata": {},
   "outputs": [],
   "source": [
    "train_epitope_physico_df = create_dataframe(train_epitope_physico)\n",
    "if chain == 'paired':\n",
    "  train_tra_physico_df = create_dataframe(train_tra_physico)\n",
    "train_trb_physico_df = create_dataframe(train_trb_physico)\n",
    "\n",
    "test_epitope_physico_df = create_dataframe(test_epitope_physico)\n",
    "if chain == 'paired':\n",
    "  test_tra_physico_df = create_dataframe(test_tra_physico)\n",
    "test_trb_physico_df = create_dataframe(test_trb_physico)\n",
    "\n",
    "validation_epitope_physico_df = create_dataframe(validation_epitope_physico)\n",
    "if chain == 'paired':\n",
    "  validation_tra_physico_df = create_dataframe(validation_tra_physico)\n",
    "validation_trb_physico_df = create_dataframe(validation_trb_physico)\n"
   ]
  },
  {
   "cell_type": "code",
   "execution_count": null,
   "metadata": {},
   "outputs": [],
   "source": [
    "train_epitope_physico_df"
   ]
  },
  {
   "cell_type": "code",
   "execution_count": null,
   "metadata": {},
   "outputs": [],
   "source": [
    "train_trb_physico_df"
   ]
  },
  {
   "cell_type": "code",
   "execution_count": null,
   "metadata": {},
   "outputs": [],
   "source": [
    "epitope_scaler = get_scaler(train_epitope_physico_df)\n",
    "if chain == 'paired':\n",
    "  tra_scaler = get_scaler(train_tra_physico_df)\n",
    "trb_scaler = get_scaler(train_trb_physico_df)\n"
   ]
  },
  {
   "cell_type": "code",
   "execution_count": null,
   "metadata": {},
   "outputs": [],
   "source": [
    "number_of_pyhsico_features = 101\n",
    "assert epitope_scaler.n_features_in_ == number_of_pyhsico_features\n",
    "if chain == 'paired':\n",
    "  assert tra_scaler.n_features_in_ == number_of_pyhsico_features\n",
    "assert trb_scaler.n_features_in_ == number_of_pyhsico_features"
   ]
  },
  {
   "cell_type": "code",
   "execution_count": null,
   "metadata": {},
   "outputs": [],
   "source": [
    "scaled_train_epitope = scale(train_epitope_physico_df, epitope_scaler)\n",
    "scaled_train_epitope"
   ]
  },
  {
   "cell_type": "code",
   "execution_count": null,
   "metadata": {},
   "outputs": [],
   "source": [
    "if chain == 'paired':\n",
    "  scaled_train_tra = scale(train_tra_physico_df, tra_scaler)\n",
    "scaled_train_trb = scale(train_trb_physico_df, trb_scaler)\n",
    "\n",
    "scaled_test_epitope = scale(test_epitope_physico_df, epitope_scaler)\n",
    "if chain == 'paired':\n",
    "  scaled_test_tra = scale(test_tra_physico_df, tra_scaler)\n",
    "scaled_test_trb = scale(test_trb_physico_df, trb_scaler)\n",
    "\n",
    "scaled_validation_epitope = scale(validation_epitope_physico_df, epitope_scaler)\n",
    "if chain == 'paired':\n",
    "  scaled_validation_tra = scale(validation_tra_physico_df, tra_scaler)\n",
    "scaled_validation_trb = scale(validation_trb_physico_df, trb_scaler)"
   ]
  },
  {
   "cell_type": "code",
   "execution_count": null,
   "metadata": {},
   "outputs": [],
   "source": [
    "scaled_validation_trb"
   ]
  },
  {
   "cell_type": "code",
   "execution_count": null,
   "metadata": {},
   "outputs": [],
   "source": [
    "scaled_train_epitope_dict = dataframe_to_sequence_dict(scaled_train_epitope)\n",
    "if chain == 'paired':\n",
    "  scaled_train_tra_dict = dataframe_to_sequence_dict(scaled_train_tra)\n",
    "scaled_train_trb_dict = dataframe_to_sequence_dict(scaled_train_trb)\n",
    "\n",
    "scaled_test_epitope_dict = dataframe_to_sequence_dict(scaled_test_epitope)\n",
    "if chain == 'paired':\n",
    "  scaled_test_tra_dict = dataframe_to_sequence_dict(scaled_test_tra)\n",
    "scaled_test_trb_dict = dataframe_to_sequence_dict(scaled_test_trb)\n",
    "\n",
    "scaled_validation_epitope_dict = dataframe_to_sequence_dict(scaled_validation_epitope)\n",
    "if chain == 'paired':\n",
    "  scaled_validation_tra_dict = dataframe_to_sequence_dict(scaled_validation_tra)\n",
    "scaled_validation_trb_dict = dataframe_to_sequence_dict(scaled_validation_trb)"
   ]
  },
  {
   "cell_type": "code",
   "execution_count": null,
   "metadata": {},
   "outputs": [],
   "source": [
    "scaled_train_epitope_dict"
   ]
  },
  {
   "cell_type": "code",
   "execution_count": null,
   "metadata": {},
   "outputs": [],
   "source": [
    "np.savez(f\"{base_path}/scaled_train_{chain}_epitope_{precision}_physico.npz\", **scaled_train_epitope_dict)\n",
    "if chain == 'paired':\n",
    "  np.savez(f\"{base_path}/scaled_train_paired_TRA_{precision}_physico.npz\", **scaled_train_tra_dict)\n",
    "np.savez(f\"{base_path}/scaled_train_{chain}_TRB_{precision}_physico.npz\", **scaled_train_trb_dict)"
   ]
  },
  {
   "cell_type": "code",
   "execution_count": null,
   "metadata": {},
   "outputs": [],
   "source": [
    "np.savez(f\"{base_path}/scaled_test_{chain}_epitope_{precision}_physico.npz\", **scaled_test_epitope_dict)\n",
    "if chain == 'paired':\n",
    "  np.savez(f\"{base_path}/scaled_test_paired_TRA_{precision}_physico.npz\", **scaled_test_tra_dict)\n",
    "np.savez(f\"{base_path}/scaled_test_{chain}_TRB_{precision}_physico.npz\", **scaled_test_trb_dict)"
   ]
  },
  {
   "cell_type": "code",
   "execution_count": null,
   "metadata": {},
   "outputs": [],
   "source": [
    "np.savez(f\"{base_path}/scaled_validation_{chain}_epitope_{precision}_physico.npz\", **scaled_validation_epitope_dict)\n",
    "if chain == 'paired':\n",
    "  np.savez(f\"{base_path}/scaled_validation_paired_TRA_{precision}_physico.npz\", **scaled_validation_tra_dict)\n",
    "np.savez(f\"{base_path}/scaled_validation_{chain}_TRB_{precision}_physico.npz\", **scaled_validation_trb_dict)"
   ]
  }
 ],
 "metadata": {
  "kernelspec": {
   "display_name": "cloudspace",
   "language": "python",
   "name": "python3"
  },
  "language_info": {
   "codemirror_mode": {
    "name": "ipython",
    "version": 3
   },
   "file_extension": ".py",
   "mimetype": "text/x-python",
   "name": "python",
   "nbconvert_exporter": "python",
   "pygments_lexer": "ipython3",
   "version": "3.12.3"
  }
 },
 "nbformat": 4,
 "nbformat_minor": 2
}
