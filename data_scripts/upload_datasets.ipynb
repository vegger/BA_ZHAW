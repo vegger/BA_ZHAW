{
 "cells": [
  {
   "cell_type": "code",
   "execution_count": null,
   "metadata": {},
   "outputs": [],
   "source": [
    "import wandb\n",
    "import os\n",
    "\n",
    "if not 'precision' in locals():\n",
    "    precision = 'gene'\n",
    "    raise Exception(\"Missing parameter precision.\")\n",
    "\n",
    "if not 'main_project_name' in locals():\n",
    "    main_project_name = 'BA_Project_ZHAW'\n",
    "    raise Exception(\"Missing parameter W&B project name\")\n",
    "\n",
    "if not 'path_to_data' in locals():\n",
    "    path_to_data = '/teamspace/studios/this_studio/BA/paired/negative_samples/gene/'\n",
    "\n",
    "if not 'dataset_name' in locals():\n",
    "    dataset_name = \"Vanilla_Gene\"\n",
    "\n",
    "# alternative name: Vanilla_Allele, Physico_Gene, Physico_Allele\n",
    "print(f\"uploading dataset to {main_project_name}\")\n",
    "run = wandb.init(project=main_project_name, job_type=\"Upload Dataset\", entity=\"ba-zhaw\")\n",
    "artifact = wandb.Artifact(name=dataset_name, type=\"dataset\")\n",
    "artifact.add_dir(path_to_data, name=precision)\n",
    "run.log_artifact(artifact)\n",
    "wandb.finish()\n"
   ]
  }
 ],
 "metadata": {
  "kernelspec": {
   "display_name": "cloudspace",
   "language": "python",
   "name": "python3"
  },
  "language_info": {
   "name": "python",
   "version": "3.10.14"
  }
 },
 "nbformat": 4,
 "nbformat_minor": 2
}
