{
 "cells": [
  {
   "cell_type": "code",
   "execution_count": null,
   "metadata": {},
   "outputs": [],
   "source": [
    "import peptides\n",
    "import Bio.SeqUtils as BioUtils\n",
    "from Bio.Seq import Seq\n",
    "from Bio.SeqUtils.ProtParam import ProteinAnalysis\n",
    "import pandas as pd\n",
    "import numpy as np\n",
    "import matplotlib.pyplot as plt"
   ]
  },
  {
   "cell_type": "markdown",
   "metadata": {},
   "source": [
    "Here examples of peptides/epitopes from VDJdb:\n",
    "\n",
    "- FLKEKGGL\n",
    "- LQPFPQPELPYPQPQ\n",
    "- LLQTGIHVRVSQPSL\n",
    "- EHPTFTSQYRIQGKL\n",
    "\n",
    "[Documentation](https://pypi.org/project/peptides/)"
   ]
  },
  {
   "cell_type": "code",
   "execution_count": null,
   "metadata": {},
   "outputs": [],
   "source": [
    "peptide1_Peptide = peptides.Peptide(\"FLKEKGGL\")\n",
    "peptide2_Peptide = peptides.Peptide(\"LQPFPQPELPYPQPQ\")\n",
    "peptide3_Peptide = peptides.Peptide(\"LLQTGIHVRVSQPSL\")\n",
    "peptide4_Peptide = peptides.Peptide(\"EHPTFTSQYRIQGKL\")\n",
    "\n",
    "list_peptides_Peptide = [peptide1_Peptide, peptide2_Peptide, peptide3_Peptide, peptide4_Peptide]"
   ]
  },
  {
   "cell_type": "code",
   "execution_count": null,
   "metadata": {},
   "outputs": [],
   "source": [
    "peptide1_Biopython = Seq(\"FLKEKGGL\")\n",
    "peptide2_Biopython = Seq(\"LQPFPQPELPYPQPQ\")\n",
    "peptide3_Biopython = Seq(\"LLQTGIHVRVSQPSL\")\n",
    "peptide4_Biopython = Seq(\"EHPTFTSQYRIQGKL\")\n",
    "\n",
    "list_peptides_Biopython = [peptide1_Biopython, peptide2_Biopython, peptide3_Biopython, peptide4_Biopython]"
   ]
  },
  {
   "cell_type": "markdown",
   "metadata": {},
   "source": [
    "[ImRex](https://www.biorxiv.org/content/10.1101/2019.12.18.880146v2.full) used: \n",
    "- mass, \n",
    "- hydrophobicity,\n",
    "- hydrophilicity, \n",
    "- isoelectric point\n",
    "\n",
    "Calcualted w/ [biopython](https://biopython.org/wiki/Download)\n",
    "\n",
    "They then used a so-called \"interaction map\" where they computed the dot-product of "
   ]
  },
  {
   "cell_type": "code",
   "execution_count": null,
   "metadata": {},
   "outputs": [],
   "source": [
    "# Biopython \n",
    "# molecular mass of the amino acid complex\n",
    "for i, peptide in enumerate(list_peptides_Biopython): \n",
    "    print(f\"peptide{i}: {BioUtils.molecular_weight(peptide, \"protein\")}\")"
   ]
  },
  {
   "cell_type": "code",
   "execution_count": null,
   "metadata": {},
   "outputs": [],
   "source": [
    "# Peptides\n",
    "# molecular mass of the amino acid complex\n",
    "for i, peptide in enumerate(list_peptides_Peptide): \n",
    "    print(f\"peptide{i}: {peptide.molecular_weight()}\")"
   ]
  },
  {
   "cell_type": "markdown",
   "metadata": {},
   "source": [
    "**Same result if Biopython or Peptides!**"
   ]
  },
  {
   "cell_type": "code",
   "execution_count": null,
   "metadata": {},
   "outputs": [],
   "source": [
    "# Biopython\n",
    "# Hydrophobicity: if positive => hydrophobic, if negative => hydrophilic\n",
    "for i, peptide in enumerate(list_peptides_Biopython): \n",
    "    print(f\"peptide{i}: {ProteinAnalysis(peptide).gravy()}\")"
   ]
  },
  {
   "cell_type": "code",
   "execution_count": null,
   "metadata": {},
   "outputs": [],
   "source": [
    "# Peptides\n",
    "# Hydrophobicity: if positive => hydrophobic, if negative => hydrophilic\n",
    "for i, peptide in enumerate(list_peptides_Peptide): \n",
    "    print(f\"peptide{i}: {peptide.hydrophobicity()}\")"
   ]
  },
  {
   "cell_type": "markdown",
   "metadata": {},
   "source": [
    "**Same result if Biopython or Peptides!**"
   ]
  },
  {
   "cell_type": "code",
   "execution_count": null,
   "metadata": {},
   "outputs": [],
   "source": [
    "# Biopython\n",
    "# Isoelectric Point\n",
    "for i, peptide in enumerate(list_peptides_Biopython): \n",
    "    print(f\"peptide{i}: {ProteinAnalysis(peptide).isoelectric_point()}\")"
   ]
  },
  {
   "cell_type": "code",
   "execution_count": null,
   "metadata": {},
   "outputs": [],
   "source": [
    "# Peptides\n",
    "# Isoelectric Point\n",
    "for i, peptide in enumerate(list_peptides_Peptide): \n",
    "    print(f\"peptide{i}: {peptide.isoelectric_point()}\")"
   ]
  },
  {
   "cell_type": "markdown",
   "metadata": {},
   "source": [
    "<span style=\"color:red\">**The results are different!!!**</span>"
   ]
  },
  {
   "cell_type": "code",
   "execution_count": null,
   "metadata": {},
   "outputs": [],
   "source": [
    "# Dictionary to hold the peptide dictionaries\n",
    "peptide_dicts = {}\n",
    "\n",
    "# Iterate through each peptide, create a dictionary for each, and populate it with descriptors\n",
    "for i, peptide in enumerate(list_peptides_Peptide):\n",
    "    peptide_dict_name = f\"peptide{i}_dict\"\n",
    "    peptide_dicts[peptide_dict_name] = peptide.descriptors()"
   ]
  },
  {
   "cell_type": "code",
   "execution_count": null,
   "metadata": {},
   "outputs": [],
   "source": [
    "peptide_dicts[\"peptide0_dict\"]"
   ]
  },
  {
   "cell_type": "code",
   "execution_count": null,
   "metadata": {},
   "outputs": [],
   "source": [
    "len(peptide_dicts[\"peptide0_dict\"])"
   ]
  },
  {
   "cell_type": "markdown",
   "metadata": {},
   "source": [
    "------------------------------------------------------------------------------------------------------"
   ]
  },
  {
   "cell_type": "markdown",
   "metadata": {},
   "source": [
    "**ImRex**\n",
    "\n",
    "In the following we try to reproduce the so-claled \"interaction maps\" of the ImRex paper. Therefore, we can use the above gained experience with Biopython, as they implemented their physicochemical properties using the Biopython package.\n",
    "\n",
    "Citate form the paper: \n",
    "\n",
    "\"In our experiments, the interaction map for each CDR3-epitope pair was constructed as follows. First, each sequence in the pair was converted into a vector of physicochemical property values of each amino acid. Next, a matrix was computed that contained the pairwise absolute differences between the elements of the two vectors. One such twodimensional matrix was created for each of the following physicochemical properties: hydrophobicity, hydrophilicity, mass and isoelectric point (29). Every element in the matrix was then scaled between zero and one, based on the minimum and maximum possible values of each property. Next, the matrices were zero-padded on both sides to a dimension of 20 × 11 (CDR3 × epitope).\"\n",
    "\n",
    "For this examples we use data from the VDJdb, stored in our W&B cloud.\n",
    "\n",
    "<span style=\"color:red\">I am unsure about the padding... \"on botch sides is a bit generic => would not make it even more sense to padd the vector instead of the matrix?\"</span>"
   ]
  },
  {
   "cell_type": "code",
   "execution_count": null,
   "metadata": {},
   "outputs": [],
   "source": [
    "epitope1 = Seq(\"LLWNGPMAV\")\n",
    "epitope1_mass = []\n",
    "\n",
    "cdr3_1 = \"FYQEHDGSDSAC\"\n",
    "cdr3_1_mass = []\n",
    "\n",
    "for amino_acid in cdr3_1:\n",
    "    mass = BioUtils.molecular_weight(amino_acid, \"protein\")\n",
    "    cdr3_1_mass.append(mass)\n",
    "\n",
    "print(\"OK\") if len(cdr3_1) == len(cdr3_1_mass) else print(\"ERROR\")\n",
    "print(f\"len of cdr3_mass: {len(cdr3_1_mass)}\")\n",
    "cdr3_1_mass"
   ]
  },
  {
   "cell_type": "code",
   "execution_count": null,
   "metadata": {},
   "outputs": [],
   "source": [
    "for amino_acid in epitope1: \n",
    "    print(amino_acid)\n",
    "    mass = BioUtils.molecular_weight(amino_acid, \"protein\")\n",
    "    epitope1_mass.append(mass)\n",
    "\n",
    "epitope1_mass"
   ]
  },
  {
   "cell_type": "code",
   "execution_count": null,
   "metadata": {},
   "outputs": [],
   "source": [
    "epitope1_mass_np = np.array(epitope1_mass)\n",
    "epitope1_mass_np.T"
   ]
  },
  {
   "cell_type": "code",
   "execution_count": null,
   "metadata": {},
   "outputs": [],
   "source": [
    "cdr3_1_mass_np = np.array(cdr3_1_mass)\n",
    "epitope1_mass_np = np.array(epitope1_mass)\n",
    "\n",
    "difference_matrix = np.abs(cdr3_1_mass_np[:, np.newaxis] - epitope1_mass_np)\n",
    "# print(f\"difference_matrix: \\n{difference_matrix}\")\n",
    "print(f\"difference_matrix.shape: \\n{difference_matrix.shape}\")\n",
    "\n",
    "min_value = np.min(difference_matrix)\n",
    "max_value = np.max(difference_matrix)\n",
    "scaled_difference_matrix = (difference_matrix - min_value) / (max_value - min_value)\n",
    "# print(f\"scaled_difference_matrix: \\n{scaled_difference_matrix}\")\n",
    "print(f\"scaled_difference_matrix.shape: \\n{scaled_difference_matrix.shape}\")\n",
    "\n",
    "# Desired shape\n",
    "desired_shape = (20, 11)\n",
    "\n",
    "# Initialize a new matrix of zeros with the desired shape\n",
    "padded_matrix = np.zeros(desired_shape)\n",
    "\n",
    "# Calculate the number of zeros to add on each side horizontally\n",
    "left_padding = (desired_shape[1] - scaled_difference_matrix.shape[1]) // 2\n",
    "right_padding = desired_shape[1] - scaled_difference_matrix.shape[1] - left_padding\n",
    "\n",
    "# Copy the scaled difference matrix into the center of the new zero matrix\n",
    "padded_matrix[:scaled_difference_matrix.shape[0], left_padding:-right_padding] = scaled_difference_matrix\n",
    "\n",
    "# If the right_padding is 0, the slicing index should not be negative; adjust for that case\n",
    "if right_padding == 0:\n",
    "    padded_matrix[:scaled_difference_matrix.shape[0], left_padding:] = scaled_difference_matrix\n",
    "\n",
    "padded_matrix"
   ]
  },
  {
   "cell_type": "code",
   "execution_count": null,
   "metadata": {},
   "outputs": [],
   "source": [
    "fig, ax = plt.subplots(figsize=(10, 5))\n",
    "interaction_map = padded_matrix  # Replace with your actual data\n",
    "cax = ax.matshow(interaction_map, cmap='viridis')\n",
    "# Add colorbar to interpret the values\n",
    "fig.colorbar(cax)\n",
    "ax.set_xticks(np.arange(len(epitope1)))\n",
    "ax.set_yticks(np.arange(len(cdr3_1)))\n",
    "\n",
    "ax.set_xticklabels(list(epitope1))\n",
    "ax.set_yticklabels(list(cdr3_1))\n",
    "\n",
    "# Rotate the tick labels for the x-axis to display vertically\n",
    "plt.xticks(rotation=90)\n",
    "ax.set_xlabel('Epitope Position')\n",
    "ax.set_ylabel('CDR3 Position')\n",
    "ax.set_title('CDR3-Epitope Interaction Map')\n",
    "plt.show()\n"
   ]
  },
  {
   "cell_type": "markdown",
   "metadata": {},
   "source": [
    "The plot looks like this, beacuse (as I understood) the matrix gets padding \"on both sides\" to a size of 20x11! (see description above for more details!)"
   ]
  },
  {
   "cell_type": "markdown",
   "metadata": {},
   "source": [
    "------------------------------------------------------------------------------------------------------"
   ]
  },
  {
   "cell_type": "markdown",
   "metadata": {},
   "source": [
    "**MATE-Pred**\n",
    "\n",
    "In the following we try to reproduce the physicochemical properties used in the [MATE-Pred paper](https://www.biorxiv.org/content/10.1101/2024.01.07.574567v1.full). They used the peptide package (used above) and represented these descriptors: \n",
    "- BLOSUM indices, \n",
    "- Cruciani properties,\n",
    "- FASGAI vectors,\n",
    "- Kidera factors,\n",
    "- MS-WHIM scores,\n",
    "- PCP descriptors,\n",
    "- ProtFP descriptors,\n",
    "- Sneath vectors,\n",
    "- ST-scales,\n",
    "- T-scales,\n",
    "- VHSE-scales and\n",
    "- Z-scales\n",
    "\n",
    "Futhermore, as these features described global attributes, they included as well these ones: \n",
    "- aliphatic index,\n",
    "- autocorrelation,\n",
    "- autocovariance,\n",
    "- Boman instability index,\n",
    "- charge,\n",
    "- hydrophobic moment α,\n",
    "- hydrophobic moment β,\n",
    "- hydrophobicity,\n",
    "- instability index,\n",
    "- isoelectric point,\n",
    "- mass shift,\n",
    "- molecular weight and\n",
    "- mass over charge ratio\n",
    "\n",
    "The matrix of these combined physicochemical and global properties has a dimension of 88 according to the paper!"
   ]
  },
  {
   "cell_type": "markdown",
   "metadata": {},
   "source": [
    "To get the physicochemical properties we can copy a code cell from above where used the descriptor() from the peptide package which returns all the "
   ]
  },
  {
   "cell_type": "code",
   "execution_count": null,
   "metadata": {},
   "outputs": [],
   "source": [
    "# THIS IS A CDR3 SEQUENCE => CAN I PASS THEM AS INPUT?!\n",
    "# peptide1_MATE_Pred = peptides.Peptide(\"CASSYLPGQGDHYSNQPQHF\")\n",
    "peptide1_MATE_Pred = peptides.Peptide(\"FLKEKGGL\")"
   ]
  },
  {
   "cell_type": "code",
   "execution_count": null,
   "metadata": {},
   "outputs": [],
   "source": [
    "peptides_MATE_Pred = [peptide1_MATE_Pred]\n",
    "peptide_dicts_physico = {}\n",
    "\n",
    "for i, peptide in enumerate(peptides_MATE_Pred):\n",
    "    peptide_dict_name = f\"peptide{i}_MATE_Pred_dict\"\n",
    "    peptide_dicts_physico[peptide_dict_name] = peptide.descriptors()\n",
    "\n",
    "peptide_dicts_physico[\"peptide0_MATE_Pred_dict\"]"
   ]
  },
  {
   "cell_type": "markdown",
   "metadata": {},
   "source": [
    "In the next cell we want to compute the missing global attributes. As far as I consider (Cyril) the peptide package does not provide a convenient way for these global features as they did for the physicochemical properties with the .descriptor()."
   ]
  },
  {
   "cell_type": "code",
   "execution_count": null,
   "metadata": {},
   "outputs": [],
   "source": [
    "# aliphatic index\n",
    "aliphatic_index = peptide1_MATE_Pred.aliphatic_index()\n",
    "print(f\"aliphatic: {aliphatic_index}\")\n",
    "\n",
    "# auto correlation\n",
    "# TODO check if KyteDooLittle is the write parameter for our scenario!\n",
    "table = peptides.tables.HYDROPHOBICITY[\"KyteDoolittle\"]\n",
    "autocorrelation = peptide1_MATE_Pred.auto_correlation(table=table)\n",
    "print(f\"autocorrelation: {autocorrelation}\")\n",
    "\n",
    "# autocovariance\n",
    "autocovariance = peptide1_MATE_Pred.auto_covariance(table=table)\n",
    "print(f\"autocovariance: {autocorrelation}\")\n",
    "\n",
    "# boman index\n",
    "boman_index = peptide1_MATE_Pred.boman()\n",
    "print(f\"boman incex: {boman_index}\")\n",
    "\n",
    "# lehninger charge \n",
    "lehninger_charge = peptide1_MATE_Pred.charge(pKscale=\"Lehninger\")\n",
    "print(f\"lehninger_charge: {lehninger_charge}\")\n",
    "\n",
    "# hydrophobic moment alpha & beta\n",
    "alpha = 100 # if angle = 100° -> hydrophobic moment alpha, according to the doc \n",
    "hydrophobic_moment_alpha = peptide1_MATE_Pred.hydrophobic_moment(angle=alpha)\n",
    "print(f\"hydrophobic_moment_alpha: {hydrophobic_moment_alpha}\")\n",
    "\n",
    "beta = 160\n",
    "hydrophobic_moment_beta = peptide1_MATE_Pred.hydrophobic_moment(angle=beta)\n",
    "print(f\"hydrophobic_moment_beta: {hydrophobic_moment_beta}\")\n",
    "\n",
    "# hydrophobicity\n",
    "# TODO: verify if this scale is the right one for our purpose\n",
    "hydrophobicity = peptide1_MATE_Pred.hydrophobicity(scale=\"KyteDoolittle\")\n",
    "\n",
    "# instability index\n",
    "instability_index = peptide1_MATE_Pred.instability_index()\n",
    "print(f\"instability_index: {instability_index}\")\n",
    "\n",
    "# instability index\n",
    "instability_index = peptide1_MATE_Pred.instability_index()\n",
    "print(f\"instability_index: {instability_index}\")\n",
    "\n",
    "# isoelectric point\n",
    "# TODO: verify if this scale is the right one for our purpose\n",
    "isoelectric_point = peptide1_MATE_Pred.isoelectric_point(pKscale=\"EMBOSS\")\n",
    "print(f\"isoelectric_point: {isoelectric_point}\")\n",
    "\n",
    "# mass shift\n",
    "# TODO: verify if this dict (=silac_13c) is the right one for our purpose\n",
    "mass_shift = peptide1_MATE_Pred.mass_shift(aa_shift=\"silac_13c\")\n",
    "print(f\"mass_shift: {mass_shift}\")\n",
    "\n",
    "# molecular weight\n",
    "# TODO: verify if this average is the right one for our purpose\n",
    "average = \"expasy\"\n",
    "molecular_weight = peptide1_MATE_Pred.molecular_weight(average=average)\n",
    "print(f\"molecular_weight: {molecular_weight}\")\n",
    "\n",
    "# mass over charge ratio\n",
    "# check this with documentation: do not know what parameters we should pass here\n",
    "mass_charge_ratio = peptide1_MATE_Pred.mz()\n",
    "print(f\"mass_charge_ratio: {mass_charge_ratio}\")"
   ]
  },
  {
   "cell_type": "markdown",
   "metadata": {},
   "source": [
    "------------------------------------------------------------------------------------------------------"
   ]
  },
  {
   "cell_type": "markdown",
   "metadata": {},
   "source": [
    "***3D Structure Approach***\n",
    "\n",
    "In the following investiagations about to implement the 3D structure is done."
   ]
  },
  {
   "cell_type": "code",
   "execution_count": null,
   "metadata": {},
   "outputs": [],
   "source": [
    "from transformers import AutoModel, AutoTokenizer\n",
    "import torch"
   ]
  },
  {
   "cell_type": "code",
   "execution_count": null,
   "metadata": {},
   "outputs": [],
   "source": [
    "model_name = \"facebook/esmfold_v1\"\n",
    "tokenizer = AutoTokenizer.from_pretrained(model_name)\n",
    "model = AutoModel.from_pretrained(model_name)"
   ]
  },
  {
   "cell_type": "code",
   "execution_count": null,
   "metadata": {},
   "outputs": [],
   "source": [
    "CDR3_1_Biopython = Seq(\"CASSYLPGQGDHYSNQPQHF\")\n",
    "CDR3_2_Biopython = Seq(\"CASGQVTLPTETQYF\")\n",
    "CDR3_3_Biopython = Seq(\"CSARDFYSTSGRVSAKNIQYF\")\n",
    "CDR3_4_Biopython = Seq(\"CSARAAYIGGAREQYF\")"
   ]
  },
  {
   "cell_type": "code",
   "execution_count": null,
   "metadata": {},
   "outputs": [],
   "source": [
    "sequence_1 = str(peptide1_Biopython)  \n",
    "sequence_2 = str(CDR3_1_Biopython)   \n",
    "\n",
    "tokens_1 = tokenizer(sequence_1, return_tensors=\"pt\")\n",
    "tokens_2 = tokenizer(sequence_2, return_tensors=\"pt\")\n",
    "\n",
    "with torch.no_grad():\n",
    "    outputs_1 = model(**tokens_1)\n",
    "    outputs_2 = model(**tokens_2)\n",
    "\n",
    "embedding_1 = outputs_1.last_hidden_state\n",
    "embedding_2 = outputs_2.last_hidden_state\n"
   ]
  },
  {
   "cell_type": "code",
   "execution_count": null,
   "metadata": {},
   "outputs": [],
   "source": [
    "print(embedding_1.shape)\n",
    "print(embedding_2.shape)"
   ]
  },
  {
   "cell_type": "code",
   "execution_count": null,
   "metadata": {},
   "outputs": [],
   "source": [
    "import torch\n",
    "import matplotlib.pyplot as plt\n",
    "\n",
    "# Assuming embeddings1 has shape [1, 10, 2560] and embeddings2 has shape [1, 22, 2560]\n",
    "# Remove batch dimension\n",
    "embedding_1 = embedding_1.squeeze(0)  # Now shape [10, 2560]\n",
    "embedding_2 = embedding_2.squeeze(0)  # Now shape [22, 2560]\n",
    "\n",
    "# Compute the dot product contact map\n",
    "# We transpose embeddings2 to align the feature dimensions for matrix multiplication\n",
    "contact_map = torch.matmul(embedding_1, embedding_2.T)\n",
    "\n",
    "# Convert the contact map to a NumPy array for plotting\n",
    "contact_map = contact_map.cpu().numpy()\n",
    "\n",
    "# Plot the contact map\n",
    "plt.figure(figsize=(8, 6))\n",
    "plt.imshow(contact_map, cmap='viridis', interpolation='nearest')\n",
    "plt.xlabel('Sequence 1 Tokens')\n",
    "plt.ylabel('Sequence 2 Tokens')\n",
    "plt.title('Dot Product Contact Map')\n",
    "plt.colorbar()\n",
    "plt.show()\n"
   ]
  },
  {
   "cell_type": "markdown",
   "metadata": {},
   "source": [
    "looks a bit weird... paper mentions this: \n",
    "\"We padded the C-maps of small sized epitopes with 0’s, i.e., no-contacts. Finally, given that the C-maps are distance matrices and symmetric, the upper triangular is enough to keep all information, which for an AA sequence of size 𝓁 = 22, resulted in a 𝓁(𝓁 + 1)/2 = 253-long numeric vector.\""
   ]
  },
  {
   "cell_type": "code",
   "execution_count": null,
   "metadata": {},
   "outputs": [],
   "source": [
    "tokens = tokenizer(str(peptide2_Biopython), return_tensors=\"pt\")\n",
    "tokens"
   ]
  },
  {
   "cell_type": "markdown",
   "metadata": {},
   "source": [
    "Tokenizer is doing for each char a sperate token. This is what we want!\n",
    "<span style=\"color:red\">**ATTENTION:**</span> the amount of tokens is always: number tokens = number chars + 2, this because Start-of-Sequence Token and End-of-Sequence Token"
   ]
  }
 ],
 "metadata": {
  "kernelspec": {
   "display_name": "BA24",
   "language": "python",
   "name": "python3"
  },
  "language_info": {
   "codemirror_mode": {
    "name": "ipython",
    "version": 3
   },
   "file_extension": ".py",
   "mimetype": "text/x-python",
   "name": "python",
   "nbconvert_exporter": "python",
   "pygments_lexer": "ipython3",
   "version": "3.12.2"
  }
 },
 "nbformat": 4,
 "nbformat_minor": 2
}
