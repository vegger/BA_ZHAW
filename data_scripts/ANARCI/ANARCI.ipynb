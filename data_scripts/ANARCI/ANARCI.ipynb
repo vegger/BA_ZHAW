{
 "cells": [
  {
   "cell_type": "markdown",
   "metadata": {},
   "source": [
    "# This Jupyter Notebook is about using ANARCI\n",
    "[text](https://github.com/oxpig/ANARCI/tree/master)"
   ]
  },
  {
   "cell_type": "markdown",
   "metadata": {},
   "source": [
    "First wee need to get the data. Only TRA_aa and TRB_aa works (only amino acids right?)."
   ]
  },
  {
   "cell_type": "code",
   "execution_count": null,
   "metadata": {},
   "outputs": [],
   "source": [
    "import pandas as pd\n",
    "\n",
    "# Load your data\n",
    "df_TRA = pd.read_csv('../../data/ANARCI/inputData/ANARCI_TRA_aa.csv')\n",
    "df_TRB = pd.read_csv('../../data/ANARCI/inputData/ANARCI_TRB_aa.csv')"
   ]
  },
  {
   "cell_type": "code",
   "execution_count": null,
   "metadata": {},
   "outputs": [],
   "source": [
    "def createFASTA(data: pd.DataFrame, identifier, outputFilename):\n",
    "    with open(outputFilename, 'x') as f:\n",
    "      for index, row in data.iterrows():\n",
    "        sequence = row[identifier]\n",
    "        sequenceId = index\n",
    "        f.write(f\">seq{sequenceId}\\n{sequence}\\n\")\n",
    "\n",
    "identifier = 'TRA_aa' # that's the row name of the identifier\n",
    "fastaFile = f\"../../data/ANARCI/fasta/ANARCI_{identifier}.fasta\"\n",
    "createFASTA(df_TRA, identifier, fastaFile)"
   ]
  },
  {
   "cell_type": "markdown",
   "metadata": {},
   "source": [
    "No we can give the created FASTA file to ANARCI to let it breed."
   ]
  },
  {
   "cell_type": "code",
   "execution_count": null,
   "metadata": {},
   "outputs": [],
   "source": [
    "import subprocess\n",
    "\n",
    "# Path to your input file\n",
    "inputFile = fastaFile\n",
    "outputFile = f\"../../data/ANARCI/outputData/ANARCI_RESULT_{identifier}.anarci\"\n",
    "# Command to run ANARCI\n",
    "# If ANARCI is not in your PATH, you might need to specify the full path to the ANARCI command\n",
    "command = [\"ANARCI\", \"-i\", inputFile, \"-o\", outputFile, \"-ht\", f\"./../../data/ANARCI/outputData/ANARCI_hit_tables_{identifier}.txt\"] # use -p (number of paralell process) to let it run in parallel. use --csv to create csv for every chain type\n",
    "\n",
    "# Execute the command\n",
    "result = subprocess.run(command, capture_output=True, text=True)"
   ]
  },
  {
   "cell_type": "markdown",
   "metadata": {},
   "source": [
    "You can find the results in the data folder (BA_ZHAW/data/ANARCI/outputData)"
   ]
  }
 ],
 "metadata": {
  "kernelspec": {
   "display_name": "BA24",
   "language": "python",
   "name": "python3"
  },
  "language_info": {
   "codemirror_mode": {
    "name": "ipython",
    "version": 3
   },
   "file_extension": ".py",
   "mimetype": "text/x-python",
   "name": "python",
   "nbconvert_exporter": "python",
   "pygments_lexer": "ipython3",
   "version": "3.12.2"
  }
 },
 "nbformat": 4,
 "nbformat_minor": 2
}
