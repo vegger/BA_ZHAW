{
 "cells": [
  {
   "cell_type": "code",
   "execution_count": null,
   "metadata": {},
   "outputs": [],
   "source": [
    "import wandb\n",
    "import pandas as pd\n",
    "from dotenv import load_dotenv\n",
    "import os\n",
    "import numpy as np\n",
    "\n",
    "load_dotenv()\n",
    "PROJECT_NAME = os.getenv(\"MAIN_PROJECT_NAME\")\n",
    "MCPAS_TCR = os.getenv(\"MCPAS_TCR_ARTIFACT\")\n",
    "#wandb.init(project=PROJECT_NAME, job_type=\"fit-data_mcpastcr\")\n",
    "\n",
    "\n",
    "mcpastcr_artifact = wandb.use_artifact(f\"{MCPAS_TCR}:latest\")\n",
    "mcpastcr_table = mcpastcr_artifact.get(f\"{MCPAS_TCR}_table.table.json\")\n",
    "mcpastcr_artifact_dir = mcpastcr_artifact.download()\n",
    "mcpastcr_df = pd.DataFrame(data=mcpastcr_table.data, columns=mcpastcr_table.columns)\n",
    "mcpastcr_df[\"MHC\"].to_csv(\"McPas_MHC.csv\")\n",
    "\n"
   ]
  },
  {
   "cell_type": "code",
   "execution_count": null,
   "metadata": {},
   "outputs": [],
   "source": [
    "df_iedb_plain_I = pd.read_csv(\"../../data/IEDB/plain_data/MHCI_IEDB_paired_export.csv\")\n",
    "df_iedb_plain_II = pd.read_csv(\"../../data/IEDB/plain_data/MHCII_IEDB_paired_export.csv\")\n",
    "\n",
    "df_iedb_plain_I[\"Assay - MHC Allele Names\"].to_csv(\"IEDB_MHC_I.csv\")\n",
    "df_iedb_plain_II[\"Assay - MHC Allele Names\"].to_csv(\"IEDB_MHC_II.csv\")"
   ]
  },
  {
   "cell_type": "code",
   "execution_count": null,
   "metadata": {},
   "outputs": [],
   "source": []
  }
 ],
 "metadata": {
  "kernelspec": {
   "display_name": "BA24",
   "language": "python",
   "name": "python3"
  },
  "language_info": {
   "codemirror_mode": {
    "name": "ipython",
    "version": 3
   },
   "file_extension": ".py",
   "mimetype": "text/x-python",
   "name": "python",
   "nbconvert_exporter": "python",
   "pygments_lexer": "ipython3",
   "version": "3.12.2"
  }
 },
 "nbformat": 4,
 "nbformat_minor": 2
}
