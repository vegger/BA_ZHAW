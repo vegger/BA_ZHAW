{
 "cells": [
  {
   "cell_type": "code",
   "execution_count": null,
   "metadata": {},
   "outputs": [],
   "source": [
    "import pandas as pd\n",
    "\n",
    "if not 'precision' in locals():\n",
    "  precision = 'gene'\n",
    "\n",
    "if not 'splitted_data_path' in locals():\n",
    "  splitted_data_path = f\"../../data/splitted_data/{precision}/beta\"\n",
    "\n",
    "if not 'train_file_name' in locals():\n",
    "  train_file_name = 'train.tsv'\n",
    "\n",
    "if not 'test_file_name' in locals():\n",
    "  test_file_name = 'test.tsv'\n",
    "\n",
    "if not 'validation_file_name' in locals():\n",
    "  validation_file_name = 'validation.tsv'\n",
    "\n",
    "df_train = pd.read_csv(f\"{splitted_data_path}/{train_file_name}\", sep=\"\\t\")\n",
    "df_test = pd.read_csv(f\"{splitted_data_path}/{test_file_name}\", sep=\"\\t\")\n",
    "df_validate = pd.read_csv(f\"{splitted_data_path}/{validation_file_name}\", sep=\"\\t\")\n",
    "df_train = pd.concat([df_train, df_validate]) # epitopes and cdr3 are seen if in validate or train. naming not perfect"
   ]
  },
  {
   "cell_type": "code",
   "execution_count": null,
   "metadata": {},
   "outputs": [],
   "source": [
    "# Create sets for quick lookup\n",
    "epitopes_in_train = set(df_train['Epitope'])\n",
    "trb_cdr3_in_train = set(df_train['TRB_CDR3'])"
   ]
  },
  {
   "cell_type": "code",
   "execution_count": null,
   "metadata": {},
   "outputs": [],
   "source": [
    "# Function to verify each row\n",
    "def verify_task(row):\n",
    "    epitope_exists = row['Epitope'] in epitopes_in_train\n",
    "    trb_cdr3_exists = row['TRB_CDR3'] in trb_cdr3_in_train\n",
    "    \n",
    "    if epitope_exists and trb_cdr3_exists:\n",
    "        return 'TPP1' == row['task']\n",
    "    elif epitope_exists and not trb_cdr3_exists:\n",
    "        return 'TPP2' == row['task']\n",
    "    elif not epitope_exists and not trb_cdr3_exists:\n",
    "        return 'TPP3' == row['task']\n",
    "    elif not epitope_exists and trb_cdr3_exists:\n",
    "        return 'TPP4' == row['task']\n",
    "    return False  # This handles unexpected cases\n",
    "\n",
    "# Apply the verification function\n",
    "df_test['is_correct'] = df_test.apply(verify_task, axis=1)"
   ]
  },
  {
   "cell_type": "code",
   "execution_count": null,
   "metadata": {},
   "outputs": [],
   "source": [
    "number_of_TPP1 = (df_test['task'] == 'TPP1').sum()\n",
    "number_of_TPP2 = (df_test['task'] == 'TPP2').sum()\n",
    "number_of_TPP3 = (df_test['task'] == 'TPP3').sum()\n",
    "number_of_TPP4 = (df_test['task'] == 'TPP4').sum()\n",
    "test_ratio = len(df_test)/(len(df_test) + len(df_train))\n",
    "\n",
    "print(f\"train data has {len(df_train)-len(df_validate)} entries\")\n",
    "print(f\"test data has {len(df_test)} entries\")\n",
    "print(f\"test data has {number_of_TPP1} TPP1 tasks (seen tcr & seen epitopes).\")\n",
    "print(f\"test data has {number_of_TPP2} TPP2 tasks (unseen tcr & seen epitopes).\")\n",
    "print(f\"test data has {number_of_TPP3} TPP3 tasks (unseen tcr & unseen epitope).\")\n",
    "print(f\"test data has {number_of_TPP4} TPP4 tasks (seen tcr & unseen epitope).\")\n",
    "print(f\"the train/test ratio is {(1-test_ratio)}/{test_ratio}\")"
   ]
  },
  {
   "cell_type": "code",
   "execution_count": null,
   "metadata": {},
   "outputs": [],
   "source": [
    "# Check overall correctness\n",
    "correctness_summary = df_test['is_correct'].value_counts()\n",
    "\n",
    "# Optionally, identify rows with incorrect task settings\n",
    "incorrect_rows = df_test[df_test['is_correct'] == False]\n",
    "if len(incorrect_rows) > 0:\n",
    "  print(\"Incorrectly set tasks:\")\n",
    "  print(incorrect_rows[['Epitope', 'TRB_CDR3', 'task']])\n",
    "else:\n",
    "  print(\"Classification is correct.\")\n",
    "\n",
    "print(\"Correctness summary:\")\n",
    "print(correctness_summary)"
   ]
  }
 ],
 "metadata": {
  "kernelspec": {
   "display_name": "BA24",
   "language": "python",
   "name": "python3"
  },
  "language_info": {
   "codemirror_mode": {
    "name": "ipython",
    "version": 3
   },
   "file_extension": ".py",
   "mimetype": "text/x-python",
   "name": "python",
   "nbconvert_exporter": "python",
   "pygments_lexer": "ipython3",
   "version": "3.10.14"
  }
 },
 "nbformat": 4,
 "nbformat_minor": 2
}
