{
 "cells": [
  {
   "cell_type": "code",
   "execution_count": null,
   "metadata": {},
   "outputs": [],
   "source": [
    "import pandas as pd\n",
    "\n",
    "if not 'paired' in locals():\n",
    "  paired = False\n",
    "  raise Exception(\"missing argument paired (can be true or false)\")\n",
    "\n",
    "if not 'train_data_path' in locals():\n",
    "  train_data_path = \"\"\n",
    "  raise Exception(\"missing argument train_data_path\")\n",
    "\n",
    "if not 'test_data_path' in locals():\n",
    "  test_data_path = \"\"\n",
    "  raise Exception(\"missing argument test_data_path\")\n",
    "\n",
    "if not 'validation_data_path' in locals():\n",
    "  validation_data_path = \"\"\n",
    "  raise Exception(\"missing argument validation_data_path\")"
   ]
  },
  {
   "cell_type": "code",
   "execution_count": null,
   "metadata": {},
   "outputs": [],
   "source": [
    "# Function to verify each row\n",
    "def calculate_task(row, known_epitopes, known_tcr):\n",
    "  if paired:\n",
    "    tcr = row['TRA_CDR3'] + '_' + row['TRB_CDR3']\n",
    "  else:\n",
    "    tcr = row['TRB_CDR3']\n",
    "\n",
    "  epitope_exists = row['Epitope'] in known_epitopes\n",
    "  cdr3_exists = tcr in known_tcr\n",
    "  \n",
    "  if epitope_exists and cdr3_exists:\n",
    "    return 'TPP1'\n",
    "  elif epitope_exists and not cdr3_exists:\n",
    "    return 'TPP2'\n",
    "  elif not epitope_exists and not cdr3_exists:\n",
    "    return 'TPP3'\n",
    "  elif not epitope_exists and cdr3_exists:\n",
    "    return 'TPP4'\n",
    "  raise Exception(\"Something seems wrong\")  # This handles unexpected cases"
   ]
  },
  {
   "cell_type": "code",
   "execution_count": null,
   "metadata": {},
   "outputs": [],
   "source": [
    "df_train = pd.read_csv(train_data_path, sep=\"\\t\")\n",
    "df_test = pd.read_csv(test_data_path, sep=\"\\t\")\n",
    "df_validation = pd.read_csv(validation_data_path, sep=\"\\t\")\n",
    "\n",
    "df_train_val = pd.concat([df_train, df_validation])\n",
    "\n",
    "if paired:\n",
    "  df_train_val[\"tcr_key\"] = df_train_val['TRA_CDR3'].astype(str) + '_' + df_train_val['TRB_CDR3'].astype(str)\n",
    "else:\n",
    "  df_train_val[\"tcr_key\"] = df_train_val['TRB_CDR3']\n",
    "\n",
    "seen_epitopes = set(df_train_val[\"Epitope\"])\n",
    "seen_tcr = set(df_train_val[\"tcr_key\"])\n",
    "df_test[\"task\"] = df_test.apply(lambda x: calculate_task(x, seen_epitopes, seen_tcr), axis=1)"
   ]
  },
  {
   "cell_type": "code",
   "execution_count": null,
   "metadata": {},
   "outputs": [],
   "source": [
    "df_test.to_csv(test_data_path, sep=\"\\t\", index=False)"
   ]
  }
 ],
 "metadata": {
  "kernelspec": {
   "display_name": "BA24",
   "language": "python",
   "name": "python3"
  },
  "language_info": {
   "name": "python",
   "version": "3.10.14"
  }
 },
 "nbformat": 4,
 "nbformat_minor": 2
}
