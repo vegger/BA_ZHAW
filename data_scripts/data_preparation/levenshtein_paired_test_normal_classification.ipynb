{
 "cells": [
  {
   "cell_type": "code",
   "execution_count": 40,
   "metadata": {},
   "outputs": [],
   "source": [
    "import pandas as pd\n",
    "\n",
    "df_paired_allele = pd.read_csv(\"../../data/WnB_Download/paired/allele/test.tsv\", sep=\"\\t\")\n",
    "df_paired_gene = pd.read_csv(\"../../data/WnB_Download/paired/gene/test.tsv\", sep=\"\\t\")\n",
    "\n",
    "df_paired_allele_levenshtein = pd.read_csv(\"../../data/EDA/paired/paired_allele_levenshtein_reclassified.tsv\", sep=\"\\t\")\n",
    "df_paired_gene_levenshtein = pd.read_csv(\"../../data/EDA/paired/paired_gene_levenshtein_reclassified.tsv\", sep=\"\\t\")"
   ]
  },
  {
   "cell_type": "code",
   "execution_count": 41,
   "metadata": {},
   "outputs": [],
   "source": [
    "# Define the columns to match\n",
    "match_columns = [\n",
    "    'TCR_name', 'TRAV', 'TRAJ', 'TRA_CDR3', 'TRBV', 'TRBJ', 'TRB_CDR3',\n",
    "    'TRAC', 'TRBC', 'Epitope', 'MHC', 'Binding'\n",
    "]"
   ]
  },
  {
   "cell_type": "code",
   "execution_count": 42,
   "metadata": {},
   "outputs": [
    {
     "name": "stdout",
     "output_type": "stream",
     "text": [
      "in total 15609 entries. both: 15609\n",
      "Merge is correct\n"
     ]
    }
   ],
   "source": [
    "# Merge the datasets on the specified columns\n",
    "df_merged_allele = df_paired_allele_levenshtein.merge(df_paired_allele, on=match_columns, how='left', indicator=True)\n",
    "print(f\"in total {len(df_merged_allele)} entries. both: {len(df_merged_allele[df_merged_allele[\"_merge\"] == 'both'])}\")\n",
    "if len(df_merged_allele) == len(df_merged_allele[df_merged_allele[\"_merge\"] == 'both']):\n",
    "  print(\"Merge is correct\")\n",
    "\n",
    "if not len(df_merged_allele[df_merged_allele[\"_merge\"] == \"both\"]) == len(df_paired_allele_levenshtein):\n",
    "  raise Exception(\"ERROR\")\n",
    "\n",
    "df_merged_allele.drop(columns=[\"_merge\", ], inplace=True)\n",
    "df_merged_allele.drop(columns=[\"task_x\", ], inplace=True)\n",
    "df_merged_allele[\"task\"] = df_merged_allele[\"task_y\"]\n",
    "df_merged_allele.drop(columns=[\"task_y\", ], inplace=True)\n",
    "\n",
    "if not len(df_paired_allele[df_paired_allele[\"task\"] == \"TPP1\"]) == len(df_merged_allele[df_merged_allele[\"task\"] == \"TPP1\"]):\n",
    "  raise Exception(\"WRONG TPP\")\n",
    "if not len(df_paired_allele[df_paired_allele[\"task\"] == \"TPP2\"]) == len(df_merged_allele[df_merged_allele[\"task\"] == \"TPP2\"]):\n",
    "  raise Exception(\"WRONG TPP\")\n",
    "if not len(df_paired_allele[df_paired_allele[\"task\"] == \"TPP3\"]) == len(df_merged_allele[df_merged_allele[\"task\"] == \"TPP3\"]):\n",
    "  raise Exception(\"WRONG TPP\")"
   ]
  },
  {
   "cell_type": "code",
   "execution_count": 43,
   "metadata": {},
   "outputs": [
    {
     "name": "stdout",
     "output_type": "stream",
     "text": [
      "ALLELE:\n",
      "Each entry has a minimum levenshtein to the seen data. From this values, we take the mean.\n",
      "mean levenshtein distance of TRA TPP2: 1.169956002514142\n",
      "mean levenshtein distance of TRA TPP3: 1.1241379310344828\n",
      "mean levenshtein distance of TRB TPP2: 1.7622878692646136\n",
      "mean levenshtein distance of TRB TPP3: 1.8827586206896552\n"
     ]
    }
   ],
   "source": [
    "print(\"ALLELE:\")\n",
    "print(\"Each entry has a minimum levenshtein to the seen data. From this values, we take the mean.\")\n",
    "df_levenshtein_TPP2 = df_merged_allele[df_merged_allele[\"task\"] == \"TPP2\"]\n",
    "print(f\"mean levenshtein distance of TRA TPP2: {df_levenshtein_TPP2['min_levenshtein_cdr_alpha_to_seen'].mean()}\")\n",
    "\n",
    "df_levenshtein_TPP3 = df_merged_allele[df_merged_allele[\"task\"] == \"TPP3\"]\n",
    "print(f\"mean levenshtein distance of TRA TPP3: {df_levenshtein_TPP3['min_levenshtein_cdr_alpha_to_seen'].mean()}\")\n",
    "\n",
    "df_levenshtein_TPP2 = df_merged_allele[df_merged_allele[\"task\"] == \"TPP2\"]\n",
    "print(f\"mean levenshtein distance of TRB TPP2: {df_levenshtein_TPP2['min_levenshtein_cdr_beta_to_seen'].mean()}\")\n",
    "\n",
    "df_levenshtein_TPP3 = df_merged_allele[df_merged_allele[\"task\"] == \"TPP3\"]\n",
    "print(f\"mean levenshtein distance of TRB TPP3: {df_levenshtein_TPP3['min_levenshtein_cdr_beta_to_seen'].mean()}\")"
   ]
  },
  {
   "cell_type": "code",
   "execution_count": 44,
   "metadata": {},
   "outputs": [],
   "source": [
    "df_merged_allele.to_csv(\"../../data/EDA/paired/paired_allele_levenshtein.tsv\", index=False, sep=\"\\t\")"
   ]
  },
  {
   "cell_type": "code",
   "execution_count": 45,
   "metadata": {},
   "outputs": [
    {
     "name": "stdout",
     "output_type": "stream",
     "text": [
      "in total 14415 entries. both: 14415\n"
     ]
    },
    {
     "name": "stdout",
     "output_type": "stream",
     "text": [
      "Merge is correct\n"
     ]
    }
   ],
   "source": [
    "# Merge the datasets on the specified columns\n",
    "df_merged_gene = df_paired_gene_levenshtein.merge(df_paired_gene, on=match_columns, how='left', indicator=True)\n",
    "print(f\"in total {len(df_merged_gene)} entries. both: {len(df_merged_gene[df_merged_gene[\"_merge\"] == 'both'])}\")\n",
    "if len(df_merged_gene) == len(df_merged_gene[df_merged_gene[\"_merge\"] == 'both']):\n",
    "  print(\"Merge is correct\")\n",
    "\n",
    "if not len(df_merged_gene[df_merged_gene[\"_merge\"] == \"both\"]) == len(df_paired_gene_levenshtein):\n",
    "  raise Exception(\"ERROR\")\n",
    "\n",
    "df_merged_gene.drop(columns=[\"_merge\", ], inplace=True)\n",
    "df_merged_gene.drop(columns=[\"task_x\", ], inplace=True)\n",
    "df_merged_gene[\"task\"] = df_merged_gene[\"task_y\"]\n",
    "df_merged_gene.drop(columns=[\"task_y\", ], inplace=True)\n",
    "\n",
    "if not len(df_paired_gene[df_paired_gene[\"task\"] == \"TPP1\"]) == len(df_merged_gene[df_merged_gene[\"task\"] == \"TPP1\"]):\n",
    "  raise Exception(\"WRONG TPP\")\n",
    "if not len(df_paired_gene[df_paired_gene[\"task\"] == \"TPP2\"]) == len(df_merged_gene[df_merged_gene[\"task\"] == \"TPP2\"]):\n",
    "  raise Exception(\"WRONG TPP\")\n",
    "if not len(df_paired_gene[df_paired_gene[\"task\"] == \"TPP3\"]) == len(df_merged_gene[df_merged_gene[\"task\"] == \"TPP3\"]):\n",
    "  raise Exception(\"WRONG TPP\")"
   ]
  },
  {
   "cell_type": "code",
   "execution_count": 46,
   "metadata": {},
   "outputs": [
    {
     "name": "stdout",
     "output_type": "stream",
     "text": [
      "GENE:\n",
      "Each entry has a minimum levenshtein to the seen data. From this values, we take the mean.\n",
      "mean levenshtein distance of TRA TPP2: 1.1970317297850563\n",
      "mean levenshtein distance of TRA TPP3: 1.3406593406593406\n",
      "mean levenshtein distance of TRB TPP2: 1.829324462640737\n",
      "mean levenshtein distance of TRB TPP3: 2.142857142857143\n"
     ]
    }
   ],
   "source": [
    "print(\"GENE:\")\n",
    "print(\"Each entry has a minimum levenshtein to the seen data. From this values, we take the mean.\")\n",
    "df_levenshtein_TPP2 = df_merged_gene[df_merged_gene[\"task\"] == \"TPP2\"]\n",
    "print(f\"mean levenshtein distance of TRA TPP2: {df_levenshtein_TPP2['min_levenshtein_cdr_alpha_to_seen'].mean()}\")\n",
    "\n",
    "df_levenshtein_TPP3 = df_merged_gene[df_merged_gene[\"task\"] == \"TPP3\"]\n",
    "print(f\"mean levenshtein distance of TRA TPP3: {df_levenshtein_TPP3['min_levenshtein_cdr_alpha_to_seen'].mean()}\")\n",
    "\n",
    "df_levenshtein_TPP2 = df_merged_gene[df_merged_gene[\"task\"] == \"TPP2\"]\n",
    "print(f\"mean levenshtein distance of TRB TPP2: {df_levenshtein_TPP2['min_levenshtein_cdr_beta_to_seen'].mean()}\")\n",
    "\n",
    "df_levenshtein_TPP3 = df_merged_gene[df_merged_gene[\"task\"] == \"TPP3\"]\n",
    "print(f\"mean levenshtein distance of TRB TPP3: {df_levenshtein_TPP3['min_levenshtein_cdr_beta_to_seen'].mean()}\")"
   ]
  },
  {
   "cell_type": "code",
   "execution_count": 47,
   "metadata": {},
   "outputs": [],
   "source": [
    "df_merged_gene.to_csv(\"../../data/EDA/paired/paired_gene_levenshtein.tsv\", index=False, sep=\"\\t\")"
   ]
  },
  {
   "cell_type": "code",
   "execution_count": null,
   "metadata": {},
   "outputs": [],
   "source": []
  }
 ],
 "metadata": {
  "kernelspec": {
   "display_name": "ba-env",
   "language": "python",
   "name": "python3"
  },
  "language_info": {
   "codemirror_mode": {
    "name": "ipython",
    "version": 3
   },
   "file_extension": ".py",
   "mimetype": "text/x-python",
   "name": "python",
   "nbconvert_exporter": "python",
   "pygments_lexer": "ipython3",
   "version": "3.12.2"
  }
 },
 "nbformat": 4,
 "nbformat_minor": 2
}
