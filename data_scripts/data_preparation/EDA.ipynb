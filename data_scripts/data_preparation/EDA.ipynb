{
 "cells": [
  {
   "cell_type": "code",
   "execution_count": null,
   "metadata": {},
   "outputs": [],
   "source": [
    "import pandas as pd\n",
    "\n",
    "df_beta_train = pd.read_csv(\"../../data/splitted_data/beta/train.tsv\", sep='\\t', low_memory=False)\n",
    "df_beta_test = pd.read_csv(\"../../data/splitted_data/beta/test.tsv\", sep='\\t', low_memory=False)\n",
    "df_paired_train = pd.read_csv(\"../../data/splitted_data/paired/train.tsv\", sep='\\t', low_memory=False)\n",
    "df_paired_test = pd.read_csv(\"../../data/splitted_data/paired/test.tsv\", sep='\\t', low_memory=False)\n",
    "\n",
    "df_beta_train = df_beta_train.drop(columns=[\"TCR_name\", \"TRAV\", \"TRAJ\", \"TRA_CDR3\", \"TRAC\", \"TRBC\", \"TRA_CDR3\"]) # not interesting for analyze of beta chain\n",
    "df_beta_test = df_beta_test.drop(columns=[\"TCR_name\", \"TRAV\", \"TRAJ\", \"TRA_CDR3\", \"TRAC\", \"TRBC\", \"TRA_CDR3\"]) # not interesting for analyze of beta chain"
   ]
  },
  {
   "cell_type": "code",
   "execution_count": null,
   "metadata": {},
   "outputs": [],
   "source": [
    "from ydata_profiling import ProfileReport\n",
    "profile = ProfileReport(df_beta_train, title=\"Beta Train - Profiling Report\")\n",
    "profile.to_file(f\"EDA_Output/beta_train.html\")\n",
    "profile = ProfileReport(df_beta_test, title=\"Beta Test - Profiling Report\")\n",
    "profile.to_file(f\"EDA_Output/beta_test.html\")\n",
    "profile = ProfileReport(df_paired_train, title=\"Paired Train - Profiling Report\")\n",
    "profile.to_file(f\"EDA_Output/paired_train.html\")\n",
    "profile = ProfileReport(df_paired_test, title=\"Paired Test - Profiling Report\")\n",
    "profile.to_file(f\"EDA_Output/paired_test.html\")\n"
   ]
  }
 ],
 "metadata": {
  "kernelspec": {
   "display_name": "BA24",
   "language": "python",
   "name": "python3"
  },
  "language_info": {
   "codemirror_mode": {
    "name": "ipython",
    "version": 3
   },
   "file_extension": ".py",
   "mimetype": "text/x-python",
   "name": "python",
   "nbconvert_exporter": "python",
   "pygments_lexer": "ipython3",
   "version": "3.12.2"
  }
 },
 "nbformat": 4,
 "nbformat_minor": 2
}
