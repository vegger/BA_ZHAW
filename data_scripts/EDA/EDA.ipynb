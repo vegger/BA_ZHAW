{
 "cells": [
  {
   "cell_type": "code",
   "execution_count": 1,
   "metadata": {},
   "outputs": [],
   "source": [
    "import pandas as pd\n",
    "\n",
    "df_beta_allele_test = pd.read_csv(\"../../data/WnB_Download/beta/allele/test.tsv\", sep='\\t', low_memory=False)\n",
    "df_beta_gene_test = pd.read_csv(\"../../data/WnB_Download/beta/gene/test.tsv\", sep='\\t', low_memory=False)\n",
    "df_paired_allele_test = pd.read_csv(\"../../data/WnB_Download/paired/allele/test.tsv\", sep='\\t', low_memory=False)\n",
    "df_paired_gene_test = pd.read_csv(\"../../data/WnB_Download/paired/gene/test.tsv\", sep='\\t', low_memory=False)\n",
    "df_paired_allele_test_reclassified = pd.read_csv(\"../../data/WnB_Download/paired/allele/test_reclassified_paired_specific.tsv\", sep='\\t', low_memory=False)\n",
    "df_paired_gene_test_reclassified = pd.read_csv(\"../../data/WnB_Download/paired/gene/test_reclassified_paired_specific.tsv\", sep='\\t', low_memory=False)\n"
   ]
  },
  {
   "cell_type": "code",
   "execution_count": 2,
   "metadata": {},
   "outputs": [],
   "source": [
    "# from ydata_profiling import ProfileReport\n",
    "# profile = ProfileReport(df_beta_train, title=\"Beta Train - Profiling Report\")\n",
    "# profile.to_file(f\"EDA_Output/beta_train.html\")\n",
    "# profile = ProfileReport(df_beta_test, title=\"Beta Test - Profiling Report\")\n",
    "# profile.to_file(f\"EDA_Output/beta_test.html\")\n",
    "# profile = ProfileReport(df_paired_train, title=\"Paired Train - Profiling Report\")\n",
    "# profile.to_file(f\"EDA_Output/paired_train.html\")\n",
    "# profile = ProfileReport(df_paired_test, title=\"Paired Test - Profiling Report\")\n",
    "# profile.to_file(f\"EDA_Output/paired_test.html\")\n"
   ]
  },
  {
   "cell_type": "code",
   "execution_count": 3,
   "metadata": {},
   "outputs": [
    {
     "name": "stdout",
     "output_type": "stream",
     "text": [
      "beta allele\n",
      "TPP1: 29311\n",
      "TPP2: 30308\n",
      "TPP3: 132\n",
      "TPP4: 47\n",
      "\n",
      "\n",
      "beta gene\n",
      "TPP1: 25602\n",
      "TPP2: 27699\n",
      "TPP3: 437\n",
      "TPP4: 120\n",
      "\n",
      "\n",
      "paired allele\n",
      "TPP1: 7434\n",
      "TPP2: 7955\n",
      "TPP3: 145\n",
      "TPP4: 75\n",
      "\n",
      "\n",
      "paired gene\n",
      "TPP1: 5879\n",
      "TPP2: 7816\n",
      "TPP3: 546\n",
      "TPP4: 174\n",
      "\n",
      "\n",
      "paired allele reclassified\n",
      "TPP1: 10949\n",
      "TPP2: 4440\n",
      "TPP3: 100\n",
      "TPP4: 120\n",
      "\n",
      "\n",
      "paired gene reclassified\n",
      "TPP1: 9015\n",
      "TPP2: 4680\n",
      "TPP3: 412\n",
      "TPP4: 308\n",
      "\n",
      "\n"
     ]
    }
   ],
   "source": [
    "def get_tpp_count(name, df):\n",
    "  print(name)\n",
    "  print(f\"TPP1: {len(df[df[\"task\"] == \"TPP1\"])}\")\n",
    "  print(f\"TPP2: {len(df[df[\"task\"] == \"TPP2\"])}\")\n",
    "  print(f\"TPP3: {len(df[df[\"task\"] == \"TPP3\"])}\")\n",
    "  print(f\"TPP4: {len(df[df[\"task\"] == \"TPP4\"])}\")\n",
    "  print()\n",
    "  print()\n",
    "\n",
    "\n",
    "get_tpp_count(\"beta allele\", df_beta_allele_test)\n",
    "get_tpp_count(\"beta gene\", df_beta_gene_test)\n",
    "get_tpp_count(\"paired allele\", df_paired_allele_test)\n",
    "get_tpp_count(\"paired gene\", df_paired_gene_test)\n",
    "get_tpp_count(\"paired allele reclassified\", df_paired_allele_test_reclassified)\n",
    "get_tpp_count(\"paired gene reclassified\", df_paired_gene_test_reclassified)\n"
   ]
  }
 ],
 "metadata": {
  "kernelspec": {
   "display_name": "BA24",
   "language": "python",
   "name": "python3"
  },
  "language_info": {
   "codemirror_mode": {
    "name": "ipython",
    "version": 3
   },
   "file_extension": ".py",
   "mimetype": "text/x-python",
   "name": "python",
   "nbconvert_exporter": "python",
   "pygments_lexer": "ipython3",
   "version": "3.12.2"
  }
 },
 "nbformat": 4,
 "nbformat_minor": 2
}
