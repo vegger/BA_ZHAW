{
 "cells": [
  {
   "cell_type": "code",
   "execution_count": null,
   "metadata": {},
   "outputs": [],
   "source": [
    "import wandb\n",
    "import pandas as pd\n",
    "from dotenv import load_dotenv\n",
    "import os\n",
    "import numpy as np"
   ]
  },
  {
   "cell_type": "code",
   "execution_count": null,
   "metadata": {},
   "outputs": [],
   "source": [
    "if not 'input_file' in locals():\n",
    "  input_file = '../../data/VDJdb/to_WandB/VDJdb_beta_only.tsv'\n",
    "\n",
    "if not 'path_prefix_fitted' in locals():\n",
    "  path_prefix_fitted = \"../../data/VDJdb/fitted_data\"\n",
    "\n",
    "if not 'fitted_file' in locals():\n",
    "  fitted_file = \"vdjdb_fitted_data_beta.tsv\""
   ]
  },
  {
   "cell_type": "code",
   "execution_count": null,
   "metadata": {},
   "outputs": [],
   "source": [
    "vdjdb_beta_df = pd.read_csv(input_file, sep='\\t')\n",
    "vdjdb_beta_df"
   ]
  },
  {
   "cell_type": "code",
   "execution_count": null,
   "metadata": {},
   "outputs": [],
   "source": [
    "vdjdb_beta_df.replace(\"nan\", np.nan, inplace=True)\n",
    "vdjdb_beta_df.rename(columns={\n",
    "    \"complex.id\": \"TCR_name\", \n",
    "    \"V\": \"TRBV\", \n",
    "    \"J\": 'TRBJ', \n",
    "    'CDR3': 'TRB_CDR3'\n",
    "}, inplace=True)\n",
    "# print(vdjdb_beta_df[\"TCR_name\"].to_string())"
   ]
  },
  {
   "cell_type": "code",
   "execution_count": null,
   "metadata": {},
   "outputs": [],
   "source": [
    "vdjdb_beta_df.to_csv(path_prefix_fitted+\"/\"+fitted_file, sep=\"\\t\", index=False)"
   ]
  }
 ],
 "metadata": {
  "kernelspec": {
   "display_name": "BA24",
   "language": "python",
   "name": "python3"
  },
  "language_info": {
   "codemirror_mode": {
    "name": "ipython",
    "version": 3
   },
   "file_extension": ".py",
   "mimetype": "text/x-python",
   "name": "python",
   "nbconvert_exporter": "python",
   "pygments_lexer": "ipython3",
   "version": "3.12.2"
  }
 },
 "nbformat": 4,
 "nbformat_minor": 2
}
