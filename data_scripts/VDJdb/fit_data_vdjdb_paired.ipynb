{
 "cells": [
  {
   "cell_type": "code",
   "execution_count": null,
   "metadata": {},
   "outputs": [],
   "source": [
    "import wandb\n",
    "import pandas as pd\n",
    "from dotenv import load_dotenv\n",
    "import os\n",
    "import numpy as np"
   ]
  },
  {
   "cell_type": "code",
   "execution_count": null,
   "metadata": {},
   "outputs": [],
   "source": [
    "if not 'input_file' in locals():\n",
    "  input_file = '../../data/VDJdb/to_WandB/VDJdb_paired_only.tsv'\n",
    "\n",
    "if not 'path_prefix_fitted' in locals():\n",
    "  path_prefix_fitted = \"../../data/VDJdb/fitted_data\"\n",
    "\n",
    "if not 'fitted_file' in locals():\n",
    "  fitted_file = \"vdjdb_fitted_data_paired.tsv\""
   ]
  },
  {
   "cell_type": "code",
   "execution_count": null,
   "metadata": {},
   "outputs": [],
   "source": [
    "vdjdb_paired_df = pd.read_csv(input_file, sep='\\t')\n",
    "vdjdb_paired_df"
   ]
  },
  {
   "cell_type": "code",
   "execution_count": null,
   "metadata": {},
   "outputs": [],
   "source": [
    "vdjdb_paired_df.replace(\"nan\", np.nan, inplace=True)"
   ]
  },
  {
   "cell_type": "code",
   "execution_count": null,
   "metadata": {},
   "outputs": [],
   "source": [
    "# Splitting the DataFrame into TRB and TRA based on the line transition\n",
    "line_transition = 28120  # Line where information about beta chains termiante\n",
    "vdjdb_TRB_df = vdjdb_paired_df.iloc[:line_transition-1].copy()  # TRB chains information\n",
    "vdjdb_TRA_df = vdjdb_paired_df.iloc[line_transition-1:].copy()  # TRA chains information"
   ]
  },
  {
   "cell_type": "code",
   "execution_count": null,
   "metadata": {},
   "outputs": [],
   "source": [
    "vdjdb_TRB_df.rename(columns={\n",
    "    \"complex.id\": \"TCR_name\", \n",
    "    \"V\": \"TRBV\", \n",
    "    \"J\": 'TRBJ', \n",
    "    'CDR3': 'TRB_CDR3'\n",
    "}, inplace=True)\n",
    "\n",
    "vdjdb_TRA_df.rename(columns={\n",
    "    'complex.id': 'TCR_name', \n",
    "    'V': 'TRAV', \n",
    "    'J': 'TRAJ', \n",
    "    'CDR3': 'TRA_CDR3'\n",
    "}, inplace=True)"
   ]
  },
  {
   "cell_type": "code",
   "execution_count": null,
   "metadata": {},
   "outputs": [],
   "source": [
    "vdjdb_TRB_df"
   ]
  },
  {
   "cell_type": "code",
   "execution_count": null,
   "metadata": {},
   "outputs": [],
   "source": [
    "vdjdb_TRA_df"
   ]
  },
  {
   "cell_type": "code",
   "execution_count": null,
   "metadata": {},
   "outputs": [],
   "source": [
    "vdjdb_paired_one_line_df = pd.merge(vdjdb_TRB_df, vdjdb_TRA_df, on=['TCR_name', \"Species\", \"MHC A\", \"MHC B\", \"MHC class\", \"Epitope\", \"Epitope gene\", \"Epitope species\", \"Score\"])\n",
    "vdjdb_paired_one_line_df.rename(columns={\n",
    "    'Gene_x': 'Gene_TRB',\n",
    "    'Gene_y': 'Gene_TRA',\n",
    "    'Reference_x': 'Reference_TRB',\n",
    "    'Method_x': 'Method_TRB',\n",
    "    'Meta_x': 'Meta_TRB',\n",
    "    'CDR3fix_x': 'CDR3fix_TRB',\n",
    "    #'Score_x': 'Score_TRB',\n",
    "    'Reference_y': 'Reference_TRA',\n",
    "    'Method_y': 'Method_TRA',\n",
    "    'Meta_y': 'Meta_TRA',\n",
    "    'CDR3fix_y': 'CDR3fix_TRA',\n",
    "    #'Score_y': 'Score_TRA',\n",
    "}, inplace=True)\n",
    "vdjdb_paired_one_line_df"
   ]
  },
  {
   "cell_type": "code",
   "execution_count": null,
   "metadata": {},
   "outputs": [],
   "source": [
    "vdjdb_paired_one_line_df.to_csv(path_prefix_fitted+\"/\"+fitted_file, sep=\"\\t\", index=False)"
   ]
  }
 ],
 "metadata": {
  "kernelspec": {
   "display_name": "BA24",
   "language": "python",
   "name": "python3"
  },
  "language_info": {
   "codemirror_mode": {
    "name": "ipython",
    "version": 3
   },
   "file_extension": ".py",
   "mimetype": "text/x-python",
   "name": "python",
   "nbconvert_exporter": "python",
   "pygments_lexer": "ipython3",
   "version": "3.12.2"
  }
 },
 "nbformat": 4,
 "nbformat_minor": 2
}
