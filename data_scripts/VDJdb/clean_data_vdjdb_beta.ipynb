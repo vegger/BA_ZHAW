{
 "cells": [
  {
   "cell_type": "code",
   "execution_count": null,
   "metadata": {},
   "outputs": [],
   "source": [
    "import pandas as pd\n",
    "import numpy as np"
   ]
  },
  {
   "cell_type": "code",
   "execution_count": null,
   "metadata": {},
   "outputs": [],
   "source": [
    "if not 'input_file' in locals():\n",
    "  input_file = '../../data/VDJdb/fitted_data/vdjdb_fitted_data_beta.tsv'\n",
    "\n",
    "if not 'output_file' in locals():\n",
    "  output_file = '../../data/VDJdb/cleaned_data/vdjdb_cleaned_data_beta.tsv'"
   ]
  },
  {
   "cell_type": "code",
   "execution_count": null,
   "metadata": {},
   "outputs": [],
   "source": [
    "vdjdb_fitted_beta_df = pd.read_csv(input_file, sep=\"\\t\")\n",
    "vdjdb_fitted_beta_df"
   ]
  },
  {
   "cell_type": "code",
   "execution_count": null,
   "metadata": {},
   "outputs": [],
   "source": [
    "\n",
    "for new_column in ['TRAV', 'TRAJ', 'TRA_CDR3','TRA_leader', 'TRB_leader', 'TRAC', 'TRBC', 'Linker', \n",
    "                   'Link_order', 'TRA_5_prime_seq', 'TRA_3_prime_seq', 'TRB_5_prime_seq', 'TRB_3_prime_seq']:\n",
    "    vdjdb_fitted_beta_df[new_column] = np.nan \n",
    "\n",
    "template_columns_order = [\n",
    "    'TCR_name', 'TRAV', 'TRAJ', 'TRA_CDR3', 'TRBV', 'TRBJ', 'TRB_CDR3',\n",
    "    'TRAC', 'TRBC', 'TRA_leader', 'TRB_leader', 'Linker', 'Link_order',\n",
    "    'TRA_5_prime_seq', 'TRA_3_prime_seq', 'TRB_5_prime_seq', 'TRB_3_prime_seq'\n",
    "]\n",
    "vdjdb_beta_schema_df = vdjdb_fitted_beta_df[template_columns_order]\n",
    "vdjdb_beta_schema_df"
   ]
  },
  {
   "cell_type": "code",
   "execution_count": null,
   "metadata": {},
   "outputs": [],
   "source": [
    "vdjdb_fitted_beta_df.columns"
   ]
  },
  {
   "cell_type": "code",
   "execution_count": null,
   "metadata": {},
   "outputs": [],
   "source": [
    "vdjdb_beta_cleaned_df = pd.concat([vdjdb_beta_schema_df, vdjdb_fitted_beta_df[\"Epitope\"]], axis=1)\n",
    "vdjdb_beta_cleaned_df.columns"
   ]
  },
  {
   "cell_type": "code",
   "execution_count": null,
   "metadata": {},
   "outputs": [],
   "source": [
    "vdjdb_fitted_beta_df.columns"
   ]
  },
  {
   "cell_type": "code",
   "execution_count": null,
   "metadata": {},
   "outputs": [],
   "source": [
    "vdjdb_beta_cleaned_df[\"Score\"] = vdjdb_fitted_beta_df[\"Score\"]\n",
    "vdjdb_beta_cleaned_df[\"MHC\"] = vdjdb_fitted_beta_df[\"MHC A\"]\n",
    "vdjdb_beta_cleaned_df[\"MHC class\"] = vdjdb_fitted_beta_df[\"MHC class\"]\n",
    "\n",
    "print(\"MHC Class I has \" + str(len(vdjdb_beta_cleaned_df[vdjdb_beta_cleaned_df[\"MHC class\"] == \"MHCI\"].index)) + \" entries\")\n",
    "print(f\"whole dataframe has {len(vdjdb_beta_cleaned_df.index)} entries\")\n",
    "\n",
    "vdjdb_beta_cleaned_df = vdjdb_beta_cleaned_df[vdjdb_beta_cleaned_df[\"MHC class\"] == \"MHCI\"]\n",
    "print(f\"filtered to only use MHC Class I. Length of dataset: {len(vdjdb_beta_cleaned_df.index)}\")\n",
    "\n",
    "vdjdb_beta_cleaned_df"
   ]
  },
  {
   "cell_type": "code",
   "execution_count": null,
   "metadata": {},
   "outputs": [],
   "source": [
    "vdjdb_beta_cleaned_df.to_csv(output_file, sep=\"\\t\", index=False)"
   ]
  }
 ],
 "metadata": {
  "kernelspec": {
   "display_name": "BA24",
   "language": "python",
   "name": "python3"
  },
  "language_info": {
   "codemirror_mode": {
    "name": "ipython",
    "version": 3
   },
   "file_extension": ".py",
   "mimetype": "text/x-python",
   "name": "python",
   "nbconvert_exporter": "python",
   "pygments_lexer": "ipython3",
   "version": "3.12.2"
  }
 },
 "nbformat": 4,
 "nbformat_minor": 2
}
