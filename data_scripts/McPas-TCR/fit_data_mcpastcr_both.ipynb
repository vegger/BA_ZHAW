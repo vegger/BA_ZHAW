{
 "cells": [
  {
   "cell_type": "code",
   "execution_count": null,
   "metadata": {},
   "outputs": [],
   "source": [
    "import wandb\n",
    "import pandas as pd\n",
    "from dotenv import load_dotenv\n",
    "import os\n",
    "import numpy as np"
   ]
  },
  {
   "cell_type": "code",
   "execution_count": null,
   "metadata": {},
   "outputs": [],
   "source": [
    "if not 'input_file' in locals():\n",
    "  input_file = \"../../data/McPAS-TCR/to_WandB/McPAS-TCR.csv\"\n",
    "\n",
    "if not 'path_prefix_fitted' in locals():\n",
    "  path_prefix_fitted = \"../../data/McPAS-TCR/fitted_data\"\n",
    "\n",
    "if not 'fitted_file' in locals():\n",
    "  fitted_file = \"mcpastcr_fitted_data_both.tsv\"\n"
   ]
  },
  {
   "cell_type": "code",
   "execution_count": null,
   "metadata": {},
   "outputs": [],
   "source": [
    "mcpastcr_df = pd.read_csv(input_file, encoding='latin1')\n",
    "mcpastcr_df"
   ]
  },
  {
   "cell_type": "code",
   "execution_count": null,
   "metadata": {},
   "outputs": [],
   "source": [
    "mcpastcr_df.columns"
   ]
  },
  {
   "cell_type": "code",
   "execution_count": null,
   "metadata": {},
   "outputs": [],
   "source": [
    "mcpastcr_df = mcpastcr_df[mcpastcr_df[\"Species\"] == \"Human\"]\n",
    "mcpastcr_df.replace(\"nan\", np.nan, inplace=True)\n",
    "mcpastcr_df = mcpastcr_df[(mcpastcr_df[\"Epitope.peptide\"].notna())]\n",
    "mcpastcr_df.columns"
   ]
  },
  {
   "cell_type": "code",
   "execution_count": null,
   "metadata": {},
   "outputs": [],
   "source": [
    "rename_mapping = {\n",
    "    \"CDR3.alpha.aa\": \"TRA_CDR3\",\n",
    "    \"CDR3.beta.aa\": \"TRB_CDR3\",\n",
    "    \"Epitope.peptide\": \"Epitope\"\n",
    "}\n",
    "mcpastcr_df = mcpastcr_df.rename(columns=rename_mapping)\n",
    "mcpastcr_df.replace(\"Human\", \"HomoSapiens\", inplace=True)"
   ]
  },
  {
   "cell_type": "code",
   "execution_count": null,
   "metadata": {},
   "outputs": [],
   "source": [
    "mcpastcr_df.to_csv(path_prefix_fitted+\"/\"+fitted_file, sep=\"\\t\", index=False)"
   ]
  }
 ],
 "metadata": {
  "kernelspec": {
   "display_name": "BA24",
   "language": "python",
   "name": "python3"
  },
  "language_info": {
   "codemirror_mode": {
    "name": "ipython",
    "version": 3
   },
   "file_extension": ".py",
   "mimetype": "text/x-python",
   "name": "python",
   "nbconvert_exporter": "python",
   "pygments_lexer": "ipython3",
   "version": "3.12.2"
  }
 },
 "nbformat": 4,
 "nbformat_minor": 2
}
