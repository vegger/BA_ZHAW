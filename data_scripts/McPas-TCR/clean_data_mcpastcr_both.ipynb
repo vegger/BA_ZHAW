{
 "cells": [
  {
   "cell_type": "code",
   "execution_count": null,
   "metadata": {},
   "outputs": [],
   "source": [
    "import pandas as pd\n",
    "import numpy as np"
   ]
  },
  {
   "cell_type": "code",
   "execution_count": null,
   "metadata": {},
   "outputs": [],
   "source": [
    "if not 'fitted_input_file' in locals():\n",
    "  fitted_input_file = \"../../data/McPAS-TCR/fitted_data/mcpastcr_fitted_data_both.tsv\"\n",
    "\n",
    "if not 'path_prefix_cleaned' in locals():\n",
    "  path_prefix_cleaned = \"../../data/McPAS-TCR/cleaned_data\"\n",
    "\n",
    "if not 'cleaned_file_paired' in locals():\n",
    "  cleaned_file_paired = \"mcpastcr_cleaned_data_paired.tsv\"\n",
    "\n",
    "if not 'cleaned_file_beta' in locals():\n",
    "  cleaned_file_beta = \"mcpastcr_cleaned_data_beta.tsv\""
   ]
  },
  {
   "cell_type": "code",
   "execution_count": null,
   "metadata": {},
   "outputs": [],
   "source": [
    "mcpastcr_fitted_both_df = pd.read_csv(fitted_input_file, sep=\"\\t\")\n",
    "mcpastcr_fitted_both_df "
   ]
  },
  {
   "cell_type": "code",
   "execution_count": null,
   "metadata": {},
   "outputs": [],
   "source": [
    "mcpastcr_fitted_both_df.columns"
   ]
  },
  {
   "cell_type": "code",
   "execution_count": null,
   "metadata": {},
   "outputs": [],
   "source": [
    "mcpastcr_cleaned_both_df = mcpastcr_fitted_both_df"
   ]
  },
  {
   "cell_type": "code",
   "execution_count": null,
   "metadata": {},
   "outputs": [],
   "source": [
    "new_columns = [\n",
    "    \"TCR_name\", 'TRAC', 'TRBC', 'TRA_leader', 'TRB_leader', 'Linker', 'Link_order',\n",
    "    'TRA_5_prime_seq', 'TRA_3_prime_seq', 'TRB_5_prime_seq', 'TRB_3_prime_seq'\n",
    "]\n",
    "\n",
    "for column in new_columns:\n",
    "    mcpastcr_cleaned_both_df[column] = np.nan\n",
    "\n",
    "template_columns_order = [\n",
    "    'TCR_name', 'TRAV', 'TRAJ', 'TRA_CDR3', 'TRBV', 'TRBJ', 'TRB_CDR3',\n",
    "    'TRAC', 'TRBC', 'TRA_leader', 'TRB_leader', 'Linker', 'Link_order',\n",
    "    'TRA_5_prime_seq', 'TRA_3_prime_seq', 'TRB_5_prime_seq', 'TRB_3_prime_seq'\n",
    "]\n",
    "\n",
    "mcpastcr_cleaned_both_df = mcpastcr_cleaned_both_df[template_columns_order]\n",
    "\n",
    "mcpastcr_cleaned_both_df.columns"
   ]
  },
  {
   "cell_type": "code",
   "execution_count": null,
   "metadata": {},
   "outputs": [],
   "source": [
    "mcpastcr_cleaned_both_df = pd.concat([mcpastcr_cleaned_both_df, mcpastcr_fitted_both_df[\"Epitope\"]], axis=1)\n",
    "mcpastcr_cleaned_both_df.columns\n"
   ]
  },
  {
   "cell_type": "code",
   "execution_count": null,
   "metadata": {},
   "outputs": [],
   "source": [
    "# print(mcpastcr_fitted_both_df[\"T.Cell.Type\"].to_string())"
   ]
  },
  {
   "cell_type": "code",
   "execution_count": null,
   "metadata": {},
   "outputs": [],
   "source": [
    "# Define the mapping for the replacement\n",
    "value_mapping = {\n",
    "    \"CD8\": \"MHCI\",\n",
    "    \"CD4\": \"MHCII\"\n",
    "}\n",
    "\n",
    "# Use .map() to replace the values, passing the 'na_action='ignore'' parameter to keep NaN values as NaN\n",
    "mcpastcr_fitted_both_df[\"T.Cell.Type\"] = mcpastcr_fitted_both_df[\"T.Cell.Type\"].map(value_mapping, na_action='ignore')\n",
    "\n",
    "# Set anything else to np.nan\n",
    "# This step is only necessary if there are other values besides NaN, CD8, or CD4. If not, this can be skipped.\n",
    "# It's a safeguard in case your data changes over time or if you're unsure about the presence of other values.\n",
    "mcpastcr_fitted_both_df.loc[~mcpastcr_fitted_both_df[\"T.Cell.Type\"].isin([None, \"MHCI\", \"MHCII\"]), \"T.Cell.Type\"] = np.nan\n",
    "mcpastcr_fitted_both_df.columns"
   ]
  },
  {
   "cell_type": "code",
   "execution_count": null,
   "metadata": {},
   "outputs": [],
   "source": [
    "mcpastcr_cleaned_both_df[\"Score\"] = np.nan\n",
    "mcpastcr_cleaned_both_df[\"TCR_name\"] = range(1, len(mcpastcr_cleaned_both_df) + 1) # use index as TCR_name\n",
    "mcpastcr_cleaned_both_df[\"MHC\"] = mcpastcr_fitted_both_df[\"MHC\"]\n",
    "mcpastcr_cleaned_both_df[\"MHC class\"] = mcpastcr_fitted_both_df[\"T.Cell.Type\"]\n",
    "\n",
    "print(\"MHC Class I has \" + str(len(mcpastcr_cleaned_both_df[mcpastcr_cleaned_both_df[\"MHC class\"] == \"MHCI\"].index)) + \" entries\")\n",
    "print(f\"whole dataframe has {len(mcpastcr_cleaned_both_df.index)} entries\")\n",
    "\n",
    "mcpastcr_cleaned_both_df = mcpastcr_cleaned_both_df[mcpastcr_cleaned_both_df[\"MHC class\"] == \"MHCI\"]\n",
    "print(f\"filtered to only use MHC Class I. Length of dataset: {len(mcpastcr_cleaned_both_df.index)}\")"
   ]
  },
  {
   "cell_type": "code",
   "execution_count": null,
   "metadata": {},
   "outputs": [],
   "source": [
    "def convert_region_format(entry):\n",
    "    # Check if the entry is NaN or not a string to avoid errors.\n",
    "    if pd.isna(entry) or not isinstance(entry, str):\n",
    "        return entry  # Return the entry unchanged if it's NaN or not a string.\n",
    "    \n",
    "    # Only replace ':' with '*' if ':' is present in the entry.\n",
    "    # This specifically targets the allele annotation separation.\n",
    "    if ':' in entry:\n",
    "        entry = entry.replace(':', '*')\n",
    "    \n",
    "    return entry\n"
   ]
  },
  {
   "cell_type": "code",
   "execution_count": null,
   "metadata": {},
   "outputs": [],
   "source": [
    "for column in ['TRAV', 'TRAJ', 'TRBV', 'TRBJ']:\n",
    "    mcpastcr_cleaned_both_df[column] = mcpastcr_cleaned_both_df[column].apply(convert_region_format)"
   ]
  },
  {
   "cell_type": "markdown",
   "metadata": {},
   "source": [
    "**check this...**"
   ]
  },
  {
   "cell_type": "code",
   "execution_count": null,
   "metadata": {},
   "outputs": [],
   "source": [
    "def starts_with_m(df, columns):\n",
    "    mask = pd.Series([False] * len(df))\n",
    "    for column in columns:\n",
    "        temp_mask = df[column].apply(lambda entry: False if pd.isna(entry) else str(entry).startswith(\"m\"))\n",
    "        mask = mask | temp_mask\n",
    "    return mask\n",
    "\n",
    "columns_to_check = [\"TRAV\", \"TRBV\", \"TRAJ\", \"TRBJ\"]\n",
    "mask = starts_with_m(mcpastcr_cleaned_both_df, columns_to_check)"
   ]
  },
  {
   "cell_type": "code",
   "execution_count": null,
   "metadata": {},
   "outputs": [],
   "source": [
    "mcpastcr_cleaned_both_df = mcpastcr_cleaned_both_df[~mask]"
   ]
  },
  {
   "cell_type": "code",
   "execution_count": null,
   "metadata": {},
   "outputs": [],
   "source": [
    "# List of columns to update\n",
    "columns_to_update = [\"TRAV\", \"TRBV\", \"TRAJ\", \"TRBJ\"]\n",
    "\n",
    "# Loop through each column and replace the pattern\n",
    "# This pattern finds '/D' followed by non-asterisk characters (if any) until an asterisk '*' or end of the string, but does not capture the asterisk and following characters for replacement\n",
    "for column in columns_to_update:\n",
    "    mcpastcr_cleaned_both_df.loc[:, column] = mcpastcr_cleaned_both_df[column].str.replace(r\"\\/D[^*]*\", \"\", regex=True)\n"
   ]
  },
  {
   "cell_type": "code",
   "execution_count": null,
   "metadata": {},
   "outputs": [],
   "source": [
    "# List of columns to update\n",
    "columns_to_update = [\"TRBV\", \"TRBJ\", \"TRAV\", \"TRAJ\"]\n",
    "\n",
    "# Loop through each column and replace everything after a ',' or '/' with an empty string\n",
    "for column in columns_to_update:\n",
    "    mcpastcr_cleaned_both_df.loc[:, column] = mcpastcr_cleaned_both_df[column].str.replace(r\"[,\\/].*\", \"\", regex=True)\n"
   ]
  },
  {
   "cell_type": "code",
   "execution_count": null,
   "metadata": {},
   "outputs": [],
   "source": [
    "mcpastcr_cleaned_both_df"
   ]
  },
  {
   "cell_type": "code",
   "execution_count": null,
   "metadata": {},
   "outputs": [],
   "source": [
    "paired_condition = mcpastcr_cleaned_both_df[\"TRA_CDR3\"].notna() & mcpastcr_cleaned_both_df[\"TRB_CDR3\"].notna()\n",
    "\n",
    "# Condition for beta only information (TRB_CDR3 is not NaN)\n",
    "beta_only_condition = mcpastcr_cleaned_both_df[\"TRB_CDR3\"].notna()\n",
    "\n",
    "# Creating DataFrames based on conditions\n",
    "mcpastcr_cleaned_paired_df = mcpastcr_cleaned_both_df[paired_condition]\n",
    "mcpastcr_cleaned_beta_df = mcpastcr_cleaned_both_df[beta_only_condition]\n"
   ]
  },
  {
   "cell_type": "code",
   "execution_count": null,
   "metadata": {},
   "outputs": [],
   "source": [
    "mcpastcr_cleaned_paired_df"
   ]
  },
  {
   "cell_type": "code",
   "execution_count": null,
   "metadata": {},
   "outputs": [],
   "source": [
    "mcpastcr_cleaned_beta_df"
   ]
  },
  {
   "cell_type": "code",
   "execution_count": null,
   "metadata": {},
   "outputs": [],
   "source": [
    "mcpastcr_cleaned_paired_df.to_csv(path_prefix_cleaned+\"/\"+cleaned_file_paired, sep=\"\\t\", index=False)\n",
    "mcpastcr_cleaned_beta_df.to_csv(path_prefix_cleaned+\"/\"+cleaned_file_beta, sep=\"\\t\", index=False)"
   ]
  }
 ],
 "metadata": {
  "kernelspec": {
   "display_name": "BA24",
   "language": "python",
   "name": "python3"
  },
  "language_info": {
   "codemirror_mode": {
    "name": "ipython",
    "version": 3
   },
   "file_extension": ".py",
   "mimetype": "text/x-python",
   "name": "python",
   "nbconvert_exporter": "python",
   "pygments_lexer": "ipython3",
   "version": "3.12.2"
  }
 },
 "nbformat": 4,
 "nbformat_minor": 2
}
