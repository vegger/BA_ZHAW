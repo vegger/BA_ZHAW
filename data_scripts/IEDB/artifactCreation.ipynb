{
 "cells": [
  {
   "cell_type": "code",
   "execution_count": null,
   "metadata": {},
   "outputs": [],
   "source": [
    "import wandb\n",
    "import pandas as pd\n",
    "import os"
   ]
  },
  {
   "cell_type": "code",
   "execution_count": null,
   "metadata": {},
   "outputs": [],
   "source": [
    "os.environ[\"WANDB_NOTEBOOK_NAME\"] = \"artifact-creation.ipynb\"\n",
    "run = wandb.init(project=\"BA_Project_ZHAW\", job_type=\"dataset-creation\")\n",
    "df = pd.read_csv(\"/home/ubuntu/BA_ZHAW/data/IEDB/IEDB.csv\")"
   ]
  },
  {
   "cell_type": "code",
   "execution_count": null,
   "metadata": {},
   "outputs": [],
   "source": [
    "df_table = wandb.Table(dataframe=df)\n",
    "dataset = wandb.Artifact('IEDB', type='dataset')\n",
    "dataset.add(wandb.Table(dataframe=df), \"IEDB\")\n",
    "run.log_artifact(dataset)\n",
    "run.finish()"
   ]
  }
 ],
 "metadata": {
  "kernelspec": {
   "display_name": "BA24",
   "language": "python",
   "name": "python3"
  },
  "language_info": {
   "codemirror_mode": {
    "name": "ipython",
    "version": 3
   },
   "file_extension": ".py",
   "mimetype": "text/x-python",
   "name": "python",
   "nbconvert_exporter": "python",
   "pygments_lexer": "ipython3",
   "version": "3.12.2"
  }
 },
 "nbformat": 4,
 "nbformat_minor": 2
}
