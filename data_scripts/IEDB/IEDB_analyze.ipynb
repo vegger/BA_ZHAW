{
 "cells": [
  {
   "cell_type": "markdown",
   "metadata": {},
   "source": [
    "## In this file the attributes are analyzed because there are curated and calculated attributes."
   ]
  },
  {
   "cell_type": "code",
   "execution_count": null,
   "metadata": {},
   "outputs": [],
   "source": [
    "import pandas as pd\n",
    "\n",
    "path_prefix = '../../data/IEDB'\n",
    "df = pd.read_csv(f\"{path_prefix}/IEDB.csv\")\n",
    "print(df.info())\n"
   ]
  },
  {
   "cell_type": "markdown",
   "metadata": {},
   "source": [
    "now as the data is in the panda dataframe, it's ready to be analyzed. We want to know if there are entries in which there are only calculated but not curated values."
   ]
  },
  {
   "cell_type": "code",
   "execution_count": null,
   "metadata": {},
   "outputs": [],
   "source": [
    "# Masks for curated and calculated attributes for each feature\n",
    "v_gene_curated_mask = ~df['Chain 2 - Curated V Gene'].isnull()\n",
    "v_gene_calculated_mask = ~df['Chain 2 - Calculated V Gene'].isnull()\n",
    "\n",
    "j_gene_curated_mask = ~df['Chain 2 - Curated J Gene'].isnull()\n",
    "j_gene_calculated_mask = ~df['Chain 2 - Calculated J Gene'].isnull()\n",
    "\n",
    "cdr3_curated_mask = ~df['Chain 2 - CDR3 Curated'].isnull()\n",
    "cdr3_calculated_mask = ~df['Chain 2 - CDR3 Calculated'].isnull()\n",
    "\n",
    "# Calculate counts for each category\n",
    "v_gene_curated_count = v_gene_curated_mask.sum()\n",
    "v_gene_calculated_count = v_gene_calculated_mask.sum()\n",
    "v_gene_curated_and_calculated_count = (v_gene_curated_mask & v_gene_calculated_mask).sum()\n",
    "v_gene_only_calculated_count = v_gene_calculated_count - v_gene_curated_and_calculated_count\n",
    "\n",
    "j_gene_curated_count = j_gene_curated_mask.sum()\n",
    "j_gene_calculated_count = j_gene_calculated_mask.sum()\n",
    "j_gene_curated_and_calculated_count = (j_gene_curated_mask & j_gene_calculated_mask).sum()\n",
    "j_gene_only_calculated_count = j_gene_calculated_count - j_gene_curated_and_calculated_count\n",
    "\n",
    "cdr3_curated_count = cdr3_curated_mask.sum()\n",
    "cdr3_calculated_count = cdr3_calculated_mask.sum()\n",
    "cdr3_curated_and_calculated_count = (cdr3_curated_mask & cdr3_calculated_mask).sum()\n",
    "cdr3_only_calculated_count = cdr3_calculated_count - cdr3_curated_and_calculated_count\n",
    "\n",
    "# Output the results\n",
    "print(\"V Gene curated count:\", v_gene_curated_count)\n",
    "print(\"V Gene calculated count:\", v_gene_calculated_count)\n",
    "print(\"V Gene curated and calculated count:\", v_gene_curated_and_calculated_count)\n",
    "print(\"V Gene only calculated count:\", v_gene_only_calculated_count)\n",
    "\n",
    "print(\"J Gene curated count:\", j_gene_curated_count)\n",
    "print(\"J Gene calculated count:\", j_gene_calculated_count)\n",
    "print(\"J Gene curated and calculated count:\", j_gene_curated_and_calculated_count)\n",
    "print(\"J Gene only calculated count:\", j_gene_only_calculated_count)\n",
    "\n",
    "print(\"CDR3 curated count:\", cdr3_curated_count)\n",
    "print(\"CDR3 calculated count:\", cdr3_calculated_count)\n",
    "print(\"CDR3 curated and calculated count:\", cdr3_curated_and_calculated_count)\n",
    "print(\"CDR3 only calculated count:\", cdr3_only_calculated_count)"
   ]
  },
  {
   "cell_type": "markdown",
   "metadata": {},
   "source": [
    "there are less than 1700 entries which have only calculated values. we drop them because they are not as accurate as curated values."
   ]
  }
 ],
 "metadata": {
  "kernelspec": {
   "display_name": "BA24",
   "language": "python",
   "name": "python3"
  },
  "language_info": {
   "codemirror_mode": {
    "name": "ipython",
    "version": 3
   },
   "file_extension": ".py",
   "mimetype": "text/x-python",
   "name": "python",
   "nbconvert_exporter": "python",
   "pygments_lexer": "ipython3",
   "version": "3.12.2"
  }
 },
 "nbformat": 4,
 "nbformat_minor": 2
}
