{
 "cells": [
  {
   "cell_type": "code",
   "execution_count": null,
   "metadata": {},
   "outputs": [],
   "source": [
    "import pandas as pd\n",
    "import subprocess"
   ]
  },
  {
   "cell_type": "code",
   "execution_count": null,
   "metadata": {},
   "outputs": [],
   "source": [
    "paired_df = pd.read_csv(\"../data/customDatasets/paired_concatenated.tsv\", sep=\"\\t\")"
   ]
  },
  {
   "cell_type": "code",
   "execution_count": null,
   "metadata": {},
   "outputs": [],
   "source": [
    "stitchr_valid_paired_df = paired_df.loc[\n",
    "    paired_df[\"TRBV\"].notna() & \n",
    "    paired_df[\"TRBJ\"].notna() & \n",
    "    paired_df[\"TRAV\"].notna() & \n",
    "    paired_df[\"TRAJ\"].notna()\n",
    "]\n",
    "\n",
    "stitchr_valid_paired_df"
   ]
  },
  {
   "cell_type": "code",
   "execution_count": null,
   "metadata": {},
   "outputs": [],
   "source": [
    "print(stitchr_valid_paired_df[\"Epitope\"].to_string())"
   ]
  },
  {
   "cell_type": "code",
   "execution_count": null,
   "metadata": {},
   "outputs": [],
   "source": [
    "# List of columns you want to exclude => because not included in Stitchr template\n",
    "excluded_columns = [\"Epitope\", \"Score\", \"MHC A\", \"MHC B\", \"MHC class\", \"Binding\"]\n",
    "\n",
    "stitchr_paired_df = stitchr_valid_paired_df.drop(columns=excluded_columns)\n",
    "stitchr_paired_df"
   ]
  },
  {
   "cell_type": "code",
   "execution_count": null,
   "metadata": {},
   "outputs": [],
   "source": [
    "file_path = \"../data/customDatasets/temp/\"\n",
    "file_name = \"Stitchr_ready_paired_concatenated.tsv\"\n",
    "stitchr_paired_df.to_csv(file_path+file_name, sep=\"\\t\", index=False)"
   ]
  },
  {
   "cell_type": "code",
   "execution_count": null,
   "metadata": {},
   "outputs": [],
   "source": [
    "from_paired_path = file_path+file_name\n",
    "to_paired_path =  \"../data/customDatasets/temp/plain_Stitchr_paired_concatenated\"\n",
    "command = ['thimble', '-in', from_paired_path, '-r', 'AB', \"-s\", \"HUMAN\", \"-o\", to_paired_path]"
   ]
  },
  {
   "cell_type": "code",
   "execution_count": null,
   "metadata": {},
   "outputs": [],
   "source": [
    "result = subprocess.run(command, capture_output=True, text=True)\n",
    "\n",
    "# Check if the command was executed successfully\n",
    "if result.returncode == 0:\n",
    "    print(\"Command executed successfully.\")\n",
    "    # If you want to print the output\n",
    "    print(\"Output:\", result.stdout)\n",
    "else:\n",
    "    print(\"Error in command execution.\")\n",
    "    # If you want to print the error\n",
    "    print(\"Error:\", result.stderr)"
   ]
  },
  {
   "cell_type": "code",
   "execution_count": null,
   "metadata": {},
   "outputs": [],
   "source": [
    "after_stitchr_df = pd.read_csv(to_paired_path+\".tsv\", sep=\"\\t\")\n",
    "after_stitchr_df"
   ]
  },
  {
   "cell_type": "code",
   "execution_count": null,
   "metadata": {},
   "outputs": [],
   "source": [
    "after_stitchr_df[\"Epitope\"] = stitchr_valid_paired_df[\"Epitope\"].values\n",
    "after_stitchr_df[\"Score\"] = stitchr_valid_paired_df[\"Score\"].values\n",
    "after_stitchr_df[\"MHC A\"] = stitchr_valid_paired_df[\"MHC A\"].values\n",
    "after_stitchr_df[\"MHC B\"] = stitchr_valid_paired_df[\"MHC B\"].values\n",
    "after_stitchr_df[\"MHC class\"] = stitchr_valid_paired_df[\"MHC class\"].values\n",
    "after_stitchr_df[\"Binding\"] = stitchr_valid_paired_df[\"Binding\"].values\n",
    "\n",
    "after_stitchr_df"
   ]
  },
  {
   "cell_type": "code",
   "execution_count": null,
   "metadata": {},
   "outputs": [],
   "source": [
    "after_stitchr_df = after_stitchr_df[~after_stitchr_df[\"Warnings/Errors\"].str.contains(\"Error\")]\n",
    "after_stitchr_df"
   ]
  },
  {
   "cell_type": "code",
   "execution_count": null,
   "metadata": {},
   "outputs": [],
   "source": [
    "obsolete_columns = [\"TRA_leader\", \"TRB_leader\", \"Linker\", \"Link_order\", \"TRA_5_prime_seq\", \"TRA_3_prime_seq\", \"TRB_5_prime_seq\", \"TRB_3_prime_seq\",\\\n",
    "                    \"Linked_nt\", \"Linked_aa\", \"Score\", \"MHC class\", \"Warnings/Errors\"]\n",
    "\n",
    "after_stitchr_df = after_stitchr_df.drop(columns=obsolete_columns)\n",
    "after_stitchr_df[\"TCR_name\"] = range(1, len(after_stitchr_df) + 1)\n",
    "after_stitchr_df"
   ]
  },
  {
   "cell_type": "code",
   "execution_count": null,
   "metadata": {},
   "outputs": [],
   "source": [
    "print(after_stitchr_df[\"Epitope\"].to_string())"
   ]
  },
  {
   "cell_type": "code",
   "execution_count": null,
   "metadata": {},
   "outputs": [],
   "source": [
    "after_stitchr_df.to_csv(\"../data/customDatasets/Stitchr_paired_concatenated.tsv\", sep=\"\\t\", index=False)"
   ]
  }
 ],
 "metadata": {
  "kernelspec": {
   "display_name": "BA24",
   "language": "python",
   "name": "python3"
  },
  "language_info": {
   "codemirror_mode": {
    "name": "ipython",
    "version": 3
   },
   "file_extension": ".py",
   "mimetype": "text/x-python",
   "name": "python",
   "nbconvert_exporter": "python",
   "pygments_lexer": "ipython3",
   "version": "3.12.2"
  }
 },
 "nbformat": 4,
 "nbformat_minor": 2
}
