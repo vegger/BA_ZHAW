{
 "cells": [
  {
   "cell_type": "code",
   "execution_count": 17,
   "metadata": {},
   "outputs": [],
   "source": [
    "import wandb\n",
    "import pandas as pd\n",
    "from dotenv import load_dotenv\n",
    "import os\n",
    "import numpy as np"
   ]
  },
  {
   "cell_type": "code",
   "execution_count": 18,
   "metadata": {},
   "outputs": [
    {
     "data": {
      "text/html": [
       "Finishing last run (ID:sp5kycyx) before initializing another..."
      ],
      "text/plain": [
       "<IPython.core.display.HTML object>"
      ]
     },
     "metadata": {},
     "output_type": "display_data"
    },
    {
     "name": "stderr",
     "output_type": "stream",
     "text": [
      "wandb: WARNING Source type is set to 'repo' but some required information is missing from the environment. A job will not be created from this run. See https://docs.wandb.ai/guides/launch/create-job\n"
     ]
    },
    {
     "data": {
      "text/html": [
       " View run <strong style=\"color:#cdcd00\">giddy-voice-93</strong> at: <a href='https://wandb.ai/ba-zhaw/BA_Project_ZHAW/runs/sp5kycyx' target=\"_blank\">https://wandb.ai/ba-zhaw/BA_Project_ZHAW/runs/sp5kycyx</a><br/>Synced 6 W&B file(s), 0 media file(s), 0 artifact file(s) and 0 other file(s)"
      ],
      "text/plain": [
       "<IPython.core.display.HTML object>"
      ]
     },
     "metadata": {},
     "output_type": "display_data"
    },
    {
     "data": {
      "text/html": [
       "Find logs at: <code>./wandb/run-20240327_152637-sp5kycyx/logs</code>"
      ],
      "text/plain": [
       "<IPython.core.display.HTML object>"
      ]
     },
     "metadata": {},
     "output_type": "display_data"
    },
    {
     "data": {
      "text/html": [
       "Successfully finished last run (ID:sp5kycyx). Initializing new run:<br/>"
      ],
      "text/plain": [
       "<IPython.core.display.HTML object>"
      ]
     },
     "metadata": {},
     "output_type": "display_data"
    },
    {
     "data": {
      "text/html": [
       "wandb version 0.16.5 is available!  To upgrade, please run:\n",
       " $ pip install wandb --upgrade"
      ],
      "text/plain": [
       "<IPython.core.display.HTML object>"
      ]
     },
     "metadata": {},
     "output_type": "display_data"
    },
    {
     "data": {
      "text/html": [
       "Tracking run with wandb version 0.16.3"
      ],
      "text/plain": [
       "<IPython.core.display.HTML object>"
      ]
     },
     "metadata": {},
     "output_type": "display_data"
    },
    {
     "data": {
      "text/html": [
       "Run data is saved locally in <code>/home/ubuntu/BA_ZHAW/notebooks/wandb/run-20240327_155547-00kwolu7</code>"
      ],
      "text/plain": [
       "<IPython.core.display.HTML object>"
      ]
     },
     "metadata": {},
     "output_type": "display_data"
    },
    {
     "data": {
      "text/html": [
       "Syncing run <strong><a href='https://wandb.ai/ba-zhaw/BA_Project_ZHAW/runs/00kwolu7' target=\"_blank\">sweet-moon-94</a></strong> to <a href='https://wandb.ai/ba-zhaw/BA_Project_ZHAW' target=\"_blank\">Weights & Biases</a> (<a href='https://wandb.me/run' target=\"_blank\">docs</a>)<br/>"
      ],
      "text/plain": [
       "<IPython.core.display.HTML object>"
      ]
     },
     "metadata": {},
     "output_type": "display_data"
    },
    {
     "data": {
      "text/html": [
       " View project at <a href='https://wandb.ai/ba-zhaw/BA_Project_ZHAW' target=\"_blank\">https://wandb.ai/ba-zhaw/BA_Project_ZHAW</a>"
      ],
      "text/plain": [
       "<IPython.core.display.HTML object>"
      ]
     },
     "metadata": {},
     "output_type": "display_data"
    },
    {
     "data": {
      "text/html": [
       " View run at <a href='https://wandb.ai/ba-zhaw/BA_Project_ZHAW/runs/00kwolu7' target=\"_blank\">https://wandb.ai/ba-zhaw/BA_Project_ZHAW/runs/00kwolu7</a>"
      ],
      "text/plain": [
       "<IPython.core.display.HTML object>"
      ]
     },
     "metadata": {},
     "output_type": "display_data"
    },
    {
     "data": {
      "text/html": [
       "<button onClick=\"this.nextSibling.style.display='block';this.style.display='none';\">Display W&B run</button><iframe src='https://wandb.ai/ba-zhaw/BA_Project_ZHAW/runs/00kwolu7?jupyter=true' style='border:none;width:100%;height:420px;display:none;'></iframe>"
      ],
      "text/plain": [
       "<wandb.sdk.wandb_run.Run at 0x7f4c424b6240>"
      ]
     },
     "execution_count": 18,
     "metadata": {},
     "output_type": "execute_result"
    }
   ],
   "source": [
    "load_dotenv()\n",
    "PROJECT_NAME = os.getenv(\"MAIN_PROJECT_NAME\")\n",
    "MCPAS_TCR = os.getenv(\"MCPAS_TCR_ARTIFACT\")\n",
    "wandb.init(project=PROJECT_NAME, job_type=\"fit-data_mcpastcr\")"
   ]
  },
  {
   "cell_type": "code",
   "execution_count": 19,
   "metadata": {},
   "outputs": [
    {
     "name": "stderr",
     "output_type": "stream",
     "text": [
      "\u001b[34m\u001b[1mwandb\u001b[0m:   1 of 1 files downloaded.  \n",
      "\u001b[34m\u001b[1mwandb\u001b[0m:   1 of 1 files downloaded.  \n"
     ]
    },
    {
     "data": {
      "text/html": [
       "<div>\n",
       "<style scoped>\n",
       "    .dataframe tbody tr th:only-of-type {\n",
       "        vertical-align: middle;\n",
       "    }\n",
       "\n",
       "    .dataframe tbody tr th {\n",
       "        vertical-align: top;\n",
       "    }\n",
       "\n",
       "    .dataframe thead th {\n",
       "        text-align: right;\n",
       "    }\n",
       "</style>\n",
       "<table border=\"1\" class=\"dataframe\">\n",
       "  <thead>\n",
       "    <tr style=\"text-align: right;\">\n",
       "      <th></th>\n",
       "      <th>CDR3.alpha.aa</th>\n",
       "      <th>CDR3.beta.aa</th>\n",
       "      <th>Species</th>\n",
       "      <th>Category</th>\n",
       "      <th>Pathology</th>\n",
       "      <th>Pathology.Mesh.ID</th>\n",
       "      <th>Additional.study.details</th>\n",
       "      <th>Antigen.identification.method</th>\n",
       "      <th>Single.cell</th>\n",
       "      <th>NGS</th>\n",
       "      <th>...</th>\n",
       "      <th>TRAV</th>\n",
       "      <th>TRAJ</th>\n",
       "      <th>TRBV</th>\n",
       "      <th>TRBD</th>\n",
       "      <th>TRBJ</th>\n",
       "      <th>Reconstructed.J.annotation</th>\n",
       "      <th>CDR3.beta.nt</th>\n",
       "      <th>Mouse.strain</th>\n",
       "      <th>PubMed.ID</th>\n",
       "      <th>Remarks</th>\n",
       "    </tr>\n",
       "  </thead>\n",
       "  <tbody>\n",
       "    <tr>\n",
       "      <th>0</th>\n",
       "      <td>nan</td>\n",
       "      <td>CASSDAGANTEVF</td>\n",
       "      <td>Mouse</td>\n",
       "      <td>Pathogens</td>\n",
       "      <td>Lymphocytic choriomeningitis virus (LCMV)</td>\n",
       "      <td>D008217</td>\n",
       "      <td>nan</td>\n",
       "      <td>2.1</td>\n",
       "      <td>No</td>\n",
       "      <td>No</td>\n",
       "      <td>...</td>\n",
       "      <td>nan</td>\n",
       "      <td>nan</td>\n",
       "      <td>TRBV8-1</td>\n",
       "      <td>nan</td>\n",
       "      <td>TRBJ1-1</td>\n",
       "      <td>No</td>\n",
       "      <td>nan</td>\n",
       "      <td>P14</td>\n",
       "      <td>1716213</td>\n",
       "      <td>nan</td>\n",
       "    </tr>\n",
       "    <tr>\n",
       "      <th>1</th>\n",
       "      <td>nan</td>\n",
       "      <td>CASSDAGAYAEQF</td>\n",
       "      <td>Mouse</td>\n",
       "      <td>Pathogens</td>\n",
       "      <td>Lymphocytic choriomeningitis virus (LCMV)</td>\n",
       "      <td>D008217</td>\n",
       "      <td>nan</td>\n",
       "      <td>2.1</td>\n",
       "      <td>No</td>\n",
       "      <td>No</td>\n",
       "      <td>...</td>\n",
       "      <td>nan</td>\n",
       "      <td>nan</td>\n",
       "      <td>TRBV8-1</td>\n",
       "      <td>nan</td>\n",
       "      <td>TRBJ2-1</td>\n",
       "      <td>No</td>\n",
       "      <td>nan</td>\n",
       "      <td>P14</td>\n",
       "      <td>1716213</td>\n",
       "      <td>nan</td>\n",
       "    </tr>\n",
       "    <tr>\n",
       "      <th>2</th>\n",
       "      <td>nan</td>\n",
       "      <td>CASSDAGGAAEVF</td>\n",
       "      <td>Mouse</td>\n",
       "      <td>Pathogens</td>\n",
       "      <td>Lymphocytic choriomeningitis virus (LCMV)</td>\n",
       "      <td>D008217</td>\n",
       "      <td>nan</td>\n",
       "      <td>2.1</td>\n",
       "      <td>No</td>\n",
       "      <td>No</td>\n",
       "      <td>...</td>\n",
       "      <td>nan</td>\n",
       "      <td>nan</td>\n",
       "      <td>TRBV8-3</td>\n",
       "      <td>nan</td>\n",
       "      <td>TRBJ1-1</td>\n",
       "      <td>No</td>\n",
       "      <td>nan</td>\n",
       "      <td>P14</td>\n",
       "      <td>1716213</td>\n",
       "      <td>nan</td>\n",
       "    </tr>\n",
       "    <tr>\n",
       "      <th>3</th>\n",
       "      <td>nan</td>\n",
       "      <td>CASSDAGHSPLYF</td>\n",
       "      <td>Mouse</td>\n",
       "      <td>Pathogens</td>\n",
       "      <td>Lymphocytic choriomeningitis virus (LCMV)</td>\n",
       "      <td>D008217</td>\n",
       "      <td>nan</td>\n",
       "      <td>2.1</td>\n",
       "      <td>No</td>\n",
       "      <td>No</td>\n",
       "      <td>...</td>\n",
       "      <td>nan</td>\n",
       "      <td>nan</td>\n",
       "      <td>TRBV8-1</td>\n",
       "      <td>nan</td>\n",
       "      <td>TRBJ1-6</td>\n",
       "      <td>No</td>\n",
       "      <td>nan</td>\n",
       "      <td>P14</td>\n",
       "      <td>1716213</td>\n",
       "      <td>nan</td>\n",
       "    </tr>\n",
       "    <tr>\n",
       "      <th>4</th>\n",
       "      <td>nan</td>\n",
       "      <td>CASSDAWGGAEQYF</td>\n",
       "      <td>Mouse</td>\n",
       "      <td>Pathogens</td>\n",
       "      <td>Lymphocytic choriomeningitis virus (LCMV)</td>\n",
       "      <td>D008217</td>\n",
       "      <td>nan</td>\n",
       "      <td>2.1</td>\n",
       "      <td>No</td>\n",
       "      <td>No</td>\n",
       "      <td>...</td>\n",
       "      <td>nan</td>\n",
       "      <td>nan</td>\n",
       "      <td>TRBV8-3</td>\n",
       "      <td>nan</td>\n",
       "      <td>TRBJ2-6</td>\n",
       "      <td>No</td>\n",
       "      <td>nan</td>\n",
       "      <td>P14</td>\n",
       "      <td>1716213</td>\n",
       "      <td>nan</td>\n",
       "    </tr>\n",
       "    <tr>\n",
       "      <th>...</th>\n",
       "      <td>...</td>\n",
       "      <td>...</td>\n",
       "      <td>...</td>\n",
       "      <td>...</td>\n",
       "      <td>...</td>\n",
       "      <td>...</td>\n",
       "      <td>...</td>\n",
       "      <td>...</td>\n",
       "      <td>...</td>\n",
       "      <td>...</td>\n",
       "      <td>...</td>\n",
       "      <td>...</td>\n",
       "      <td>...</td>\n",
       "      <td>...</td>\n",
       "      <td>...</td>\n",
       "      <td>...</td>\n",
       "      <td>...</td>\n",
       "      <td>...</td>\n",
       "      <td>...</td>\n",
       "      <td>...</td>\n",
       "      <td>...</td>\n",
       "    </tr>\n",
       "    <tr>\n",
       "      <th>39980</th>\n",
       "      <td>CAGSGAGSYQLTF</td>\n",
       "      <td>CASSLEGQASSYEQYF</td>\n",
       "      <td>Human</td>\n",
       "      <td>Pathogens</td>\n",
       "      <td>Epstein Barr virus (EBV)</td>\n",
       "      <td>D020031</td>\n",
       "      <td>nan</td>\n",
       "      <td>1.0</td>\n",
       "      <td>Yes</td>\n",
       "      <td>Yes</td>\n",
       "      <td>...</td>\n",
       "      <td>TRAV25</td>\n",
       "      <td>TRAJ28</td>\n",
       "      <td>nan</td>\n",
       "      <td>nan</td>\n",
       "      <td>nan</td>\n",
       "      <td>nan</td>\n",
       "      <td>nan</td>\n",
       "      <td>nan</td>\n",
       "      <td>35401538</td>\n",
       "      <td>nan</td>\n",
       "    </tr>\n",
       "    <tr>\n",
       "      <th>39981</th>\n",
       "      <td>CAGLGAGSYQLTF</td>\n",
       "      <td>CASSLEGQGASYEQYF</td>\n",
       "      <td>Human</td>\n",
       "      <td>Pathogens</td>\n",
       "      <td>Epstein Barr virus (EBV)</td>\n",
       "      <td>D020031</td>\n",
       "      <td>nan</td>\n",
       "      <td>1.0</td>\n",
       "      <td>Yes</td>\n",
       "      <td>Yes</td>\n",
       "      <td>...</td>\n",
       "      <td>TRAV25</td>\n",
       "      <td>TRAJ28</td>\n",
       "      <td>nan</td>\n",
       "      <td>nan</td>\n",
       "      <td>nan</td>\n",
       "      <td>nan</td>\n",
       "      <td>nan</td>\n",
       "      <td>nan</td>\n",
       "      <td>35401538</td>\n",
       "      <td>nan</td>\n",
       "    </tr>\n",
       "    <tr>\n",
       "      <th>39982</th>\n",
       "      <td>CATEGNSGYSTLTF</td>\n",
       "      <td>CASSSQGGNYGYTF</td>\n",
       "      <td>Human</td>\n",
       "      <td>Pathogens</td>\n",
       "      <td>Epstein Barr virus (EBV)</td>\n",
       "      <td>D020031</td>\n",
       "      <td>nan</td>\n",
       "      <td>1.0</td>\n",
       "      <td>Yes</td>\n",
       "      <td>Yes</td>\n",
       "      <td>...</td>\n",
       "      <td>TRAV17*01</td>\n",
       "      <td>TRAJ11*01</td>\n",
       "      <td>nan</td>\n",
       "      <td>nan</td>\n",
       "      <td>nan</td>\n",
       "      <td>nan</td>\n",
       "      <td>nan</td>\n",
       "      <td>nan</td>\n",
       "      <td>35401538</td>\n",
       "      <td>nan</td>\n",
       "    </tr>\n",
       "    <tr>\n",
       "      <th>39983</th>\n",
       "      <td>CATEGDSGYSTLTF</td>\n",
       "      <td>CASSYQGGNYGYTF</td>\n",
       "      <td>Human</td>\n",
       "      <td>Pathogens</td>\n",
       "      <td>Epstein Barr virus (EBV)</td>\n",
       "      <td>D020031</td>\n",
       "      <td>nan</td>\n",
       "      <td>1.0</td>\n",
       "      <td>Yes</td>\n",
       "      <td>Yes</td>\n",
       "      <td>...</td>\n",
       "      <td>TRAV17*01</td>\n",
       "      <td>TRAJ11*01</td>\n",
       "      <td>nan</td>\n",
       "      <td>nan</td>\n",
       "      <td>nan</td>\n",
       "      <td>nan</td>\n",
       "      <td>nan</td>\n",
       "      <td>nan</td>\n",
       "      <td>35401538</td>\n",
       "      <td>nan</td>\n",
       "    </tr>\n",
       "    <tr>\n",
       "      <th>39984</th>\n",
       "      <td>CASEGNSGYSTLTF</td>\n",
       "      <td>CASSFQGGNYGYTF</td>\n",
       "      <td>Human</td>\n",
       "      <td>Pathogens</td>\n",
       "      <td>Epstein Barr virus (EBV)</td>\n",
       "      <td>D020031</td>\n",
       "      <td>nan</td>\n",
       "      <td>1.0</td>\n",
       "      <td>Yes</td>\n",
       "      <td>Yes</td>\n",
       "      <td>...</td>\n",
       "      <td>TRAV17*01</td>\n",
       "      <td>TRAJ11*01</td>\n",
       "      <td>nan</td>\n",
       "      <td>nan</td>\n",
       "      <td>nan</td>\n",
       "      <td>nan</td>\n",
       "      <td>nan</td>\n",
       "      <td>nan</td>\n",
       "      <td>35401538</td>\n",
       "      <td>nan</td>\n",
       "    </tr>\n",
       "  </tbody>\n",
       "</table>\n",
       "<p>39985 rows × 29 columns</p>\n",
       "</div>"
      ],
      "text/plain": [
       "        CDR3.alpha.aa      CDR3.beta.aa Species   Category  \\\n",
       "0                 nan     CASSDAGANTEVF   Mouse  Pathogens   \n",
       "1                 nan     CASSDAGAYAEQF   Mouse  Pathogens   \n",
       "2                 nan     CASSDAGGAAEVF   Mouse  Pathogens   \n",
       "3                 nan     CASSDAGHSPLYF   Mouse  Pathogens   \n",
       "4                 nan    CASSDAWGGAEQYF   Mouse  Pathogens   \n",
       "...               ...               ...     ...        ...   \n",
       "39980   CAGSGAGSYQLTF  CASSLEGQASSYEQYF   Human  Pathogens   \n",
       "39981   CAGLGAGSYQLTF  CASSLEGQGASYEQYF   Human  Pathogens   \n",
       "39982  CATEGNSGYSTLTF    CASSSQGGNYGYTF   Human  Pathogens   \n",
       "39983  CATEGDSGYSTLTF    CASSYQGGNYGYTF   Human  Pathogens   \n",
       "39984  CASEGNSGYSTLTF    CASSFQGGNYGYTF   Human  Pathogens   \n",
       "\n",
       "                                       Pathology Pathology.Mesh.ID  \\\n",
       "0      Lymphocytic choriomeningitis virus (LCMV)           D008217   \n",
       "1      Lymphocytic choriomeningitis virus (LCMV)           D008217   \n",
       "2      Lymphocytic choriomeningitis virus (LCMV)           D008217   \n",
       "3      Lymphocytic choriomeningitis virus (LCMV)           D008217   \n",
       "4      Lymphocytic choriomeningitis virus (LCMV)           D008217   \n",
       "...                                          ...               ...   \n",
       "39980                   Epstein Barr virus (EBV)           D020031   \n",
       "39981                   Epstein Barr virus (EBV)           D020031   \n",
       "39982                   Epstein Barr virus (EBV)           D020031   \n",
       "39983                   Epstein Barr virus (EBV)           D020031   \n",
       "39984                   Epstein Barr virus (EBV)           D020031   \n",
       "\n",
       "      Additional.study.details Antigen.identification.method Single.cell  NGS  \\\n",
       "0                          nan                           2.1          No   No   \n",
       "1                          nan                           2.1          No   No   \n",
       "2                          nan                           2.1          No   No   \n",
       "3                          nan                           2.1          No   No   \n",
       "4                          nan                           2.1          No   No   \n",
       "...                        ...                           ...         ...  ...   \n",
       "39980                      nan                           1.0         Yes  Yes   \n",
       "39981                      nan                           1.0         Yes  Yes   \n",
       "39982                      nan                           1.0         Yes  Yes   \n",
       "39983                      nan                           1.0         Yes  Yes   \n",
       "39984                      nan                           1.0         Yes  Yes   \n",
       "\n",
       "       ...       TRAV       TRAJ     TRBV TRBD     TRBJ  \\\n",
       "0      ...        nan        nan  TRBV8-1  nan  TRBJ1-1   \n",
       "1      ...        nan        nan  TRBV8-1  nan  TRBJ2-1   \n",
       "2      ...        nan        nan  TRBV8-3  nan  TRBJ1-1   \n",
       "3      ...        nan        nan  TRBV8-1  nan  TRBJ1-6   \n",
       "4      ...        nan        nan  TRBV8-3  nan  TRBJ2-6   \n",
       "...    ...        ...        ...      ...  ...      ...   \n",
       "39980  ...     TRAV25     TRAJ28      nan  nan      nan   \n",
       "39981  ...     TRAV25     TRAJ28      nan  nan      nan   \n",
       "39982  ...  TRAV17*01  TRAJ11*01      nan  nan      nan   \n",
       "39983  ...  TRAV17*01  TRAJ11*01      nan  nan      nan   \n",
       "39984  ...  TRAV17*01  TRAJ11*01      nan  nan      nan   \n",
       "\n",
       "      Reconstructed.J.annotation CDR3.beta.nt Mouse.strain PubMed.ID Remarks  \n",
       "0                             No          nan          P14   1716213     nan  \n",
       "1                             No          nan          P14   1716213     nan  \n",
       "2                             No          nan          P14   1716213     nan  \n",
       "3                             No          nan          P14   1716213     nan  \n",
       "4                             No          nan          P14   1716213     nan  \n",
       "...                          ...          ...          ...       ...     ...  \n",
       "39980                        nan          nan          nan  35401538     nan  \n",
       "39981                        nan          nan          nan  35401538     nan  \n",
       "39982                        nan          nan          nan  35401538     nan  \n",
       "39983                        nan          nan          nan  35401538     nan  \n",
       "39984                        nan          nan          nan  35401538     nan  \n",
       "\n",
       "[39985 rows x 29 columns]"
      ]
     },
     "execution_count": 19,
     "metadata": {},
     "output_type": "execute_result"
    }
   ],
   "source": [
    "mcpastcr_artifact = wandb.use_artifact(f\"{MCPAS_TCR}:latest\")\n",
    "mcpastcr_table = mcpastcr_artifact.get(f\"{MCPAS_TCR}_table.table.json\")\n",
    "mcpastcr_artifact_dir = mcpastcr_artifact.download()\n",
    "mcpastcr_df = pd.DataFrame(data=mcpastcr_table.data, columns=mcpastcr_table.columns)\n",
    "mcpastcr_df"
   ]
  },
  {
   "cell_type": "code",
   "execution_count": 20,
   "metadata": {},
   "outputs": [
    {
     "data": {
      "text/plain": [
       "Index(['CDR3.alpha.aa', 'CDR3.beta.aa', 'Species', 'Category', 'Pathology',\n",
       "       'Pathology.Mesh.ID', 'Additional.study.details',\n",
       "       'Antigen.identification.method', 'Single.cell', 'NGS',\n",
       "       'Antigen.protein', 'Protein.ID', 'Epitope.peptide', 'Epitope.ID', 'MHC',\n",
       "       'Tissue', 'T.Cell.Type', 'T.cell.characteristics', 'CDR3.alpha.nt',\n",
       "       'TRAV', 'TRAJ', 'TRBV', 'TRBD', 'TRBJ', 'Reconstructed.J.annotation',\n",
       "       'CDR3.beta.nt', 'Mouse.strain', 'PubMed.ID', 'Remarks'],\n",
       "      dtype='object')"
      ]
     },
     "execution_count": 20,
     "metadata": {},
     "output_type": "execute_result"
    }
   ],
   "source": [
    "mcpastcr_df.columns"
   ]
  },
  {
   "cell_type": "code",
   "execution_count": 21,
   "metadata": {},
   "outputs": [
    {
     "name": "stderr",
     "output_type": "stream",
     "text": [
      "/tmp/ipykernel_67467/3425316292.py:2: SettingWithCopyWarning: \n",
      "A value is trying to be set on a copy of a slice from a DataFrame\n",
      "\n",
      "See the caveats in the documentation: https://pandas.pydata.org/pandas-docs/stable/user_guide/indexing.html#returning-a-view-versus-a-copy\n",
      "  mcpastcr_df.replace(\"nan\", np.nan, inplace=True)\n"
     ]
    },
    {
     "data": {
      "text/plain": [
       "Index(['CDR3.alpha.aa', 'CDR3.beta.aa', 'Species', 'Category', 'Pathology',\n",
       "       'Pathology.Mesh.ID', 'Additional.study.details',\n",
       "       'Antigen.identification.method', 'Single.cell', 'NGS',\n",
       "       'Antigen.protein', 'Protein.ID', 'Epitope.peptide', 'Epitope.ID', 'MHC',\n",
       "       'Tissue', 'T.Cell.Type', 'T.cell.characteristics', 'CDR3.alpha.nt',\n",
       "       'TRAV', 'TRAJ', 'TRBV', 'TRBD', 'TRBJ', 'Reconstructed.J.annotation',\n",
       "       'CDR3.beta.nt', 'Mouse.strain', 'PubMed.ID', 'Remarks'],\n",
       "      dtype='object')"
      ]
     },
     "execution_count": 21,
     "metadata": {},
     "output_type": "execute_result"
    }
   ],
   "source": [
    "mcpastcr_df = mcpastcr_df[mcpastcr_df[\"Species\"] == \"Human\"]\n",
    "mcpastcr_df.replace(\"nan\", np.nan, inplace=True)\n",
    "mcpastcr_df = mcpastcr_df[(mcpastcr_df[\"Epitope.peptide\"].notna())]\n",
    "mcpastcr_df.columns"
   ]
  },
  {
   "cell_type": "code",
   "execution_count": 22,
   "metadata": {},
   "outputs": [],
   "source": [
    "rename_mapping = {\n",
    "    \"CDR3.alpha.aa\": \"TRA_CDR3\",\n",
    "    \"CDR3.beta.aa\": \"TRB_CDR3\",\n",
    "    \"Epitope.peptide\": \"Epitope\"\n",
    "}\n",
    "mcpastcr_df = mcpastcr_df.rename(columns=rename_mapping)\n",
    "mcpastcr_df.replace(\"Human\", \"HomoSapiens\", inplace=True)"
   ]
  },
  {
   "cell_type": "code",
   "execution_count": 23,
   "metadata": {},
   "outputs": [],
   "source": [
    "to_path = \"../data/McPAS-TCR/fitted_data\"\n",
    "file_name = \"mcpastcr_fitted_data_both.tsv\"\n",
    "mcpastcr_df.to_csv(to_path+\"/\"+file_name, sep=\"\\t\", index=False)"
   ]
  }
 ],
 "metadata": {
  "kernelspec": {
   "display_name": "BA24",
   "language": "python",
   "name": "python3"
  },
  "language_info": {
   "codemirror_mode": {
    "name": "ipython",
    "version": 3
   },
   "file_extension": ".py",
   "mimetype": "text/x-python",
   "name": "python",
   "nbconvert_exporter": "python",
   "pygments_lexer": "ipython3",
   "version": "3.12.2"
  }
 },
 "nbformat": 4,
 "nbformat_minor": 2
}
