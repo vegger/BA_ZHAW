{
 "cells": [
  {
   "cell_type": "code",
   "execution_count": null,
   "metadata": {},
   "outputs": [],
   "source": [
    "import pandas as pd "
   ]
  },
  {
   "cell_type": "code",
   "execution_count": null,
   "metadata": {},
   "outputs": [],
   "source": [
    "path_to_titan = \"../../data/TITAN_TestSet_global_scores/testSet_Global_scores_TITAN.csv\"\n",
    "df_titan = pd.read_csv(path_to_titan)\n",
    "df_titan.columns"
   ]
  },
  {
   "cell_type": "code",
   "execution_count": null,
   "metadata": {},
   "outputs": [],
   "source": [
    "print(df_titan[[\"TRB_CDR3\", \"TRBC\"]].to_string())"
   ]
  },
  {
   "cell_type": "code",
   "execution_count": null,
   "metadata": {},
   "outputs": [],
   "source": [
    "\n",
    "print(f\"columns of titan df: \\n{df_titan.columns}\")\n",
    "first_row_titan = df_titan.iloc[0]\n",
    "first_row_titan"
   ]
  },
  {
   "cell_type": "code",
   "execution_count": null,
   "metadata": {},
   "outputs": [],
   "source": [
    "path_to_VDJdb = \"../../data/VDJdb/VDJdb_data.tsv\"\n",
    "df_vdjdb = pd.read_csv(path_to_VDJdb, sep=\"\\t\")\n",
    "df_vdjdb"
   ]
  },
  {
   "cell_type": "code",
   "execution_count": null,
   "metadata": {},
   "outputs": [],
   "source": [
    "print(first_row_titan[\"TRA_CDR3\"])\n",
    "print(first_row_titan[\"TRB_CDR3\"])\n",
    "print(first_row_titan[\"epitope\"])"
   ]
  },
  {
   "cell_type": "code",
   "execution_count": null,
   "metadata": {},
   "outputs": [],
   "source": [
    "dummy = df_vdjdb[(df_vdjdb[\"CDR3\"] == first_row_titan[\"TRA_CDR3\"]) | (df_vdjdb[\"CDR3\"] == first_row_titan[\"TRB_CDR3\"])]\n",
    "dummy"
   ]
  },
  {
   "cell_type": "markdown",
   "metadata": {},
   "source": [
    "This is weird... but I (Cyril) do not trust the data from the TITAN specifically this file. What I (Cyril) expected were that we could find somewhere in the VDJdb the entries of the alpha and the beta chain. The alpha-chain 55128 and the beta-chain(s) would fit but the epitope is wrong. Score is very low and we do not know that this means => i assume that this is a synthetically created \"false positive\" example!!"
   ]
  },
  {
   "cell_type": "code",
   "execution_count": null,
   "metadata": {},
   "outputs": [],
   "source": [
    "'''\n",
    "from IPython.display import display, HTML\n",
    "# Convert the DataFrame to HTML\n",
    "df_html = df.to_html()\n",
    "\n",
    "# Create a scrollable table using custom HTML and CSS\n",
    "scrollable_table = f\"\"\"\n",
    "<div style=\"overflow-x: auto; width: 800px; height: 200px; overflow-y: scroll;\">\n",
    "    {df_html}\n",
    "</div>\n",
    "\"\"\"\n",
    "\n",
    "# Display the scrollable table\n",
    "display(HTML(scrollable_table))\n",
    "'''"
   ]
  },
  {
   "cell_type": "markdown",
   "metadata": {},
   "source": [
    "We used the Stitchr command line tool first to be able to reproduce one TCRA_nt, TCRB_nt, TCRA_aa and TCRB_aa \n",
    "\n",
    "For this, we use the information of the first paired chain data of the VDJdb.\n",
    "\n",
    "**Input: (the TRB)**\n",
    "\n",
    "`stitchr -v TRBV19*01 -j TRBJ2-1*01 -cdr3 CASSIRASNEQFF`\n",
    "\n",
    "**Output:** \n",
    "\n",
    "TRB_nt: \n",
    "\n",
    "`ATGAGCAACCAGGTGCTCTGCTGTGTGGTCCTTTGTTTCCTGGGAGCAAACACCGTGGAT\n",
    "GGTGGAATCACTCAGTCCCCAAAGTACCTGTTCAGAAAGGAAGGACAGAATGTGACCCTG\n",
    "AGTTGTGAACAGAATTTGAACCACGATGCCATGTACTGGTACCGACAGGACCCAGGGCAA\n",
    "GGGCTGAGATTGATCTACTACTCACAGATAGTAAATGACTTTCAGAAAGGAGATATAGCT\n",
    "GAAGGGTACAGCGTCTCTCGGGAGAAGAAGGAATCCTTTCCTCTCACTGTGACATCGGCC\n",
    "CAAAAGAACCCGACAGCTTTCTATCTCTGTGCCAGTAGTATCAGAGCCAGCAATGAGCAG\n",
    "TTCTTCGGGCCAGGGACACGGCTCACCGTGCTAGAGGACCTGAAAAACGTGTTCCCACCC\n",
    "GAGGTCGCTGTGTTTGAGCCATCAGAAGCAGAGATCTCCCACACCCAAAAGGCCACACTG\n",
    "GTGTGCCTGGCCACAGGCTTCTACCCCGACCACGTGGAGCTGAGCTGGTGGGTGAATGGG\n",
    "AAGGAGGTGCACAGTGGGGTCAGCACAGACCCGCAGCCCCTCAAGGAGCAGCCCGCCCTC\n",
    "AATGACTCCAGATACTGCCTGAGCAGCCGCCTGAGGGTCTCGGCCACCTTCTGGCAGAAC\n",
    "CCCCGCAACCACTTCCGCTGTCAAGTCCAGTTCTACGGGCTCTCGGAGAATGACGAGTGG\n",
    "ACCCAGGATAGGGCCAAACCTGTCACCCAGATCGTCAGCGCCGAGGCCTGGGGTAGAGCA\n",
    "GACTGTGGCTTCACCTCCGAGTCTTACCAGCAAGGGGTCCTGTCTGCCACCATCCTCTAT\n",
    "GAGATCTTGCTAGGGAAGGCCACCTTGTATGCCGTGCTGGTCAGTGCCCTCGTGCTGATG\n",
    "GCCATGGTCAAGAGAAAGGATTCCAGAGGC`\n",
    "\n",
    "--------------------------------------------------------------------------------\n",
    "\n",
    "TRB_aa: \n",
    "\n",
    "`MSNQVLCCVVLCFLGANTVDGGITQSPKYLFRKEGQNVTLSCEQNLNHDAMYWYRQDPGQ\n",
    "GLRLIYYSQIVNDFQKGDIAEGYSVSREKKESFPLTVTSAQKNPTAFYLCASSIRASNEQ\n",
    "FFGPGTRLTVLEDLKNVFPPEVAVFEPSEAEISHTQKATLVCLATGFYPDHVELSWWVNG\n",
    "KEVHSGVSTDPQPLKEQPALNDSRYCLSSRLRVSATFWQNPRNHFRCQVQFYGLSENDEW\n",
    "TQDRAKPVTQIVSAEAWGRADCGFTSESYQQGVLSATILYEILLGKATLYAVLVSALVLM\n",
    "AMVKRKDSRG`\n",
    "\n",
    "--------------------------------------------------------------------------------\n",
    "--------------------------------------------------------------------------------\n",
    "\n",
    "**Input: (the TRA)**\n",
    "\n",
    "`stitchr -v TRAV12-3*01 -j TRAJ42*01 -cdr3 CAMGGSGGSQGNLIF`\n",
    "\n",
    "**Output:** \n",
    "\n",
    "TRA_nt: \n",
    "\n",
    "`ATGATGAAATCCTTGAGAGTTTTACTGGTGATCCTGTGGCTTCAGTTAAGCTGGGTTTGG\n",
    "AGCCAACAGAAGGAGGTGGAGCAGGATCCTGGACCACTCAGTGTTCCAGAGGGAGCCATT\n",
    "GTTTCTCTCAACTGCACTTACAGCAACAGTGCTTTTCAATACTTCATGTGGTACAGACAG\n",
    "TATTCCAGAAAAGGCCCTGAGTTGCTGATGTACACATACTCCAGTGGTAACAAAGAAGAT\n",
    "GGAAGGTTTACAGCACAGGTCGATAAATCCAGCAAGTATATCTCCTTGTTCATCAGAGAC\n",
    "TCACAGCCCAGTGATTCAGCCACCTACCTCTGTGCAATGGGCGGCAGCGGAGGAAGCCAA\n",
    "GGAAATCTCATCTTTGGAAAAGGCACTAAACTCTCTGTTAAACCAAATATCCAGAACCCT\n",
    "GACCCTGCCGTGTACCAGCTGAGAGACTCTAAATCCAGTGACAAGTCTGTCTGCCTATTC\n",
    "ACCGATTTTGATTCTCAAACAAATGTGTCACAAAGTAAGGATTCTGATGTGTATATCACA\n",
    "GACAAAACTGTGCTAGACATGAGGTCTATGGACTTCAAGAGCAACAGTGCTGTGGCCTGG\n",
    "AGCAACAAATCTGACTTTGCATGTGCAAACGCCTTCAACAACAGCATTATTCCAGAAGAC\n",
    "ACCTTCTTCCCCAGCCCAGAAAGTTCCTGTGATGTCAAGCTGGTCGAGAAAAGCTTTGAA\n",
    "ACAGATACGAACCTAAACTTTCAAAACCTGTCAGTGATTGGGTTCCGAATCCTCCTCCTG\n",
    "AAAGTGGCCGGGTTTAATCTGCTCATGACGCTGCGGCTGTGGTCCAGC`\n",
    "\n",
    "--------------------------------------------------------------------------------\n",
    "\n",
    "TRA_aa: \n",
    "\n",
    "`MMKSLRVLLVILWLQLSWVWSQQKEVEQDPGPLSVPEGAIVSLNCTYSNSAFQYFMWYRQ\n",
    "YSRKGPELLMYTYSSGNKEDGRFTAQVDKSSKYISLFIRDSQPSDSATYLCAMGGSGGSQ\n",
    "GNLIFGKGTKLSVKPNIQNPDPAVYQLRDSKSSDKSVCLFTDFDSQTNVSQSKDSDVYIT\n",
    "DKTVLDMRSMDFKSNSAVAWSNKSDFACANAFNNSIIPEDTFFPSPESSCDVKLVEKSFE\n",
    "TDTNLNFQNLSVIGFRILLLKVAGFNLLMTLRLWSS`"
   ]
  },
  {
   "cell_type": "code",
   "execution_count": null,
   "metadata": {},
   "outputs": [],
   "source": [
    "TRB_nt_expected = \"ATGAGCAACCAGGTGCTCTGCTGTGTGGTCCTTTGTTTCCTGGGAGCAAACACCGTGGAT\\\n",
    "GGTGGAATCACTCAGTCCCCAAAGTACCTGTTCAGAAAGGAAGGACAGAATGTGACCCTG\\\n",
    "AGTTGTGAACAGAATTTGAACCACGATGCCATGTACTGGTACCGACAGGACCCAGGGCAA\\\n",
    "GGGCTGAGATTGATCTACTACTCACAGATAGTAAATGACTTTCAGAAAGGAGATATAGCT\\\n",
    "GAAGGGTACAGCGTCTCTCGGGAGAAGAAGGAATCCTTTCCTCTCACTGTGACATCGGCC\\\n",
    "CAAAAGAACCCGACAGCTTTCTATCTCTGTGCCAGTAGTATCAGAGCCAGCAATGAGCAG\\\n",
    "TTCTTCGGGCCAGGGACACGGCTCACCGTGCTAGAGGACCTGAAAAACGTGTTCCCACCC\\\n",
    "GAGGTCGCTGTGTTTGAGCCATCAGAAGCAGAGATCTCCCACACCCAAAAGGCCACACTG\\\n",
    "GTGTGCCTGGCCACAGGCTTCTACCCCGACCACGTGGAGCTGAGCTGGTGGGTGAATGGG\\\n",
    "AAGGAGGTGCACAGTGGGGTCAGCACAGACCCGCAGCCCCTCAAGGAGCAGCCCGCCCTC\\\n",
    "AATGACTCCAGATACTGCCTGAGCAGCCGCCTGAGGGTCTCGGCCACCTTCTGGCAGAAC\\\n",
    "CCCCGCAACCACTTCCGCTGTCAAGTCCAGTTCTACGGGCTCTCGGAGAATGACGAGTGG\\\n",
    "ACCCAGGATAGGGCCAAACCTGTCACCCAGATCGTCAGCGCCGAGGCCTGGGGTAGAGCA\\\n",
    "GACTGTGGCTTCACCTCCGAGTCTTACCAGCAAGGGGTCCTGTCTGCCACCATCCTCTAT\\\n",
    "GAGATCTTGCTAGGGAAGGCCACCTTGTATGCCGTGCTGGTCAGTGCCCTCGTGCTGATG\\\n",
    "GCCATGGTCAAGAGAAAGGATTCCAGAGGC\"\n",
    "\n",
    "TRB_nt_expected"
   ]
  },
  {
   "cell_type": "code",
   "execution_count": null,
   "metadata": {},
   "outputs": [],
   "source": [
    "filtered_df= df_titan.filter(items=[\"TRA_nt\", \"TRB_nt\", \"TRA_aa\", \"TRB_aa\"])"
   ]
  },
  {
   "cell_type": "code",
   "execution_count": null,
   "metadata": {},
   "outputs": [],
   "source": [
    "filtered_df = df_titan[(df_titan['TRB_nt'] == TRB_nt_expected)]\n",
    "filtered_df"
   ]
  },
  {
   "cell_type": "code",
   "execution_count": null,
   "metadata": {},
   "outputs": [],
   "source": [
    "TRA_nt_expected = \"ATGATGAAATCCTTGAGAGTTTTACTGGTGATCCTGTGGCTTCAGTTAAGCTGGGTTTGG\\\n",
    "AGCCAACAGAAGGAGGTGGAGCAGGATCCTGGACCACTCAGTGTTCCAGAGGGAGCCATT\\\n",
    "GTTTCTCTCAACTGCACTTACAGCAACAGTGCTTTTCAATACTTCATGTGGTACAGACAG\\\n",
    "TATTCCAGAAAAGGCCCTGAGTTGCTGATGTACACATACTCCAGTGGTAACAAAGAAGAT\\\n",
    "GGAAGGTTTACAGCACAGGTCGATAAATCCAGCAAGTATATCTCCTTGTTCATCAGAGAC\\\n",
    "TCACAGCCCAGTGATTCAGCCACCTACCTCTGTGCAATGGGCGGCAGCGGAGGAAGCCAA\\\n",
    "GGAAATCTCATCTTTGGAAAAGGCACTAAACTCTCTGTTAAACCAAATATCCAGAACCCT\\\n",
    "GACCCTGCCGTGTACCAGCTGAGAGACTCTAAATCCAGTGACAAGTCTGTCTGCCTATTC\\\n",
    "ACCGATTTTGATTCTCAAACAAATGTGTCACAAAGTAAGGATTCTGATGTGTATATCACA\\\n",
    "GACAAAACTGTGCTAGACATGAGGTCTATGGACTTCAAGAGCAACAGTGCTGTGGCCTGG\\\n",
    "AGCAACAAATCTGACTTTGCATGTGCAAACGCCTTCAACAACAGCATTATTCCAGAAGAC\\\n",
    "ACCTTCTTCCCCAGCCCAGAAAGTTCCTGTGATGTCAAGCTGGTCGAGAAAAGCTTTGAA\\\n",
    "ACAGATACGAACCTAAACTTTCAAAACCTGTCAGTGATTGGGTTCCGAATCCTCCTCCTG\\\n",
    "AAAGTGGCCGGGTTTAATCTGCTCATGACGCTGCGGCTGTGGTCCAGC\"\n",
    "\n",
    "TRA_nt_expected"
   ]
  },
  {
   "cell_type": "code",
   "execution_count": null,
   "metadata": {},
   "outputs": [],
   "source": [
    "filtered_df = filtered_df[(df_titan['TRA_nt'] == TRA_nt_expected) & (df_titan[\"epitope\"] == \"FLKEKGGL\")]\n",
    "filtered_df"
   ]
  },
  {
   "cell_type": "markdown",
   "metadata": {},
   "source": [
    "**The entry above should be the one which corresponds to the first row in the VDJdb!**\n",
    "However, this entry is not avaiable in this specific loaded dataset from TITAN. \n",
    "Nevertheless, the encoding via Stitchr is working well, becuase when we change the epitope to the one stated as (in my opinion wrong) in the TITAN dataset we can find an entry!"
   ]
  },
  {
   "cell_type": "code",
   "execution_count": null,
   "metadata": {},
   "outputs": [],
   "source": [
    "filtered_df= df_titan.filter(items=[\"TRA_nt\", \"TRB_nt\", \"TRA_aa\", \"TRB_aa\"])\n",
    "filtered_df = df_titan[(df_titan['TRB_nt'] == TRB_nt_expected)]\n",
    "filtered_df = filtered_df[(df_titan['TRA_nt'] == TRA_nt_expected) & (df_titan[\"epitope\"] == \"GILGFVFTL\")]\n",
    "filtered_df"
   ]
  }
 ],
 "metadata": {
  "kernelspec": {
   "display_name": "BA24",
   "language": "python",
   "name": "python3"
  },
  "language_info": {
   "codemirror_mode": {
    "name": "ipython",
    "version": 3
   },
   "file_extension": ".py",
   "mimetype": "text/x-python",
   "name": "python",
   "nbconvert_exporter": "python",
   "pygments_lexer": "ipython3",
   "version": "3.12.2"
  }
 },
 "nbformat": 4,
 "nbformat_minor": 2
}
