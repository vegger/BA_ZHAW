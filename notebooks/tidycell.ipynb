{
 "cells": [
  {
   "cell_type": "code",
   "execution_count": 37,
   "metadata": {},
   "outputs": [
    {
     "name": "stderr",
     "output_type": "stream",
     "text": [
      "/home/ubuntu/anaconda3/envs/BA24/lib/python3.12/site-packages/tidytcells/_utils/warnings.py:12: UserWarning: Failed to standardize \"HLA-DQ1\" for species homosapiens: unrecognised gene name. (best attempted fix: \"HLA-DQ*1\").\n",
      "  warn(warning_message)\n"
     ]
    }
   ],
   "source": [
    "import tidytcells as tt\n",
    "orig = \"HLA-DQ1\"\n",
    "cleaned = tt.mh.standardize(orig)\n",
    "if(cleaned):\n",
    "  print(\"checkcehck\")\n",
    "  print(cleaned)\n",
    "  print(tt.mh.get_class(orig))"
   ]
  }
 ],
 "metadata": {
  "kernelspec": {
   "display_name": "BA24",
   "language": "python",
   "name": "python3"
  },
  "language_info": {
   "codemirror_mode": {
    "name": "ipython",
    "version": 3
   },
   "file_extension": ".py",
   "mimetype": "text/x-python",
   "name": "python",
   "nbconvert_exporter": "python",
   "pygments_lexer": "ipython3",
   "version": "3.12.2"
  }
 },
 "nbformat": 4,
 "nbformat_minor": 2
}
