{
 "cells": [
  {
   "cell_type": "code",
   "execution_count": 17,
   "metadata": {},
   "outputs": [],
   "source": [
    "import peptides\n",
    "import Bio.SeqUtils as BioUtils\n",
    "from Bio.Seq import Seq\n",
    "from Bio.SeqUtils.ProtParam import ProteinAnalysis\n",
    "import pandas as pd"
   ]
  },
  {
   "cell_type": "markdown",
   "metadata": {},
   "source": [
    "Here examples of peptides/epitopes from VDJdb:\n",
    "\n",
    "- FLKEKGGL\n",
    "- LQPFPQPELPYPQPQ\n",
    "- LLQTGIHVRVSQPSL\n",
    "- EHPTFTSQYRIQGKL\n",
    "\n",
    "[Documentation](https://pypi.org/project/peptides/)"
   ]
  },
  {
   "cell_type": "code",
   "execution_count": 18,
   "metadata": {},
   "outputs": [],
   "source": [
    "peptide1_Peptide = peptides.Peptide(\"FLKEKGGL\")\n",
    "peptide2_Peptide = peptides.Peptide(\"LQPFPQPELPYPQPQ\")\n",
    "peptide3_Peptide = peptides.Peptide(\"LLQTGIHVRVSQPSL\")\n",
    "peptide4_Peptide = peptides.Peptide(\"EHPTFTSQYRIQGKL\")\n",
    "\n",
    "list_peptides_Peptide = [peptide1_Peptide, peptide2_Peptide, peptide3_Peptide, peptide4_Peptide]"
   ]
  },
  {
   "cell_type": "code",
   "execution_count": 19,
   "metadata": {},
   "outputs": [],
   "source": [
    "peptide1_Biopython = Seq(\"FLKEKGGL\")\n",
    "peptide2_Biopython = Seq(\"LQPFPQPELPYPQPQ\")\n",
    "peptide3_Biopython = Seq(\"LLQTGIHVRVSQPSL\")\n",
    "peptide4_Biopython = Seq(\"EHPTFTSQYRIQGKL\")\n",
    "\n",
    "list_peptides_Biopython = [peptide1_Biopython, peptide2_Biopython, peptide3_Biopython, peptide4_Biopython]"
   ]
  },
  {
   "cell_type": "markdown",
   "metadata": {},
   "source": [
    "[ImRex](https://www.biorxiv.org/content/10.1101/2019.12.18.880146v2.full) used: \n",
    "- mass, \n",
    "- hydrophobicity,\n",
    "- hydrophilicity, \n",
    "- isoelectric point\n",
    "\n",
    "Calcualted w/ [biopython](https://biopython.org/wiki/Download)"
   ]
  },
  {
   "cell_type": "code",
   "execution_count": 20,
   "metadata": {},
   "outputs": [
    {
     "name": "stdout",
     "output_type": "stream",
     "text": [
      "peptide0: 891.0654999999999\n",
      "peptide1: 1778.9995\n",
      "peptide2: 1647.9161\n",
      "peptide3: 1804.9988000000003\n"
     ]
    }
   ],
   "source": [
    "# Biopython \n",
    "# molecular mass of the amino acid complex\n",
    "for i, peptide in enumerate(list_peptides_Biopython): \n",
    "    print(f\"peptide{i}: {BioUtils.molecular_weight(peptide, \"protein\")}\")"
   ]
  },
  {
   "cell_type": "code",
   "execution_count": 21,
   "metadata": {},
   "outputs": [
    {
     "name": "stdout",
     "output_type": "stream",
     "text": [
      "peptide0: 891.0781400000001\n",
      "peptide1: 1779.0251399999997\n",
      "peptide2: 1647.9381399999997\n",
      "peptide3: 1805.0232399999998\n"
     ]
    }
   ],
   "source": [
    "# Peptides\n",
    "# molecular mass of the amino acid complex\n",
    "for i, peptide in enumerate(list_peptides_Peptide): \n",
    "    print(f\"peptide{i}: {peptide.molecular_weight()}\")"
   ]
  },
  {
   "cell_type": "markdown",
   "metadata": {},
   "source": [
    "**Same result if Biopython or Peptides!**"
   ]
  },
  {
   "cell_type": "code",
   "execution_count": 22,
   "metadata": {},
   "outputs": [
    {
     "name": "stdout",
     "output_type": "stream",
     "text": [
      "peptide0: -0.21250000000000005\n",
      "peptide1: -1.2\n",
      "peptide2: 0.35333333333333333\n",
      "peptide3: -1.1\n"
     ]
    }
   ],
   "source": [
    "# Biopython\n",
    "# Hydrophobicity: if positive => hydrophobic, if negative => hydrophilic\n",
    "for i, peptide in enumerate(list_peptides_Biopython): \n",
    "    print(f\"peptide{i}: {ProteinAnalysis(peptide).gravy()}\")"
   ]
  },
  {
   "cell_type": "code",
   "execution_count": 23,
   "metadata": {},
   "outputs": [
    {
     "name": "stdout",
     "output_type": "stream",
     "text": [
      "peptide0: -0.21250000000000008\n",
      "peptide1: -1.2\n",
      "peptide2: 0.3533333333333333\n",
      "peptide3: -1.0999999999999999\n"
     ]
    }
   ],
   "source": [
    "# Peptides\n",
    "# Hydrophobicity: if positive => hydrophobic, if negative => hydrophilic\n",
    "for i, peptide in enumerate(list_peptides_Peptide): \n",
    "    print(f\"peptide{i}: {peptide.hydrophobicity()}\")"
   ]
  },
  {
   "cell_type": "markdown",
   "metadata": {},
   "source": [
    "**Same result if Biopython or Peptides!**"
   ]
  },
  {
   "cell_type": "code",
   "execution_count": 24,
   "metadata": {},
   "outputs": [
    {
     "name": "stdout",
     "output_type": "stream",
     "text": [
      "peptide0: 8.591073036193851\n",
      "peptide1: 4.0500284194946286\n",
      "peptide2: 9.756532478332517\n",
      "peptide3: 8.692417335510253\n"
     ]
    }
   ],
   "source": [
    "# Biopython\n",
    "# Isoelectric Point\n",
    "for i, peptide in enumerate(list_peptides_Biopython): \n",
    "    print(f\"peptide{i}: {ProteinAnalysis(peptide).isoelectric_point()}\")"
   ]
  },
  {
   "cell_type": "code",
   "execution_count": 25,
   "metadata": {},
   "outputs": [
    {
     "name": "stdout",
     "output_type": "stream",
     "text": [
      "peptide0: 9.53730092663318\n",
      "peptide1: 3.8499827128835022\n",
      "peptide2: 10.551758703775704\n",
      "peptide3: 9.299755305983126\n"
     ]
    }
   ],
   "source": [
    "# Peptides\n",
    "# Isoelectric Point\n",
    "for i, peptide in enumerate(list_peptides_Peptide): \n",
    "    print(f\"peptide{i}: {peptide.isoelectric_point()}\")"
   ]
  },
  {
   "cell_type": "markdown",
   "metadata": {},
   "source": [
    "<span style=\"color:red\">**The results are different!!!**</span>."
   ]
  },
  {
   "cell_type": "code",
   "execution_count": 29,
   "metadata": {},
   "outputs": [],
   "source": [
    "# Dictionary to hold the peptide dictionaries\n",
    "peptide_dicts = {}\n",
    "\n",
    "# Iterate through each peptide, create a dictionary for each, and populate it with descriptors\n",
    "for i, peptide in enumerate(list_peptides_Peptide):\n",
    "    peptide_dict_name = f\"peptide{i}_dict\"\n",
    "    peptide_dicts[peptide_dict_name] = peptide.descriptors()"
   ]
  },
  {
   "cell_type": "code",
   "execution_count": 30,
   "metadata": {},
   "outputs": [
    {
     "data": {
      "text/plain": [
       "{'BLOSUM1': 0.12749999999999995,\n",
       " 'BLOSUM2': -0.02749999999999999,\n",
       " 'BLOSUM3': -0.11000000000000004,\n",
       " 'BLOSUM4': -0.2,\n",
       " 'BLOSUM5': -0.028750000000000026,\n",
       " 'BLOSUM6': 0.43375,\n",
       " 'BLOSUM7': 0.25375000000000003,\n",
       " 'BLOSUM8': 0.345,\n",
       " 'BLOSUM9': 0.0875,\n",
       " 'BLOSUM10': -0.28125,\n",
       " 'PP1': -0.28375,\n",
       " 'PP2': -0.22500000000000003,\n",
       " 'PP3': 0.11625,\n",
       " 'F1': -0.11074999999999997,\n",
       " 'F2': 0.08037500000000003,\n",
       " 'F3': -0.04512499999999997,\n",
       " 'F4': 0.889875,\n",
       " 'F5': -0.1325,\n",
       " 'F6': -0.19724999999999995,\n",
       " 'KF1': -0.18750000000000003,\n",
       " 'KF2': -0.13875,\n",
       " 'KF3': -0.42125,\n",
       " 'KF4': 0.07749999999999999,\n",
       " 'KF5': 0.13624999999999998,\n",
       " 'KF6': -0.99625,\n",
       " 'KF7': 0.94625,\n",
       " 'KF8': 0.565,\n",
       " 'KF9': -0.25249999999999995,\n",
       " 'KF10': 0.4275,\n",
       " 'MSWHIM1': -0.265,\n",
       " 'MSWHIM2': 0.18749999999999997,\n",
       " 'MSWHIM3': -0.125,\n",
       " 'E1': 0.034999999999999976,\n",
       " 'E2': 0.02237500000000002,\n",
       " 'E3': -0.113625,\n",
       " 'E4': -0.12587500000000001,\n",
       " 'E5': 0.135125,\n",
       " 'PD1': -0.35250000000000004,\n",
       " 'PD2': -0.06375000000000003,\n",
       " 'ProtFP1': -1.0250000000000004,\n",
       " 'ProtFP2': -0.8775000000000002,\n",
       " 'ProtFP3': 0.455,\n",
       " 'ProtFP4': 0.1475,\n",
       " 'ProtFP5': -1.13875,\n",
       " 'ProtFP6': 1.3575,\n",
       " 'ProtFP7': -0.05000000000000002,\n",
       " 'ProtFP8': 0.03,\n",
       " 'SV1': 0.22900000000000004,\n",
       " 'SV2': 0.072875,\n",
       " 'SV3': 0.038375,\n",
       " 'SV4': -0.15687500000000001,\n",
       " 'ST1': -0.8744999999999999,\n",
       " 'ST2': -0.08375,\n",
       " 'ST3': 0.12525000000000003,\n",
       " 'ST4': 0.03900000000000001,\n",
       " 'ST5': -0.47275,\n",
       " 'ST6': -0.18475000000000014,\n",
       " 'ST7': 0.09275000000000001,\n",
       " 'ST8': 0.817125,\n",
       " 'SVGER1': -0.8934124999999999,\n",
       " 'SVGER2': -0.24673749999999997,\n",
       " 'SVGER3': -0.5486375000000001,\n",
       " 'SVGER4': 0.21602499999999994,\n",
       " 'SVGER5': 1.011175,\n",
       " 'SVGER6': 0.7182875,\n",
       " 'SVGER7': -2.423425,\n",
       " 'SVGER8': 0.41206250000000005,\n",
       " 'SVGER9': -1.0330125,\n",
       " 'SVGER10': -0.8282625000000001,\n",
       " 'SVGER11': -0.040999999999999925,\n",
       " 'T1': -4.7124999999999995,\n",
       " 'T2': 0.4625,\n",
       " 'T3': -0.59,\n",
       " 'T4': 0.42125,\n",
       " 'T5': 0.76375,\n",
       " 'VHSE1': 0.04000000000000006,\n",
       " 'VHSE2': -0.06375,\n",
       " 'VHSE3': -0.26000000000000006,\n",
       " 'VHSE4': 0.595,\n",
       " 'VHSE5': 0.09374999999999994,\n",
       " 'VHSE6': -0.45624999999999993,\n",
       " 'VHSE7': 0.8775,\n",
       " 'VHSE8': -0.48,\n",
       " 'Z1': -0.12375000000000003,\n",
       " 'Z2': -0.8424999999999999,\n",
       " 'Z3': -0.7862500000000001,\n",
       " 'Z4': -0.325,\n",
       " 'Z5': 0.08374999999999999}"
      ]
     },
     "execution_count": 30,
     "metadata": {},
     "output_type": "execute_result"
    }
   ],
   "source": [
    "peptide_dicts[\"peptide0_dict\"]"
   ]
  }
 ],
 "metadata": {
  "kernelspec": {
   "display_name": "BA24",
   "language": "python",
   "name": "python3"
  },
  "language_info": {
   "codemirror_mode": {
    "name": "ipython",
    "version": 3
   },
   "file_extension": ".py",
   "mimetype": "text/x-python",
   "name": "python",
   "nbconvert_exporter": "python",
   "pygments_lexer": "ipython3",
   "version": "3.12.2"
  }
 },
 "nbformat": 4,
 "nbformat_minor": 2
}
