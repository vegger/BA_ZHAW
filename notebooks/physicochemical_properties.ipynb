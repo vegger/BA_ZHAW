{
 "cells": [
  {
   "cell_type": "code",
   "execution_count": 107,
   "metadata": {},
   "outputs": [],
   "source": [
    "import peptides\n",
    "import Bio.SeqUtils as BioUtils\n",
    "from Bio.Seq import Seq\n",
    "from Bio.SeqUtils.ProtParam import ProteinAnalysis\n",
    "import pandas as pd\n",
    "import numpy as np"
   ]
  },
  {
   "cell_type": "markdown",
   "metadata": {},
   "source": [
    "Here examples of peptides/epitopes from VDJdb:\n",
    "\n",
    "- FLKEKGGL\n",
    "- LQPFPQPELPYPQPQ\n",
    "- LLQTGIHVRVSQPSL\n",
    "- EHPTFTSQYRIQGKL\n",
    "\n",
    "[Documentation](https://pypi.org/project/peptides/)"
   ]
  },
  {
   "cell_type": "code",
   "execution_count": 76,
   "metadata": {},
   "outputs": [],
   "source": [
    "peptide1_Peptide = peptides.Peptide(\"FLKEKGGL\")\n",
    "peptide2_Peptide = peptides.Peptide(\"LQPFPQPELPYPQPQ\")\n",
    "peptide3_Peptide = peptides.Peptide(\"LLQTGIHVRVSQPSL\")\n",
    "peptide4_Peptide = peptides.Peptide(\"EHPTFTSQYRIQGKL\")\n",
    "\n",
    "list_peptides_Peptide = [peptide1_Peptide, peptide2_Peptide, peptide3_Peptide, peptide4_Peptide]"
   ]
  },
  {
   "cell_type": "code",
   "execution_count": 77,
   "metadata": {},
   "outputs": [],
   "source": [
    "peptide1_Biopython = Seq(\"FLKEKGGL\")\n",
    "peptide2_Biopython = Seq(\"LQPFPQPELPYPQPQ\")\n",
    "peptide3_Biopython = Seq(\"LLQTGIHVRVSQPSL\")\n",
    "peptide4_Biopython = Seq(\"EHPTFTSQYRIQGKL\")\n",
    "\n",
    "list_peptides_Biopython = [peptide1_Biopython, peptide2_Biopython, peptide3_Biopython, peptide4_Biopython]"
   ]
  },
  {
   "cell_type": "markdown",
   "metadata": {},
   "source": [
    "[ImRex](https://www.biorxiv.org/content/10.1101/2019.12.18.880146v2.full) used: \n",
    "- mass, \n",
    "- hydrophobicity,\n",
    "- hydrophilicity, \n",
    "- isoelectric point\n",
    "\n",
    "Calcualted w/ [biopython](https://biopython.org/wiki/Download)\n",
    "\n",
    "They then used a so-called \"interaction map\" where they computed the dot-product of "
   ]
  },
  {
   "cell_type": "code",
   "execution_count": 78,
   "metadata": {},
   "outputs": [
    {
     "name": "stdout",
     "output_type": "stream",
     "text": [
      "peptide0: 891.0654999999999\n",
      "peptide1: 1778.9995\n",
      "peptide2: 1647.9161\n",
      "peptide3: 1804.9988000000003\n"
     ]
    }
   ],
   "source": [
    "# Biopython \n",
    "# molecular mass of the amino acid complex\n",
    "for i, peptide in enumerate(list_peptides_Biopython): \n",
    "    print(f\"peptide{i}: {BioUtils.molecular_weight(peptide, \"protein\")}\")"
   ]
  },
  {
   "cell_type": "code",
   "execution_count": 79,
   "metadata": {},
   "outputs": [
    {
     "name": "stdout",
     "output_type": "stream",
     "text": [
      "peptide0: 891.0781400000001\n",
      "peptide1: 1779.0251399999997\n",
      "peptide2: 1647.9381399999997\n",
      "peptide3: 1805.0232399999998\n"
     ]
    }
   ],
   "source": [
    "# Peptides\n",
    "# molecular mass of the amino acid complex\n",
    "for i, peptide in enumerate(list_peptides_Peptide): \n",
    "    print(f\"peptide{i}: {peptide.molecular_weight()}\")"
   ]
  },
  {
   "cell_type": "markdown",
   "metadata": {},
   "source": [
    "**Same result if Biopython or Peptides!**"
   ]
  },
  {
   "cell_type": "code",
   "execution_count": 80,
   "metadata": {},
   "outputs": [
    {
     "name": "stdout",
     "output_type": "stream",
     "text": [
      "peptide0: -0.21250000000000005\n",
      "peptide1: -1.2\n",
      "peptide2: 0.35333333333333333\n",
      "peptide3: -1.1\n"
     ]
    }
   ],
   "source": [
    "# Biopython\n",
    "# Hydrophobicity: if positive => hydrophobic, if negative => hydrophilic\n",
    "for i, peptide in enumerate(list_peptides_Biopython): \n",
    "    print(f\"peptide{i}: {ProteinAnalysis(peptide).gravy()}\")"
   ]
  },
  {
   "cell_type": "code",
   "execution_count": 81,
   "metadata": {},
   "outputs": [
    {
     "name": "stdout",
     "output_type": "stream",
     "text": [
      "peptide0: -0.21250000000000008\n",
      "peptide1: -1.2\n",
      "peptide2: 0.3533333333333333\n",
      "peptide3: -1.0999999999999999\n"
     ]
    }
   ],
   "source": [
    "# Peptides\n",
    "# Hydrophobicity: if positive => hydrophobic, if negative => hydrophilic\n",
    "for i, peptide in enumerate(list_peptides_Peptide): \n",
    "    print(f\"peptide{i}: {peptide.hydrophobicity()}\")"
   ]
  },
  {
   "cell_type": "markdown",
   "metadata": {},
   "source": [
    "**Same result if Biopython or Peptides!**"
   ]
  },
  {
   "cell_type": "code",
   "execution_count": 82,
   "metadata": {},
   "outputs": [
    {
     "name": "stdout",
     "output_type": "stream",
     "text": [
      "peptide0: 8.591073036193851\n",
      "peptide1: 4.0500284194946286\n",
      "peptide2: 9.756532478332517\n",
      "peptide3: 8.692417335510253\n"
     ]
    }
   ],
   "source": [
    "# Biopython\n",
    "# Isoelectric Point\n",
    "for i, peptide in enumerate(list_peptides_Biopython): \n",
    "    print(f\"peptide{i}: {ProteinAnalysis(peptide).isoelectric_point()}\")"
   ]
  },
  {
   "cell_type": "code",
   "execution_count": 83,
   "metadata": {},
   "outputs": [
    {
     "name": "stdout",
     "output_type": "stream",
     "text": [
      "peptide0: 9.53730092663318\n",
      "peptide1: 3.8499827128835022\n",
      "peptide2: 10.551758703775704\n",
      "peptide3: 9.299755305983126\n"
     ]
    }
   ],
   "source": [
    "# Peptides\n",
    "# Isoelectric Point\n",
    "for i, peptide in enumerate(list_peptides_Peptide): \n",
    "    print(f\"peptide{i}: {peptide.isoelectric_point()}\")"
   ]
  },
  {
   "cell_type": "markdown",
   "metadata": {},
   "source": [
    "<span style=\"color:red\">**The results are different!!!**</span>"
   ]
  },
  {
   "cell_type": "code",
   "execution_count": 84,
   "metadata": {},
   "outputs": [],
   "source": [
    "# Dictionary to hold the peptide dictionaries\n",
    "peptide_dicts = {}\n",
    "\n",
    "# Iterate through each peptide, create a dictionary for each, and populate it with descriptors\n",
    "for i, peptide in enumerate(list_peptides_Peptide):\n",
    "    peptide_dict_name = f\"peptide{i}_dict\"\n",
    "    peptide_dicts[peptide_dict_name] = peptide.descriptors()"
   ]
  },
  {
   "cell_type": "code",
   "execution_count": 85,
   "metadata": {},
   "outputs": [
    {
     "data": {
      "text/plain": [
       "{'BLOSUM1': 0.12749999999999995,\n",
       " 'BLOSUM2': -0.02749999999999999,\n",
       " 'BLOSUM3': -0.11000000000000004,\n",
       " 'BLOSUM4': -0.2,\n",
       " 'BLOSUM5': -0.028750000000000026,\n",
       " 'BLOSUM6': 0.43375,\n",
       " 'BLOSUM7': 0.25375000000000003,\n",
       " 'BLOSUM8': 0.345,\n",
       " 'BLOSUM9': 0.0875,\n",
       " 'BLOSUM10': -0.28125,\n",
       " 'PP1': -0.28375,\n",
       " 'PP2': -0.22500000000000003,\n",
       " 'PP3': 0.11625,\n",
       " 'F1': -0.11074999999999997,\n",
       " 'F2': 0.08037500000000003,\n",
       " 'F3': -0.04512499999999997,\n",
       " 'F4': 0.889875,\n",
       " 'F5': -0.1325,\n",
       " 'F6': -0.19724999999999995,\n",
       " 'KF1': -0.18750000000000003,\n",
       " 'KF2': -0.13875,\n",
       " 'KF3': -0.42125,\n",
       " 'KF4': 0.07749999999999999,\n",
       " 'KF5': 0.13624999999999998,\n",
       " 'KF6': -0.99625,\n",
       " 'KF7': 0.94625,\n",
       " 'KF8': 0.565,\n",
       " 'KF9': -0.25249999999999995,\n",
       " 'KF10': 0.4275,\n",
       " 'MSWHIM1': -0.265,\n",
       " 'MSWHIM2': 0.18749999999999997,\n",
       " 'MSWHIM3': -0.125,\n",
       " 'E1': 0.034999999999999976,\n",
       " 'E2': 0.02237500000000002,\n",
       " 'E3': -0.113625,\n",
       " 'E4': -0.12587500000000001,\n",
       " 'E5': 0.135125,\n",
       " 'PD1': -0.35250000000000004,\n",
       " 'PD2': -0.06375000000000003,\n",
       " 'ProtFP1': -1.0250000000000004,\n",
       " 'ProtFP2': -0.8775000000000002,\n",
       " 'ProtFP3': 0.455,\n",
       " 'ProtFP4': 0.1475,\n",
       " 'ProtFP5': -1.13875,\n",
       " 'ProtFP6': 1.3575,\n",
       " 'ProtFP7': -0.05000000000000002,\n",
       " 'ProtFP8': 0.03,\n",
       " 'SV1': 0.22900000000000004,\n",
       " 'SV2': 0.072875,\n",
       " 'SV3': 0.038375,\n",
       " 'SV4': -0.15687500000000001,\n",
       " 'ST1': -0.8744999999999999,\n",
       " 'ST2': -0.08375,\n",
       " 'ST3': 0.12525000000000003,\n",
       " 'ST4': 0.03900000000000001,\n",
       " 'ST5': -0.47275,\n",
       " 'ST6': -0.18475000000000014,\n",
       " 'ST7': 0.09275000000000001,\n",
       " 'ST8': 0.817125,\n",
       " 'SVGER1': -0.8934124999999999,\n",
       " 'SVGER2': -0.24673749999999997,\n",
       " 'SVGER3': -0.5486375000000001,\n",
       " 'SVGER4': 0.21602499999999994,\n",
       " 'SVGER5': 1.011175,\n",
       " 'SVGER6': 0.7182875,\n",
       " 'SVGER7': -2.423425,\n",
       " 'SVGER8': 0.41206250000000005,\n",
       " 'SVGER9': -1.0330125,\n",
       " 'SVGER10': -0.8282625000000001,\n",
       " 'SVGER11': -0.040999999999999925,\n",
       " 'T1': -4.7124999999999995,\n",
       " 'T2': 0.4625,\n",
       " 'T3': -0.59,\n",
       " 'T4': 0.42125,\n",
       " 'T5': 0.76375,\n",
       " 'VHSE1': 0.04000000000000006,\n",
       " 'VHSE2': -0.06375,\n",
       " 'VHSE3': -0.26000000000000006,\n",
       " 'VHSE4': 0.595,\n",
       " 'VHSE5': 0.09374999999999994,\n",
       " 'VHSE6': -0.45624999999999993,\n",
       " 'VHSE7': 0.8775,\n",
       " 'VHSE8': -0.48,\n",
       " 'Z1': -0.12375000000000003,\n",
       " 'Z2': -0.8424999999999999,\n",
       " 'Z3': -0.7862500000000001,\n",
       " 'Z4': -0.325,\n",
       " 'Z5': 0.08374999999999999}"
      ]
     },
     "execution_count": 85,
     "metadata": {},
     "output_type": "execute_result"
    }
   ],
   "source": [
    "peptide_dicts[\"peptide0_dict\"]"
   ]
  },
  {
   "cell_type": "markdown",
   "metadata": {},
   "source": [
    "------------------------------------------------------------------------------------------------------"
   ]
  },
  {
   "cell_type": "markdown",
   "metadata": {},
   "source": [
    "**ImRex**\n",
    "\n",
    "In the following we try to reproduce the so-claled \"interaction maps\" of the ImRex paper. Therefore, we can use the above gained experience with Biopython, as they implemented their physicochemical properties using the Biopython package.\n",
    "\n",
    "Citate form the paper: \n",
    "\n",
    "\"In our experiments, the interaction map for each CDR3-epitope pair was constructed as follows. First, each sequence in the pair was converted into a vector of physicochemical property values of each amino acid. Next, a matrix was computed that contained the pairwise absolute differences between the elements of the two vectors. One such twodimensional matrix was created for each of the following physicochemical properties: hydrophobicity, hydrophilicity, mass and isoelectric point (29). Every element in the matrix was then scaled between zero and one, based on the minimum and maximum possible values of each property. Next, the matrices were zero-padded on both sides to a dimension of 20 × 11 (CDR3 × epitope).\"\n",
    "\n",
    "For this examples we use data from the VDJdb, stored in our W&B cloud."
   ]
  },
  {
   "cell_type": "code",
   "execution_count": 99,
   "metadata": {},
   "outputs": [
    {
     "name": "stdout",
     "output_type": "stream",
     "text": [
      "OK\n",
      "len of cdr3_mass: 12\n"
     ]
    },
    {
     "data": {
      "text/plain": [
       "[165.1891,\n",
       " 181.1885,\n",
       " 146.1445,\n",
       " 147.1293,\n",
       " 155.1546,\n",
       " 133.1027,\n",
       " 75.0666,\n",
       " 105.0926,\n",
       " 133.1027,\n",
       " 105.0926,\n",
       " 89.0932,\n",
       " 121.1582]"
      ]
     },
     "execution_count": 99,
     "metadata": {},
     "output_type": "execute_result"
    }
   ],
   "source": [
    "epitope1 = Seq(\"LLWNGPMAV\")\n",
    "epitope1_mass = []\n",
    "\n",
    "cdr3_1 = \"FYQEHDGSDSAC\"\n",
    "cdr3_1_mass = []\n",
    "\n",
    "for amino_acid in cdr3_1:\n",
    "    mass = BioUtils.molecular_weight(amino_acid, \"protein\")\n",
    "    cdr3_1_mass.append(mass)\n",
    "\n",
    "print(\"OK\") if len(cdr3_1) == len(cdr3_1_mass) else print(\"ERROR\")\n",
    "print(f\"len of cdr3_mass: {len(cdr3_1_mass)}\")\n",
    "cdr3_1_mass"
   ]
  },
  {
   "cell_type": "code",
   "execution_count": 100,
   "metadata": {},
   "outputs": [
    {
     "name": "stdout",
     "output_type": "stream",
     "text": [
      "L\n",
      "L\n",
      "W\n",
      "N\n",
      "G\n",
      "P\n",
      "M\n",
      "A\n",
      "V\n"
     ]
    },
    {
     "data": {
      "text/plain": [
       "[131.1729,\n",
       " 131.1729,\n",
       " 204.2252,\n",
       " 132.1179,\n",
       " 75.0666,\n",
       " 115.1305,\n",
       " 149.2113,\n",
       " 89.0932,\n",
       " 117.1463]"
      ]
     },
     "execution_count": 100,
     "metadata": {},
     "output_type": "execute_result"
    }
   ],
   "source": [
    "for amino_acid in epitope1: \n",
    "    print(amino_acid)\n",
    "    mass = BioUtils.molecular_weight(amino_acid, \"protein\")\n",
    "    epitope1_mass.append(mass)\n",
    "\n",
    "epitope1_mass"
   ]
  },
  {
   "cell_type": "code",
   "execution_count": 101,
   "metadata": {},
   "outputs": [
    {
     "data": {
      "text/plain": [
       "array([131.1729, 131.1729, 204.2252, 132.1179,  75.0666, 115.1305,\n",
       "       149.2113,  89.0932, 117.1463])"
      ]
     },
     "execution_count": 101,
     "metadata": {},
     "output_type": "execute_result"
    }
   ],
   "source": [
    "epitope1_mass_np = np.array(epitope1_mass)\n",
    "epitope1_mass_np.T"
   ]
  },
  {
   "cell_type": "code",
   "execution_count": 113,
   "metadata": {},
   "outputs": [
    {
     "name": "stdout",
     "output_type": "stream",
     "text": [
      "difference_matrix.shape: \n",
      "(12, 9)\n",
      "scaled_difference_matrix.shape: \n",
      "(12, 9)\n"
     ]
    },
    {
     "data": {
      "text/plain": [
       "array([[0.        , 0.26336767, 0.26336767, 0.30223384, 0.25605109,\n",
       "        0.69776616, 0.38757466, 0.12370682, 0.58916634, 0.37196749,\n",
       "        0.        ],\n",
       "       [0.        , 0.38724173, 0.38724173, 0.17835978, 0.37992515,\n",
       "        0.82164022, 0.51144871, 0.24758088, 0.7130404 , 0.49584155,\n",
       "        0.        ],\n",
       "       [0.        , 0.1159164 , 0.1159164 , 0.44968512, 0.10859981,\n",
       "        0.55031488, 0.24012338, 0.02374445, 0.44171507, 0.22451621,\n",
       "        0.        ],\n",
       "       [0.        , 0.12354113, 0.12354113, 0.44206038, 0.11622455,\n",
       "        0.55793962, 0.24774812, 0.01611972, 0.4493398 , 0.23214095,\n",
       "        0.        ],\n",
       "       [0.        , 0.18567637, 0.18567637, 0.37992515, 0.17835978,\n",
       "        0.62007485, 0.30988335, 0.04601552, 0.51147504, 0.29427618,\n",
       "        0.        ],\n",
       "       [0.        , 0.01494132, 0.01494132, 0.5506602 , 0.00762473,\n",
       "        0.4493398 , 0.1391483 , 0.12471953, 0.34073999, 0.12354113,\n",
       "        0.        ],\n",
       "       [0.        , 0.43439848, 0.43439848, 1.        , 0.44171507,\n",
       "        0.        , 0.3101915 , 0.57405933, 0.10859981, 0.32579867,\n",
       "        0.        ],\n",
       "       [0.        , 0.20192461, 0.20192461, 0.76752613, 0.2092412 ,\n",
       "        0.23247387, 0.07771763, 0.34158546, 0.12387406, 0.0933248 ,\n",
       "        0.        ],\n",
       "       [0.        , 0.01494132, 0.01494132, 0.5506602 , 0.00762473,\n",
       "        0.4493398 , 0.1391483 , 0.12471953, 0.34073999, 0.12354113,\n",
       "        0.        ],\n",
       "       [0.        , 0.20192461, 0.20192461, 0.76752613, 0.2092412 ,\n",
       "        0.23247387, 0.07771763, 0.34158546, 0.12387406, 0.0933248 ,\n",
       "        0.        ],\n",
       "       [0.        , 0.32579867, 0.32579867, 0.89140019, 0.33311526,\n",
       "        0.10859981, 0.20159169, 0.46545952, 0.        , 0.21719885,\n",
       "        0.        ],\n",
       "       [0.        , 0.077538  , 0.077538  , 0.64313952, 0.08485459,\n",
       "        0.35686048, 0.04666898, 0.21719885, 0.24826067, 0.03106181,\n",
       "        0.        ],\n",
       "       [0.        , 0.        , 0.        , 0.        , 0.        ,\n",
       "        0.        , 0.        , 0.        , 0.        , 0.        ,\n",
       "        0.        ],\n",
       "       [0.        , 0.        , 0.        , 0.        , 0.        ,\n",
       "        0.        , 0.        , 0.        , 0.        , 0.        ,\n",
       "        0.        ],\n",
       "       [0.        , 0.        , 0.        , 0.        , 0.        ,\n",
       "        0.        , 0.        , 0.        , 0.        , 0.        ,\n",
       "        0.        ],\n",
       "       [0.        , 0.        , 0.        , 0.        , 0.        ,\n",
       "        0.        , 0.        , 0.        , 0.        , 0.        ,\n",
       "        0.        ],\n",
       "       [0.        , 0.        , 0.        , 0.        , 0.        ,\n",
       "        0.        , 0.        , 0.        , 0.        , 0.        ,\n",
       "        0.        ],\n",
       "       [0.        , 0.        , 0.        , 0.        , 0.        ,\n",
       "        0.        , 0.        , 0.        , 0.        , 0.        ,\n",
       "        0.        ],\n",
       "       [0.        , 0.        , 0.        , 0.        , 0.        ,\n",
       "        0.        , 0.        , 0.        , 0.        , 0.        ,\n",
       "        0.        ],\n",
       "       [0.        , 0.        , 0.        , 0.        , 0.        ,\n",
       "        0.        , 0.        , 0.        , 0.        , 0.        ,\n",
       "        0.        ]])"
      ]
     },
     "execution_count": 113,
     "metadata": {},
     "output_type": "execute_result"
    }
   ],
   "source": [
    "cdr3_1_mass_np = np.array(cdr3_1_mass)\n",
    "epitope1_mass_np = np.array(epitope1_mass)\n",
    "\n",
    "difference_matrix = np.abs(cdr3_1_mass_np[:, np.newaxis] - epitope1_mass_np)\n",
    "# print(f\"difference_matrix: \\n{difference_matrix}\")\n",
    "print(f\"difference_matrix.shape: \\n{difference_matrix.shape}\")\n",
    "\n",
    "min_value = np.min(difference_matrix)\n",
    "max_value = np.max(difference_matrix)\n",
    "scaled_difference_matrix = (difference_matrix - min_value) / (max_value - min_value)\n",
    "# print(f\"scaled_difference_matrix: \\n{scaled_difference_matrix}\")\n",
    "print(f\"scaled_difference_matrix.shape: \\n{scaled_difference_matrix.shape}\")\n",
    "\n",
    "# Desired shape\n",
    "desired_shape = (20, 11)\n",
    "\n",
    "# Initialize a new matrix of zeros with the desired shape\n",
    "padded_matrix = np.zeros(desired_shape)\n",
    "\n",
    "# Calculate the number of zeros to add on each side horizontally\n",
    "left_padding = (desired_shape[1] - scaled_difference_matrix.shape[1]) // 2\n",
    "right_padding = desired_shape[1] - scaled_difference_matrix.shape[1] - left_padding\n",
    "\n",
    "# Copy the scaled difference matrix into the center of the new zero matrix\n",
    "padded_matrix[:scaled_difference_matrix.shape[0], left_padding:-right_padding] = scaled_difference_matrix\n",
    "\n",
    "# If the right_padding is 0, the slicing index should not be negative; adjust for that case\n",
    "if right_padding == 0:\n",
    "    padded_matrix[:scaled_difference_matrix.shape[0], left_padding:] = scaled_difference_matrix\n",
    "\n",
    "padded_matrix"
   ]
  },
  {
   "cell_type": "code",
   "execution_count": 111,
   "metadata": {},
   "outputs": [
    {
     "data": {
      "image/png": "[encoded data removed]",
      "text/plain": [
       "<Figure size 1000x500 with 2 Axes>"
      ]
     },
     "metadata": {},
     "output_type": "display_data"
    }
   ],
   "source": [
    "import matplotlib.pyplot as plt\n",
    "\n",
    "# Assuming padded_matrix is the final matrix from your calculations\n",
    "# and cdr3_1 and epitope1 are your sequences\n",
    "\n",
    "# Create a figure and axis\n",
    "fig, ax = plt.subplots(figsize=(10, 5))\n",
    "\n",
    "# Assuming your matrix is already scaled and zero-padded\n",
    "# This is your interaction map data\n",
    "interaction_map = padded_matrix  # Replace with your actual data\n",
    "\n",
    "# Plot the heatmap\n",
    "cax = ax.matshow(interaction_map, cmap='viridis')\n",
    "\n",
    "# Add colorbar to interpret the values\n",
    "fig.colorbar(cax)\n",
    "\n",
    "# Set the ticks to be at the middle of each cell\n",
    "ax.set_xticks(np.arange(len(epitope1)))\n",
    "ax.set_yticks(np.arange(len(cdr3_1)))\n",
    "\n",
    "# Label the ticks with the respective amino acids\n",
    "ax.set_xticklabels(list(epitope1))\n",
    "ax.set_yticklabels(list(cdr3_1))\n",
    "\n",
    "# Rotate the tick labels for the x-axis to display vertically\n",
    "plt.xticks(rotation=90)\n",
    "\n",
    "# Set labels (optional)\n",
    "ax.set_xlabel('Epitope Position')\n",
    "ax.set_ylabel('CDR3 Position')\n",
    "ax.set_title('CDR3-Epitope Interaction Map')\n",
    "\n",
    "plt.show()\n"
   ]
  },
  {
   "cell_type": "markdown",
   "metadata": {},
   "source": [
    "------------------------------------------------------------------------------------------------------"
   ]
  },
  {
   "cell_type": "markdown",
   "metadata": {},
   "source": [
    "***3D Structure Approach***\n",
    "\n",
    "In the following investiagations about to implement the 3D structure is done."
   ]
  },
  {
   "cell_type": "code",
   "execution_count": 90,
   "metadata": {},
   "outputs": [],
   "source": [
    "from transformers import AutoModel, AutoTokenizer\n",
    "import torch"
   ]
  },
  {
   "cell_type": "code",
   "execution_count": 91,
   "metadata": {},
   "outputs": [
    {
     "ename": "KeyboardInterrupt",
     "evalue": "",
     "output_type": "error",
     "traceback": [
      "\u001b[0;31m---------------------------------------------------------------------------\u001b[0m",
      "\u001b[0;31mKeyboardInterrupt\u001b[0m                         Traceback (most recent call last)",
      "Cell \u001b[0;32mIn[91], line 3\u001b[0m\n\u001b[1;32m      1\u001b[0m model_name \u001b[38;5;241m=\u001b[39m \u001b[38;5;124m\"\u001b[39m\u001b[38;5;124mfacebook/esmfold_v1\u001b[39m\u001b[38;5;124m\"\u001b[39m\n\u001b[1;32m      2\u001b[0m tokenizer \u001b[38;5;241m=\u001b[39m AutoTokenizer\u001b[38;5;241m.\u001b[39mfrom_pretrained(model_name)\n\u001b[0;32m----> 3\u001b[0m model \u001b[38;5;241m=\u001b[39m AutoModel\u001b[38;5;241m.\u001b[39mfrom_pretrained(model_name)\n",
      "File \u001b[0;32m~/anaconda3/envs/BA24/lib/python3.12/site-packages/transformers/models/auto/auto_factory.py:561\u001b[0m, in \u001b[0;36m_BaseAutoModelClass.from_pretrained\u001b[0;34m(cls, pretrained_model_name_or_path, *model_args, **kwargs)\u001b[0m\n\u001b[1;32m    559\u001b[0m \u001b[38;5;28;01melif\u001b[39;00m \u001b[38;5;28mtype\u001b[39m(config) \u001b[38;5;129;01min\u001b[39;00m \u001b[38;5;28mcls\u001b[39m\u001b[38;5;241m.\u001b[39m_model_mapping\u001b[38;5;241m.\u001b[39mkeys():\n\u001b[1;32m    560\u001b[0m     model_class \u001b[38;5;241m=\u001b[39m _get_model_class(config, \u001b[38;5;28mcls\u001b[39m\u001b[38;5;241m.\u001b[39m_model_mapping)\n\u001b[0;32m--> 561\u001b[0m     \u001b[38;5;28;01mreturn\u001b[39;00m model_class\u001b[38;5;241m.\u001b[39mfrom_pretrained(\n\u001b[1;32m    562\u001b[0m         pretrained_model_name_or_path, \u001b[38;5;241m*\u001b[39mmodel_args, config\u001b[38;5;241m=\u001b[39mconfig, \u001b[38;5;241m*\u001b[39m\u001b[38;5;241m*\u001b[39mhub_kwargs, \u001b[38;5;241m*\u001b[39m\u001b[38;5;241m*\u001b[39mkwargs\n\u001b[1;32m    563\u001b[0m     )\n\u001b[1;32m    564\u001b[0m \u001b[38;5;28;01mraise\u001b[39;00m \u001b[38;5;167;01mValueError\u001b[39;00m(\n\u001b[1;32m    565\u001b[0m     \u001b[38;5;124mf\u001b[39m\u001b[38;5;124m\"\u001b[39m\u001b[38;5;124mUnrecognized configuration class \u001b[39m\u001b[38;5;132;01m{\u001b[39;00mconfig\u001b[38;5;241m.\u001b[39m\u001b[38;5;18m__class__\u001b[39m\u001b[38;5;132;01m}\u001b[39;00m\u001b[38;5;124m for this kind of AutoModel: \u001b[39m\u001b[38;5;132;01m{\u001b[39;00m\u001b[38;5;28mcls\u001b[39m\u001b[38;5;241m.\u001b[39m\u001b[38;5;18m__name__\u001b[39m\u001b[38;5;132;01m}\u001b[39;00m\u001b[38;5;124m.\u001b[39m\u001b[38;5;130;01m\\n\u001b[39;00m\u001b[38;5;124m\"\u001b[39m\n\u001b[1;32m    566\u001b[0m     \u001b[38;5;124mf\u001b[39m\u001b[38;5;124m\"\u001b[39m\u001b[38;5;124mModel type should be one of \u001b[39m\u001b[38;5;132;01m{\u001b[39;00m\u001b[38;5;124m'\u001b[39m\u001b[38;5;124m, \u001b[39m\u001b[38;5;124m'\u001b[39m\u001b[38;5;241m.\u001b[39mjoin(c\u001b[38;5;241m.\u001b[39m\u001b[38;5;18m__name__\u001b[39m\u001b[38;5;250m \u001b[39m\u001b[38;5;28;01mfor\u001b[39;00m\u001b[38;5;250m \u001b[39mc\u001b[38;5;250m \u001b[39m\u001b[38;5;129;01min\u001b[39;00m\u001b[38;5;250m \u001b[39m\u001b[38;5;28mcls\u001b[39m\u001b[38;5;241m.\u001b[39m_model_mapping\u001b[38;5;241m.\u001b[39mkeys())\u001b[38;5;132;01m}\u001b[39;00m\u001b[38;5;124m.\u001b[39m\u001b[38;5;124m\"\u001b[39m\n\u001b[1;32m    567\u001b[0m )\n",
      "File \u001b[0;32m~/anaconda3/envs/BA24/lib/python3.12/site-packages/transformers/modeling_utils.py:3502\u001b[0m, in \u001b[0;36mPreTrainedModel.from_pretrained\u001b[0;34m(cls, pretrained_model_name_or_path, config, cache_dir, ignore_mismatched_sizes, force_download, local_files_only, token, revision, use_safetensors, *model_args, **kwargs)\u001b[0m\n\u001b[1;32m   3493\u001b[0m     \u001b[38;5;28;01mif\u001b[39;00m dtype_orig \u001b[38;5;129;01mis\u001b[39;00m \u001b[38;5;129;01mnot\u001b[39;00m \u001b[38;5;28;01mNone\u001b[39;00m:\n\u001b[1;32m   3494\u001b[0m         torch\u001b[38;5;241m.\u001b[39mset_default_dtype(dtype_orig)\n\u001b[1;32m   3495\u001b[0m     (\n\u001b[1;32m   3496\u001b[0m         model,\n\u001b[1;32m   3497\u001b[0m         missing_keys,\n\u001b[1;32m   3498\u001b[0m         unexpected_keys,\n\u001b[1;32m   3499\u001b[0m         mismatched_keys,\n\u001b[1;32m   3500\u001b[0m         offload_index,\n\u001b[1;32m   3501\u001b[0m         error_msgs,\n\u001b[0;32m-> 3502\u001b[0m     ) \u001b[38;5;241m=\u001b[39m \u001b[38;5;28mcls\u001b[39m\u001b[38;5;241m.\u001b[39m_load_pretrained_model(\n\u001b[1;32m   3503\u001b[0m         model,\n\u001b[1;32m   3504\u001b[0m         state_dict,\n\u001b[1;32m   3505\u001b[0m         loaded_state_dict_keys,  \u001b[38;5;66;03m# XXX: rename?\u001b[39;00m\n\u001b[1;32m   3506\u001b[0m         resolved_archive_file,\n\u001b[1;32m   3507\u001b[0m         pretrained_model_name_or_path,\n\u001b[1;32m   3508\u001b[0m         ignore_mismatched_sizes\u001b[38;5;241m=\u001b[39mignore_mismatched_sizes,\n\u001b[1;32m   3509\u001b[0m         sharded_metadata\u001b[38;5;241m=\u001b[39msharded_metadata,\n\u001b[1;32m   3510\u001b[0m         _fast_init\u001b[38;5;241m=\u001b[39m_fast_init,\n\u001b[1;32m   3511\u001b[0m         low_cpu_mem_usage\u001b[38;5;241m=\u001b[39mlow_cpu_mem_usage,\n\u001b[1;32m   3512\u001b[0m         device_map\u001b[38;5;241m=\u001b[39mdevice_map,\n\u001b[1;32m   3513\u001b[0m         offload_folder\u001b[38;5;241m=\u001b[39moffload_folder,\n\u001b[1;32m   3514\u001b[0m         offload_state_dict\u001b[38;5;241m=\u001b[39moffload_state_dict,\n\u001b[1;32m   3515\u001b[0m         dtype\u001b[38;5;241m=\u001b[39mtorch_dtype,\n\u001b[1;32m   3516\u001b[0m         hf_quantizer\u001b[38;5;241m=\u001b[39mhf_quantizer,\n\u001b[1;32m   3517\u001b[0m         keep_in_fp32_modules\u001b[38;5;241m=\u001b[39mkeep_in_fp32_modules,\n\u001b[1;32m   3518\u001b[0m     )\n\u001b[1;32m   3520\u001b[0m \u001b[38;5;66;03m# make sure token embedding weights are still tied if needed\u001b[39;00m\n\u001b[1;32m   3521\u001b[0m model\u001b[38;5;241m.\u001b[39mtie_weights()\n",
      "File \u001b[0;32m~/anaconda3/envs/BA24/lib/python3.12/site-packages/transformers/modeling_utils.py:3869\u001b[0m, in \u001b[0;36mPreTrainedModel._load_pretrained_model\u001b[0;34m(cls, model, state_dict, loaded_keys, resolved_archive_file, pretrained_model_name_or_path, ignore_mismatched_sizes, sharded_metadata, _fast_init, low_cpu_mem_usage, device_map, offload_folder, offload_state_dict, dtype, hf_quantizer, keep_in_fp32_modules)\u001b[0m\n\u001b[1;32m   3859\u001b[0m \u001b[38;5;28;01mif\u001b[39;00m state_dict \u001b[38;5;129;01mis\u001b[39;00m \u001b[38;5;129;01mnot\u001b[39;00m \u001b[38;5;28;01mNone\u001b[39;00m:\n\u001b[1;32m   3860\u001b[0m     \u001b[38;5;66;03m# Whole checkpoint\u001b[39;00m\n\u001b[1;32m   3861\u001b[0m     mismatched_keys \u001b[38;5;241m=\u001b[39m _find_mismatched_keys(\n\u001b[1;32m   3862\u001b[0m         state_dict,\n\u001b[1;32m   3863\u001b[0m         model_state_dict,\n\u001b[0;32m   (...)\u001b[0m\n\u001b[1;32m   3867\u001b[0m         ignore_mismatched_sizes,\n\u001b[1;32m   3868\u001b[0m     )\n\u001b[0;32m-> 3869\u001b[0m     error_msgs \u001b[38;5;241m=\u001b[39m _load_state_dict_into_model(model_to_load, state_dict, start_prefix)\n\u001b[1;32m   3870\u001b[0m     offload_index \u001b[38;5;241m=\u001b[39m \u001b[38;5;28;01mNone\u001b[39;00m\n\u001b[1;32m   3871\u001b[0m \u001b[38;5;28;01melse\u001b[39;00m:\n\u001b[1;32m   3872\u001b[0m     \u001b[38;5;66;03m# Sharded checkpoint or whole but low_cpu_mem_usage==True\u001b[39;00m\n\u001b[1;32m   3873\u001b[0m \n\u001b[1;32m   3874\u001b[0m     \u001b[38;5;66;03m# This should always be a list but, just to be sure.\u001b[39;00m\n",
      "File \u001b[0;32m~/anaconda3/envs/BA24/lib/python3.12/site-packages/transformers/modeling_utils.py:626\u001b[0m, in \u001b[0;36m_load_state_dict_into_model\u001b[0;34m(model_to_load, state_dict, start_prefix)\u001b[0m\n\u001b[1;32m    623\u001b[0m         \u001b[38;5;28;01mif\u001b[39;00m child \u001b[38;5;129;01mis\u001b[39;00m \u001b[38;5;129;01mnot\u001b[39;00m \u001b[38;5;28;01mNone\u001b[39;00m:\n\u001b[1;32m    624\u001b[0m             load(child, state_dict, prefix \u001b[38;5;241m+\u001b[39m name \u001b[38;5;241m+\u001b[39m \u001b[38;5;124m\"\u001b[39m\u001b[38;5;124m.\u001b[39m\u001b[38;5;124m\"\u001b[39m)\n\u001b[0;32m--> 626\u001b[0m load(model_to_load, state_dict, prefix\u001b[38;5;241m=\u001b[39mstart_prefix)\n\u001b[1;32m    627\u001b[0m \u001b[38;5;66;03m# Delete `state_dict` so it could be collected by GC earlier. Note that `state_dict` is a copy of the argument, so\u001b[39;00m\n\u001b[1;32m    628\u001b[0m \u001b[38;5;66;03m# it's safe to delete it.\u001b[39;00m\n\u001b[1;32m    629\u001b[0m \u001b[38;5;28;01mdel\u001b[39;00m state_dict\n",
      "File \u001b[0;32m~/anaconda3/envs/BA24/lib/python3.12/site-packages/transformers/modeling_utils.py:624\u001b[0m, in \u001b[0;36m_load_state_dict_into_model.<locals>.load\u001b[0;34m(module, state_dict, prefix)\u001b[0m\n\u001b[1;32m    622\u001b[0m \u001b[38;5;28;01mfor\u001b[39;00m name, child \u001b[38;5;129;01min\u001b[39;00m module\u001b[38;5;241m.\u001b[39m_modules\u001b[38;5;241m.\u001b[39mitems():\n\u001b[1;32m    623\u001b[0m     \u001b[38;5;28;01mif\u001b[39;00m child \u001b[38;5;129;01mis\u001b[39;00m \u001b[38;5;129;01mnot\u001b[39;00m \u001b[38;5;28;01mNone\u001b[39;00m:\n\u001b[0;32m--> 624\u001b[0m         load(child, state_dict, prefix \u001b[38;5;241m+\u001b[39m name \u001b[38;5;241m+\u001b[39m \u001b[38;5;124m\"\u001b[39m\u001b[38;5;124m.\u001b[39m\u001b[38;5;124m\"\u001b[39m)\n",
      "File \u001b[0;32m~/anaconda3/envs/BA24/lib/python3.12/site-packages/transformers/modeling_utils.py:624\u001b[0m, in \u001b[0;36m_load_state_dict_into_model.<locals>.load\u001b[0;34m(module, state_dict, prefix)\u001b[0m\n\u001b[1;32m    622\u001b[0m \u001b[38;5;28;01mfor\u001b[39;00m name, child \u001b[38;5;129;01min\u001b[39;00m module\u001b[38;5;241m.\u001b[39m_modules\u001b[38;5;241m.\u001b[39mitems():\n\u001b[1;32m    623\u001b[0m     \u001b[38;5;28;01mif\u001b[39;00m child \u001b[38;5;129;01mis\u001b[39;00m \u001b[38;5;129;01mnot\u001b[39;00m \u001b[38;5;28;01mNone\u001b[39;00m:\n\u001b[0;32m--> 624\u001b[0m         load(child, state_dict, prefix \u001b[38;5;241m+\u001b[39m name \u001b[38;5;241m+\u001b[39m \u001b[38;5;124m\"\u001b[39m\u001b[38;5;124m.\u001b[39m\u001b[38;5;124m\"\u001b[39m)\n",
      "    \u001b[0;31m[... skipping similar frames: _load_state_dict_into_model.<locals>.load at line 624 (2 times)]\u001b[0m\n",
      "File \u001b[0;32m~/anaconda3/envs/BA24/lib/python3.12/site-packages/transformers/modeling_utils.py:624\u001b[0m, in \u001b[0;36m_load_state_dict_into_model.<locals>.load\u001b[0;34m(module, state_dict, prefix)\u001b[0m\n\u001b[1;32m    622\u001b[0m \u001b[38;5;28;01mfor\u001b[39;00m name, child \u001b[38;5;129;01min\u001b[39;00m module\u001b[38;5;241m.\u001b[39m_modules\u001b[38;5;241m.\u001b[39mitems():\n\u001b[1;32m    623\u001b[0m     \u001b[38;5;28;01mif\u001b[39;00m child \u001b[38;5;129;01mis\u001b[39;00m \u001b[38;5;129;01mnot\u001b[39;00m \u001b[38;5;28;01mNone\u001b[39;00m:\n\u001b[0;32m--> 624\u001b[0m         load(child, state_dict, prefix \u001b[38;5;241m+\u001b[39m name \u001b[38;5;241m+\u001b[39m \u001b[38;5;124m\"\u001b[39m\u001b[38;5;124m.\u001b[39m\u001b[38;5;124m\"\u001b[39m)\n",
      "File \u001b[0;32m~/anaconda3/envs/BA24/lib/python3.12/site-packages/transformers/modeling_utils.py:620\u001b[0m, in \u001b[0;36m_load_state_dict_into_model.<locals>.load\u001b[0;34m(module, state_dict, prefix)\u001b[0m\n\u001b[1;32m    618\u001b[0m                     module\u001b[38;5;241m.\u001b[39m_load_from_state_dict(\u001b[38;5;241m*\u001b[39margs)\n\u001b[1;32m    619\u001b[0m     \u001b[38;5;28;01melse\u001b[39;00m:\n\u001b[0;32m--> 620\u001b[0m         module\u001b[38;5;241m.\u001b[39m_load_from_state_dict(\u001b[38;5;241m*\u001b[39margs)\n\u001b[1;32m    622\u001b[0m \u001b[38;5;28;01mfor\u001b[39;00m name, child \u001b[38;5;129;01min\u001b[39;00m module\u001b[38;5;241m.\u001b[39m_modules\u001b[38;5;241m.\u001b[39mitems():\n\u001b[1;32m    623\u001b[0m     \u001b[38;5;28;01mif\u001b[39;00m child \u001b[38;5;129;01mis\u001b[39;00m \u001b[38;5;129;01mnot\u001b[39;00m \u001b[38;5;28;01mNone\u001b[39;00m:\n",
      "File \u001b[0;32m~/anaconda3/envs/BA24/lib/python3.12/site-packages/torch/nn/modules/module.py:2040\u001b[0m, in \u001b[0;36mModule._load_from_state_dict\u001b[0;34m(self, state_dict, prefix, local_metadata, strict, missing_keys, unexpected_keys, error_msgs)\u001b[0m\n\u001b[1;32m   2038\u001b[0m                 \u001b[38;5;28msetattr\u001b[39m(\u001b[38;5;28mself\u001b[39m, name, input_param)\n\u001b[1;32m   2039\u001b[0m         \u001b[38;5;28;01melse\u001b[39;00m:\n\u001b[0;32m-> 2040\u001b[0m             param\u001b[38;5;241m.\u001b[39mcopy_(input_param)\n\u001b[1;32m   2041\u001b[0m \u001b[38;5;28;01mexcept\u001b[39;00m \u001b[38;5;167;01mException\u001b[39;00m \u001b[38;5;28;01mas\u001b[39;00m ex:\n\u001b[1;32m   2042\u001b[0m     error_msgs\u001b[38;5;241m.\u001b[39mappend(\u001b[38;5;124mf\u001b[39m\u001b[38;5;124m'\u001b[39m\u001b[38;5;124mWhile copying the parameter named \u001b[39m\u001b[38;5;124m\"\u001b[39m\u001b[38;5;132;01m{\u001b[39;00mkey\u001b[38;5;132;01m}\u001b[39;00m\u001b[38;5;124m\"\u001b[39m\u001b[38;5;124m, \u001b[39m\u001b[38;5;124m'\u001b[39m\n\u001b[1;32m   2043\u001b[0m                       \u001b[38;5;124mf\u001b[39m\u001b[38;5;124m'\u001b[39m\u001b[38;5;124mwhose dimensions in the model are \u001b[39m\u001b[38;5;132;01m{\u001b[39;00mparam\u001b[38;5;241m.\u001b[39msize()\u001b[38;5;132;01m}\u001b[39;00m\u001b[38;5;124m and \u001b[39m\u001b[38;5;124m'\u001b[39m\n\u001b[1;32m   2044\u001b[0m                       \u001b[38;5;124mf\u001b[39m\u001b[38;5;124m'\u001b[39m\u001b[38;5;124mwhose dimensions in the checkpoint are \u001b[39m\u001b[38;5;132;01m{\u001b[39;00minput_param\u001b[38;5;241m.\u001b[39msize()\u001b[38;5;132;01m}\u001b[39;00m\u001b[38;5;124m, \u001b[39m\u001b[38;5;124m'\u001b[39m\n\u001b[1;32m   2045\u001b[0m                       \u001b[38;5;124mf\u001b[39m\u001b[38;5;124m'\u001b[39m\u001b[38;5;124man exception occurred : \u001b[39m\u001b[38;5;132;01m{\u001b[39;00mex\u001b[38;5;241m.\u001b[39margs\u001b[38;5;132;01m}\u001b[39;00m\u001b[38;5;124m.\u001b[39m\u001b[38;5;124m'\u001b[39m\n\u001b[1;32m   2046\u001b[0m                       )\n",
      "\u001b[0;31mKeyboardInterrupt\u001b[0m: "
     ]
    }
   ],
   "source": [
    "model_name = \"facebook/esmfold_v1\"\n",
    "tokenizer = AutoTokenizer.from_pretrained(model_name)\n",
    "model = AutoModel.from_pretrained(model_name)"
   ]
  },
  {
   "cell_type": "code",
   "execution_count": null,
   "metadata": {},
   "outputs": [],
   "source": [
    "CDR3_1_Biopython = Seq(\"CASSYLPGQGDHYSNQPQHF\")\n",
    "CDR3_2_Biopython = Seq(\"CASGQVTLPTETQYF\")\n",
    "CDR3_3_Biopython = Seq(\"CSARDFYSTSGRVSAKNIQYF\")\n",
    "CDR3_4_Biopython = Seq(\"CSARAAYIGGAREQYF\")"
   ]
  },
  {
   "cell_type": "code",
   "execution_count": null,
   "metadata": {},
   "outputs": [],
   "source": [
    "sequence_1 = str(peptide1_Biopython)  \n",
    "sequence_2 = str(CDR3_1_Biopython)   \n",
    "\n",
    "tokens_1 = tokenizer(sequence_1, return_tensors=\"pt\")\n",
    "tokens_2 = tokenizer(sequence_2, return_tensors=\"pt\")\n",
    "\n",
    "with torch.no_grad():\n",
    "    outputs_1 = model(**tokens_1)\n",
    "    outputs_2 = model(**tokens_2)\n",
    "\n",
    "embedding_1 = outputs_1.last_hidden_state\n",
    "embedding_2 = outputs_2.last_hidden_state\n"
   ]
  },
  {
   "cell_type": "code",
   "execution_count": null,
   "metadata": {},
   "outputs": [
    {
     "name": "stdout",
     "output_type": "stream",
     "text": [
      "torch.Size([1, 10, 2560])\n",
      "torch.Size([1, 22, 2560])\n"
     ]
    }
   ],
   "source": [
    "print(embedding_1.shape)\n",
    "print(embedding_2.shape)"
   ]
  },
  {
   "cell_type": "code",
   "execution_count": null,
   "metadata": {},
   "outputs": [
    {
     "data": {
      "image/png": "[encoded data removed]",
      "text/plain": [
       "<Figure size 800x600 with 2 Axes>"
      ]
     },
     "metadata": {},
     "output_type": "display_data"
    }
   ],
   "source": [
    "import torch\n",
    "import matplotlib.pyplot as plt\n",
    "\n",
    "# Assuming embeddings1 has shape [1, 10, 2560] and embeddings2 has shape [1, 22, 2560]\n",
    "# Remove batch dimension\n",
    "embedding_1 = embedding_1.squeeze(0)  # Now shape [10, 2560]\n",
    "embedding_2 = embedding_2.squeeze(0)  # Now shape [22, 2560]\n",
    "\n",
    "# Compute the dot product contact map\n",
    "# We transpose embeddings2 to align the feature dimensions for matrix multiplication\n",
    "contact_map = torch.matmul(embedding_1, embedding_2.T)\n",
    "\n",
    "# Convert the contact map to a NumPy array for plotting\n",
    "contact_map = contact_map.cpu().numpy()\n",
    "\n",
    "# Plot the contact map\n",
    "plt.figure(figsize=(8, 6))\n",
    "plt.imshow(contact_map, cmap='viridis', interpolation='nearest')\n",
    "plt.xlabel('Sequence 1 Tokens')\n",
    "plt.ylabel('Sequence 2 Tokens')\n",
    "plt.title('Dot Product Contact Map')\n",
    "plt.colorbar()\n",
    "plt.show()\n"
   ]
  },
  {
   "cell_type": "markdown",
   "metadata": {},
   "source": [
    "looks a bit weird... paper mentions this: \n",
    "\"We padded the C-maps of small sized epitopes with 0’s, i.e., no-contacts. Finally, given that the C-maps are distance matrices and symmetric, the upper triangular is enough to keep all information, which for an AA sequence of size 𝓁 = 22, resulted in a 𝓁(𝓁 + 1)/2 = 253-long numeric vector.\""
   ]
  },
  {
   "cell_type": "code",
   "execution_count": null,
   "metadata": {},
   "outputs": [
    {
     "data": {
      "text/plain": [
       "{'input_ids': tensor([[23, 10,  5, 14, 13, 14,  5, 14,  6, 10, 14, 18, 14,  5, 14,  5, 25]]), 'attention_mask': tensor([[1, 1, 1, 1, 1, 1, 1, 1, 1, 1, 1, 1, 1, 1, 1, 1, 1]])}"
      ]
     },
     "execution_count": 20,
     "metadata": {},
     "output_type": "execute_result"
    }
   ],
   "source": [
    "tokens = tokenizer(str(peptide2_Biopython), return_tensors=\"pt\")\n",
    "tokens"
   ]
  },
  {
   "cell_type": "markdown",
   "metadata": {},
   "source": [
    "Tokenizer is doing for each char a sperate token. This is what we want!\n",
    "<span style=\"color:red\">**ATTENTION:**</span> the amount of tokens is always: number tokens = number chars + 2, this because Start-of-Sequence Token and End-of-Sequence Token"
   ]
  }
 ],
 "metadata": {
  "kernelspec": {
   "display_name": "BA24",
   "language": "python",
   "name": "python3"
  },
  "language_info": {
   "codemirror_mode": {
    "name": "ipython",
    "version": 3
   },
   "file_extension": ".py",
   "mimetype": "text/x-python",
   "name": "python",
   "nbconvert_exporter": "python",
   "pygments_lexer": "ipython3",
   "version": "3.12.2"
  }
 },
 "nbformat": 4,
 "nbformat_minor": 2
}
