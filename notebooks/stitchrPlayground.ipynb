{
 "cells": [
  {
   "cell_type": "markdown",
   "metadata": {},
   "source": [
    "Here we use the information of the VDJdb V1 stored in W&B with the complexID: 2178"
   ]
  },
  {
   "cell_type": "code",
   "execution_count": 1,
   "metadata": {},
   "outputs": [],
   "source": [
    "from Stitchr import stitchrfunctions as fxn\n",
    "from Stitchr import stitchr as st"
   ]
  },
  {
   "cell_type": "markdown",
   "metadata": {},
   "source": [
    "This is the official documentatin if one would like to use Stitchr in an individual pipeline: \n",
    "[Stitchr Doc](https://github.com/JamieHeather/stitchr/blob/main/docs/importing.rst)"
   ]
  },
  {
   "cell_type": "code",
   "execution_count": 2,
   "metadata": {},
   "outputs": [
    {
     "data": {
      "text/plain": [
       "(['TCR',\n",
       "  'TRBV9*01',\n",
       "  'TRBJ2-2*01',\n",
       "  'TRBC1*01',\n",
       "  'CASSENTANTGELFF',\n",
       "  'TRBV7-3*01(L)'],\n",
       " 'ATGGGCACCAGGCTCCTCTGCTGGGCAGCCCTGTGCCTCCTGGGGGCAGATCACACAGATTCTGGAGTCACACAAACCCCAAAGCACCTGATCACAGCAACTGGACAGCGAGTGACGCTGAGATGCTCCCCTAGGTCTGGAGACCTCTCTGTGTACTGGTACCAACAGAGCCTGGACCAGGGCCTCCAGTTCCTCATTCAGTATTATAATGGAGAAGAGAGAGCAAAAGGAAACATTCTTGAACGATTCTCCGCACAACAGTTCCCTGACTTGCACTCTGAACTAAACCTGAGCTCTCTGGAGCTGGGGGACTCAGCTTTGTATTTCTGTGCCAGCAGCGAGAACACCGCCAACACCGGGGAGCTGTTTTTTGGAGAAGGCTCTAGGCTGACCGTACTGGAGGACCTGAACAAGGTGTTCCCACCCGAGGTCGCTGTGTTTGAGCCATCAGAAGCAGAGATCTCCCACACCCAAAAGGCCACACTGGTGTGCCTGGCCACAGGCTTCTTCCCCGACCACGTGGAGCTGAGCTGGTGGGTGAATGGGAAGGAGGTGCACAGTGGGGTCAGCACGGACCCGCAGCCCCTCAAGGAGCAGCCCGCCCTCAATGACTCCAGATACTGCCTGAGCAGCCGCCTGAGGGTCTCGGCCACCTTCTGGCAGAACCCCCGCAACCACTTCCGCTGTCAAGTCCAGTTCTACGGGCTCTCGGAGAATGACGAGTGGACCCAGGATAGGGCCAAACCCGTCACCCAGATCGTCAGCGCCGAGGCCTGGGGTAGAGCAGACTGTGGCTTTACCTCGGTGTCCTACCAGCAAGGGGTCCTGTCTGCCACCATCCTCTATGAGATCCTGCTAGGGAAGGCCACCCTGTATGCTGTGCTGGTCAGCGCCCTTGTGTTGATGGCCATGGTCAAGAGAAAGGATTTC',\n",
       " 0)"
      ]
     },
     "execution_count": 2,
     "metadata": {},
     "output_type": "execute_result"
    }
   ],
   "source": [
    "chain = \"TRB\"\n",
    "species = \"HUMAN\"\n",
    "\n",
    "tcr_dat, functionality, partial = fxn.get_imgt_data(chain, st.gene_types, species)\n",
    "codons = fxn.get_optimal_codons('', species)\n",
    "\n",
    "V_segment = \"TRBV9*01\"\n",
    "J_segment = \"TRBJ2-2*01\"\n",
    "CDR3_sequence_beta = \"CASSENTANTGELFF\"\n",
    "\n",
    "tcr_bits = {'v': V_segment, 'j': J_segment, 'cdr3': CDR3_sequence_beta,\n",
    "            'l': 'TRBV7-3*01', 'c': 'TRBC1*01',\n",
    "            'skip_c_checks': False, 'species': species, 'seamless': False,\n",
    "            '5_prime_seq': '', '3_prime_seq': '', 'name': 'TCR'}\n",
    "\n",
    "stitched = st.stitch(tcr_bits, tcr_dat, functionality, partial, codons, 3, '')\n",
    "stitched"
   ]
  },
  {
   "cell_type": "markdown",
   "metadata": {},
   "source": [
    "However the documentation mentions that for high throughput (as we must use) one should use [*thimble*](https://github.com/JamieHeather/stitchr/blob/main/docs/thimble.rst)"
   ]
  }
 ],
 "metadata": {
  "kernelspec": {
   "display_name": "BA24",
   "language": "python",
   "name": "python3"
  },
  "language_info": {
   "codemirror_mode": {
    "name": "ipython",
    "version": 3
   },
   "file_extension": ".py",
   "mimetype": "text/x-python",
   "name": "python",
   "nbconvert_exporter": "python",
   "pygments_lexer": "ipython3",
   "version": "3.12.2"
  }
 },
 "nbformat": 4,
 "nbformat_minor": 2
}
