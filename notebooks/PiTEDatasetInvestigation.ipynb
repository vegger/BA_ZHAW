{
 "cells": [
  {
   "cell_type": "code",
   "execution_count": 2,
   "metadata": {},
   "outputs": [
    {
     "name": "stdout",
     "output_type": "stream",
     "text": [
      "               epi                 tcr  binding\n",
      "0       EAAGIGILTV          CASSLGNEQF        1\n",
      "1       EAAGIGILTV       CASSLGVATGELF        1\n",
      "2       EAAGIGILTV  CASSQEEGGGSWGNTIYF        1\n",
      "3       EAAGIGILTV     CASSQEGLAGASQYF        1\n",
      "4       EAAGIGILTV   CASSQETDIVFNOPQHF        1\n",
      "...            ...                 ...      ...\n",
      "300011   GILGFVFTL       CASSLSAGENLHF        0\n",
      "300012   GILGFVFTL     CSARDLRDWNTEAFF        0\n",
      "300013   GILGFVFTL      CASSLIGRDSPLHF        0\n",
      "300014   GILGFVFTL     CASSLESGGRFPLHF        0\n",
      "300015   GILGFVFTL     CASSEWERNNSPLHF        0\n",
      "\n",
      "[300016 rows x 3 columns]\n"
     ]
    }
   ],
   "source": [
    "import pickle\n",
    "\n",
    "# Replace 'yourfile.pkl' with the path to your .pkl file\n",
    "filename = '../data/PiTE/tcr_epitope_pairs.pkl'\n",
    "# Open the file in binary read mode\n",
    "with open(filename, 'rb') as file:\n",
    "    # Load the contents of the file\n",
    "    data = pickle.load(file)\n",
    "\n",
    "# Now you can use the data object as needed\n",
    "print(data)\n"
   ]
  }
 ],
 "metadata": {
  "kernelspec": {
   "display_name": "BA24",
   "language": "python",
   "name": "python3"
  },
  "language_info": {
   "codemirror_mode": {
    "name": "ipython",
    "version": 3
   },
   "file_extension": ".py",
   "mimetype": "text/x-python",
   "name": "python",
   "nbconvert_exporter": "python",
   "pygments_lexer": "ipython3",
   "version": "3.12.2"
  }
 },
 "nbformat": 4,
 "nbformat_minor": 2
}
