{
 "cells": [
  {
   "cell_type": "markdown",
   "metadata": {},
   "source": [
    "# EDA paired concatenated"
   ]
  },
  {
   "cell_type": "markdown",
   "metadata": {},
   "source": [
    "First we do some cleaning of the dataset because there are some unused columns."
   ]
  },
  {
   "cell_type": "code",
   "execution_count": null,
   "metadata": {},
   "outputs": [],
   "source": [
    "import pandas as pd\n",
    "import matplotlib.pyplot as plt\n",
    "\n",
    "df = pd.read_csv(\"../../data/customDatasets/Stitchr_paired_concatenated.tsv\", sep='\\t', low_memory=False)\n",
    "df_for_profiling = df.drop(columns=[\"TCR_name\", \"TRA_nt\", \"TRB_nt\", \"TRA_aa\", \"TRB_aa\", \"TRAC\", \"TRBC\"], inplace=False)\n",
    "print(f\"the whole dataset has {len(df)} entries and the following columns are considered for this notebook:\")\n",
    "df.head()"
   ]
  },
  {
   "cell_type": "markdown",
   "metadata": {},
   "source": [
    "## Pandas Profiling\n",
    "pandas-profiling package naming was changed. To continue profiling data use ydata-profiling instead!\n",
    "-> That's why we use ydata-profiling"
   ]
  },
  {
   "cell_type": "code",
   "execution_count": null,
   "metadata": {},
   "outputs": [],
   "source": [
    "from ydata_profiling import ProfileReport\n",
    "profile = ProfileReport(df_for_profiling, title=\"Profiling Report\", minimal=True)\n",
    "profile.to_widgets()\n",
    "profile.to_file(\"ydata_profiling_outputs/stitchr_paired.html\") "
   ]
  },
  {
   "cell_type": "markdown",
   "metadata": {},
   "source": [
    "## Epitopes"
   ]
  },
  {
   "cell_type": "code",
   "execution_count": null,
   "metadata": {},
   "outputs": [],
   "source": [
    "unique_epitope_count = df[\"Epitope\"].value_counts().count()\n",
    "epitope_count = df[\"Epitope\"].notnull().sum()\n",
    "print(f\"there are {epitope_count} epitopes and {unique_epitope_count} unique epitopes\")"
   ]
  },
  {
   "cell_type": "markdown",
   "metadata": {},
   "source": [
    "Now a visualisation of how the epitopes are distributed."
   ]
  },
  {
   "cell_type": "code",
   "execution_count": null,
   "metadata": {},
   "outputs": [],
   "source": [
    "# Count the occurrences of each Epitope\n",
    "epitope_counts = df['Epitope'].value_counts()\n",
    "\n",
    "# Filter Epitopes that have more than 2 entries\n",
    "filtered_epitope_counts = epitope_counts[epitope_counts > 100]\n",
    "\n",
    "# Plotting\n",
    "plt.figure(figsize=(10, 6))\n",
    "filtered_epitope_counts.plot(kind='bar', color='teal')\n",
    "plt.xlabel('Epitope')\n",
    "plt.ylabel('Count')\n",
    "plt.title('Distribution of Epitopes with More Than 100 Entries')\n",
    "plt.xticks(rotation=45)\n",
    "plt.show()"
   ]
  },
  {
   "cell_type": "markdown",
   "metadata": {},
   "source": [
    "## CDR-3 Regions (alpha)"
   ]
  },
  {
   "cell_type": "code",
   "execution_count": null,
   "metadata": {},
   "outputs": [],
   "source": [
    "unique_cdr_count = df[\"TRA_CDR3\"].value_counts().count()\n",
    "print(f\"there are {unique_cdr_count} unique CDR-3 alpha regions\")"
   ]
  },
  {
   "cell_type": "markdown",
   "metadata": {},
   "source": [
    "Distribution of TRA_CDR3 sequence lengths"
   ]
  },
  {
   "cell_type": "code",
   "execution_count": null,
   "metadata": {},
   "outputs": [],
   "source": [
    "# Calculate TRA_CDR3 sequence lengths\n",
    "df['TRA_CDR3_Length'] = df['TRA_CDR3'].apply(len)\n",
    "\n",
    "plt.figure(figsize=(10, 6))\n",
    "plt.hist(df['TRA_CDR3_Length'])\n",
    "plt.title('Distribution of TRA_CDR3 Sequence Lengths')\n",
    "plt.xlabel('TRA_CDR3 Length')\n",
    "plt.ylabel('Frequency')\n",
    "plt.show()"
   ]
  },
  {
   "cell_type": "markdown",
   "metadata": {},
   "source": [
    "## CDR-3 Regions (beta)"
   ]
  },
  {
   "cell_type": "code",
   "execution_count": null,
   "metadata": {},
   "outputs": [],
   "source": [
    "unique_cdr_count = df[\"TRB_CDR3\"].value_counts().count()\n",
    "print(f\"there are {unique_cdr_count} unique CDR-3 beta regions\")"
   ]
  },
  {
   "cell_type": "markdown",
   "metadata": {},
   "source": [
    "Distribution of TRB_CDR3 sequence lengths"
   ]
  },
  {
   "cell_type": "code",
   "execution_count": null,
   "metadata": {},
   "outputs": [],
   "source": [
    "# Calculate TRB_CDR3 sequence lengths\n",
    "df['TRB_CDR3_Length'] = df['TRB_CDR3'].apply(len)\n",
    "\n",
    "plt.figure(figsize=(10, 6))\n",
    "plt.hist(df['TRB_CDR3_Length'])\n",
    "plt.title('Distribution of TRB_CDR3 Sequence Lengths')\n",
    "plt.xlabel('TRB_CDR3 Length')\n",
    "plt.ylabel('Frequency')\n",
    "plt.show()"
   ]
  },
  {
   "cell_type": "markdown",
   "metadata": {},
   "source": [
    "## V and J region (alpha)"
   ]
  },
  {
   "cell_type": "markdown",
   "metadata": {},
   "source": [
    "How many entries do have V **and** J region"
   ]
  },
  {
   "cell_type": "code",
   "execution_count": null,
   "metadata": {},
   "outputs": [],
   "source": [
    "paired_VJ_count = df[[\"TRAV\", \"TRAJ\"]].notnull().all(axis=1).sum()\n",
    "print(f\"There are {paired_VJ_count} entries which have the V and J region\")"
   ]
  },
  {
   "cell_type": "markdown",
   "metadata": {},
   "source": [
    "visual representation of the distribution of V and J regions"
   ]
  },
  {
   "cell_type": "code",
   "execution_count": null,
   "metadata": {},
   "outputs": [],
   "source": [
    "# Define a function to categorize each entry\n",
    "def categorize_row(row):\n",
    "    if pd.notnull(row['TRAV']) and pd.notnull(row['TRAJ']):\n",
    "        return 'Both V & J Regions'\n",
    "    elif pd.notnull(row['TRAV']):\n",
    "        return 'Only V Region'\n",
    "    elif pd.notnull(row['TRAJ']):\n",
    "        return 'Only J Region'\n",
    "    else:\n",
    "        return 'Neither'\n",
    "\n",
    "# Apply the function to each row\n",
    "df['Category'] = df.apply(categorize_row, axis=1)\n",
    "\n",
    "# Count the number of entries in each category\n",
    "category_counts = df['Category'].value_counts()\n",
    "\n",
    "# Plotting\n",
    "plt.figure(figsize=(10, 6))\n",
    "plt.pie(category_counts, labels=category_counts.index, autopct='%1.1f%%', startangle=140, colors=['skyblue', 'lightgreen', 'orange', 'lightcoral'])\n",
    "plt.title('Distribution of Entries by V & J Region Presence')\n",
    "plt.show()"
   ]
  },
  {
   "cell_type": "markdown",
   "metadata": {},
   "source": [
    "Exploring how many unique combinations of TRAV and TRAJ genes there are could be informative. This might help in understanding the diversity of T-cell receptor beta chains represented in data."
   ]
  },
  {
   "cell_type": "code",
   "execution_count": null,
   "metadata": {},
   "outputs": [],
   "source": [
    "# Count unique TRBV and TRBJ combinations\n",
    "unique_combinations = df.groupby(['TRAV', 'TRAJ']).size().reset_index(name='Count')\n",
    "\n",
    "# Plotting the top 20 most frequent combinations\n",
    "top_combinations = unique_combinations.sort_values(by='Count', ascending=False).head(20)\n",
    "\n",
    "plt.figure(figsize=(12, 8))\n",
    "plt.barh(top_combinations['TRAV'] + '-' + top_combinations['TRAJ'], top_combinations['Count'], color='purple')\n",
    "plt.xlabel('Count')\n",
    "plt.ylabel('TRAV-TRAJ Combinations')\n",
    "plt.title('Top 20 TRAV and TRAJ Combinations')\n",
    "plt.show()"
   ]
  },
  {
   "cell_type": "markdown",
   "metadata": {},
   "source": [
    "## V and J region (beta)"
   ]
  },
  {
   "cell_type": "markdown",
   "metadata": {},
   "source": [
    "How many entries do have V **and** J region"
   ]
  },
  {
   "cell_type": "code",
   "execution_count": null,
   "metadata": {},
   "outputs": [],
   "source": [
    "paired_VJ_count = df[[\"TRBV\", \"TRBJ\"]].notnull().all(axis=1).sum()\n",
    "print(f\"There are {paired_VJ_count} entries which have the V and J region\")"
   ]
  },
  {
   "cell_type": "markdown",
   "metadata": {},
   "source": [
    "visual representation of the distribution of V and J regions. "
   ]
  },
  {
   "cell_type": "code",
   "execution_count": null,
   "metadata": {},
   "outputs": [],
   "source": [
    "# Define a function to categorize each entry\n",
    "def categorize_row(row):\n",
    "    if pd.notnull(row['TRBV']) and pd.notnull(row['TRBJ']):\n",
    "        return 'Both V & J Regions'\n",
    "    elif pd.notnull(row['TRBV']):\n",
    "        return 'Only V Region'\n",
    "    elif pd.notnull(row['TRBJ']):\n",
    "        return 'Only J Region'\n",
    "    else:\n",
    "        return 'Neither'\n",
    "\n",
    "# Apply the function to each row\n",
    "df['Category'] = df.apply(categorize_row, axis=1)\n",
    "\n",
    "# Count the number of entries in each category\n",
    "category_counts = df['Category'].value_counts()\n",
    "\n",
    "# Plotting\n",
    "plt.figure(figsize=(10, 6))\n",
    "plt.pie(category_counts, labels=category_counts.index, autopct='%1.1f%%', startangle=140, colors=['skyblue', 'lightgreen', 'orange', 'lightcoral'])\n",
    "plt.title('Distribution of Entries by V & J Region Presence')\n",
    "plt.show()"
   ]
  },
  {
   "cell_type": "markdown",
   "metadata": {},
   "source": [
    "Exploring how many unique combinations of TRBV and TRBJ genes there are could be informative. This might help in understanding the diversity of T-cell receptor beta chains represented in data."
   ]
  },
  {
   "cell_type": "code",
   "execution_count": null,
   "metadata": {},
   "outputs": [],
   "source": [
    "# Count unique TRBV and TRBJ combinations\n",
    "unique_combinations = df.groupby(['TRBV', 'TRBJ']).size().reset_index(name='Count')\n",
    "\n",
    "# Plotting the top 20 most frequent combinations\n",
    "top_combinations = unique_combinations.sort_values(by='Count', ascending=False).head(20)\n",
    "\n",
    "plt.figure(figsize=(12, 8))\n",
    "plt.barh(top_combinations['TRBV'] + '-' + top_combinations['TRBJ'], top_combinations['Count'], color='purple')\n",
    "plt.xlabel('Count')\n",
    "plt.ylabel('TRBV-TRBJ Combinations')\n",
    "plt.title('Top 20 TRBV and TRBJ Combinations')\n",
    "plt.show()"
   ]
  },
  {
   "cell_type": "markdown",
   "metadata": {},
   "source": [
    "### V Region\n",
    "How many entries do have a V region and how many different V regions are there"
   ]
  },
  {
   "cell_type": "code",
   "execution_count": null,
   "metadata": {},
   "outputs": [],
   "source": [
    "unique_V_count = df['TRAV'].nunique()\n",
    "print(f\"There are {unique_V_count} unique V regions in alpha chain\")\n",
    "unique_V_count = df['TRBV'].nunique()\n",
    "print(f\"There are {unique_V_count} unique V regions in beta chain\")"
   ]
  },
  {
   "cell_type": "code",
   "execution_count": null,
   "metadata": {},
   "outputs": [],
   "source": [
    "V_count = df[\"TRAV\"].notnull().sum()\n",
    "print(f\"There are {V_count} entries for J region in alpha chain\")\n",
    "V_count = df[\"TRBV\"].notnull().sum()\n",
    "print(f\"There are {V_count} entries for J region in beta chain\")"
   ]
  },
  {
   "cell_type": "markdown",
   "metadata": {},
   "source": [
    "### J Region\n",
    "How many entries do have J region and how many different J regions are there"
   ]
  },
  {
   "cell_type": "code",
   "execution_count": null,
   "metadata": {},
   "outputs": [],
   "source": [
    "unique_J_count = df[\"TRAJ\"].nunique()\n",
    "print(f\"There are {unique_J_count} unique J regions in alpha chain\")\n",
    "unique_J_count = df[\"TRBJ\"].nunique()\n",
    "print(f\"There are {unique_J_count} unique J regions in beta chain\")"
   ]
  },
  {
   "cell_type": "code",
   "execution_count": null,
   "metadata": {},
   "outputs": [],
   "source": [
    "J_count = df[\"TRAJ\"].notnull().sum()\n",
    "print(f\"There are {J_count} entries for J region in alpha chain\")\n",
    "J_count = df[\"TRBJ\"].notnull().sum()\n",
    "print(f\"There are {J_count} entries for J region in beta chain\")"
   ]
  },
  {
   "cell_type": "markdown",
   "metadata": {},
   "source": [
    "## MHC\n",
    "How many entries do have MHC A **and** MHC B value"
   ]
  },
  {
   "cell_type": "code",
   "execution_count": null,
   "metadata": {},
   "outputs": [],
   "source": [
    "paired_MHC_count = df[[\"MHC A\", \"MHC B\"]].notnull().all(axis=1).sum()\n",
    "print(f\"There are {paired_MHC_count} entries which have the MHC A and MHC B region\")"
   ]
  },
  {
   "cell_type": "markdown",
   "metadata": {},
   "source": [
    "### MHC A"
   ]
  },
  {
   "cell_type": "code",
   "execution_count": null,
   "metadata": {},
   "outputs": [],
   "source": [
    "unique_MHCa_count = df[\"MHC A\"].nunique()\n",
    "print(f\"There are {unique_MHCa_count} unique MHC A values\")"
   ]
  },
  {
   "cell_type": "code",
   "execution_count": null,
   "metadata": {},
   "outputs": [],
   "source": [
    "MHCa_count = df[\"MHC A\"].notnull().sum()\n",
    "print(f\"There are {MHCa_count} entries MHC A\")"
   ]
  },
  {
   "cell_type": "markdown",
   "metadata": {},
   "source": [
    "Distribution of MHC A"
   ]
  },
  {
   "cell_type": "code",
   "execution_count": null,
   "metadata": {},
   "outputs": [],
   "source": [
    "# Count the occurrences of each MHC A\n",
    "mhc_counts = df['MHC A'].value_counts()\n",
    "\n",
    "# Filter Epitopes that have more than 2 entries\n",
    "filtered_mhc_counts = mhc_counts[mhc_counts > 100]\n",
    "\n",
    "# Plotting\n",
    "plt.figure(figsize=(10, 6))\n",
    "filtered_mhc_counts.plot(kind='bar', color='teal')\n",
    "plt.xlabel('MHC A')\n",
    "plt.ylabel('Count')\n",
    "plt.title('Distribution of MHC A with More Than 10 Entries')\n",
    "plt.xticks(rotation=45)\n",
    "plt.show()"
   ]
  },
  {
   "cell_type": "markdown",
   "metadata": {},
   "source": [
    "### MHC B"
   ]
  },
  {
   "cell_type": "code",
   "execution_count": null,
   "metadata": {},
   "outputs": [],
   "source": [
    "unique_MHCb_count = df[\"MHC B\"].nunique()\n",
    "print(f\"There are {unique_MHCb_count} unique MHC B values\")"
   ]
  },
  {
   "cell_type": "code",
   "execution_count": null,
   "metadata": {},
   "outputs": [],
   "source": [
    "MHCb_count = df[\"MHC B\"].notnull().sum()\n",
    "print(f\"There are {MHCb_count} entries for MHC B\")"
   ]
  },
  {
   "cell_type": "markdown",
   "metadata": {},
   "source": [
    "Distribution of MHC A"
   ]
  },
  {
   "cell_type": "code",
   "execution_count": null,
   "metadata": {},
   "outputs": [],
   "source": [
    "# Count the occurrences of each MHC B\n",
    "mhc_counts = df['MHC B'].value_counts()\n",
    "\n",
    "# Filter Epitopes that have more than 2 entries\n",
    "filtered_mhc_counts = mhc_counts[mhc_counts > 10]\n",
    "\n",
    "# Plotting\n",
    "plt.figure(figsize=(10, 6))\n",
    "filtered_mhc_counts.plot(kind='bar', color='teal')\n",
    "plt.xlabel('MHC A')\n",
    "plt.ylabel('Count')\n",
    "plt.title('Distribution of MHC A with More Than 10 Entries')\n",
    "plt.xticks(rotation=45)\n",
    "plt.show()"
   ]
  }
 ],
 "metadata": {
  "kernelspec": {
   "display_name": "BA24",
   "language": "python",
   "name": "python3"
  },
  "language_info": {
   "codemirror_mode": {
    "name": "ipython",
    "version": 3
   },
   "file_extension": ".py",
   "mimetype": "text/x-python",
   "name": "python",
   "nbconvert_exporter": "python",
   "pygments_lexer": "ipython3",
   "version": "3.12.2"
  }
 },
 "nbformat": 4,
 "nbformat_minor": 2
}
