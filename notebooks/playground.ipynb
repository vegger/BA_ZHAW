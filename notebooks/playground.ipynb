{
 "cells": [
  {
   "cell_type": "code",
   "execution_count": null,
   "metadata": {},
   "outputs": [],
   "source": [
    "import pandas as pd"
   ]
  },
  {
   "cell_type": "code",
   "execution_count": null,
   "metadata": {},
   "outputs": [],
   "source": [
    "column_names = [\n",
    "    \"PDB ID\",\n",
    "    \"Receptor chain\",\n",
    "    \"Resolution\",\n",
    "    \"Binding site number code\",\n",
    "    \"Ligand ID in the Chemical Component Dictionary (CCD) used by the PDB database\",\n",
    "    \"Ligand chain\",\n",
    "    \"Ligand serial number\",\n",
    "    \"Binding site residues (with PDB residue numbering)\",\n",
    "    \"Binding site residues (with residue re-numbered starting from 1)\",\n",
    "    \"Catalytic site residues (different sites are separated by ';') (with PDB residue numbering)\",\n",
    "    \"Catalytic site residues (different sites are separated by ';') (with residue re-numbered starting from 1)\",\n",
    "    \"EC number\",\n",
    "    \"GO terms\",\n",
    "    \"Binding affinity by manual survey of the original literature. The information in '()' is the PubMed ID\",\n",
    "    \"Binding affinity provided by the Binding MOAD database. The information in '()' is the ligand information in Binding MOAD\",\n",
    "    \"Binding affinity provided by the PDBbind-CN database. The information in '()' is the ligand information in PDBbind-CN\",\n",
    "    \"Binding affinity provided by the BindingDB database\",\n",
    "    \"UniProt ID\",\n",
    "    \"PubMed ID\",\n",
    "    \"Residue sequence number of the ligand (field _atom_site.auth_seq_id in PDBx/mmCIF format)\",\n",
    "    \"Receptor sequence\"\n",
    "]"
   ]
  },
  {
   "cell_type": "code",
   "execution_count": null,
   "metadata": {},
   "outputs": [],
   "source": [
    "bioLip2_df = pd.read_csv(\"./BioLiP_nr.tsv\", sep=\"\\t\", names=column_names, header=None)\n"
   ]
  },
  {
   "cell_type": "code",
   "execution_count": null,
   "metadata": {},
   "outputs": [],
   "source": [
    "len(bioLip2_df.columns)"
   ]
  },
  {
   "cell_type": "code",
   "execution_count": null,
   "metadata": {},
   "outputs": [],
   "source": [
    "bioLip2_df.columns"
   ]
  },
  {
   "cell_type": "code",
   "execution_count": null,
   "metadata": {},
   "outputs": [],
   "source": [
    "bioLip2_df"
   ]
  },
  {
   "cell_type": "markdown",
   "metadata": {},
   "source": [
    "The receptor sequences are the proteins!\n",
    "=> idea: we can get the ligand sequences via the PDB ID with data retrival via the PDB API!"
   ]
  },
  {
   "cell_type": "code",
   "execution_count": null,
   "metadata": {},
   "outputs": [],
   "source": [
    "bioLip2_df = bioLip2_df.dropna(subswet=['Receptor sequence'])\n",
    "bioLip2_df"
   ]
  },
  {
   "cell_type": "code",
   "execution_count": null,
   "metadata": {},
   "outputs": [],
   "source": [
    "bioLip2_df[[\"PDB ID\", \"Ligand ID in the Chemical Component Dictionary (CCD) used by the PDB database\"]]"
   ]
  },
  {
   "cell_type": "code",
   "execution_count": null,
   "metadata": {},
   "outputs": [],
   "source": [
    "bla = bioLip2_df[bioLip2_df[\"Ligand ID in the Chemical Component Dictionary (CCD) used by the PDB database\"] == \"7zzq\"]\n",
    "bla"
   ]
  },
  {
   "cell_type": "code",
   "execution_count": null,
   "metadata": {},
   "outputs": [],
   "source": [
    "from Bio import SeqIO"
   ]
  },
  {
   "cell_type": "code",
   "execution_count": null,
   "metadata": {},
   "outputs": [],
   "source": [
    "# Define the path to your FASTA file\n",
    "fasta_file_path = \"./peptide_nr.fasta\"\n",
    "\n",
    "# Use SeqIO.parse() to read the file\n",
    "sequence_objects = SeqIO.parse(fasta_file_path, \"fasta\")"
   ]
  },
  {
   "cell_type": "code",
   "execution_count": null,
   "metadata": {},
   "outputs": [],
   "source": [
    "# Create a list to hold dictionaries for each sequence\n",
    "sequences_data = []\n",
    "\n",
    "# Use SeqIO.parse() to read the FASTA file\n",
    "for seq_record in SeqIO.parse(fasta_file_path, \"fasta\"):\n",
    "    # Create a dictionary for each sequence record\n",
    "    seq_dict = {\n",
    "        \"ID\": seq_record.id,  # Sequence ID\n",
    "        \"Sequence\": str(seq_record.seq),  # Sequence string\n",
    "        \"Length\": len(seq_record)  # Sequence length\n",
    "        # Add any other details you need\n",
    "    }\n",
    "    # Add the dictionary to the list\n",
    "    sequences_data.append(seq_dict)\n",
    "\n",
    "# Create a DataFrame from the list of dictionaries\n",
    "sequences_df = pd.DataFrame(sequences_data)\n",
    "\n",
    "# Display the DataFrame to verify\n",
    "print(sequences_df)"
   ]
  },
  {
   "cell_type": "code",
   "execution_count": null,
   "metadata": {},
   "outputs": [],
   "source": [
    "# Define the path to your FASTA file\n",
    "fasta_file_path = \"./peptide_nr.fasta\"\n",
    "\n",
    "# Use SeqIO.parse() to read the file\n",
    "sequence_objects = SeqIO.parse(fasta_file_path, \"fasta\")"
   ]
  },
  {
   "cell_type": "code",
   "execution_count": null,
   "metadata": {},
   "outputs": [],
   "source": [
    "# Create a list to hold dictionaries for each sequence\n",
    "sequences_data = []\n",
    "\n",
    "# Use SeqIO.parse() to read the FASTA file\n",
    "for seq_record in SeqIO.parse(fasta_file_path, \"fasta\"):\n",
    "    # Create a dictionary for each sequence record\n",
    "    seq_dict = {\n",
    "        \"ID\": seq_record.id,  # Sequence ID\n",
    "        \"Sequence\": str(seq_record.seq),  # Sequence string\n",
    "        \"Length\": len(seq_record)  # Sequence length\n",
    "        # Add any other details you need\n",
    "    }\n",
    "    # Add the dictionary to the list\n",
    "    sequences_data.append(seq_dict)\n",
    "\n",
    "# Create a DataFrame from the list of dictionaries\n",
    "sequences_df = pd.DataFrame(sequences_data)\n",
    "\n",
    "# Display the DataFrame to verify\n",
    "print(sequences_df)"
   ]
  },
  {
   "cell_type": "markdown",
   "metadata": {},
   "source": [
    "Due to different "
   ]
  },
  {
   "cell_type": "code",
   "execution_count": null,
   "metadata": {},
   "outputs": [],
   "source": [
    "bidningdb_df = pd.read_csv(\"./BindingDB_All_202404.tsv\", sep=\"\\t\")\n",
    "bidningdb_df"
   ]
  }
 ],
 "metadata": {
  "kernelspec": {
   "display_name": "BA24",
   "language": "python",
   "name": "python3"
  },
  "language_info": {
   "codemirror_mode": {
    "name": "ipython",
    "version": 3
   },
   "file_extension": ".py",
   "mimetype": "text/x-python",
   "name": "python",
   "nbconvert_exporter": "python",
   "pygments_lexer": "ipython3",
   "version": "3.12.2"
  }
 },
 "nbformat": 4,
 "nbformat_minor": 2
}
