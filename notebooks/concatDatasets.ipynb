{
 "cells": [
  {
   "cell_type": "code",
   "execution_count": null,
   "metadata": {},
   "outputs": [],
   "source": [
    "import pandas as pd"
   ]
  },
  {
   "cell_type": "code",
   "execution_count": null,
   "metadata": {},
   "outputs": [],
   "source": [
    "custom_dataset_path = \"../data/customDatasets/\""
   ]
  },
  {
   "cell_type": "code",
   "execution_count": null,
   "metadata": {},
   "outputs": [],
   "source": [
    "vdjdb_beta_read_path = \"../data/VDJdb/cleaned_data/vdjdb_cleaned_data_beta.tsv\"\n",
    "vdjdb_beta_df = pd.read_csv(vdjdb_beta_read_path, sep=\"\\t\")\n",
    "vdjdb_beta_df"
   ]
  },
  {
   "cell_type": "code",
   "execution_count": null,
   "metadata": {},
   "outputs": [],
   "source": [
    "mcpastcr_beta_read_path = \"../data/McPAS-TCR/cleaned_data/mcpastcr_cleaned_data_beta.tsv\"\n",
    "mcpastcr_beta_df = pd.read_csv(mcpastcr_beta_read_path, sep=\"\\t\")\n",
    "mcpastcr_beta_df"
   ]
  },
  {
   "cell_type": "code",
   "execution_count": null,
   "metadata": {},
   "outputs": [],
   "source": [
    "iedb_beta_read_path = \"../data/IEDB/cleaned_data/IEDB_cleaned_data_beta.csv\"\n",
    "iedb_beta_df = pd.read_csv(iedb_beta_read_path)\n",
    "iedb_beta_df"
   ]
  },
  {
   "cell_type": "code",
   "execution_count": null,
   "metadata": {},
   "outputs": [],
   "source": [
    "beta_df = pd.concat([vdjdb_beta_df, mcpastcr_beta_df, iedb_beta_df], axis=0)\n",
    "beta_df"
   ]
  },
  {
   "cell_type": "code",
   "execution_count": null,
   "metadata": {},
   "outputs": [],
   "source": [
    "columns_to_ignore_duplicates = beta_df.columns.difference([\"TCR_name\", \"Score\"])\n",
    "beta_df.drop_duplicates(inplace=True, subset=columns_to_ignore_duplicates)\n",
    "beta_df"
   ]
  },
  {
   "cell_type": "code",
   "execution_count": null,
   "metadata": {},
   "outputs": [],
   "source": [
    "obsolete_columns = [\"TRA_leader\", \"TRB_leader\", \"Linker\", \"Link_order\", \"TRA_5_prime_seq\", \"TRA_3_prime_seq\", \"TRB_5_prime_seq\", \"TRB_3_prime_seq\",\\\n",
    "                    \"Score\", \"MHC class\"]\n",
    "\n",
    "beta_df = beta_df.drop(columns=obsolete_columns)\n",
    "beta_df[\"TCR_name\"] = range(1, len(beta_df) + 1)\n",
    "beta_df[\"Binding\"] = 1\n",
    "beta_df"
   ]
  },
  {
   "cell_type": "code",
   "execution_count": null,
   "metadata": {},
   "outputs": [],
   "source": [
    "file_name = \"beta_concatenated\"\n",
    "beta_df.to_csv(custom_dataset_path+file_name+\".tsv\", sep=\"\\t\", index=False)"
   ]
  },
  {
   "cell_type": "markdown",
   "metadata": {},
   "source": [
    "-------------------------------------------------------------------------------------------------\n",
    "-------------------------------------------------------------------------------------------------\n",
    "\n",
    "Here we concatenate the paired datasets!"
   ]
  },
  {
   "cell_type": "code",
   "execution_count": null,
   "metadata": {},
   "outputs": [],
   "source": [
    "vdjdb_paired_read_path = \"../data/VDJdb/cleaned_data/vdjdb_cleaned_data_paired.tsv\"\n",
    "vdjdb_paired_df = pd.read_csv(vdjdb_paired_read_path, sep=\"\\t\")\n",
    "vdjdb_paired_df"
   ]
  },
  {
   "cell_type": "code",
   "execution_count": null,
   "metadata": {},
   "outputs": [],
   "source": [
    "mcpastcr_paired_read_path = \"../data/McPAS-TCR/cleaned_data/mcpastcr_cleaned_data_paired.tsv\"\n",
    "mcpastcr_paired_df = pd.read_csv(mcpastcr_paired_read_path, sep=\"\\t\")\n",
    "mcpastcr_paired_df"
   ]
  },
  {
   "cell_type": "code",
   "execution_count": null,
   "metadata": {},
   "outputs": [],
   "source": [
    "iedb_paired_read_path = \"../data/IEDB/cleaned_data/IEDB_cleaned_data_paired.csv\"\n",
    "iedb_paired_df = pd.read_csv(iedb_paired_read_path)\n",
    "iedb_paired_df"
   ]
  },
  {
   "cell_type": "code",
   "execution_count": null,
   "metadata": {},
   "outputs": [],
   "source": [
    "paired_df = pd.concat([vdjdb_paired_df, mcpastcr_paired_df, iedb_paired_df], axis=0)\n",
    "paired_df"
   ]
  },
  {
   "cell_type": "code",
   "execution_count": null,
   "metadata": {},
   "outputs": [],
   "source": [
    "columns_without_TCR_name = paired_df.columns.difference([\"TCR_name\", \"Score\"])\n",
    "paired_df.drop_duplicates(inplace=True, subset=columns_without_TCR_name)\n",
    "paired_df"
   ]
  },
  {
   "cell_type": "code",
   "execution_count": null,
   "metadata": {},
   "outputs": [],
   "source": [
    "obsolete_columns = [\"TRA_leader\", \"TRB_leader\", \"Linker\", \"Link_order\", \"TRA_5_prime_seq\", \"TRA_3_prime_seq\", \"TRB_5_prime_seq\", \"TRB_3_prime_seq\",\\\n",
    "                    \"Score\", \"MHC class\"]\n",
    "\n",
    "paired_df = paired_df.drop(columns=obsolete_columns)\n",
    "paired_df[\"TCR_name\"] = range(1, len(paired_df) + 1)\n",
    "paired_df[\"Binding\"] = 1\n",
    "paired_df"
   ]
  },
  {
   "cell_type": "code",
   "execution_count": null,
   "metadata": {},
   "outputs": [],
   "source": [
    "file_name = \"paired_concatenated\"\n",
    "paired_df.to_csv(custom_dataset_path+file_name+\".tsv\", sep=\"\\t\", index=False)"
   ]
  }
 ],
 "metadata": {
  "kernelspec": {
   "display_name": "BA24",
   "language": "python",
   "name": "python3"
  },
  "language_info": {
   "codemirror_mode": {
    "name": "ipython",
    "version": 3
   },
   "file_extension": ".py",
   "mimetype": "text/x-python",
   "name": "python",
   "nbconvert_exporter": "python",
   "pygments_lexer": "ipython3",
   "version": "3.12.2"
  }
 },
 "nbformat": 4,
 "nbformat_minor": 2
}
