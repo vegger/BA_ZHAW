{
 "cells": [
  {
   "cell_type": "markdown",
   "metadata": {},
   "source": [
    "as we saw in the IEDB_analyze, there are only a few elements which have calculated but not curated values. that's why we decided to only use curated values, they are set far more often and are also more trustworthy."
   ]
  },
  {
   "cell_type": "code",
   "execution_count": 4,
   "metadata": {},
   "outputs": [],
   "source": [
    "import pandas as pd\n",
    "import numpy as np"
   ]
  },
  {
   "cell_type": "code",
   "execution_count": 7,
   "metadata": {},
   "outputs": [
    {
     "name": "stderr",
     "output_type": "stream",
     "text": [
      "/tmp/ipykernel_77278/2893993248.py:41: DtypeWarning: Columns (5,6,7,8,9,10,11,15,17,18) have mixed types. Specify dtype option on import or set low_memory=False.\n",
      "  df_all = pd.read_csv(f\"{path_prefix}/IEDB_positive_only.csv\", usecols=curatedPropertiesAll)\n",
      "/tmp/ipykernel_77278/2893993248.py:42: DtypeWarning: Columns (10,13,15) have mixed types. Specify dtype option on import or set low_memory=False.\n",
      "  df_beta = pd.read_csv(f\"{path_prefix}/IEDB_positive_beta_only.csv\", usecols=curatedPropertiesBeta)\n"
     ]
    }
   ],
   "source": [
    "path_prefix = '../../data/IEDB'\n",
    "\n",
    "curatedPropertiesAll = [\n",
    "  \"Receptor - IEDB Receptor ID\",\n",
    "  \"Epitope - Name\",\n",
    "  \"Epitope - Source Organism\",\n",
    "  \"Assay - Type\", \n",
    "  \"Assay - MHC Allele Names\", # maybe interesting because EPIC Trace does something with Allele -> https://github.com/DaniTheOrange/EPIC-TRACE/blob/main/src/construct_long.py\n",
    "  \"Chain 1 - Type\",\n",
    "  \"Chain 1 - Curated V Gene\",\n",
    "  \"Chain 1 - Curated J Gene\",\n",
    "  \"Chain 1 - Protein Sequence\", # this one is a very long chain\n",
    "  \"Chain 1 - CDR3 Curated\", # CDR Sequences also have start and end (curated/calculated properties), which is a integer\n",
    "  \"Chain 1 - CDR1 Curated\",\n",
    "  \"Chain 1 - CDR2 Curated\",\n",
    "  \"Chain 2 - Type\",\n",
    "  \"Chain 2 - Curated V Gene\",\n",
    "  \"Chain 2 - Curated J Gene\",\n",
    "  \"Chain 2 - Protein Sequence\", # this one is a very long chain\n",
    "  \"Chain 2 - CDR3 Curated\",\n",
    "  \"Chain 2 - CDR1 Curated\",\n",
    "  \"Chain 2 - CDR2 Curated\",\n",
    "  ]\n",
    "\n",
    "curatedPropertiesBeta = [\n",
    "  \"Receptor - IEDB Receptor ID\",\n",
    "  \"Epitope - Name\",\n",
    "  \"Epitope - Source Organism\",\n",
    "  \"Assay - Type\", \n",
    "  \"Assay - MHC Allele Names\", # maybe interesting because EPIC Trace does something with Allele -> https://github.com/DaniTheOrange/EPIC-TRACE/blob/main/src/construct_long.py\n",
    "  \"Chain 2 - Type\",\n",
    "  \"Chain 2 - Curated V Gene\",\n",
    "  \"Chain 2 - Curated J Gene\",\n",
    "  \"Chain 2 - Protein Sequence\", # this one is a very long chain\n",
    "  \"Chain 2 - CDR3 Curated\",\n",
    "  \"Chain 2 - CDR1 Curated\",\n",
    "  \"Chain 2 - CDR2 Curated\",\n",
    "  ]\n",
    "\n",
    "\n",
    "df_all = pd.read_csv(f\"{path_prefix}/IEDB_positive_only.csv\", usecols=curatedPropertiesAll)\n",
    "df_beta = pd.read_csv(f\"{path_prefix}/IEDB_positive_beta_only.csv\", usecols=curatedPropertiesBeta)"
   ]
  },
  {
   "cell_type": "markdown",
   "metadata": {},
   "source": [
    "Now a bit of renaming has to be done because we want column names like this:\n",
    "\n",
    "- TCR_name\n",
    "-\tTRAV\n",
    "-\tTRAJ\n",
    "-\tTRA_CDR3\n",
    "-\tTRBV\n",
    "-\tTRBJ\n",
    "-\tTRB_CDR3\n",
    "-\tTRAC\n",
    "-\tTRBC\n",
    "-\tTRA_leader\n",
    "-\tTRB_leader\n",
    "-\tLinker\n",
    "-\tLink_order\n",
    "-\tTRA_5_prime_seq\n",
    "-\tTRA_3_prime_seq\n",
    "-\tTRB_5_prime_seq\n",
    "-\tTRB_3_prime_seq\n",
    "-\tEpitope\n",
    "-\tScore_TRA\n",
    "-\tScore_TRB\n"
   ]
  },
  {
   "cell_type": "code",
   "execution_count": 9,
   "metadata": {},
   "outputs": [],
   "source": [
    "df_all.rename(columns={'Receptor - IEDB Receptor ID': 'TCR_name'}, inplace=True)\n",
    "\n",
    "# alpha chain\n",
    "df_all.rename(columns={'Chain 1 - Curated V Gene': 'TRAV'}, inplace=True)\n",
    "df_all.rename(columns={'Chain 1 - Curated J Gene': 'TRAJ'}, inplace=True)\n",
    "df_all.rename(columns={'Chain 1 - CDR3 Curated': 'TRA_CDR3'}, inplace=True)\n",
    "\n",
    "# beta chain\n",
    "df_all.rename(columns={'Chain 2 - Curated V Gene': 'TRBV'}, inplace=True)\n",
    "df_all.rename(columns={'Chain 2 - Curated J Gene': 'TRBJ'}, inplace=True)\n",
    "df_all.rename(columns={'Chain 2 - CDR3 Curated': 'TRB_CDR3'}, inplace=True)\n",
    "\n",
    "## Same for beta only\n",
    "df_beta.rename(columns={'Receptor - IEDB Receptor ID': 'TCR_name'}, inplace=True)\n",
    "\n",
    "# beta chain\n",
    "df_beta.rename(columns={'Chain 2 - Curated V Gene': 'TRBV'}, inplace=True)\n",
    "df_beta.rename(columns={'Chain 2 - Curated J Gene': 'TRBJ'}, inplace=True)\n",
    "df_beta.rename(columns={'Chain 2 - CDR3 Curated': 'TRB_CDR3'}, inplace=True)\n",
    "\n",
    "new_column_names = []\n",
    "\n",
    "## add np.nan for missing columns and remove the other columns\n",
    "# Define the column names\n",
    "column_names = ['TRAC', 'TRBC', 'TRA_leader', 'TRB_leader', 'Linker', 'Link_order', \n",
    "                'TRA_5_prime_seq', 'TRA_3_prime_seq', 'TRB_5_prime_seq', 'TRB_3_prime_seq']\n",
    "\n",
    "columns_to_keep = ['TRAC', 'TRBC', 'TRA_leader', 'TRB_leader', 'Linker', 'Link_order', #nan columns\n",
    "                'TRA_5_prime_seq', 'TRA_3_prime_seq', 'TRB_5_prime_seq', 'TRB_3_prime_seq', #nan columns\n",
    "                'TRAV', 'TRAJ', 'TRA_CDR3', 'TRBV', 'TRBJ', 'TRB_CDR3', 'TCR_name'] #renamed columns\n",
    "\n",
    "columns_to_keep_beta = ['TRAC', 'TRBC', 'TRA_leader', 'TRB_leader', 'Linker', 'Link_order', #nan columns\n",
    "                'TRA_5_prime_seq', 'TRA_3_prime_seq', 'TRB_5_prime_seq', 'TRB_3_prime_seq', #nan columns\n",
    "                'TRBV', 'TRBJ', 'TRB_CDR3', 'TCR_name'] #renamed columns\n",
    "\n",
    "# Assign columns with default value np.nan\n",
    "df_all = df_all.assign(**{col: np.nan for col in column_names})\n",
    "df_beta = df_beta.assign(**{col: np.nan for col in column_names})\n",
    "\n",
    "df_all.to_csv('../../data/IEDB/IEDB_positive_stitchr_all.csv', index=False, columns=columns_to_keep)\n",
    "df_beta.to_csv('../../data/IEDB/IEDB_positive_stitchr_beta.csv', index=False, columns=columns_to_keep_beta)\n"
   ]
  },
  {
   "cell_type": "code",
   "execution_count": null,
   "metadata": {},
   "outputs": [],
   "source": []
  }
 ],
 "metadata": {
  "kernelspec": {
   "display_name": "BA24",
   "language": "python",
   "name": "python3"
  },
  "language_info": {
   "codemirror_mode": {
    "name": "ipython",
    "version": 3
   },
   "file_extension": ".py",
   "mimetype": "text/x-python",
   "name": "python",
   "nbconvert_exporter": "python",
   "pygments_lexer": "ipython3",
   "version": "3.12.2"
  }
 },
 "nbformat": 4,
 "nbformat_minor": 2
}
