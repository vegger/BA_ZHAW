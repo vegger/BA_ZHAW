{
 "cells": [
  {
   "cell_type": "markdown",
   "metadata": {},
   "source": [
    "## In this file the attributes are analyzed because there are curated and calculated attributes."
   ]
  },
  {
   "cell_type": "code",
   "execution_count": 4,
   "metadata": {},
   "outputs": [
    {
     "name": "stderr",
     "output_type": "stream",
     "text": [
      "/tmp/ipykernel_62177/176100942.py:4: DtypeWarning: Columns (5,6,7,8,9,10,11,12,13,14,15,16,19,21,22,25,26,27,28) have mixed types. Specify dtype option on import or set low_memory=False.\n",
      "  df = pd.read_csv(f\"{path_prefix}/IEDB.csv\")\n"
     ]
    },
    {
     "name": "stdout",
     "output_type": "stream",
     "text": [
      "<class 'pandas.core.frame.DataFrame'>\n",
      "RangeIndex: 211234 entries, 0 to 211233\n",
      "Data columns (total 29 columns):\n",
      " #   Column                       Non-Null Count   Dtype \n",
      "---  ------                       --------------   ----- \n",
      " 0   Receptor - IEDB Receptor ID  211234 non-null  int64 \n",
      " 1   Epitope - Name               211234 non-null  object\n",
      " 2   Epitope - Source Organism    207297 non-null  object\n",
      " 3   Assay - Type                 211234 non-null  object\n",
      " 4   Assay - MHC Allele Names     211111 non-null  object\n",
      " 5   Chain 1 - Type               57216 non-null   object\n",
      " 6   Chain 1 - Curated V Gene     38939 non-null   object\n",
      " 7   Chain 1 - Calculated V Gene  8615 non-null    object\n",
      " 8   Chain 1 - Curated J Gene     36000 non-null   object\n",
      " 9   Chain 1 - Calculated J Gene  8455 non-null    object\n",
      " 10  Chain 1 - Protein Sequence   772 non-null     object\n",
      " 11  Chain 1 - CDR3 Curated       56773 non-null   object\n",
      " 12  Chain 1 - CDR3 Calculated    729 non-null     object\n",
      " 13  Chain 1 - CDR1 Curated       263 non-null     object\n",
      " 14  Chain 1 - CDR1 Calculated    729 non-null     object\n",
      " 15  Chain 1 - CDR2 Curated       270 non-null     object\n",
      " 16  Chain 1 - CDR2 Calculated    729 non-null     object\n",
      " 17  Chain 2 - Type               182103 non-null  object\n",
      " 18  Chain 2 - Curated V Gene     159649 non-null  object\n",
      " 19  Chain 2 - Calculated V Gene  12331 non-null   object\n",
      " 20  Chain 2 - Curated J Gene     157016 non-null  object\n",
      " 21  Chain 2 - Calculated J Gene  12127 non-null   object\n",
      " 22  Chain 2 - Protein Sequence   826 non-null     object\n",
      " 23  Chain 2 - CDR3 Curated       180899 non-null  object\n",
      " 24  Chain 2 - CDR3 Calculated    137692 non-null  object\n",
      " 25  Chain 2 - CDR1 Curated       6274 non-null    object\n",
      " 26  Chain 2 - CDR1 Calculated    778 non-null     object\n",
      " 27  Chain 2 - CDR2 Curated       6355 non-null    object\n",
      " 28  Chain 2 - CDR2 Calculated    778 non-null     object\n",
      "dtypes: int64(1), object(28)\n",
      "memory usage: 46.7+ MB\n",
      "None\n"
     ]
    }
   ],
   "source": [
    "import pandas as pd\n",
    "\n",
    "path_prefix = '../../data/IEDB'\n",
    "df = pd.read_csv(f\"{path_prefix}/IEDB.csv\")\n",
    "print(df.info())\n"
   ]
  },
  {
   "cell_type": "markdown",
   "metadata": {},
   "source": [
    "now as the data is in the panda dataframe, it's ready to be analyzed. We want to know if there are entries in which there are only calculated but not curated values."
   ]
  },
  {
   "cell_type": "code",
   "execution_count": 3,
   "metadata": {},
   "outputs": [
    {
     "name": "stdout",
     "output_type": "stream",
     "text": [
      "V Gene curated count: 159649\n",
      "V Gene calculated count: 12331\n",
      "V Gene curated and calculated count: 11724\n",
      "V Gene only calculated count: 607\n",
      "J Gene curated count: 157016\n",
      "J Gene calculated count: 12127\n",
      "J Gene curated and calculated count: 11512\n",
      "J Gene only calculated count: 615\n",
      "CDR3 curated count: 180899\n",
      "CDR3 calculated count: 137692\n",
      "CDR3 curated and calculated count: 137289\n",
      "CDR3 only calculated count: 403\n"
     ]
    }
   ],
   "source": [
    "# Masks for curated and calculated attributes for each feature\n",
    "v_gene_curated_mask = ~df['Chain 2 - Curated V Gene'].isnull()\n",
    "v_gene_calculated_mask = ~df['Chain 2 - Calculated V Gene'].isnull()\n",
    "\n",
    "j_gene_curated_mask = ~df['Chain 2 - Curated J Gene'].isnull()\n",
    "j_gene_calculated_mask = ~df['Chain 2 - Calculated J Gene'].isnull()\n",
    "\n",
    "cdr3_curated_mask = ~df['Chain 2 - CDR3 Curated'].isnull()\n",
    "cdr3_calculated_mask = ~df['Chain 2 - CDR3 Calculated'].isnull()\n",
    "\n",
    "# Calculate counts for each category\n",
    "v_gene_curated_count = v_gene_curated_mask.sum()\n",
    "v_gene_calculated_count = v_gene_calculated_mask.sum()\n",
    "v_gene_curated_and_calculated_count = (v_gene_curated_mask & v_gene_calculated_mask).sum()\n",
    "v_gene_only_calculated_count = v_gene_calculated_count - v_gene_curated_and_calculated_count\n",
    "\n",
    "j_gene_curated_count = j_gene_curated_mask.sum()\n",
    "j_gene_calculated_count = j_gene_calculated_mask.sum()\n",
    "j_gene_curated_and_calculated_count = (j_gene_curated_mask & j_gene_calculated_mask).sum()\n",
    "j_gene_only_calculated_count = j_gene_calculated_count - j_gene_curated_and_calculated_count\n",
    "\n",
    "cdr3_curated_count = cdr3_curated_mask.sum()\n",
    "cdr3_calculated_count = cdr3_calculated_mask.sum()\n",
    "cdr3_curated_and_calculated_count = (cdr3_curated_mask & cdr3_calculated_mask).sum()\n",
    "cdr3_only_calculated_count = cdr3_calculated_count - cdr3_curated_and_calculated_count\n",
    "\n",
    "# Output the results\n",
    "print(\"V Gene curated count:\", v_gene_curated_count)\n",
    "print(\"V Gene calculated count:\", v_gene_calculated_count)\n",
    "print(\"V Gene curated and calculated count:\", v_gene_curated_and_calculated_count)\n",
    "print(\"V Gene only calculated count:\", v_gene_only_calculated_count)\n",
    "\n",
    "print(\"J Gene curated count:\", j_gene_curated_count)\n",
    "print(\"J Gene calculated count:\", j_gene_calculated_count)\n",
    "print(\"J Gene curated and calculated count:\", j_gene_curated_and_calculated_count)\n",
    "print(\"J Gene only calculated count:\", j_gene_only_calculated_count)\n",
    "\n",
    "print(\"CDR3 curated count:\", cdr3_curated_count)\n",
    "print(\"CDR3 calculated count:\", cdr3_calculated_count)\n",
    "print(\"CDR3 curated and calculated count:\", cdr3_curated_and_calculated_count)\n",
    "print(\"CDR3 only calculated count:\", cdr3_only_calculated_count)"
   ]
  },
  {
   "cell_type": "markdown",
   "metadata": {},
   "source": [
    "there are less than 1700 entries which have only calculated values. we drop them because they are not as accurate as curated values."
   ]
  }
 ],
 "metadata": {
  "kernelspec": {
   "display_name": "BA24",
   "language": "python",
   "name": "python3"
  },
  "language_info": {
   "codemirror_mode": {
    "name": "ipython",
    "version": 3
   },
   "file_extension": ".py",
   "mimetype": "text/x-python",
   "name": "python",
   "nbconvert_exporter": "python",
   "pygments_lexer": "ipython3",
   "version": "3.12.2"
  }
 },
 "nbformat": 4,
 "nbformat_minor": 2
}
