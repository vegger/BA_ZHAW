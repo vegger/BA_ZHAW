{
 "cells": [
  {
   "cell_type": "code",
   "execution_count": 3,
   "metadata": {},
   "outputs": [],
   "source": [
    "import pandas as pd\n",
    "import numpy as np\n",
    "pd.options.mode.copy_on_write = True"
   ]
  },
  {
   "cell_type": "code",
   "execution_count": 4,
   "metadata": {},
   "outputs": [
    {
     "name": "stderr",
     "output_type": "stream",
     "text": [
      "/tmp/ipykernel_9836/1317125257.py:12: DtypeWarning: Columns (3,4,5,6,7,8,9,13,15,16,17) have mixed types. Specify dtype option on import or set low_memory=False.\n",
      "  df_cleaned_beta = pd.read_csv(f\"{path_prefix_fitted}/IEDB_beta_fitted.csv\")\n"
     ]
    }
   ],
   "source": [
    "path_prefix_fitted = \"../../data/IEDB/fitted_data\"\n",
    "path_prefix_cleaned = \"../../data/IEDB/cleaned_data\"\n",
    "\n",
    "missing_column_names = ['TRAC', 'TRBC', 'TRA_leader', 'TRB_leader', 'Linker', 'Link_order', \n",
    "                'TRA_5_prime_seq', 'TRA_3_prime_seq', 'TRB_5_prime_seq', 'TRB_3_prime_seq', 'score']\n",
    "\n",
    "needed_column_names = ['TRAC', 'TRBC', 'TRA_leader', 'TRB_leader', 'Linker', 'Link_order', #nan columns\n",
    "                'TRA_5_prime_seq', 'TRA_3_prime_seq', 'TRB_5_prime_seq', 'TRB_3_prime_seq', #nan columns\n",
    "                'Epitope', 'TRAV', 'TRAJ', 'TRA_CDR3', 'TRBV', 'TRBJ', 'TRB_CDR3', 'TCR_name',\n",
    "                'MHC A', 'MHC B', 'MHC class'] \n",
    "\n",
    "df_cleaned_beta = pd.read_csv(f\"{path_prefix_fitted}/IEDB_beta_fitted.csv\")\n",
    "df_cleaned_paired = pd.read_csv(f\"{path_prefix_fitted}/IEDB_paired_fitted.csv\")\n",
    "\n",
    "# Assign missing columns with default value np.nan\n",
    "df_beta = df_cleaned_beta.assign(**{col: np.nan for col in missing_column_names})\n",
    "df_paired = df_cleaned_paired.assign(**{col: np.nan for col in missing_column_names})\n",
    "\n",
    "# Remove rows with nan values\n",
    "#df_beta.dropna(subset=[\"Epitope\", \"TRBV\", \"TRBJ\", \"TRB_CDR3\"], inplace=True)\n",
    "df_beta.dropna(subset=[\"Epitope\", \"TRB_CDR3\"], inplace=True)\n",
    "#df_paired.dropna(subset=[\"Epitope\", \"TRAV\", \"TRAJ\", \"TRA_CDR3\", \"TRBV\", \"TRBJ\", \"TRB_CDR3\"], inplace=True)\n",
    "df_paired.dropna(subset=[\"Epitope\", \"TRA_CDR3\", \"TRB_CDR3\"], inplace=True)\n",
    "\n",
    "df_beta.to_csv(f\"{path_prefix_cleaned}/IEDB_cleaned_data_beta.csv\", index=False, columns=needed_column_names)\n",
    "df_paired.to_csv(f\"{path_prefix_cleaned}/IEDB_cleaned_data_paired.csv\", index=False, columns=needed_column_names)"
   ]
  }
 ],
 "metadata": {
  "kernelspec": {
   "display_name": "BA24",
   "language": "python",
   "name": "python3"
  },
  "language_info": {
   "codemirror_mode": {
    "name": "ipython",
    "version": 3
   },
   "file_extension": ".py",
   "mimetype": "text/x-python",
   "name": "python",
   "nbconvert_exporter": "python",
   "pygments_lexer": "ipython3",
   "version": "3.12.2"
  }
 },
 "nbformat": 4,
 "nbformat_minor": 2
}
