{
 "cells": [
  {
   "cell_type": "code",
   "execution_count": null,
   "metadata": {},
   "outputs": [],
   "source": [
    "import pandas as pd\n",
    "import numpy as np\n",
    "pd.options.mode.copy_on_write = True"
   ]
  },
  {
   "cell_type": "code",
   "execution_count": null,
   "metadata": {},
   "outputs": [],
   "source": [
    "if not 'path_prefix_fitted' in locals():\n",
    "  path_prefix_fitted = \"../../data/IEDB/fitted_data\"\n",
    "\n",
    "if not 'fitted_file_beta' in locals():\n",
    "  fitted_file_beta = \"IEDB_beta_fitted.csv\"\n",
    "\n",
    "if not 'fitted_file_paired' in locals():\n",
    "  fitted_file_paired = \"IEDB_paired_fitted.csv\"\n",
    "\n",
    "if not 'path_prefix_cleaned' in locals():\n",
    "  path_prefix_cleaned =  \"../../data/IEDB/cleaned_data\"\n",
    "\n",
    "if not 'cleaned_file_beta' in locals():\n",
    "  cleaned_file_beta = \"IEDB_cleaned_data_beta.csv\"\n",
    "\n",
    "if not 'cleaned_file_paired' in locals():\n",
    "  cleaned_file_paired = \"IEDB_cleaned_data_paired.csv\""
   ]
  },
  {
   "cell_type": "code",
   "execution_count": null,
   "metadata": {},
   "outputs": [],
   "source": [
    "missing_column_names = ['TRAC', 'TRBC', 'TRA_leader', 'TRB_leader', 'Linker', 'Link_order', \n",
    "                'TRA_5_prime_seq', 'TRA_3_prime_seq', 'TRB_5_prime_seq', 'TRB_3_prime_seq', 'score']\n",
    "\n",
    "needed_column_names = ['TRAC', 'TRBC', 'TRA_leader', 'TRB_leader', 'Linker', 'Link_order', #nan columns\n",
    "                'TRA_5_prime_seq', 'TRA_3_prime_seq', 'TRB_5_prime_seq', 'TRB_3_prime_seq', #nan columns\n",
    "                'Epitope', 'TRAV', 'TRAJ', 'TRA_CDR3', 'TRBV', 'TRBJ', 'TRB_CDR3',\n",
    "                'MHC', 'MHC class'] \n",
    "\n",
    "df_cleaned_beta = pd.read_csv(f\"{path_prefix_fitted}/{fitted_file_beta}\")\n",
    "df_cleaned_paired = pd.read_csv(f\"{path_prefix_fitted}/{fitted_file_paired}\")\n",
    "\n",
    "# Assign missing columns with default value np.nan\n",
    "df_beta = df_cleaned_beta.assign(**{col: np.nan for col in missing_column_names})\n",
    "df_paired = df_cleaned_paired.assign(**{col: np.nan for col in missing_column_names})\n",
    "\n",
    "# Remove rows with nan values\n",
    "#df_beta.dropna(subset=[\"Epitope\", \"TRBV\", \"TRBJ\", \"TRB_CDR3\"], inplace=True)\n",
    "df_beta.dropna(subset=[\"Epitope\", \"TRB_CDR3\"], inplace=True)\n",
    "#df_paired.dropna(subset=[\"Epitope\", \"TRAV\", \"TRAJ\", \"TRA_CDR3\", \"TRBV\", \"TRBJ\", \"TRB_CDR3\"], inplace=True)\n",
    "df_paired.dropna(subset=[\"Epitope\", \"TRA_CDR3\", \"TRB_CDR3\"], inplace=True)\n",
    "\n",
    "df_beta.to_csv(f\"{path_prefix_cleaned}/{cleaned_file_beta}\", index=False, columns=needed_column_names)\n",
    "df_paired.to_csv(f\"{path_prefix_cleaned}/{cleaned_file_paired}\", index=False, columns=needed_column_names)"
   ]
  }
 ],
 "metadata": {
  "kernelspec": {
   "display_name": "BA24",
   "language": "python",
   "name": "python3"
  },
  "language_info": {
   "codemirror_mode": {
    "name": "ipython",
    "version": 3
   },
   "file_extension": ".py",
   "mimetype": "text/x-python",
   "name": "python",
   "nbconvert_exporter": "python",
   "pygments_lexer": "ipython3",
   "version": "3.12.2"
  }
 },
 "nbformat": 4,
 "nbformat_minor": 2
}
