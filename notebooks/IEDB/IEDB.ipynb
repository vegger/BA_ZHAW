{
 "cells": [
  {
   "cell_type": "markdown",
   "metadata": {},
   "source": [
    "In this file we look closer at the IEDB Data.\n",
    "The csv was created with the following filters:\n",
    "\n",
    "![alt text](image.png)\n",
    "\n",
    "After loading this additional filter was set:\n",
    "\n",
    "![alt text](image-1.png)"
   ]
  },
  {
   "cell_type": "markdown",
   "metadata": {},
   "source": [
    "The data has many columns, not all of them are interesting for our purposes.\n",
    "Now the data get's loaded and the columns are seperated in three lists. One list with interesting properties, one with properties which might be interesting and the last one with properties which is neither in list one or two."
   ]
  },
  {
   "cell_type": "code",
   "execution_count": 10,
   "metadata": {},
   "outputs": [
    {
     "name": "stderr",
     "output_type": "stream",
     "text": [
      "/tmp/ipykernel_13718/4287383772.py:3: DtypeWarning: Columns (2,10,12,13,14,15,16,17,19,20,21,22,23,24,29,30,35,36,41,42,43,44,45,46,47,48,49,50,51,52,53,58,59,64,65) have mixed types. Specify dtype option on import or set low_memory=False.\n",
      "  df = pd.read_csv(\"../../data/IEDB/receptor_table_export_1711285770.csv\")\n"
     ]
    }
   ],
   "source": [
    "import pandas as pd\n",
    "\n",
    "df = pd.read_csv(\"../../data/IEDB/receptor_table_export_1711285770.csv\")\n",
    "\n",
    "interestingProperties = [\n",
    "  \"Receptor - IEDB Receptor ID\",\n",
    "  \"Epitope - Name\",\n",
    "  \"Epitope - Source Organism\",\n",
    "  \"Assay - Type\", \n",
    "  \"Assay - MHC Allele Names\", # maybe interesting because EPIC Trace does something with Allele -> https://github.com/DaniTheOrange/EPIC-TRACE/blob/main/src/construct_long.py\n",
    "  \"Chain 1 - Type\",\n",
    "  \"Chain 1 - Curated V Gene\",\n",
    "  \"Chain 1 - Calculated V Gene\",\n",
    "  \"Chain 1 - Curated J Gene\",\n",
    "  \"Chain 1 - Calculated J Gene\",\n",
    "  \"Chain 1 - Protein Sequence\", # this one is a very long chain\n",
    "  \"Chain 1 - CDR3 Curated\", # CDR Sequences also have start and end (curated/calculated properties), which is a integer\n",
    "  \"Chain 1 - CDR3 Calculated\",\n",
    "  \"Chain 1 - CDR1 Curated\",\n",
    "  \"Chain 1 - CDR1 Calculated\",\n",
    "  \"Chain 1 - CDR2 Curated\",\n",
    "  \"Chain 1 - CDR2 Calculated\",\n",
    "  \"Chain 2 - Type\",\n",
    "  \"Chain 2 - Curated V Gene\",\n",
    "  \"Chain 2 - Calculated V Gene\",\n",
    "  \"Chain 2 - Curated J Gene\",\n",
    "  \"Chain 2 - Calculated J Gene\",\n",
    "  \"Chain 2 - Protein Sequence\", # this one is a very long chain\n",
    "  \"Chain 2 - CDR3 Curated\",\n",
    "  \"Chain 2 - CDR3 Calculated\",\n",
    "  \"Chain 2 - CDR1 Curated\",\n",
    "  \"Chain 2 - CDR1 Calculated\",\n",
    "  \"Chain 2 - CDR2 Curated\",\n",
    "  \"Chain 2 - CDR2 Calculated\",\n",
    "  ]\n",
    "\n",
    "maybeInterestingProperties = [\n",
    "  \"Chain 1 - Nucleotide Sequence\", \n",
    "  \"Chain 1 - Curated D Gene\", \n",
    "  \"Chain 1 - Calculated D Gene\", \n",
    "  \"Chain 2 - Nucleotide Sequence\", \n",
    "  \"Chain 2 - Curated D Gene\", \n",
    "  \"Chain 2 - Calculated D Gene\"\n",
    "  ]"
   ]
  },
  {
   "cell_type": "markdown",
   "metadata": {},
   "source": [
    "Now the leftover attributes"
   ]
  },
  {
   "cell_type": "code",
   "execution_count": 11,
   "metadata": {},
   "outputs": [
    {
     "name": "stdout",
     "output_type": "stream",
     "text": [
      "Epitope - IEDB IRI\n",
      "Chain 2 - CDR3 End Curated\n",
      "Chain 1 - Protein IRI\n",
      "Chain 1 - CDR3 Start Calculated\n",
      "Receptor - Type\n",
      "Chain 1 - Organism IRI\n",
      "Assay - IEDB IDs\n",
      "Reference - IEDB IRI\n",
      "Chain 1 - CDR2 End Curated\n",
      "Chain 2 - CDR3 Start Curated\n",
      "Chain 2 - CDR3 Start Calculated\n",
      "Receptor - Reference Name\n",
      "Chain 2 - CDR2 End Calculated\n",
      "Chain 2 - CDR2 Start Calculated\n",
      "Chain 2 - CDR1 Start Calculated\n",
      "Chain 2 - CDR1 Start Curated\n",
      "Chain 1 - CDR3 End Calculated\n",
      "Chain 2 - CDR2 Start Curated\n",
      "Chain 1 - CDR3 End Curated\n",
      "Chain 2 - Organism IRI\n",
      "Chain 1 - CDR3 Start Curated\n",
      "Chain 1 - CDR1 Start Calculated\n",
      "Chain 2 - CDR3 End Calculated\n",
      "Receptor - Group IRI\n",
      "Epitope - Source Molecule\n",
      "Chain 1 - CDR1 Start Curated\n",
      "Chain 1 - CDR2 Start Curated\n",
      "Chain 1 - CDR2 Start Calculated\n",
      "Chain 1 - CDR1 End Calculated\n",
      "Chain 2 - CDR1 End Curated\n",
      "Chain 2 - Protein IRI\n",
      "Chain 2 - CDR1 End Calculated\n",
      "Chain 2 - CDR2 End Curated\n",
      "Chain 1 - CDR1 End Curated\n",
      "Chain 1 - CDR2 End Calculated\n"
     ]
    }
   ],
   "source": [
    "allProperties = df.columns.to_list()\n",
    "\n",
    "# Convert lists to sets for easier computation\n",
    "all_properties_set = set(allProperties)\n",
    "interesting_properties_set = set(interestingProperties)\n",
    "maybe_interesting_properties_set = set(maybeInterestingProperties)\n",
    "\n",
    "# Combine interesting and maybe interesting properties\n",
    "combined_interesting_set = interesting_properties_set.union(maybe_interesting_properties_set)\n",
    "\n",
    "# Find the difference\n",
    "leftoverProperties = list(all_properties_set - combined_interesting_set)\n",
    "\n",
    "# Print or return the leftover properties\n",
    "for property in leftoverProperties:\n",
    "    print(property)\n",
    "#to be checked (also if CDR Start/End is needed, look at table columns to know what it's meaning):"
   ]
  },
  {
   "cell_type": "markdown",
   "metadata": {},
   "source": [
    "Export the most interesting data"
   ]
  },
  {
   "cell_type": "code",
   "execution_count": 12,
   "metadata": {},
   "outputs": [],
   "source": [
    "df.to_csv('../../data/IEDB/IEDB_most_interesting_columns.csv', index=False, columns=interestingProperties)"
   ]
  }
 ],
 "metadata": {
  "kernelspec": {
   "display_name": "BA24",
   "language": "python",
   "name": "python3"
  },
  "language_info": {
   "codemirror_mode": {
    "name": "ipython",
    "version": 3
   },
   "file_extension": ".py",
   "mimetype": "text/x-python",
   "name": "python",
   "nbconvert_exporter": "python",
   "pygments_lexer": "ipython3",
   "version": "3.12.2"
  }
 },
 "nbformat": 4,
 "nbformat_minor": 2
}
