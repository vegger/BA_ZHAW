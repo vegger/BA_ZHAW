{
 "cells": [
  {
   "cell_type": "markdown",
   "metadata": {},
   "source": [
    "## We take the full IEDB dataset and exclude chain 1 (alpha) and take only the entries with chain 2 type beta"
   ]
  },
  {
   "cell_type": "code",
   "execution_count": 8,
   "metadata": {},
   "outputs": [
    {
     "name": "stdout",
     "output_type": "stream",
     "text": [
      "<class 'pandas.core.frame.DataFrame'>\n",
      "RangeIndex: 211234 entries, 0 to 211233\n",
      "Data columns (total 17 columns):\n",
      " #   Column                       Non-Null Count   Dtype \n",
      "---  ------                       --------------   ----- \n",
      " 0   Receptor - IEDB Receptor ID  211234 non-null  int64 \n",
      " 1   Epitope - Name               211234 non-null  object\n",
      " 2   Epitope - Source Organism    207297 non-null  object\n",
      " 3   Assay - Type                 211234 non-null  object\n",
      " 4   Assay - MHC Allele Names     211111 non-null  object\n",
      " 5   Chain 2 - Type               182103 non-null  object\n",
      " 6   Chain 2 - Curated V Gene     159649 non-null  object\n",
      " 7   Chain 2 - Calculated V Gene  12331 non-null   object\n",
      " 8   Chain 2 - Curated J Gene     157016 non-null  object\n",
      " 9   Chain 2 - Calculated J Gene  12127 non-null   object\n",
      " 10  Chain 2 - Protein Sequence   826 non-null     object\n",
      " 11  Chain 2 - CDR3 Curated       180899 non-null  object\n",
      " 12  Chain 2 - CDR3 Calculated    137692 non-null  object\n",
      " 13  Chain 2 - CDR1 Curated       6274 non-null    object\n",
      " 14  Chain 2 - CDR1 Calculated    778 non-null     object\n",
      " 15  Chain 2 - CDR2 Curated       6355 non-null    object\n",
      " 16  Chain 2 - CDR2 Calculated    778 non-null     object\n",
      "dtypes: int64(1), object(16)\n",
      "memory usage: 27.4+ MB\n",
      "None\n"
     ]
    },
    {
     "name": "stderr",
     "output_type": "stream",
     "text": [
      "/tmp/ipykernel_60865/3565941954.py:23: DtypeWarning: Columns (41,44,45,48,49,50,52,53,58,59,64,65) have mixed types. Specify dtype option on import or set low_memory=False.\n",
      "  df = pd.read_csv(\"../../data/IEDB/receptor_table_export_positive_only_1711549960.csv\", usecols=interestingProperties)\n"
     ]
    }
   ],
   "source": [
    "import pandas as pd\n",
    "\n",
    "interestingProperties = [\n",
    "  \"Receptor - IEDB Receptor ID\",\n",
    "  \"Epitope - Name\",\n",
    "  \"Epitope - Source Organism\",\n",
    "  \"Assay - Type\", \n",
    "  \"Assay - MHC Allele Names\", # maybe interesting because EPIC Trace does something with Allele -> https://github.com/DaniTheOrange/EPIC-TRACE/blob/main/src/construct_long.py\n",
    "  \"Chain 2 - Type\",\n",
    "  \"Chain 2 - Curated V Gene\",\n",
    "  \"Chain 2 - Calculated V Gene\",\n",
    "  \"Chain 2 - Curated J Gene\",\n",
    "  \"Chain 2 - Calculated J Gene\",\n",
    "  \"Chain 2 - Protein Sequence\", # this one is a very long chain\n",
    "  \"Chain 2 - CDR3 Curated\",\n",
    "  \"Chain 2 - CDR3 Calculated\",\n",
    "  \"Chain 2 - CDR1 Curated\",\n",
    "  \"Chain 2 - CDR1 Calculated\",\n",
    "  \"Chain 2 - CDR2 Curated\",\n",
    "  \"Chain 2 - CDR2 Calculated\",\n",
    "  ]\n",
    "\n",
    "df = pd.read_csv(\"../../data/IEDB/receptor_table_export_positive_only_1711549960.csv\", usecols=interestingProperties)\n",
    "print(df.info())"
   ]
  },
  {
   "cell_type": "markdown",
   "metadata": {},
   "source": [
    "Now filter to have only beta chains. Entries with beta chains have value \"beta\" for \"Chain 2 - Type\"."
   ]
  },
  {
   "cell_type": "code",
   "execution_count": 9,
   "metadata": {},
   "outputs": [
    {
     "name": "stdout",
     "output_type": "stream",
     "text": [
      "<class 'pandas.core.frame.DataFrame'>\n",
      "Index: 182098 entries, 0 to 211233\n",
      "Data columns (total 17 columns):\n",
      " #   Column                       Non-Null Count   Dtype \n",
      "---  ------                       --------------   ----- \n",
      " 0   Receptor - IEDB Receptor ID  182098 non-null  int64 \n",
      " 1   Epitope - Name               182098 non-null  object\n",
      " 2   Epitope - Source Organism    178532 non-null  object\n",
      " 3   Assay - Type                 182098 non-null  object\n",
      " 4   Assay - MHC Allele Names     181981 non-null  object\n",
      " 5   Chain 2 - Type               182098 non-null  object\n",
      " 6   Chain 2 - Curated V Gene     159644 non-null  object\n",
      " 7   Chain 2 - Calculated V Gene  12331 non-null   object\n",
      " 8   Chain 2 - Curated J Gene     157011 non-null  object\n",
      " 9   Chain 2 - Calculated J Gene  12127 non-null   object\n",
      " 10  Chain 2 - Protein Sequence   826 non-null     object\n",
      " 11  Chain 2 - CDR3 Curated       180894 non-null  object\n",
      " 12  Chain 2 - CDR3 Calculated    137692 non-null  object\n",
      " 13  Chain 2 - CDR1 Curated       6274 non-null    object\n",
      " 14  Chain 2 - CDR1 Calculated    778 non-null     object\n",
      " 15  Chain 2 - CDR2 Curated       6355 non-null    object\n",
      " 16  Chain 2 - CDR2 Calculated    778 non-null     object\n",
      "dtypes: int64(1), object(16)\n",
      "memory usage: 25.0+ MB\n",
      "None\n"
     ]
    }
   ],
   "source": [
    "beta_df = df[df['Chain 2 - Type'] == 'beta']\n",
    "print(beta_df.info())\n",
    "beta_df.to_csv('../../data/IEDB/IEDB_positive_beta_only.csv', index=False, columns=interestingProperties)"
   ]
  }
 ],
 "metadata": {
  "kernelspec": {
   "display_name": "BA24",
   "language": "python",
   "name": "python3"
  },
  "language_info": {
   "codemirror_mode": {
    "name": "ipython",
    "version": 3
   },
   "file_extension": ".py",
   "mimetype": "text/x-python",
   "name": "python",
   "nbconvert_exporter": "python",
   "pygments_lexer": "ipython3",
   "version": "3.12.2"
  }
 },
 "nbformat": 4,
 "nbformat_minor": 2
}
