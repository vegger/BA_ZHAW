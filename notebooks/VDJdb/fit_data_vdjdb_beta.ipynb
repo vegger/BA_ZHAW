{
 "cells": [
  {
   "cell_type": "code",
   "execution_count": 1,
   "metadata": {},
   "outputs": [],
   "source": [
    "import wandb\n",
    "import pandas as pd\n",
    "from dotenv import load_dotenv\n",
    "import os\n",
    "import numpy as np"
   ]
  },
  {
   "cell_type": "code",
   "execution_count": 2,
   "metadata": {},
   "outputs": [
    {
     "name": "stderr",
     "output_type": "stream",
     "text": [
      "Failed to detect the name of this notebook, you can set it manually with the WANDB_NOTEBOOK_NAME environment variable to enable code saving.\n",
      "\u001b[34m\u001b[1mwandb\u001b[0m: Currently logged in as: \u001b[33meggervali\u001b[0m (\u001b[33mba-zhaw\u001b[0m). Use \u001b[1m`wandb login --relogin`\u001b[0m to force relogin\n"
     ]
    },
    {
     "data": {
      "text/html": [
       "wandb version 0.16.5 is available!  To upgrade, please run:\n",
       " $ pip install wandb --upgrade"
      ],
      "text/plain": [
       "<IPython.core.display.HTML object>"
      ]
     },
     "metadata": {},
     "output_type": "display_data"
    },
    {
     "data": {
      "text/html": [
       "Tracking run with wandb version 0.16.3"
      ],
      "text/plain": [
       "<IPython.core.display.HTML object>"
      ]
     },
     "metadata": {},
     "output_type": "display_data"
    },
    {
     "data": {
      "text/html": [
       "Run data is saved locally in <code>/home/ubuntu/BA_ZHAW/notebooks/VDJdb/wandb/run-20240401_115122-xxdz7yk8</code>"
      ],
      "text/plain": [
       "<IPython.core.display.HTML object>"
      ]
     },
     "metadata": {},
     "output_type": "display_data"
    },
    {
     "data": {
      "text/html": [
       "Syncing run <strong><a href='https://wandb.ai/ba-zhaw/BA_Project_ZHAW/runs/xxdz7yk8' target=\"_blank\">woven-music-102</a></strong> to <a href='https://wandb.ai/ba-zhaw/BA_Project_ZHAW' target=\"_blank\">Weights & Biases</a> (<a href='https://wandb.me/run' target=\"_blank\">docs</a>)<br/>"
      ],
      "text/plain": [
       "<IPython.core.display.HTML object>"
      ]
     },
     "metadata": {},
     "output_type": "display_data"
    },
    {
     "data": {
      "text/html": [
       " View project at <a href='https://wandb.ai/ba-zhaw/BA_Project_ZHAW' target=\"_blank\">https://wandb.ai/ba-zhaw/BA_Project_ZHAW</a>"
      ],
      "text/plain": [
       "<IPython.core.display.HTML object>"
      ]
     },
     "metadata": {},
     "output_type": "display_data"
    },
    {
     "data": {
      "text/html": [
       " View run at <a href='https://wandb.ai/ba-zhaw/BA_Project_ZHAW/runs/xxdz7yk8' target=\"_blank\">https://wandb.ai/ba-zhaw/BA_Project_ZHAW/runs/xxdz7yk8</a>"
      ],
      "text/plain": [
       "<IPython.core.display.HTML object>"
      ]
     },
     "metadata": {},
     "output_type": "display_data"
    },
    {
     "data": {
      "text/html": [
       "<button onClick=\"this.nextSibling.style.display='block';this.style.display='none';\">Display W&B run</button><iframe src='https://wandb.ai/ba-zhaw/BA_Project_ZHAW/runs/xxdz7yk8?jupyter=true' style='border:none;width:100%;height:420px;display:none;'></iframe>"
      ],
      "text/plain": [
       "<wandb.sdk.wandb_run.Run at 0x7fc8f89044a0>"
      ]
     },
     "execution_count": 2,
     "metadata": {},
     "output_type": "execute_result"
    }
   ],
   "source": [
    "load_dotenv()\n",
    "PROJECT_NAME = os.getenv(\"MAIN_PROJECT_NAME\")\n",
    "VDJDB_BETA = os.getenv(\"VDJDB_BETA_ARTIFACT\")\n",
    "wandb.init(project=PROJECT_NAME, job_type=\"fit-data_vdjdb_beta\")"
   ]
  },
  {
   "cell_type": "code",
   "execution_count": 3,
   "metadata": {},
   "outputs": [
    {
     "name": "stderr",
     "output_type": "stream",
     "text": [
      "\u001b[34m\u001b[1mwandb\u001b[0m:   1 of 1 files downloaded.  \n"
     ]
    },
    {
     "data": {
      "text/html": [
       "<div>\n",
       "<style scoped>\n",
       "    .dataframe tbody tr th:only-of-type {\n",
       "        vertical-align: middle;\n",
       "    }\n",
       "\n",
       "    .dataframe tbody tr th {\n",
       "        vertical-align: top;\n",
       "    }\n",
       "\n",
       "    .dataframe thead th {\n",
       "        text-align: right;\n",
       "    }\n",
       "</style>\n",
       "<table border=\"1\" class=\"dataframe\">\n",
       "  <thead>\n",
       "    <tr style=\"text-align: right;\">\n",
       "      <th></th>\n",
       "      <th>complex.id</th>\n",
       "      <th>Gene</th>\n",
       "      <th>CDR3</th>\n",
       "      <th>V</th>\n",
       "      <th>J</th>\n",
       "      <th>Species</th>\n",
       "      <th>MHC A</th>\n",
       "      <th>MHC B</th>\n",
       "      <th>MHC class</th>\n",
       "      <th>Epitope</th>\n",
       "      <th>Epitope gene</th>\n",
       "      <th>Epitope species</th>\n",
       "      <th>Reference</th>\n",
       "      <th>Method</th>\n",
       "      <th>Meta</th>\n",
       "      <th>CDR3fix</th>\n",
       "      <th>Score</th>\n",
       "    </tr>\n",
       "  </thead>\n",
       "  <tbody>\n",
       "    <tr>\n",
       "      <th>0</th>\n",
       "      <td>1</td>\n",
       "      <td>TRB</td>\n",
       "      <td>CASSYLPGQGDHYSNQPQHF</td>\n",
       "      <td>TRBV13*01</td>\n",
       "      <td>TRBJ1-5*01</td>\n",
       "      <td>HomoSapiens</td>\n",
       "      <td>HLA-B*08</td>\n",
       "      <td>B2M</td>\n",
       "      <td>MHCI</td>\n",
       "      <td>FLKEKGGL</td>\n",
       "      <td>Nef</td>\n",
       "      <td>HIV-1</td>\n",
       "      <td>PMID:15596521</td>\n",
       "      <td>{\"frequency\": \"\", \"identification\": \"tetramer-...</td>\n",
       "      <td>{\"cell.subset\": \"CD8+\", \"clone.id\": \"\", \"donor...</td>\n",
       "      <td>{\"cdr3\": \"CASSYLPGQGDHYSNQPQHF\", \"cdr3_old\": \"...</td>\n",
       "      <td>2</td>\n",
       "    </tr>\n",
       "    <tr>\n",
       "      <th>1</th>\n",
       "      <td>0</td>\n",
       "      <td>TRB</td>\n",
       "      <td>CASSFEAGQGFFSNQPQHF</td>\n",
       "      <td>TRBV13*01</td>\n",
       "      <td>TRBJ1-5*01</td>\n",
       "      <td>HomoSapiens</td>\n",
       "      <td>HLA-B*08</td>\n",
       "      <td>B2M</td>\n",
       "      <td>MHCI</td>\n",
       "      <td>FLKEKGGL</td>\n",
       "      <td>Nef</td>\n",
       "      <td>HIV-1</td>\n",
       "      <td>PMID:15596521</td>\n",
       "      <td>{\"frequency\": \"\", \"identification\": \"tetramer-...</td>\n",
       "      <td>{\"cell.subset\": \"CD8+\", \"clone.id\": \"\", \"donor...</td>\n",
       "      <td>{\"cdr3\": \"CASSFEAGQGFFSNQPQHF\", \"cdr3_old\": \"C...</td>\n",
       "      <td>2</td>\n",
       "    </tr>\n",
       "    <tr>\n",
       "      <th>2</th>\n",
       "      <td>2</td>\n",
       "      <td>TRB</td>\n",
       "      <td>CASSFEPGQGFYSNQPQHF</td>\n",
       "      <td>TRBV13*01</td>\n",
       "      <td>TRBJ1-5*01</td>\n",
       "      <td>HomoSapiens</td>\n",
       "      <td>HLA-B*08</td>\n",
       "      <td>B2M</td>\n",
       "      <td>MHCI</td>\n",
       "      <td>FLKEKGGL</td>\n",
       "      <td>Nef</td>\n",
       "      <td>HIV-1</td>\n",
       "      <td>PMID:15596521</td>\n",
       "      <td>{\"frequency\": \"\", \"identification\": \"tetramer-...</td>\n",
       "      <td>{\"cell.subset\": \"CD8+\", \"clone.id\": \"\", \"donor...</td>\n",
       "      <td>{\"cdr3\": \"CASSFEPGQGFYSNQPQHF\", \"cdr3_old\": \"C...</td>\n",
       "      <td>2</td>\n",
       "    </tr>\n",
       "    <tr>\n",
       "      <th>3</th>\n",
       "      <td>3</td>\n",
       "      <td>TRB</td>\n",
       "      <td>CASSYEPGQVSHYSNQPQHF</td>\n",
       "      <td>TRBV13*01</td>\n",
       "      <td>TRBJ1-5*01</td>\n",
       "      <td>HomoSapiens</td>\n",
       "      <td>HLA-B*08</td>\n",
       "      <td>B2M</td>\n",
       "      <td>MHCI</td>\n",
       "      <td>FLKEKGGL</td>\n",
       "      <td>Nef</td>\n",
       "      <td>HIV-1</td>\n",
       "      <td>PMID:15596521</td>\n",
       "      <td>{\"frequency\": \"\", \"identification\": \"tetramer-...</td>\n",
       "      <td>{\"cell.subset\": \"CD8+\", \"clone.id\": \"\", \"donor...</td>\n",
       "      <td>{\"cdr3\": \"CASSYEPGQVSHYSNQPQHF\", \"cdr3_old\": \"...</td>\n",
       "      <td>2</td>\n",
       "    </tr>\n",
       "    <tr>\n",
       "      <th>4</th>\n",
       "      <td>4</td>\n",
       "      <td>TRB</td>\n",
       "      <td>CASSALASLNEQFF</td>\n",
       "      <td>TRBV14*01</td>\n",
       "      <td>TRBJ2-1*01</td>\n",
       "      <td>HomoSapiens</td>\n",
       "      <td>HLA-B*08</td>\n",
       "      <td>B2M</td>\n",
       "      <td>MHCI</td>\n",
       "      <td>FLKEKGGL</td>\n",
       "      <td>Nef</td>\n",
       "      <td>HIV-1</td>\n",
       "      <td>PMID:15596521</td>\n",
       "      <td>{\"frequency\": \"\", \"identification\": \"tetramer-...</td>\n",
       "      <td>{\"cell.subset\": \"CD8+\", \"clone.id\": \"\", \"donor...</td>\n",
       "      <td>{\"cdr3\": \"CASSALASLNEQFF\", \"cdr3_old\": \"CASSAL...</td>\n",
       "      <td>2</td>\n",
       "    </tr>\n",
       "    <tr>\n",
       "      <th>...</th>\n",
       "      <td>...</td>\n",
       "      <td>...</td>\n",
       "      <td>...</td>\n",
       "      <td>...</td>\n",
       "      <td>...</td>\n",
       "      <td>...</td>\n",
       "      <td>...</td>\n",
       "      <td>...</td>\n",
       "      <td>...</td>\n",
       "      <td>...</td>\n",
       "      <td>...</td>\n",
       "      <td>...</td>\n",
       "      <td>...</td>\n",
       "      <td>...</td>\n",
       "      <td>...</td>\n",
       "      <td>...</td>\n",
       "      <td>...</td>\n",
       "    </tr>\n",
       "    <tr>\n",
       "      <th>49037</th>\n",
       "      <td>30590</td>\n",
       "      <td>TRB</td>\n",
       "      <td>CASSVRSTDTQYF</td>\n",
       "      <td>TRBV7-2*01</td>\n",
       "      <td>TRBJ2-3*01</td>\n",
       "      <td>HomoSapiens</td>\n",
       "      <td>HLA-DQA1*05:01</td>\n",
       "      <td>HLA-DQB1*02:01</td>\n",
       "      <td>MHCII</td>\n",
       "      <td>PQPELPYPQPQL</td>\n",
       "      <td>Gluten</td>\n",
       "      <td>Wheat</td>\n",
       "      <td>PMID:33927715</td>\n",
       "      <td>{\"frequency\": \"\", \"identification\": \"tetramer-...</td>\n",
       "      <td>{\"cell.subset\": \"CD4+\", \"clone.id\": \"\", \"donor...</td>\n",
       "      <td>{\"cdr3\": \"CASSVRSTDTQYF\", \"cdr3_old\": \"CASSVRS...</td>\n",
       "      <td>0</td>\n",
       "    </tr>\n",
       "    <tr>\n",
       "      <th>49038</th>\n",
       "      <td>30591</td>\n",
       "      <td>TRB</td>\n",
       "      <td>CASSLRYTDTQYF</td>\n",
       "      <td>TRBV7-2*01</td>\n",
       "      <td>TRBJ2-3*01</td>\n",
       "      <td>HomoSapiens</td>\n",
       "      <td>HLA-DQA1*05:01</td>\n",
       "      <td>HLA-DQB1*02:01</td>\n",
       "      <td>MHCII</td>\n",
       "      <td>PQPELPYPQPQL</td>\n",
       "      <td>Gluten</td>\n",
       "      <td>Wheat</td>\n",
       "      <td>PMID:33927715</td>\n",
       "      <td>{\"frequency\": \"\", \"identification\": \"tetramer-...</td>\n",
       "      <td>{\"cell.subset\": \"CD4+\", \"clone.id\": \"\", \"donor...</td>\n",
       "      <td>{\"cdr3\": \"CASSLRYTDTQYF\", \"cdr3_old\": \"CASSLRY...</td>\n",
       "      <td>0</td>\n",
       "    </tr>\n",
       "    <tr>\n",
       "      <th>49039</th>\n",
       "      <td>30592</td>\n",
       "      <td>TRB</td>\n",
       "      <td>CASSPGQGGDNEQFF</td>\n",
       "      <td>TRBV7-3*01</td>\n",
       "      <td>TRBJ2-1*01</td>\n",
       "      <td>HomoSapiens</td>\n",
       "      <td>HLA-DQA1*05:01</td>\n",
       "      <td>HLA-DQB1*02:01</td>\n",
       "      <td>MHCII</td>\n",
       "      <td>PQQPFPQPEQPFP</td>\n",
       "      <td>Gluten</td>\n",
       "      <td>Wheat</td>\n",
       "      <td>PMID:33927715</td>\n",
       "      <td>{\"frequency\": \"\", \"identification\": \"tetramer-...</td>\n",
       "      <td>{\"cell.subset\": \"CD4+\", \"clone.id\": \"\", \"donor...</td>\n",
       "      <td>{\"cdr3\": \"CASSPGQGGDNEQFF\", \"cdr3_old\": \"CASSP...</td>\n",
       "      <td>0</td>\n",
       "    </tr>\n",
       "    <tr>\n",
       "      <th>49040</th>\n",
       "      <td>30593</td>\n",
       "      <td>TRB</td>\n",
       "      <td>CASSLGAGGQETQYF</td>\n",
       "      <td>TRBV5-1*01</td>\n",
       "      <td>TRBJ2-5*01</td>\n",
       "      <td>HomoSapiens</td>\n",
       "      <td>HLA-DQA1*05:01</td>\n",
       "      <td>HLA-DQB1*02:01</td>\n",
       "      <td>MHCII</td>\n",
       "      <td>PQQPFPQPEQPFP</td>\n",
       "      <td>Gluten</td>\n",
       "      <td>Wheat</td>\n",
       "      <td>PMID:33927715</td>\n",
       "      <td>{\"frequency\": \"\", \"identification\": \"tetramer-...</td>\n",
       "      <td>{\"cell.subset\": \"CD4+\", \"clone.id\": \"\", \"donor...</td>\n",
       "      <td>{\"cdr3\": \"CASSLGAGGQETQYF\", \"cdr3_old\": \"CASSL...</td>\n",
       "      <td>2</td>\n",
       "    </tr>\n",
       "    <tr>\n",
       "      <th>49041</th>\n",
       "      <td>30594</td>\n",
       "      <td>TRB</td>\n",
       "      <td>CASSSTAQETQYF</td>\n",
       "      <td>TRBV11-2*01</td>\n",
       "      <td>TRBJ2-5*01</td>\n",
       "      <td>HomoSapiens</td>\n",
       "      <td>HLA-DQA1*05:01</td>\n",
       "      <td>HLA-DQB1*02:01</td>\n",
       "      <td>MHCII</td>\n",
       "      <td>PQQPFPQPEQPFP</td>\n",
       "      <td>Gluten</td>\n",
       "      <td>Wheat</td>\n",
       "      <td>PMID:33927715</td>\n",
       "      <td>{\"frequency\": \"\", \"identification\": \"tetramer-...</td>\n",
       "      <td>{\"cell.subset\": \"CD4+\", \"clone.id\": \"\", \"donor...</td>\n",
       "      <td>{\"cdr3\": \"CASSSTAQETQYF\", \"cdr3_old\": \"CASSSTA...</td>\n",
       "      <td>0</td>\n",
       "    </tr>\n",
       "  </tbody>\n",
       "</table>\n",
       "<p>49042 rows × 17 columns</p>\n",
       "</div>"
      ],
      "text/plain": [
       "      complex.id Gene                  CDR3            V           J  \\\n",
       "0              1  TRB  CASSYLPGQGDHYSNQPQHF    TRBV13*01  TRBJ1-5*01   \n",
       "1              0  TRB   CASSFEAGQGFFSNQPQHF    TRBV13*01  TRBJ1-5*01   \n",
       "2              2  TRB   CASSFEPGQGFYSNQPQHF    TRBV13*01  TRBJ1-5*01   \n",
       "3              3  TRB  CASSYEPGQVSHYSNQPQHF    TRBV13*01  TRBJ1-5*01   \n",
       "4              4  TRB        CASSALASLNEQFF    TRBV14*01  TRBJ2-1*01   \n",
       "...          ...  ...                   ...          ...         ...   \n",
       "49037      30590  TRB         CASSVRSTDTQYF   TRBV7-2*01  TRBJ2-3*01   \n",
       "49038      30591  TRB         CASSLRYTDTQYF   TRBV7-2*01  TRBJ2-3*01   \n",
       "49039      30592  TRB       CASSPGQGGDNEQFF   TRBV7-3*01  TRBJ2-1*01   \n",
       "49040      30593  TRB       CASSLGAGGQETQYF   TRBV5-1*01  TRBJ2-5*01   \n",
       "49041      30594  TRB         CASSSTAQETQYF  TRBV11-2*01  TRBJ2-5*01   \n",
       "\n",
       "           Species           MHC A           MHC B MHC class        Epitope  \\\n",
       "0      HomoSapiens        HLA-B*08             B2M      MHCI       FLKEKGGL   \n",
       "1      HomoSapiens        HLA-B*08             B2M      MHCI       FLKEKGGL   \n",
       "2      HomoSapiens        HLA-B*08             B2M      MHCI       FLKEKGGL   \n",
       "3      HomoSapiens        HLA-B*08             B2M      MHCI       FLKEKGGL   \n",
       "4      HomoSapiens        HLA-B*08             B2M      MHCI       FLKEKGGL   \n",
       "...            ...             ...             ...       ...            ...   \n",
       "49037  HomoSapiens  HLA-DQA1*05:01  HLA-DQB1*02:01     MHCII   PQPELPYPQPQL   \n",
       "49038  HomoSapiens  HLA-DQA1*05:01  HLA-DQB1*02:01     MHCII   PQPELPYPQPQL   \n",
       "49039  HomoSapiens  HLA-DQA1*05:01  HLA-DQB1*02:01     MHCII  PQQPFPQPEQPFP   \n",
       "49040  HomoSapiens  HLA-DQA1*05:01  HLA-DQB1*02:01     MHCII  PQQPFPQPEQPFP   \n",
       "49041  HomoSapiens  HLA-DQA1*05:01  HLA-DQB1*02:01     MHCII  PQQPFPQPEQPFP   \n",
       "\n",
       "      Epitope gene Epitope species      Reference  \\\n",
       "0              Nef           HIV-1  PMID:15596521   \n",
       "1              Nef           HIV-1  PMID:15596521   \n",
       "2              Nef           HIV-1  PMID:15596521   \n",
       "3              Nef           HIV-1  PMID:15596521   \n",
       "4              Nef           HIV-1  PMID:15596521   \n",
       "...            ...             ...            ...   \n",
       "49037       Gluten           Wheat  PMID:33927715   \n",
       "49038       Gluten           Wheat  PMID:33927715   \n",
       "49039       Gluten           Wheat  PMID:33927715   \n",
       "49040       Gluten           Wheat  PMID:33927715   \n",
       "49041       Gluten           Wheat  PMID:33927715   \n",
       "\n",
       "                                                  Method  \\\n",
       "0      {\"frequency\": \"\", \"identification\": \"tetramer-...   \n",
       "1      {\"frequency\": \"\", \"identification\": \"tetramer-...   \n",
       "2      {\"frequency\": \"\", \"identification\": \"tetramer-...   \n",
       "3      {\"frequency\": \"\", \"identification\": \"tetramer-...   \n",
       "4      {\"frequency\": \"\", \"identification\": \"tetramer-...   \n",
       "...                                                  ...   \n",
       "49037  {\"frequency\": \"\", \"identification\": \"tetramer-...   \n",
       "49038  {\"frequency\": \"\", \"identification\": \"tetramer-...   \n",
       "49039  {\"frequency\": \"\", \"identification\": \"tetramer-...   \n",
       "49040  {\"frequency\": \"\", \"identification\": \"tetramer-...   \n",
       "49041  {\"frequency\": \"\", \"identification\": \"tetramer-...   \n",
       "\n",
       "                                                    Meta  \\\n",
       "0      {\"cell.subset\": \"CD8+\", \"clone.id\": \"\", \"donor...   \n",
       "1      {\"cell.subset\": \"CD8+\", \"clone.id\": \"\", \"donor...   \n",
       "2      {\"cell.subset\": \"CD8+\", \"clone.id\": \"\", \"donor...   \n",
       "3      {\"cell.subset\": \"CD8+\", \"clone.id\": \"\", \"donor...   \n",
       "4      {\"cell.subset\": \"CD8+\", \"clone.id\": \"\", \"donor...   \n",
       "...                                                  ...   \n",
       "49037  {\"cell.subset\": \"CD4+\", \"clone.id\": \"\", \"donor...   \n",
       "49038  {\"cell.subset\": \"CD4+\", \"clone.id\": \"\", \"donor...   \n",
       "49039  {\"cell.subset\": \"CD4+\", \"clone.id\": \"\", \"donor...   \n",
       "49040  {\"cell.subset\": \"CD4+\", \"clone.id\": \"\", \"donor...   \n",
       "49041  {\"cell.subset\": \"CD4+\", \"clone.id\": \"\", \"donor...   \n",
       "\n",
       "                                                 CDR3fix Score  \n",
       "0      {\"cdr3\": \"CASSYLPGQGDHYSNQPQHF\", \"cdr3_old\": \"...     2  \n",
       "1      {\"cdr3\": \"CASSFEAGQGFFSNQPQHF\", \"cdr3_old\": \"C...     2  \n",
       "2      {\"cdr3\": \"CASSFEPGQGFYSNQPQHF\", \"cdr3_old\": \"C...     2  \n",
       "3      {\"cdr3\": \"CASSYEPGQVSHYSNQPQHF\", \"cdr3_old\": \"...     2  \n",
       "4      {\"cdr3\": \"CASSALASLNEQFF\", \"cdr3_old\": \"CASSAL...     2  \n",
       "...                                                  ...   ...  \n",
       "49037  {\"cdr3\": \"CASSVRSTDTQYF\", \"cdr3_old\": \"CASSVRS...     0  \n",
       "49038  {\"cdr3\": \"CASSLRYTDTQYF\", \"cdr3_old\": \"CASSLRY...     0  \n",
       "49039  {\"cdr3\": \"CASSPGQGGDNEQFF\", \"cdr3_old\": \"CASSP...     0  \n",
       "49040  {\"cdr3\": \"CASSLGAGGQETQYF\", \"cdr3_old\": \"CASSL...     2  \n",
       "49041  {\"cdr3\": \"CASSSTAQETQYF\", \"cdr3_old\": \"CASSSTA...     0  \n",
       "\n",
       "[49042 rows x 17 columns]"
      ]
     },
     "execution_count": 3,
     "metadata": {},
     "output_type": "execute_result"
    }
   ],
   "source": [
    "vdjdb_beta_artifact = wandb.use_artifact(f\"{VDJDB_BETA}:latest\")\n",
    "vdjdb_beta_table = vdjdb_beta_artifact.get(f\"{VDJDB_BETA}_table.table.json\")\n",
    "vdjdb_beta_df = pd.DataFrame(data=vdjdb_beta_table.data, columns=vdjdb_beta_table.columns)\n",
    "vdjdb_beta_df"
   ]
  },
  {
   "cell_type": "code",
   "execution_count": 4,
   "metadata": {},
   "outputs": [],
   "source": [
    "vdjdb_beta_df.replace(\"nan\", np.nan, inplace=True)\n",
    "vdjdb_beta_df.rename(columns={\n",
    "    \"complex.id\": \"TCR_name\", \n",
    "    \"V\": \"TRBV\", \n",
    "    \"J\": 'TRBJ', \n",
    "    'CDR3': 'TRB_CDR3'\n",
    "}, inplace=True)\n",
    "# print(vdjdb_beta_df[\"TCR_name\"].to_string())"
   ]
  },
  {
   "cell_type": "code",
   "execution_count": 5,
   "metadata": {},
   "outputs": [],
   "source": [
    "to_path = \"../../data/VDJdb/fitted_data\"\n",
    "file_name = \"vdjdb_fitted_data_beta.tsv\"\n",
    "vdjdb_beta_df.to_csv(to_path+\"/\"+file_name, sep=\"\\t\", index=False)"
   ]
  }
 ],
 "metadata": {
  "kernelspec": {
   "display_name": "BA24",
   "language": "python",
   "name": "python3"
  },
  "language_info": {
   "codemirror_mode": {
    "name": "ipython",
    "version": 3
   },
   "file_extension": ".py",
   "mimetype": "text/x-python",
   "name": "python",
   "nbconvert_exporter": "python",
   "pygments_lexer": "ipython3",
   "version": "3.12.2"
  }
 },
 "nbformat": 4,
 "nbformat_minor": 2
}
