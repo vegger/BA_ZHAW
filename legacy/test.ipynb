{
 "cells": [
  {
   "cell_type": "code",
   "execution_count": 1,
   "metadata": {
    "collapsed": true
   },
   "outputs": [
    {
     "name": "stderr",
     "output_type": "stream",
     "text": [
      "\u001B[34m\u001B[1mwandb\u001B[0m: Currently logged in as: \u001B[33meggervali\u001B[0m (\u001B[33mba-zhaw\u001B[0m). Use \u001B[1m`wandb login --relogin`\u001B[0m to force relogin\n"
     ]
    },
    {
     "name": "stdout",
     "output_type": "stream",
     "text": [
      "(9, 17)\n",
      "   complex.id Gene                  CDR3          V           J      Species  \\\n",
      "0           1  TRB  CASSYLPGQGDHYSNQPQHF  TRBV13*01  TRBJ1-5*01  HomoSapiens   \n",
      "1           0  TRB   CASSFEAGQGFFSNQPQHF  TRBV13*01  TRBJ1-5*01  HomoSapiens   \n",
      "2           2  TRB   CASSFEPGQGFYSNQPQHF  TRBV13*01  TRBJ1-5*01  HomoSapiens   \n",
      "3           3  TRB  CASSYEPGQVSHYSNQPQHF  TRBV13*01  TRBJ1-5*01  HomoSapiens   \n",
      "4           4  TRB        CASSALASLNEQFF  TRBV14*01  TRBJ2-1*01  HomoSapiens   \n",
      "\n",
      "      MHC A MHC B MHC class   Epitope Epitope gene Epitope species  \\\n",
      "0  HLA-B*08   B2M      MHCI  FLKEKGGL          Nef           HIV-1   \n",
      "1  HLA-B*08   B2M      MHCI  FLKEKGGL          Nef           HIV-1   \n",
      "2  HLA-B*08   B2M      MHCI  FLKEKGGL          Nef           HIV-1   \n",
      "3  HLA-B*08   B2M      MHCI  FLKEKGGL          Nef           HIV-1   \n",
      "4  HLA-B*08   B2M      MHCI  FLKEKGGL          Nef           HIV-1   \n",
      "\n",
      "       Reference                                             Method  \\\n",
      "0  PMID:15596521  {\"frequency\": \"\", \"identification\": \"tetramer-...   \n",
      "1  PMID:15596521  {\"frequency\": \"\", \"identification\": \"tetramer-...   \n",
      "2  PMID:15596521  {\"frequency\": \"\", \"identification\": \"tetramer-...   \n",
      "3  PMID:15596521  {\"frequency\": \"\", \"identification\": \"tetramer-...   \n",
      "4  PMID:15596521  {\"frequency\": \"\", \"identification\": \"tetramer-...   \n",
      "\n",
      "                                                Meta  \\\n",
      "0  {\"cell.subset\": \"CD8+\", \"clone.id\": \"\", \"donor...   \n",
      "1  {\"cell.subset\": \"CD8+\", \"clone.id\": \"\", \"donor...   \n",
      "2  {\"cell.subset\": \"CD8+\", \"clone.id\": \"\", \"donor...   \n",
      "3  {\"cell.subset\": \"CD8+\", \"clone.id\": \"\", \"donor...   \n",
      "4  {\"cell.subset\": \"CD8+\", \"clone.id\": \"\", \"donor...   \n",
      "\n",
      "                                             CDR3fix  Score  \n",
      "0  {\"cdr3\": \"CASSYLPGQGDHYSNQPQHF\", \"cdr3_old\": \"...      2  \n",
      "1  {\"cdr3\": \"CASSFEAGQGFFSNQPQHF\", \"cdr3_old\": \"C...      2  \n",
      "2  {\"cdr3\": \"CASSFEPGQGFYSNQPQHF\", \"cdr3_old\": \"C...      2  \n",
      "3  {\"cdr3\": \"CASSYEPGQVSHYSNQPQHF\", \"cdr3_old\": \"...      2  \n",
      "4  {\"cdr3\": \"CASSALASLNEQFF\", \"cdr3_old\": \"CASSAL...      2  \n"
     ]
    }
   ],
   "source": [
    "import os\n",
    "import torch\n",
    "import pandas as pd\n",
    "import numpy as np\n",
    "import matplotlib.pyplot as plt\n",
    "from torch.utils.data import Dataset, DataLoader\n",
    "from torchvision import transforms, utils\n",
    "import wandb\n",
    "wandb.login()\n",
    "\n",
    "\n",
    "params = dict(\n",
    "    WANDB_PROJECT=\"pytorch-blueprint\",\n",
    "    ENTITY=\"ba-zhaw\",  # team name or NONE\n",
    "    RAW_DATA_AT='bdd_simple_1k',\n",
    "    PROCESSED_DATA_AT='bdd_simple_1k_split'\n",
    ")\n",
    "\n",
    "'''\n",
    "Following line is just for upload. If Model config is present, use like this:\n",
    "Check Jupyter Notebook\n",
    "config = dict(\n",
    "    epochs=5,\n",
    "    classes=10,\n",
    "    kernels=[16, 32],\n",
    "    batch_size=128,\n",
    "    learning_rate=0.005,\n",
    "    dataset=\"MNIST\",\n",
    "    architecture=\"CNN\")\n",
    "run = wandb.init(project=params.WANDB_PROJECT, entity=params.ENTITY, job_type=\"upload\", config=hyperparameters, dir='./testDir'):\n",
    "'''\n",
    "#run = wandb.init(project=params.WANDB_PROJECT, entity=params.ENTITY, job_type=\"upload\")\n",
    "data = pd.read_csv(\"./data/VDJdb/VDJdb_data.tsv\", sep=\"\\t\", nrows=9)\n",
    "print(data.shape)\n",
    "#run.finish()\n",
    "print(data.head())\n"
   ]
  },
  {
   "cell_type": "code",
   "execution_count": null,
   "outputs": [],
   "source": [],
   "metadata": {
    "collapsed": false
   }
  }
 ],
 "metadata": {
  "kernelspec": {
   "display_name": "Python 3",
   "language": "python",
   "name": "python3"
  },
  "language_info": {
   "codemirror_mode": {
    "name": "ipython",
    "version": 2
   },
   "file_extension": ".py",
   "mimetype": "text/x-python",
   "name": "python",
   "nbconvert_exporter": "python",
   "pygments_lexer": "ipython2",
   "version": "2.7.6"
  }
 },
 "nbformat": 4,
 "nbformat_minor": 0
}
